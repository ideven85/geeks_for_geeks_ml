{
 "cells": [
  {
   "cell_type": "code",
   "execution_count": 2,
   "id": "initial_id",
   "metadata": {
    "collapsed": true,
    "ExecuteTime": {
     "end_time": "2024-02-24T20:19:22.033690Z",
     "start_time": "2024-02-24T20:18:19.550534Z"
    }
   },
   "outputs": [],
   "source": [
    "import cv2\n",
    "import os"
   ]
  },
  {
   "metadata": {
    "ExecuteTime": {
     "end_time": "2024-08-14T18:40:12.612839Z",
     "start_time": "2024-08-14T18:40:12.610545Z"
    }
   },
   "cell_type": "code",
   "source": [
    "import os\n",
    "import sys\n",
    "\n",
    "pwd = os.environ.get(\"VIRTUAL_ENV\")\n",
    "\n",
    "classifiers = os.path.join(pwd, \"lib/python3.12/site-packages/cv2/data/\")"
   ],
   "id": "f830edd338279d2a",
   "outputs": [],
   "execution_count": 1
  },
  {
   "cell_type": "code",
   "source": [
    "import cv2\n",
    "\n",
    "face_cascade = cv2.CascadeClassifier(\n",
    "    os.path.join(classifiers, \"haarcascade_frontalface_default.xml\")\n",
    ")\n",
    "video_capture = cv2.VideoCapture(0)\n",
    "while True:\n",
    "    ret, frame = video_capture.read()\n",
    "    col = cv2.cvtColor(frame, cv2.COLOR_BGR2GRAY)\n",
    "    faces = face_cascade.detectMultiScale(\n",
    "        col,\n",
    "        scaleFactor=1.1,\n",
    "        minNeighbors=5,\n",
    "        minSize=(30, 30),\n",
    "        flags=cv2.CASCADE_SCALE_IMAGE,\n",
    "    )\n",
    "    for x, y, w, h in faces:\n",
    "        cv2.rectangle(frame, (x, y), (x + w, y + h), (0, 255, 0), 2)\n",
    "    cv2.imshow(\"Video\", frame)\n",
    "    if cv2.waitKey(0):\n",
    "        break\n",
    "    cv2.imwrite(\"face.png\", frame)\n",
    "video_capture.release()"
   ],
   "metadata": {
    "collapsed": false,
    "ExecuteTime": {
     "end_time": "2024-08-14T18:40:40.961884Z",
     "start_time": "2024-08-14T18:40:13.175094Z"
    }
   },
   "id": "a5513a8c5b9bddbb",
   "outputs": [
    {
     "name": "stderr",
     "output_type": "stream",
     "text": [
      "2024-08-15 00:10:14.856 Python[54525:287672] WARNING: Secure coding is not enabled for restorable state! Enable secure coding by implementing NSApplicationDelegate.applicationSupportsSecureRestorableState: and returning YES.\n"
     ]
    }
   ],
   "execution_count": 2
  },
  {
   "metadata": {
    "ExecuteTime": {
     "end_time": "2024-08-14T18:43:01.141833Z",
     "start_time": "2024-08-14T18:43:01.138402Z"
    }
   },
   "cell_type": "code",
   "source": [
    "body = os.path.join(pwd, \"haarcascade_fullbody.xml\")\n",
    "print(os.listdir(classifiers))"
   ],
   "id": "fd84d211c874f385",
   "outputs": [
    {
     "name": "stdout",
     "output_type": "stream",
     "text": [
      "['haarcascade_upperbody.xml', 'haarcascade_frontalcatface_extended.xml', 'haarcascade_profileface.xml', 'haarcascade_frontalcatface.xml', 'haarcascade_frontalface_alt2.xml', 'haarcascade_eye.xml', '__init__.py', 'haarcascade_lefteye_2splits.xml', '__pycache__', 'haarcascade_frontalface_alt_tree.xml', 'haarcascade_righteye_2splits.xml', 'haarcascade_frontalface_alt.xml', 'haarcascade_lowerbody.xml', 'haarcascade_russian_plate_number.xml', 'haarcascade_frontalface_default.xml', 'haarcascade_smile.xml', 'haarcascade_license_plate_rus_16stages.xml', 'haarcascade_fullbody.xml', 'haarcascade_eye_tree_eyeglasses.xml']\n"
     ]
    }
   ],
   "execution_count": 5
  },
  {
   "metadata": {},
   "cell_type": "code",
   "outputs": [],
   "execution_count": null,
   "source": "",
   "id": "38db52e09a6241e5"
  }
 ],
 "metadata": {
  "kernelspec": {
   "display_name": "Python 3",
   "language": "python",
   "name": "python3"
  },
  "language_info": {
   "codemirror_mode": {
    "name": "ipython",
    "version": 2
   },
   "file_extension": ".py",
   "mimetype": "text/x-python",
   "name": "python",
   "nbconvert_exporter": "python",
   "pygments_lexer": "ipython2",
   "version": "2.7.6"
  }
 },
 "nbformat": 4,
 "nbformat_minor": 5
}
