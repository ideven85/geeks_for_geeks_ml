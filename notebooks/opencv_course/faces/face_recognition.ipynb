{
 "cells": [
  {
   "cell_type": "code",
   "id": "initial_id",
   "metadata": {
    "collapsed": true
   },
   "source": [
    "# todo\n",
    "# To Do, Make Directories with Images of Faces and Names, and make a neural network to predict face\n",
    "# Using OpenCV only\n",
    "import face_recognition\n",
    "import docopt\n",
    "from sklearn import svm\n",
    "import os\n",
    "import cv2\n",
    "import matplotlib.pyplot as plt\n",
    "from PIL import Image as img\n",
    "from IPython.display import Image"
   ],
   "outputs": [],
   "execution_count": null
  },
  {
   "metadata": {},
   "cell_type": "code",
   "source": [
    "def face_recognize(dir, test):\n",
    "    # Training the SVC classifier\n",
    "    # The training data would be all the\n",
    "    # face encodings from all the known\n",
    "    # images and the labels are their names\n",
    "    encodings = []\n",
    "    names = []\n",
    "\n",
    "    # Training directory\n",
    "    if dir[-1] != \"/\":\n",
    "        dir += \"/\"\n",
    "    train_dir = os.listdir(dir)\n",
    "    # print(train_dir)\n",
    "    # Loop through each person in the training directory\n",
    "    for person in train_dir:\n",
    "        pix = os.listdir(dir)\n",
    "\n",
    "        # Loop through each training image for the current person\n",
    "        for person_img in pix:\n",
    "            # print(person_img)\n",
    "            # Get the face encodings for the face in each image file\n",
    "            face = face_recognition.load_image_file(dir + \"/\" + person_img)\n",
    "            face_bounding_boxes = face_recognition.face_locations(face)\n",
    "            print(face_bounding_boxes)\n",
    "\n",
    "            # If training image contains exactly one face\n",
    "            if len(face_bounding_boxes) == 1:\n",
    "                face_enc = face_recognition.face_encodings(face)[0]\n",
    "                # Add face encoding for current image\n",
    "                # with corresponding label (name) to the training data\n",
    "                encodings.append(face_enc)\n",
    "                names.append(person)\n",
    "                print(names)\n",
    "            else:\n",
    "                print(person + \"/\" + person_img + \" can't be used for training\")\n",
    "    #\n",
    "    # Create and train the SVC classifier\n",
    "    print(names)\n",
    "    print(len(names))\n",
    "    print(len(encodings))\n",
    "    clf = svm.SVC(gamma=\"scale\", probability=True)\n",
    "    x = clf.fit(encodings, names)\n",
    "    print(x)\n",
    "    #\n",
    "    # Load the test image with unknown faces into a numpy array\n",
    "    test_image = face_recognition.load_image_file(test)\n",
    "\n",
    "    # Find all the faces in the test image using the default HOG-based model\n",
    "    face_locations = face_recognition.face_locations(test_image)\n",
    "    no = len(face_locations)\n",
    "    print(\"Number of faces detected: \", no)\n",
    "    #\n",
    "    # # Predict all the faces in the test image using the trained classifier\n",
    "    print(\"Found:\")\n",
    "    for i in range(no):\n",
    "        test_image_enc = face_recognition.face_encodings(test_image)[i]\n",
    "        print(test_image_enc)\n",
    "        name = clf.predict([test_image_enc])\n",
    "        print(*name)"
   ],
   "id": "402ad1ee4676bf90",
   "outputs": [],
   "execution_count": null
  },
  {
   "metadata": {},
   "cell_type": "code",
   "source": [
    "kim_train_dir = \"dataset/Kim/train\"\n",
    "kim_test_image = \"dataset/Kim/sanity_check/Kim5.jpeg\"\n",
    "face_recognize(kim_train_dir, kim_test_image)"
   ],
   "id": "13fb0fb3ee1dadb4",
   "outputs": [],
   "execution_count": null
  },
  {
   "metadata": {},
   "cell_type": "code",
   "source": "",
   "id": "764fae643933de00",
   "outputs": [],
   "execution_count": null
  },
  {
   "metadata": {},
   "cell_type": "code",
   "source": "",
   "id": "a687ce304883b190",
   "outputs": [],
   "execution_count": null
  }
 ],
 "metadata": {
  "kernelspec": {
   "display_name": "Python 3",
   "language": "python",
   "name": "python3"
  },
  "language_info": {
   "codemirror_mode": {
    "name": "ipython",
    "version": 2
   },
   "file_extension": ".py",
   "mimetype": "text/x-python",
   "name": "python",
   "nbconvert_exporter": "python",
   "pygments_lexer": "ipython2",
   "version": "2.7.6"
  }
 },
 "nbformat": 4,
 "nbformat_minor": 5
}
