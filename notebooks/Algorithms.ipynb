{
 "cells": [
  {
   "cell_type": "code",
   "execution_count": 5,
   "id": "6b938355-9ba9-4069-bbd4-3b8939168910",
   "metadata": {
    "execution": {
     "iopub.execute_input": "2024-03-15T03:12:26.704048Z",
     "iopub.status.busy": "2024-03-15T03:12:26.703468Z",
     "iopub.status.idle": "2024-03-15T03:12:26.709971Z",
     "shell.execute_reply": "2024-03-15T03:12:26.709268Z",
     "shell.execute_reply.started": "2024-03-15T03:12:26.704011Z"
    }
   },
   "outputs": [],
   "source": [
    "def climbing_stairs(n):\n",
    "\n",
    "    def dp(i):\n",
    "        if i < 2:\n",
    "            return i\n",
    "        else:\n",
    "            if i not in memo:\n",
    "                memo[i] = dp(i - 1) + dp(i - 2)\n",
    "            return memo[i]\n",
    "\n",
    "    memo = {}\n",
    "    return dp(n)"
   ]
  },
  {
   "cell_type": "code",
   "execution_count": 7,
   "id": "e8365d9e-d848-4635-a82f-b9d325b4658f",
   "metadata": {
    "execution": {
     "iopub.execute_input": "2024-03-15T03:13:23.317358Z",
     "iopub.status.busy": "2024-03-15T03:13:23.316570Z",
     "iopub.status.idle": "2024-03-15T03:13:23.322801Z",
     "shell.execute_reply": "2024-03-15T03:13:23.322115Z",
     "shell.execute_reply.started": "2024-03-15T03:13:23.317300Z"
    }
   },
   "outputs": [
    {
     "name": "stdout",
     "output_type": "stream",
     "text": [
      "354224848179261915075\n"
     ]
    }
   ],
   "source": [
    "print(climbing_stairs(100))"
   ]
  },
  {
   "cell_type": "code",
   "execution_count": 29,
   "id": "c10d7b56-3475-48d3-a284-c214b9ac4cfb",
   "metadata": {
    "execution": {
     "iopub.execute_input": "2024-03-15T03:48:07.452453Z",
     "iopub.status.busy": "2024-03-15T03:48:07.451859Z",
     "iopub.status.idle": "2024-03-15T03:48:07.463335Z",
     "shell.execute_reply": "2024-03-15T03:48:07.462593Z",
     "shell.execute_reply.started": "2024-03-15T03:48:07.452414Z"
    }
   },
   "outputs": [],
   "source": [
    "from typing import List\n",
    "\n",
    "\n",
    "class Solution:\n",
    "    def productExceptSelf(self, nums: List[int]) -> List[int]:\n",
    "        n = len(nums)\n",
    "        answer = [0 for _ in range(n)]\n",
    "        answer[0] = 1\n",
    "        for i in range(1, n):\n",
    "            answer[i] = answer[i - 1] * nums[i - 1]\n",
    "        R = 1\n",
    "        # print(answer)\n",
    "        for i in range(n - 1, -1, -1):\n",
    "            answer[i] *= R\n",
    "            R *= nums[i]\n",
    "            # print(answer,end='\\t')\n",
    "        return answer\n",
    "\n",
    "    def pivotInteger(self, n: int) -> int:\n",
    "\n",
    "        total = (n * (n + 1)) // 2\n",
    "        current = 0\n",
    "        for i in range(1, n + 1):\n",
    "            current += i\n",
    "            if current == total - current + i:\n",
    "                return i\n",
    "        return -1"
   ]
  },
  {
   "cell_type": "code",
   "execution_count": 30,
   "id": "ac445183-8215-4e6f-989d-69383432bed6",
   "metadata": {
    "execution": {
     "iopub.execute_input": "2024-03-15T03:48:08.409842Z",
     "iopub.status.busy": "2024-03-15T03:48:08.409258Z",
     "iopub.status.idle": "2024-03-15T03:48:08.415278Z",
     "shell.execute_reply": "2024-03-15T03:48:08.414563Z",
     "shell.execute_reply.started": "2024-03-15T03:48:08.409805Z"
    }
   },
   "outputs": [
    {
     "name": "stdout",
     "output_type": "stream",
     "text": [
      "[24, 12, 8]\n"
     ]
    }
   ],
   "source": [
    "sol = Solution()\n",
    "print(sol.productExceptSelf([2, 4, 6]))"
   ]
  },
  {
   "cell_type": "code",
   "execution_count": 31,
   "id": "77c46b76-8123-447b-85a8-ac74dff37777",
   "metadata": {
    "execution": {
     "iopub.execute_input": "2024-03-15T03:48:09.494109Z",
     "iopub.status.busy": "2024-03-15T03:48:09.493283Z",
     "iopub.status.idle": "2024-03-15T03:48:09.501149Z",
     "shell.execute_reply": "2024-03-15T03:48:09.500322Z",
     "shell.execute_reply.started": "2024-03-15T03:48:09.494036Z"
    }
   },
   "outputs": [
    {
     "name": "stdout",
     "output_type": "stream",
     "text": [
      "6\n"
     ]
    }
   ],
   "source": [
    "print(sol.pivotInteger(8))"
   ]
  },
  {
   "cell_type": "code",
   "execution_count": 32,
   "id": "efcf71ca-7f05-4677-95d7-82c2ceb52173",
   "metadata": {
    "execution": {
     "iopub.execute_input": "2024-03-15T03:48:18.098025Z",
     "iopub.status.busy": "2024-03-15T03:48:18.097341Z",
     "iopub.status.idle": "2024-03-15T03:48:18.102959Z",
     "shell.execute_reply": "2024-03-15T03:48:18.102161Z",
     "shell.execute_reply.started": "2024-03-15T03:48:18.097984Z"
    }
   },
   "outputs": [
    {
     "name": "stdout",
     "output_type": "stream",
     "text": [
      "1\n"
     ]
    }
   ],
   "source": [
    "print(sol.pivotInteger(1))"
   ]
  },
  {
   "cell_type": "code",
   "execution_count": 33,
   "id": "f8dceea8-117e-41d5-b88d-6d6406b3badf",
   "metadata": {
    "execution": {
     "iopub.execute_input": "2024-03-15T03:48:19.053831Z",
     "iopub.status.busy": "2024-03-15T03:48:19.053218Z",
     "iopub.status.idle": "2024-03-15T03:48:19.060250Z",
     "shell.execute_reply": "2024-03-15T03:48:19.059573Z",
     "shell.execute_reply.started": "2024-03-15T03:48:19.053767Z"
    }
   },
   "outputs": [
    {
     "name": "stdout",
     "output_type": "stream",
     "text": [
      "-1\n"
     ]
    }
   ],
   "source": [
    "print(sol.pivotInteger(4))"
   ]
  },
  {
   "cell_type": "code",
   "execution_count": 35,
   "id": "44139971-8e76-4ca7-9057-b894d683caac",
   "metadata": {
    "execution": {
     "iopub.execute_input": "2024-03-15T04:06:15.747206Z",
     "iopub.status.busy": "2024-03-15T04:06:15.746221Z",
     "iopub.status.idle": "2024-03-15T04:06:15.756068Z",
     "shell.execute_reply": "2024-03-15T04:06:15.755283Z",
     "shell.execute_reply.started": "2024-03-15T04:06:15.747131Z"
    }
   },
   "outputs": [
    {
     "data": {
      "text/plain": [
       "[1, -1, -1, -1, -1, -1, -1, 6, -1]"
      ]
     },
     "execution_count": 35,
     "metadata": {},
     "output_type": "execute_result"
    }
   ],
   "source": [
    "[sol.pivotInteger(x) for x in range(1, 10)]"
   ]
  },
  {
   "cell_type": "code",
   "execution_count": null,
   "id": "c6945c79-1b9c-4b92-96f7-45a7a2f2cafe",
   "metadata": {},
   "outputs": [],
   "source": [
    "def simplifyPath(path: str) -> str:\n",
    "    \"\"\"\"\"\""
   ]
  }
 ],
 "metadata": {
  "kernelspec": {
   "display_name": "Python 3 (ipykernel)",
   "language": "python",
   "name": "python3"
  },
  "language_info": {
   "codemirror_mode": {
    "name": "ipython",
    "version": 3
   },
   "file_extension": ".py",
   "mimetype": "text/x-python",
   "name": "python",
   "nbconvert_exporter": "python",
   "pygments_lexer": "ipython3",
   "version": "3.9.6"
  }
 },
 "nbformat": 4,
 "nbformat_minor": 5
}
