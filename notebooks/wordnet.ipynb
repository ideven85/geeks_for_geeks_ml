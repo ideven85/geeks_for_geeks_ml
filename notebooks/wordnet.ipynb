{
 "cells": [
  {
   "cell_type": "code",
   "id": "initial_id",
   "metadata": {
    "collapsed": true,
    "ExecuteTime": {
     "end_time": "2024-08-19T23:15:43.825515Z",
     "start_time": "2024-08-19T23:15:43.823061Z"
    }
   },
   "source": "import nltk",
   "outputs": [],
   "execution_count": 67
  },
  {
   "metadata": {
    "ExecuteTime": {
     "end_time": "2024-08-19T22:25:47.582804Z",
     "start_time": "2024-08-19T22:25:47.580392Z"
    }
   },
   "cell_type": "code",
   "source": "from nltk.corpus import wordnet",
   "id": "87128398632913d8",
   "outputs": [],
   "execution_count": 2
  },
  {
   "metadata": {
    "ExecuteTime": {
     "end_time": "2024-08-19T22:26:07.007923Z",
     "start_time": "2024-08-19T22:26:06.969038Z"
    }
   },
   "cell_type": "code",
   "source": "syns = wordnet.synsets(\"program\")",
   "id": "3904f215beb555f8",
   "outputs": [],
   "execution_count": 3
  },
  {
   "metadata": {
    "ExecuteTime": {
     "end_time": "2024-08-19T22:26:13.894021Z",
     "start_time": "2024-08-19T22:26:13.889267Z"
    }
   },
   "cell_type": "code",
   "source": "syns[0]",
   "id": "eed4877c8b64d7da",
   "outputs": [
    {
     "data": {
      "text/plain": [
       "Synset('plan.n.01')"
      ]
     },
     "execution_count": 4,
     "metadata": {},
     "output_type": "execute_result"
    }
   ],
   "execution_count": 4
  },
  {
   "metadata": {
    "ExecuteTime": {
     "end_time": "2024-08-19T22:26:21.582055Z",
     "start_time": "2024-08-19T22:26:21.579264Z"
    }
   },
   "cell_type": "code",
   "source": "syns[0].name()",
   "id": "2da0d7d41481ddb0",
   "outputs": [
    {
     "data": {
      "text/plain": [
       "'plan.n.01'"
      ]
     },
     "execution_count": 5,
     "metadata": {},
     "output_type": "execute_result"
    }
   ],
   "execution_count": 5
  },
  {
   "metadata": {
    "ExecuteTime": {
     "end_time": "2024-08-19T22:26:42.775261Z",
     "start_time": "2024-08-19T22:26:42.772381Z"
    }
   },
   "cell_type": "code",
   "source": "syns[0].lemmas()",
   "id": "e6d71126c7e97b67",
   "outputs": [
    {
     "data": {
      "text/plain": [
       "[Lemma('plan.n.01.plan'),\n",
       " Lemma('plan.n.01.program'),\n",
       " Lemma('plan.n.01.programme')]"
      ]
     },
     "execution_count": 7,
     "metadata": {},
     "output_type": "execute_result"
    }
   ],
   "execution_count": 7
  },
  {
   "metadata": {
    "ExecuteTime": {
     "end_time": "2024-08-19T22:27:02.573042Z",
     "start_time": "2024-08-19T22:27:02.570411Z"
    }
   },
   "cell_type": "code",
   "source": "lemma0 = syns[0].lemmas()[0]",
   "id": "d24eaa0c09a48e72",
   "outputs": [],
   "execution_count": 8
  },
  {
   "metadata": {
    "ExecuteTime": {
     "end_time": "2024-08-19T22:27:42.597502Z",
     "start_time": "2024-08-19T22:27:42.595435Z"
    }
   },
   "cell_type": "code",
   "source": [
    "print(lemma0.name())"
   ],
   "id": "428dc7232a095a8b",
   "outputs": [
    {
     "name": "stdout",
     "output_type": "stream",
     "text": [
      "plan\n"
     ]
    }
   ],
   "execution_count": 9
  },
  {
   "metadata": {
    "ExecuteTime": {
     "end_time": "2024-08-19T22:28:59.905493Z",
     "start_time": "2024-08-19T22:28:59.901295Z"
    }
   },
   "cell_type": "code",
   "source": "good = wordnet.synsets(\"good\")",
   "id": "5afff3a8d0bf8531",
   "outputs": [],
   "execution_count": 10
  },
  {
   "metadata": {
    "ExecuteTime": {
     "end_time": "2024-08-19T22:29:31.325071Z",
     "start_time": "2024-08-19T22:29:31.322819Z"
    }
   },
   "cell_type": "code",
   "source": [
    "synonyms = []\n",
    "antonyms = []\n",
    "print(good)"
   ],
   "id": "ee5e73255560d29b",
   "outputs": [
    {
     "name": "stdout",
     "output_type": "stream",
     "text": [
      "[Synset('good.n.01'), Synset('good.n.02'), Synset('good.n.03'), Synset('commodity.n.01'), Synset('good.a.01'), Synset('full.s.06'), Synset('good.a.03'), Synset('estimable.s.02'), Synset('beneficial.s.01'), Synset('good.s.06'), Synset('good.s.07'), Synset('adept.s.01'), Synset('good.s.09'), Synset('dear.s.02'), Synset('dependable.s.04'), Synset('good.s.12'), Synset('good.s.13'), Synset('effective.s.04'), Synset('good.s.15'), Synset('good.s.16'), Synset('good.s.17'), Synset('good.s.18'), Synset('good.s.19'), Synset('good.s.20'), Synset('good.s.21'), Synset('well.r.01'), Synset('thoroughly.r.02')]\n"
     ]
    }
   ],
   "execution_count": 11
  },
  {
   "metadata": {
    "ExecuteTime": {
     "end_time": "2024-08-19T22:39:53.518546Z",
     "start_time": "2024-08-19T22:39:53.510547Z"
    }
   },
   "cell_type": "code",
   "source": [
    "for syn in good:\n",
    "    for l in syn.lemmas():\n",
    "        print(l.count())\n",
    "        synonyms.append(l.name())\n",
    "        if l.antonyms():\n",
    "            for x in l.antonyms():\n",
    "                antonyms.append(x.name())"
   ],
   "id": "d2040e3eb4fd293e",
   "outputs": [
    {
     "name": "stdout",
     "output_type": "stream",
     "text": [
      "11\n",
      "9\n",
      "0\n",
      "6\n",
      "7\n",
      "4\n",
      "0\n",
      "0\n",
      "190\n",
      "1\n",
      "22\n",
      "12\n",
      "0\n",
      "10\n",
      "0\n",
      "5\n",
      "6\n",
      "5\n",
      "4\n",
      "3\n",
      "0\n",
      "1\n",
      "1\n",
      "2\n",
      "2\n",
      "1\n",
      "3\n",
      "3\n",
      "0\n",
      "2\n",
      "1\n",
      "2\n",
      "0\n",
      "0\n",
      "1\n",
      "0\n",
      "0\n",
      "1\n",
      "0\n",
      "0\n",
      "1\n",
      "3\n",
      "4\n",
      "1\n",
      "4\n",
      "0\n",
      "0\n",
      "0\n",
      "3\n",
      "0\n",
      "1\n",
      "0\n",
      "1\n",
      "0\n",
      "0\n",
      "0\n",
      "0\n",
      "0\n",
      "0\n",
      "0\n",
      "76\n",
      "9\n",
      "7\n",
      "0\n",
      "4\n"
     ]
    }
   ],
   "execution_count": 34
  },
  {
   "metadata": {
    "ExecuteTime": {
     "end_time": "2024-08-19T22:36:01.722490Z",
     "start_time": "2024-08-19T22:36:01.719387Z"
    }
   },
   "cell_type": "code",
   "source": "print(set(synonyms))",
   "id": "ead8bf1a0e05681",
   "outputs": [
    {
     "name": "stdout",
     "output_type": "stream",
     "text": [
      "{'thoroughly', 'dependable', 'adept', 'secure', 'in_effect', 'salutary', 'well', 'upright', 'estimable', 'unspoiled', 'near', 'in_force', 'trade_good', 'skilful', 'safe', 'honest', 'just', 'unspoilt', 'full', 'effective', 'serious', 'commodity', 'soundly', 'respectable', 'dear', 'right', 'ripe', 'practiced', 'sound', 'honorable', 'goodness', 'undecomposed', 'good', 'skillful', 'beneficial', 'proficient', 'expert'}\n"
     ]
    }
   ],
   "execution_count": 29
  },
  {
   "metadata": {
    "ExecuteTime": {
     "end_time": "2024-08-19T22:36:05.445817Z",
     "start_time": "2024-08-19T22:36:05.443355Z"
    }
   },
   "cell_type": "code",
   "source": "print(set(antonyms))",
   "id": "682530213d444167",
   "outputs": [
    {
     "name": "stdout",
     "output_type": "stream",
     "text": [
      "{'bad', 'badness', 'evilness', 'evil', 'ill'}\n"
     ]
    }
   ],
   "execution_count": 30
  },
  {
   "metadata": {
    "ExecuteTime": {
     "end_time": "2024-08-19T22:35:44.561472Z",
     "start_time": "2024-08-19T22:35:44.558498Z"
    }
   },
   "cell_type": "code",
   "source": [
    "synonyms_of_good = set(synonyms)\n",
    "antonyms_of_good = set(antonyms)"
   ],
   "id": "a72d284a6bd03675",
   "outputs": [],
   "execution_count": 26
  },
  {
   "metadata": {
    "ExecuteTime": {
     "end_time": "2024-08-19T22:35:45.041376Z",
     "start_time": "2024-08-19T22:35:45.038113Z"
    }
   },
   "cell_type": "code",
   "source": "len(synonyms_of_good)",
   "id": "d713238db05733d7",
   "outputs": [
    {
     "data": {
      "text/plain": [
       "37"
      ]
     },
     "execution_count": 27,
     "metadata": {},
     "output_type": "execute_result"
    }
   ],
   "execution_count": 27
  },
  {
   "metadata": {
    "ExecuteTime": {
     "end_time": "2024-08-19T22:35:45.500722Z",
     "start_time": "2024-08-19T22:35:45.498529Z"
    }
   },
   "cell_type": "code",
   "source": "len(antonyms_of_good)",
   "id": "cece024ab9523c8d",
   "outputs": [
    {
     "data": {
      "text/plain": [
       "5"
      ]
     },
     "execution_count": 28,
     "metadata": {},
     "output_type": "execute_result"
    }
   ],
   "execution_count": 28
  },
  {
   "metadata": {
    "ExecuteTime": {
     "end_time": "2024-08-19T22:43:14.673183Z",
     "start_time": "2024-08-19T22:43:14.670066Z"
    }
   },
   "cell_type": "code",
   "source": "w1 = wordnet.synset(\"ship.n.01\")",
   "id": "aa68f7e090d9c810",
   "outputs": [],
   "execution_count": 35
  },
  {
   "metadata": {
    "ExecuteTime": {
     "end_time": "2024-08-19T22:43:31.170018Z",
     "start_time": "2024-08-19T22:43:31.167791Z"
    }
   },
   "cell_type": "code",
   "source": "w2 = wordnet.synset(\"boat.n.01\")",
   "id": "c41dcd48ae1a27f3",
   "outputs": [],
   "execution_count": 36
  },
  {
   "metadata": {
    "ExecuteTime": {
     "end_time": "2024-08-19T22:44:06.402096Z",
     "start_time": "2024-08-19T22:44:06.399241Z"
    }
   },
   "cell_type": "code",
   "source": "w1.wup_similarity(w2)",
   "id": "249d0d8c536c365",
   "outputs": [
    {
     "data": {
      "text/plain": [
       "0.9090909090909091"
      ]
     },
     "execution_count": 37,
     "metadata": {},
     "output_type": "execute_result"
    }
   ],
   "execution_count": 37
  },
  {
   "metadata": {
    "ExecuteTime": {
     "end_time": "2024-08-19T22:50:36.533246Z",
     "start_time": "2024-08-19T22:50:36.530497Z"
    }
   },
   "cell_type": "code",
   "source": [
    "ship_verb = wordnet.synset(\"ship.v.01\")"
   ],
   "id": "3744c2cdf16fde3c",
   "outputs": [],
   "execution_count": 58
  },
  {
   "metadata": {
    "ExecuteTime": {
     "end_time": "2024-08-19T22:50:36.879188Z",
     "start_time": "2024-08-19T22:50:36.876950Z"
    }
   },
   "cell_type": "code",
   "source": "ship_verb.definition()",
   "id": "5195ff14aa2b1803",
   "outputs": [
    {
     "data": {
      "text/plain": [
       "'transport commercially'"
      ]
     },
     "execution_count": 59,
     "metadata": {},
     "output_type": "execute_result"
    }
   ],
   "execution_count": 59
  },
  {
   "metadata": {
    "ExecuteTime": {
     "end_time": "2024-08-19T22:50:56.416883Z",
     "start_time": "2024-08-19T22:50:55.381950Z"
    }
   },
   "cell_type": "code",
   "source": "import transformers",
   "id": "65a967a0eeb7d19f",
   "outputs": [],
   "execution_count": 60
  },
  {
   "metadata": {
    "ExecuteTime": {
     "end_time": "2024-08-19T23:17:52.241544Z",
     "start_time": "2024-08-19T23:17:52.238572Z"
    }
   },
   "cell_type": "code",
   "source": [
    "from nltk.sentiment import SentimentAnalyzer, SentimentIntensityAnalyzer"
   ],
   "id": "bf9d3656a7bef730",
   "outputs": [],
   "execution_count": 71
  },
  {
   "metadata": {
    "ExecuteTime": {
     "end_time": "2024-08-19T23:10:43.896346Z",
     "start_time": "2024-08-19T23:10:43.883151Z"
    }
   },
   "cell_type": "code",
   "source": [
    "intensity = SentimentIntensityAnalyzer()\n",
    "sentiment = SentimentAnalyzer()"
   ],
   "id": "5dc6bab8deab8eda",
   "outputs": [],
   "execution_count": 62
  },
  {
   "metadata": {
    "ExecuteTime": {
     "end_time": "2024-08-19T23:12:32.521626Z",
     "start_time": "2024-08-19T23:12:32.518543Z"
    }
   },
   "cell_type": "code",
   "source": [
    "sentence1 = \"Jane went looking for trouble\"\n",
    "sentence2 = \"Trouble went looking for Jane\"\n",
    "intensity.polarity_scores(sentence1)"
   ],
   "id": "157cbd5b75e91208",
   "outputs": [
    {
     "data": {
      "text/plain": [
       "{'neg': 0.403, 'neu': 0.597, 'pos': 0.0, 'compound': -0.4019}"
      ]
     },
     "execution_count": 63,
     "metadata": {},
     "output_type": "execute_result"
    }
   ],
   "execution_count": 63
  },
  {
   "metadata": {
    "ExecuteTime": {
     "end_time": "2024-08-19T23:12:54.791376Z",
     "start_time": "2024-08-19T23:12:54.789413Z"
    }
   },
   "cell_type": "code",
   "source": "print(intensity.polarity_scores(sentence2))",
   "id": "921f51f343ea8960",
   "outputs": [
    {
     "name": "stdout",
     "output_type": "stream",
     "text": [
      "{'neg': 0.403, 'neu': 0.597, 'pos': 0.0, 'compound': -0.4019}\n"
     ]
    }
   ],
   "execution_count": 64
  },
  {
   "metadata": {
    "ExecuteTime": {
     "end_time": "2024-08-19T23:15:53.718673Z",
     "start_time": "2024-08-19T23:15:53.714545Z"
    }
   },
   "cell_type": "code",
   "source": [
    "nltk.download(\"vader_lexicon\")"
   ],
   "id": "10eca533c632dab6",
   "outputs": [
    {
     "name": "stderr",
     "output_type": "stream",
     "text": [
      "[nltk_data] Downloading package vader_lexicon to\n",
      "[nltk_data]     /Users/deven/nltk_data...\n",
      "[nltk_data]   Package vader_lexicon is already up-to-date!\n"
     ]
    },
    {
     "data": {
      "text/plain": [
       "True"
      ]
     },
     "execution_count": 68,
     "metadata": {},
     "output_type": "execute_result"
    }
   ],
   "execution_count": 68
  },
  {
   "metadata": {
    "ExecuteTime": {
     "end_time": "2024-08-19T23:17:48.251066Z",
     "start_time": "2024-08-19T23:17:48.248164Z"
    }
   },
   "cell_type": "code",
   "source": [
    "from nltk.sentiment.vader import (\n",
    "    SentimentIntensityAnalyzer as VaderSentimentIntensityAnalyzer,\n",
    ")  # How is this different?"
   ],
   "id": "d47326fc8d3f1151",
   "outputs": [],
   "execution_count": 70
  },
  {
   "metadata": {
    "ExecuteTime": {
     "end_time": "2024-08-19T23:18:31.606066Z",
     "start_time": "2024-08-19T23:18:31.598158Z"
    }
   },
   "cell_type": "code",
   "source": "vader_analyzer = VaderSentimentIntensityAnalyzer()",
   "id": "3d3d8a25072bf758",
   "outputs": [],
   "execution_count": 73
  },
  {
   "metadata": {
    "ExecuteTime": {
     "end_time": "2024-08-19T23:18:40.902270Z",
     "start_time": "2024-08-19T23:18:40.899050Z"
    }
   },
   "cell_type": "code",
   "source": "vader_analyzer.polarity_scores(sentence1)",
   "id": "aaf58cd4c96e5d26",
   "outputs": [
    {
     "data": {
      "text/plain": [
       "{'neg': 0.403, 'neu': 0.597, 'pos': 0.0, 'compound': -0.4019}"
      ]
     },
     "execution_count": 74,
     "metadata": {},
     "output_type": "execute_result"
    }
   ],
   "execution_count": 74
  },
  {
   "metadata": {
    "ExecuteTime": {
     "end_time": "2024-08-19T23:18:49.275908Z",
     "start_time": "2024-08-19T23:18:49.271500Z"
    }
   },
   "cell_type": "code",
   "source": "vader_analyzer.polarity_scores(sentence2)",
   "id": "33c646a926d92e35",
   "outputs": [
    {
     "data": {
      "text/plain": [
       "{'neg': 0.403, 'neu': 0.597, 'pos': 0.0, 'compound': -0.4019}"
      ]
     },
     "execution_count": 75,
     "metadata": {},
     "output_type": "execute_result"
    }
   ],
   "execution_count": 75
  },
  {
   "metadata": {
    "ExecuteTime": {
     "end_time": "2024-08-19T23:19:23.372759Z",
     "start_time": "2024-08-19T23:19:11.044805Z"
    }
   },
   "cell_type": "code",
   "source": "!pip3 install flair",
   "id": "c5da055065454425",
   "outputs": [
    {
     "name": "stdout",
     "output_type": "stream",
     "text": [
      "Collecting flair\r\n",
      "  Downloading flair-0.14.0-py3-none-any.whl.metadata (12 kB)\r\n",
      "Collecting boto3>=1.20.27 (from flair)\r\n",
      "  Downloading boto3-1.35.1-py3-none-any.whl.metadata (6.6 kB)\r\n",
      "Collecting conllu<5.0.0,>=4.0 (from flair)\r\n",
      "  Downloading conllu-4.5.3-py2.py3-none-any.whl.metadata (19 kB)\r\n",
      "Collecting deprecated>=1.2.13 (from flair)\r\n",
      "  Downloading Deprecated-1.2.14-py2.py3-none-any.whl.metadata (5.4 kB)\r\n",
      "Collecting ftfy>=6.1.0 (from flair)\r\n",
      "  Downloading ftfy-6.2.3-py3-none-any.whl.metadata (7.8 kB)\r\n",
      "Collecting gdown>=4.4.0 (from flair)\r\n",
      "  Downloading gdown-5.2.0-py3-none-any.whl.metadata (5.8 kB)\r\n",
      "Requirement already satisfied: huggingface-hub>=0.10.0 in /Users/deven/.virtualenvs/Machine_Learning_Algorithms/lib/python3.12/site-packages (from flair) (0.24.0)\r\n",
      "Collecting langdetect>=1.0.9 (from flair)\r\n",
      "  Downloading langdetect-1.0.9.tar.gz (981 kB)\r\n",
      "\u001b[2K     \u001b[90m━━━━━━━━━━━━━━━━━━━━━━━━━━━━━━━━━━━━━━\u001b[0m \u001b[32m981.5/981.5 kB\u001b[0m \u001b[31m18.2 MB/s\u001b[0m eta \u001b[36m0:00:00\u001b[0ma \u001b[36m0:00:01\u001b[0m\r\n",
      "\u001b[?25h  Preparing metadata (setup.py) ... \u001b[?25ldone\r\n",
      "\u001b[?25hRequirement already satisfied: lxml>=4.8.0 in /Users/deven/.virtualenvs/Machine_Learning_Algorithms/lib/python3.12/site-packages (from flair) (5.3.0)\r\n",
      "Requirement already satisfied: matplotlib>=2.2.3 in /Users/deven/.virtualenvs/Machine_Learning_Algorithms/lib/python3.12/site-packages (from flair) (3.9.2)\r\n",
      "Requirement already satisfied: more-itertools>=8.13.0 in /Users/deven/.virtualenvs/Machine_Learning_Algorithms/lib/python3.12/site-packages (from flair) (10.3.0)\r\n",
      "Collecting mpld3>=0.3 (from flair)\r\n",
      "  Downloading mpld3-0.5.10-py3-none-any.whl.metadata (5.1 kB)\r\n",
      "Collecting pptree>=3.1 (from flair)\r\n",
      "  Downloading pptree-3.1.tar.gz (3.0 kB)\r\n",
      "  Preparing metadata (setup.py) ... \u001b[?25ldone\r\n",
      "\u001b[?25hRequirement already satisfied: python-dateutil>=2.8.2 in /Users/deven/.virtualenvs/Machine_Learning_Algorithms/lib/python3.12/site-packages (from flair) (2.9.0.post0)\r\n",
      "Collecting pytorch-revgrad>=0.2.0 (from flair)\r\n",
      "  Downloading pytorch_revgrad-0.2.0-py3-none-any.whl.metadata (1.7 kB)\r\n",
      "Requirement already satisfied: regex>=2022.1.18 in /Users/deven/.virtualenvs/Machine_Learning_Algorithms/lib/python3.12/site-packages (from flair) (2024.5.15)\r\n",
      "Requirement already satisfied: scikit-learn>=1.0.2 in /Users/deven/.virtualenvs/Machine_Learning_Algorithms/lib/python3.12/site-packages (from flair) (1.5.1)\r\n",
      "Collecting segtok>=1.5.11 (from flair)\r\n",
      "  Downloading segtok-1.5.11-py3-none-any.whl.metadata (9.0 kB)\r\n",
      "Collecting sqlitedict>=2.0.0 (from flair)\r\n",
      "  Downloading sqlitedict-2.1.0.tar.gz (21 kB)\r\n",
      "  Preparing metadata (setup.py) ... \u001b[?25ldone\r\n",
      "\u001b[?25hCollecting tabulate>=0.8.10 (from flair)\r\n",
      "  Downloading tabulate-0.9.0-py3-none-any.whl.metadata (34 kB)\r\n",
      "Requirement already satisfied: torch!=1.8,>=1.5.0 in /Users/deven/.virtualenvs/Machine_Learning_Algorithms/lib/python3.12/site-packages (from flair) (2.3.1)\r\n",
      "Requirement already satisfied: tqdm>=4.63.0 in /Users/deven/.virtualenvs/Machine_Learning_Algorithms/lib/python3.12/site-packages (from flair) (4.66.4)\r\n",
      "Collecting transformer-smaller-training-vocab>=0.2.3 (from flair)\r\n",
      "  Downloading transformer_smaller_training_vocab-0.4.0-py3-none-any.whl.metadata (8.1 kB)\r\n",
      "Requirement already satisfied: transformers<5.0.0,>=4.18.0 in /Users/deven/.virtualenvs/Machine_Learning_Algorithms/lib/python3.12/site-packages (from transformers[sentencepiece]<5.0.0,>=4.18.0->flair) (4.41.2)\r\n",
      "Collecting wikipedia-api>=0.5.7 (from flair)\r\n",
      "  Downloading Wikipedia_API-0.6.0-py3-none-any.whl.metadata (22 kB)\r\n",
      "Collecting semver<4.0.0,>=3.0.0 (from flair)\r\n",
      "  Downloading semver-3.0.2-py3-none-any.whl.metadata (5.0 kB)\r\n",
      "Collecting bioc<3.0.0,>=2.0.0 (from flair)\r\n",
      "  Downloading bioc-2.1-py3-none-any.whl.metadata (4.6 kB)\r\n",
      "Collecting jsonlines>=1.2.0 (from bioc<3.0.0,>=2.0.0->flair)\r\n",
      "  Downloading jsonlines-4.0.0-py3-none-any.whl.metadata (1.6 kB)\r\n",
      "Collecting intervaltree (from bioc<3.0.0,>=2.0.0->flair)\r\n",
      "  Downloading intervaltree-3.1.0.tar.gz (32 kB)\r\n",
      "  Preparing metadata (setup.py) ... \u001b[?25ldone\r\n",
      "\u001b[?25hCollecting docopt (from bioc<3.0.0,>=2.0.0->flair)\r\n",
      "  Downloading docopt-0.6.2.tar.gz (25 kB)\r\n",
      "  Preparing metadata (setup.py) ... \u001b[?25ldone\r\n",
      "\u001b[?25hCollecting botocore<1.36.0,>=1.35.1 (from boto3>=1.20.27->flair)\r\n",
      "  Downloading botocore-1.35.1-py3-none-any.whl.metadata (5.7 kB)\r\n",
      "Collecting jmespath<2.0.0,>=0.7.1 (from boto3>=1.20.27->flair)\r\n",
      "  Downloading jmespath-1.0.1-py3-none-any.whl.metadata (7.6 kB)\r\n",
      "Collecting s3transfer<0.11.0,>=0.10.0 (from boto3>=1.20.27->flair)\r\n",
      "  Downloading s3transfer-0.10.2-py3-none-any.whl.metadata (1.7 kB)\r\n",
      "Requirement already satisfied: wrapt<2,>=1.10 in /Users/deven/.virtualenvs/Machine_Learning_Algorithms/lib/python3.12/site-packages (from deprecated>=1.2.13->flair) (1.16.0)\r\n",
      "Requirement already satisfied: wcwidth<0.3.0,>=0.2.12 in /Users/deven/.virtualenvs/Machine_Learning_Algorithms/lib/python3.12/site-packages (from ftfy>=6.1.0->flair) (0.2.13)\r\n",
      "Requirement already satisfied: beautifulsoup4 in /Users/deven/.virtualenvs/Machine_Learning_Algorithms/lib/python3.12/site-packages (from gdown>=4.4.0->flair) (4.12.3)\r\n",
      "Requirement already satisfied: filelock in /Users/deven/.virtualenvs/Machine_Learning_Algorithms/lib/python3.12/site-packages (from gdown>=4.4.0->flair) (3.15.4)\r\n",
      "Requirement already satisfied: requests[socks] in /Users/deven/.virtualenvs/Machine_Learning_Algorithms/lib/python3.12/site-packages (from gdown>=4.4.0->flair) (2.32.3)\r\n",
      "Requirement already satisfied: fsspec>=2023.5.0 in /Users/deven/.virtualenvs/Machine_Learning_Algorithms/lib/python3.12/site-packages (from huggingface-hub>=0.10.0->flair) (2024.5.0)\r\n",
      "Requirement already satisfied: packaging>=20.9 in /Users/deven/.virtualenvs/Machine_Learning_Algorithms/lib/python3.12/site-packages (from huggingface-hub>=0.10.0->flair) (24.1)\r\n",
      "Requirement already satisfied: pyyaml>=5.1 in /Users/deven/.virtualenvs/Machine_Learning_Algorithms/lib/python3.12/site-packages (from huggingface-hub>=0.10.0->flair) (6.0.1)\r\n",
      "Requirement already satisfied: typing-extensions>=3.7.4.3 in /Users/deven/.virtualenvs/Machine_Learning_Algorithms/lib/python3.12/site-packages (from huggingface-hub>=0.10.0->flair) (4.12.2)\r\n",
      "Requirement already satisfied: six in /Users/deven/.virtualenvs/Machine_Learning_Algorithms/lib/python3.12/site-packages (from langdetect>=1.0.9->flair) (1.16.0)\r\n",
      "Requirement already satisfied: contourpy>=1.0.1 in /Users/deven/.virtualenvs/Machine_Learning_Algorithms/lib/python3.12/site-packages (from matplotlib>=2.2.3->flair) (1.2.1)\r\n",
      "Requirement already satisfied: cycler>=0.10 in /Users/deven/.virtualenvs/Machine_Learning_Algorithms/lib/python3.12/site-packages (from matplotlib>=2.2.3->flair) (0.12.1)\r\n",
      "Requirement already satisfied: fonttools>=4.22.0 in /Users/deven/.virtualenvs/Machine_Learning_Algorithms/lib/python3.12/site-packages (from matplotlib>=2.2.3->flair) (4.53.1)\r\n",
      "Requirement already satisfied: kiwisolver>=1.3.1 in /Users/deven/.virtualenvs/Machine_Learning_Algorithms/lib/python3.12/site-packages (from matplotlib>=2.2.3->flair) (1.4.5)\r\n",
      "Requirement already satisfied: numpy>=1.23 in /Users/deven/.virtualenvs/Machine_Learning_Algorithms/lib/python3.12/site-packages (from matplotlib>=2.2.3->flair) (2.0.1)\r\n",
      "Requirement already satisfied: pillow>=8 in /Users/deven/.virtualenvs/Machine_Learning_Algorithms/lib/python3.12/site-packages (from matplotlib>=2.2.3->flair) (10.4.0)\r\n",
      "Requirement already satisfied: pyparsing>=2.3.1 in /Users/deven/.virtualenvs/Machine_Learning_Algorithms/lib/python3.12/site-packages (from matplotlib>=2.2.3->flair) (3.1.2)\r\n",
      "Requirement already satisfied: jinja2 in /Users/deven/.virtualenvs/Machine_Learning_Algorithms/lib/python3.12/site-packages (from mpld3>=0.3->flair) (3.1.4)\r\n",
      "Requirement already satisfied: scipy>=1.6.0 in /Users/deven/.virtualenvs/Machine_Learning_Algorithms/lib/python3.12/site-packages (from scikit-learn>=1.0.2->flair) (1.14.0)\r\n",
      "Requirement already satisfied: joblib>=1.2.0 in /Users/deven/.virtualenvs/Machine_Learning_Algorithms/lib/python3.12/site-packages (from scikit-learn>=1.0.2->flair) (1.4.2)\r\n",
      "Requirement already satisfied: threadpoolctl>=3.1.0 in /Users/deven/.virtualenvs/Machine_Learning_Algorithms/lib/python3.12/site-packages (from scikit-learn>=1.0.2->flair) (3.5.0)\r\n",
      "Requirement already satisfied: sympy in /Users/deven/.virtualenvs/Machine_Learning_Algorithms/lib/python3.12/site-packages (from torch!=1.8,>=1.5.0->flair) (1.13.1)\r\n",
      "Requirement already satisfied: networkx in /Users/deven/.virtualenvs/Machine_Learning_Algorithms/lib/python3.12/site-packages (from torch!=1.8,>=1.5.0->flair) (3.3)\r\n",
      "Collecting numpy>=1.23 (from matplotlib>=2.2.3->flair)\r\n",
      "  Using cached numpy-1.26.4-cp312-cp312-macosx_11_0_arm64.whl.metadata (61 kB)\r\n",
      "Requirement already satisfied: tokenizers<0.20,>=0.19 in /Users/deven/.virtualenvs/Machine_Learning_Algorithms/lib/python3.12/site-packages (from transformers<5.0.0,>=4.18.0->transformers[sentencepiece]<5.0.0,>=4.18.0->flair) (0.19.1)\r\n",
      "Requirement already satisfied: safetensors>=0.4.1 in /Users/deven/.virtualenvs/Machine_Learning_Algorithms/lib/python3.12/site-packages (from transformers<5.0.0,>=4.18.0->transformers[sentencepiece]<5.0.0,>=4.18.0->flair) (0.4.3)\r\n",
      "Requirement already satisfied: sentencepiece!=0.1.92,>=0.1.91 in /Users/deven/.virtualenvs/Machine_Learning_Algorithms/lib/python3.12/site-packages (from transformers[sentencepiece]<5.0.0,>=4.18.0->flair) (0.2.0)\r\n",
      "Requirement already satisfied: protobuf in /Users/deven/.virtualenvs/Machine_Learning_Algorithms/lib/python3.12/site-packages (from transformers[sentencepiece]<5.0.0,>=4.18.0->flair) (4.25.4)\r\n",
      "Requirement already satisfied: urllib3!=2.2.0,<3,>=1.25.4 in /Users/deven/.virtualenvs/Machine_Learning_Algorithms/lib/python3.12/site-packages (from botocore<1.36.0,>=1.35.1->boto3>=1.20.27->flair) (2.2.2)\r\n",
      "Requirement already satisfied: attrs>=19.2.0 in /Users/deven/.virtualenvs/Machine_Learning_Algorithms/lib/python3.12/site-packages (from jsonlines>=1.2.0->bioc<3.0.0,>=2.0.0->flair) (23.2.0)\r\n",
      "Collecting accelerate>=0.21.0 (from transformers[sentencepiece,torch]<5.0,>=4.1->transformer-smaller-training-vocab>=0.2.3->flair)\r\n",
      "  Downloading accelerate-0.33.0-py3-none-any.whl.metadata (18 kB)\r\n",
      "Requirement already satisfied: soupsieve>1.2 in /Users/deven/.virtualenvs/Machine_Learning_Algorithms/lib/python3.12/site-packages (from beautifulsoup4->gdown>=4.4.0->flair) (2.5)\r\n",
      "Requirement already satisfied: sortedcontainers<3.0,>=2.0 in /Users/deven/.virtualenvs/Machine_Learning_Algorithms/lib/python3.12/site-packages (from intervaltree->bioc<3.0.0,>=2.0.0->flair) (2.4.0)\r\n",
      "Requirement already satisfied: MarkupSafe>=2.0 in /Users/deven/.virtualenvs/Machine_Learning_Algorithms/lib/python3.12/site-packages (from jinja2->mpld3>=0.3->flair) (2.1.5)\r\n",
      "Requirement already satisfied: charset-normalizer<4,>=2 in /Users/deven/.virtualenvs/Machine_Learning_Algorithms/lib/python3.12/site-packages (from requests[socks]->gdown>=4.4.0->flair) (3.3.2)\r\n",
      "Requirement already satisfied: idna<4,>=2.5 in /Users/deven/.virtualenvs/Machine_Learning_Algorithms/lib/python3.12/site-packages (from requests[socks]->gdown>=4.4.0->flair) (3.7)\r\n",
      "Requirement already satisfied: certifi>=2017.4.17 in /Users/deven/.virtualenvs/Machine_Learning_Algorithms/lib/python3.12/site-packages (from requests[socks]->gdown>=4.4.0->flair) (2024.7.4)\r\n",
      "Requirement already satisfied: PySocks!=1.5.7,>=1.5.6 in /Users/deven/.virtualenvs/Machine_Learning_Algorithms/lib/python3.12/site-packages (from requests[socks]->gdown>=4.4.0->flair) (1.7.1)\r\n",
      "Requirement already satisfied: mpmath<1.4,>=1.1.0 in /Users/deven/.virtualenvs/Machine_Learning_Algorithms/lib/python3.12/site-packages (from sympy->torch!=1.8,>=1.5.0->flair) (1.3.0)\r\n",
      "Requirement already satisfied: psutil in /Users/deven/.virtualenvs/Machine_Learning_Algorithms/lib/python3.12/site-packages (from accelerate>=0.21.0->transformers[sentencepiece,torch]<5.0,>=4.1->transformer-smaller-training-vocab>=0.2.3->flair) (6.0.0)\r\n",
      "Downloading flair-0.14.0-py3-none-any.whl (776 kB)\r\n",
      "\u001b[2K   \u001b[90m━━━━━━━━━━━━━━━━━━━━━━━━━━━━━━━━━━━━━━━━\u001b[0m \u001b[32m776.5/776.5 kB\u001b[0m \u001b[31m25.4 MB/s\u001b[0m eta \u001b[36m0:00:00\u001b[0m\r\n",
      "\u001b[?25hDownloading bioc-2.1-py3-none-any.whl (33 kB)\r\n",
      "Downloading boto3-1.35.1-py3-none-any.whl (139 kB)\r\n",
      "\u001b[2K   \u001b[90m━━━━━━━━━━━━━━━━━━━━━━━━━━━━━━━━━━━━━━━━\u001b[0m \u001b[32m139.1/139.1 kB\u001b[0m \u001b[31m30.2 MB/s\u001b[0m eta \u001b[36m0:00:00\u001b[0m\r\n",
      "\u001b[?25hDownloading conllu-4.5.3-py2.py3-none-any.whl (16 kB)\r\n",
      "Downloading Deprecated-1.2.14-py2.py3-none-any.whl (9.6 kB)\r\n",
      "Downloading ftfy-6.2.3-py3-none-any.whl (43 kB)\r\n",
      "\u001b[2K   \u001b[90m━━━━━━━━━━━━━━━━━━━━━━━━━━━━━━━━━━━━━━━━\u001b[0m \u001b[32m43.0/43.0 kB\u001b[0m \u001b[31m6.2 MB/s\u001b[0m eta \u001b[36m0:00:00\u001b[0m\r\n",
      "\u001b[?25hDownloading gdown-5.2.0-py3-none-any.whl (18 kB)\r\n",
      "Downloading mpld3-0.5.10-py3-none-any.whl (202 kB)\r\n",
      "\u001b[2K   \u001b[90m━━━━━━━━━━━━━━━━━━━━━━━━━━━━━━━━━━━━━━━━\u001b[0m \u001b[32m202.6/202.6 kB\u001b[0m \u001b[31m22.8 MB/s\u001b[0m eta \u001b[36m0:00:00\u001b[0m\r\n",
      "\u001b[?25hDownloading pytorch_revgrad-0.2.0-py3-none-any.whl (4.6 kB)\r\n",
      "Downloading segtok-1.5.11-py3-none-any.whl (24 kB)\r\n",
      "Downloading semver-3.0.2-py3-none-any.whl (17 kB)\r\n",
      "Downloading tabulate-0.9.0-py3-none-any.whl (35 kB)\r\n",
      "Downloading transformer_smaller_training_vocab-0.4.0-py3-none-any.whl (14 kB)\r\n",
      "Downloading Wikipedia_API-0.6.0-py3-none-any.whl (14 kB)\r\n",
      "Downloading botocore-1.35.1-py3-none-any.whl (12.5 MB)\r\n",
      "\u001b[2K   \u001b[90m━━━━━━━━━━━━━━━━━━━━━━━━━━━━━━━━━━━━━━━━\u001b[0m \u001b[32m12.5/12.5 MB\u001b[0m \u001b[31m23.0 MB/s\u001b[0m eta \u001b[36m0:00:00\u001b[0m00:01\u001b[0m00:01\u001b[0m\r\n",
      "\u001b[?25hDownloading jmespath-1.0.1-py3-none-any.whl (20 kB)\r\n",
      "Downloading jsonlines-4.0.0-py3-none-any.whl (8.7 kB)\r\n",
      "Using cached numpy-1.26.4-cp312-cp312-macosx_11_0_arm64.whl (13.7 MB)\r\n",
      "Downloading s3transfer-0.10.2-py3-none-any.whl (82 kB)\r\n",
      "\u001b[2K   \u001b[90m━━━━━━━━━━━━━━━━━━━━━━━━━━━━━━━━━━━━━━━━\u001b[0m \u001b[32m82.7/82.7 kB\u001b[0m \u001b[31m10.0 MB/s\u001b[0m eta \u001b[36m0:00:00\u001b[0m\r\n",
      "\u001b[?25hDownloading accelerate-0.33.0-py3-none-any.whl (315 kB)\r\n",
      "\u001b[2K   \u001b[90m━━━━━━━━━━━━━━━━━━━━━━━━━━━━━━━━━━━━━━━━\u001b[0m \u001b[32m315.1/315.1 kB\u001b[0m \u001b[31m17.6 MB/s\u001b[0m eta \u001b[36m0:00:00\u001b[0m\r\n",
      "\u001b[?25hBuilding wheels for collected packages: langdetect, pptree, sqlitedict, docopt, intervaltree\r\n",
      "  Building wheel for langdetect (setup.py) ... \u001b[?25ldone\r\n",
      "\u001b[?25h  Created wheel for langdetect: filename=langdetect-1.0.9-py3-none-any.whl size=993221 sha256=f825ffc28c4a969fda5918c9c1ddad66748f06bb1f4c60cca932cb28d5d50e69\r\n",
      "  Stored in directory: /Users/deven/Library/Caches/pip/wheels/c1/67/88/e844b5b022812e15a52e4eaa38a1e709e99f06f6639d7e3ba7\r\n",
      "  Building wheel for pptree (setup.py) ... \u001b[?25ldone\r\n",
      "\u001b[?25h  Created wheel for pptree: filename=pptree-3.1-py3-none-any.whl size=4607 sha256=76ac6aaf648080bdccc47064ea8cb7990b308eada64ab5ea5da958bff393c14f\r\n",
      "  Stored in directory: /Users/deven/Library/Caches/pip/wheels/b0/2d/de/37058114a8f07cfec75747cb46b864bc5c71b0e9e0e4cd0acd\r\n",
      "  Building wheel for sqlitedict (setup.py) ... \u001b[?25ldone\r\n",
      "\u001b[?25h  Created wheel for sqlitedict: filename=sqlitedict-2.1.0-py3-none-any.whl size=16862 sha256=f91374e802b26142768f900e0956b74cb6bc1112529fcde8db64c032b1c52de4\r\n",
      "  Stored in directory: /Users/deven/Library/Caches/pip/wheels/7a/6f/21/fc016aef45ffcabe27129a2252f061387cbf278d2086225a64\r\n",
      "  Building wheel for docopt (setup.py) ... \u001b[?25ldone\r\n",
      "\u001b[?25h  Created wheel for docopt: filename=docopt-0.6.2-py2.py3-none-any.whl size=13706 sha256=210add4a7aa04dc9a9e7f334c57f6371d64ccd33cfbaed861705686041b1f66c\r\n",
      "  Stored in directory: /Users/deven/Library/Caches/pip/wheels/1a/bf/a1/4cee4f7678c68c5875ca89eaccf460593539805c3906722228\r\n",
      "  Building wheel for intervaltree (setup.py) ... \u001b[?25ldone\r\n",
      "\u001b[?25h  Created wheel for intervaltree: filename=intervaltree-3.1.0-py2.py3-none-any.whl size=26097 sha256=ea9dfc88756715fc56e2838cfe512f43e93862eba4a9a9bff060f85bdce377e2\r\n",
      "  Stored in directory: /Users/deven/Library/Caches/pip/wheels/65/c3/c3/238bf93c243597857edd94ddb0577faa74a8e16e9585896e83\r\n",
      "Successfully built langdetect pptree sqlitedict docopt intervaltree\r\n",
      "Installing collected packages: sqlitedict, pptree, docopt, tabulate, semver, segtok, numpy, langdetect, jsonlines, jmespath, intervaltree, ftfy, deprecated, conllu, wikipedia-api, botocore, bioc, s3transfer, pytorch-revgrad, gdown, accelerate, mpld3, boto3, transformer-smaller-training-vocab, flair\r\n",
      "  Attempting uninstall: numpy\r\n",
      "    Found existing installation: numpy 2.0.1\r\n",
      "    Uninstalling numpy-2.0.1:\r\n",
      "      Successfully uninstalled numpy-2.0.1\r\n",
      "\u001b[31mERROR: pip's dependency resolver does not currently take into account all the packages that are installed. This behaviour is the source of the following dependency conflicts.\r\n",
      "moviepy 1.0.3 requires decorator<5.0,>=4.0.2, but you have decorator 5.1.1 which is incompatible.\u001b[0m\u001b[31m\r\n",
      "\u001b[0mSuccessfully installed accelerate-0.33.0 bioc-2.1 boto3-1.35.1 botocore-1.35.1 conllu-4.5.3 deprecated-1.2.14 docopt-0.6.2 flair-0.14.0 ftfy-6.2.3 gdown-5.2.0 intervaltree-3.1.0 jmespath-1.0.1 jsonlines-4.0.0 langdetect-1.0.9 mpld3-0.5.10 numpy-1.26.4 pptree-3.1 pytorch-revgrad-0.2.0 s3transfer-0.10.2 segtok-1.5.11 semver-3.0.2 sqlitedict-2.1.0 tabulate-0.9.0 transformer-smaller-training-vocab-0.4.0 wikipedia-api-0.6.0\r\n"
     ]
    }
   ],
   "execution_count": 76
  },
  {
   "metadata": {},
   "cell_type": "code",
   "outputs": [],
   "execution_count": null,
   "source": "",
   "id": "37d242753ae2c830"
  }
 ],
 "metadata": {
  "kernelspec": {
   "display_name": "Python 3",
   "language": "python",
   "name": "python3"
  },
  "language_info": {
   "codemirror_mode": {
    "name": "ipython",
    "version": 2
   },
   "file_extension": ".py",
   "mimetype": "text/x-python",
   "name": "python",
   "nbconvert_exporter": "python",
   "pygments_lexer": "ipython2",
   "version": "2.7.6"
  }
 },
 "nbformat": 4,
 "nbformat_minor": 5
}
