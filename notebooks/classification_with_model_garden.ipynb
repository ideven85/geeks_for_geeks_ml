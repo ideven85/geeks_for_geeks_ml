{
 "cells": [
  {
   "cell_type": "markdown",
   "metadata": {
    "id": "Tce3stUlHN0L"
   },
   "source": [
    "##### Copyright 2020 The TensorFlow Authors."
   ]
  },
  {
   "cell_type": "code",
   "execution_count": null,
   "metadata": {
    "cellView": "form",
    "id": "tuOe1ymfHZPu"
   },
   "outputs": [],
   "source": [
    "# @title Licensed under the Apache License, Version 2.0 (the \"License\");\n",
    "# you may not use this file except in compliance with the License.\n",
    "# You may obtain a copy of the License at\n",
    "#\n",
    "# https://www.apache.org/licenses/LICENSE-2.0\n",
    "#\n",
    "# Unless required by applicable law or agreed to in writing, software\n",
    "# distributed under the License is distributed on an \"AS IS\" BASIS,\n",
    "# WITHOUT WARRANTIES OR CONDITIONS OF ANY KIND, either express or implied.\n",
    "# See the License for the specific language governing permissions and\n",
    "# limitations under the License."
   ]
  },
  {
   "cell_type": "markdown",
   "metadata": {
    "id": "qFdPvlXBOdUN"
   },
   "source": [
    "# Image classification with Model Garden"
   ]
  },
  {
   "cell_type": "markdown",
   "metadata": {
    "id": "MfBg1C5NB3X0"
   },
   "source": [
    "<table class=\"tfo-notebook-buttons\" align=\"left\">\n",
    "  <td>\n",
    "    <a target=\"_blank\" href=\"https://www.tensorflow.org/tfmodels/vision/image_classification\"><img src=\"https://www.tensorflow.org/images/tf_logo_32px.png\" />View on TensorFlow.org</a>\n",
    "  </td>\n",
    "  <td>\n",
    "    <a target=\"_blank\" href=\"https://colab.research.google.com/github/tensorflow/models/blob/master/docs/vision/image_classification.ipynb\"><img src=\"https://www.tensorflow.org/images/colab_logo_32px.png\" />Run in Google Colab</a>\n",
    "  </td>\n",
    "  <td>\n",
    "    <a target=\"_blank\" href=\"https://github.com/tensorflow/models/blob/master/docs/vision/image_classification.ipynb\"><img src=\"https://www.tensorflow.org/images/GitHub-Mark-32px.png\" />View on GitHub</a>\n",
    "  </td>\n",
    "  <td>\n",
    "    <a href=\"https://storage.googleapis.com/tensorflow_docs/models/docs/vision/image_classification.ipynb\"><img src=\"https://www.tensorflow.org/images/download_logo_32px.png\" />Download notebook</a>\n",
    "  </td>\n",
    "</table>"
   ]
  },
  {
   "cell_type": "markdown",
   "metadata": {
    "id": "Ta_nFXaVAqLD"
   },
   "source": [
    "This tutorial fine-tunes a Residual Network (ResNet) from the TensorFlow [Model Garden](https://github.com/tensorflow/models) package (`tensorflow-models`) to classify images in the [CIFAR](https://www.cs.toronto.edu/~kriz/cifar.html) dataset.\n",
    "\n",
    "Model Garden contains a collection of state-of-the-art vision models, implemented with TensorFlow's high-level APIs. The implementations demonstrate the best practices for modeling, letting users to take full advantage of TensorFlow for their research and product development.\n",
    "\n",
    "This tutorial uses a [ResNet](https://arxiv.org/pdf/1512.03385.pdf) model, a state-of-the-art image classifier. This tutorial uses the ResNet-18 model, a convolutional neural network with 18 layers.\n",
    "\n",
    "This tutorial demonstrates how to:\n",
    "1. Use models from the TensorFlow Models package.\n",
    "2. Fine-tune a pre-built ResNet for image classification.\n",
    "3. Export the tuned ResNet model."
   ]
  },
  {
   "cell_type": "markdown",
   "metadata": {
    "id": "G2FlaQcEPOER"
   },
   "source": [
    "## Setup\n",
    "\n",
    "Install and import the necessary modules."
   ]
  },
  {
   "metadata": {},
   "cell_type": "markdown",
   "source": ""
  },
  {
   "cell_type": "code",
   "metadata": {
    "id": "XvWfdCrvrV5W",
    "executionInfo": {
     "status": "ok",
     "timestamp": 1712164238691,
     "user_tz": -330,
     "elapsed": 92166,
     "user": {
      "displayName": "",
      "userId": ""
     }
    },
    "outputId": "6c85f7ef-c2fb-47fe-d05c-c56bdc811000",
    "colab": {
     "base_uri": "https://localhost:8080/"
    },
    "ExecuteTime": {
     "end_time": "2024-04-13T08:08:00.619887Z",
     "start_time": "2024-04-13T08:07:47.073443Z"
    }
   },
   "source": "",
   "outputs": [
    {
     "name": "stdout",
     "output_type": "stream",
     "text": [
      "  \u001b[1;31merror\u001b[0m: \u001b[1msubprocess-exited-with-error\u001b[0m\r\n",
      "  \r\n",
      "  \u001b[31m×\u001b[0m \u001b[32mGetting requirements to build wheel\u001b[0m did not run successfully.\r\n",
      "  \u001b[31m│\u001b[0m exit code: \u001b[1;36m1\u001b[0m\r\n",
      "  \u001b[31m╰─>\u001b[0m \u001b[31m[54 lines of output]\u001b[0m\r\n",
      "  \u001b[31m   \u001b[0m running egg_info\r\n",
      "  \u001b[31m   \u001b[0m writing lib3/PyYAML.egg-info/PKG-INFO\r\n",
      "  \u001b[31m   \u001b[0m writing dependency_links to lib3/PyYAML.egg-info/dependency_links.txt\r\n",
      "  \u001b[31m   \u001b[0m writing top-level names to lib3/PyYAML.egg-info/top_level.txt\r\n",
      "  \u001b[31m   \u001b[0m Traceback (most recent call last):\r\n",
      "  \u001b[31m   \u001b[0m   File \"/Users/deven/Developer/Machine_Learning_Algorithms/.venv/lib/python3.12/site-packages/pip/_vendor/pyproject_hooks/_in_process/_in_process.py\", line 353, in <module>\r\n",
      "  \u001b[31m   \u001b[0m     main()\r\n",
      "  \u001b[31m   \u001b[0m   File \"/Users/deven/Developer/Machine_Learning_Algorithms/.venv/lib/python3.12/site-packages/pip/_vendor/pyproject_hooks/_in_process/_in_process.py\", line 335, in main\r\n",
      "  \u001b[31m   \u001b[0m     json_out['return_val'] = hook(**hook_input['kwargs'])\r\n",
      "  \u001b[31m   \u001b[0m                              ^^^^^^^^^^^^^^^^^^^^^^^^^^^^\r\n",
      "  \u001b[31m   \u001b[0m   File \"/Users/deven/Developer/Machine_Learning_Algorithms/.venv/lib/python3.12/site-packages/pip/_vendor/pyproject_hooks/_in_process/_in_process.py\", line 118, in get_requires_for_build_wheel\r\n",
      "  \u001b[31m   \u001b[0m     return hook(config_settings)\r\n",
      "  \u001b[31m   \u001b[0m            ^^^^^^^^^^^^^^^^^^^^^\r\n",
      "  \u001b[31m   \u001b[0m   File \"/private/var/folders/s7/64fny07d7w3380r2_6x9s8wm0000gn/T/pip-build-env-2wvi5y6b/overlay/lib/python3.12/site-packages/setuptools/build_meta.py\", line 325, in get_requires_for_build_wheel\r\n",
      "  \u001b[31m   \u001b[0m     return self._get_build_requires(config_settings, requirements=['wheel'])\r\n",
      "  \u001b[31m   \u001b[0m            ^^^^^^^^^^^^^^^^^^^^^^^^^^^^^^^^^^^^^^^^^^^^^^^^^^^^^^^^^^^^^^^^^\r\n",
      "  \u001b[31m   \u001b[0m   File \"/private/var/folders/s7/64fny07d7w3380r2_6x9s8wm0000gn/T/pip-build-env-2wvi5y6b/overlay/lib/python3.12/site-packages/setuptools/build_meta.py\", line 295, in _get_build_requires\r\n",
      "  \u001b[31m   \u001b[0m     self.run_setup()\r\n",
      "  \u001b[31m   \u001b[0m   File \"/private/var/folders/s7/64fny07d7w3380r2_6x9s8wm0000gn/T/pip-build-env-2wvi5y6b/overlay/lib/python3.12/site-packages/setuptools/build_meta.py\", line 311, in run_setup\r\n",
      "  \u001b[31m   \u001b[0m     exec(code, locals())\r\n",
      "  \u001b[31m   \u001b[0m   File \"<string>\", line 271, in <module>\r\n",
      "  \u001b[31m   \u001b[0m   File \"/private/var/folders/s7/64fny07d7w3380r2_6x9s8wm0000gn/T/pip-build-env-2wvi5y6b/overlay/lib/python3.12/site-packages/setuptools/__init__.py\", line 104, in setup\r\n",
      "  \u001b[31m   \u001b[0m     return distutils.core.setup(**attrs)\r\n",
      "  \u001b[31m   \u001b[0m            ^^^^^^^^^^^^^^^^^^^^^^^^^^^^^\r\n",
      "  \u001b[31m   \u001b[0m   File \"/private/var/folders/s7/64fny07d7w3380r2_6x9s8wm0000gn/T/pip-build-env-2wvi5y6b/overlay/lib/python3.12/site-packages/setuptools/_distutils/core.py\", line 185, in setup\r\n",
      "  \u001b[31m   \u001b[0m     return run_commands(dist)\r\n",
      "  \u001b[31m   \u001b[0m            ^^^^^^^^^^^^^^^^^^\r\n",
      "  \u001b[31m   \u001b[0m   File \"/private/var/folders/s7/64fny07d7w3380r2_6x9s8wm0000gn/T/pip-build-env-2wvi5y6b/overlay/lib/python3.12/site-packages/setuptools/_distutils/core.py\", line 201, in run_commands\r\n",
      "  \u001b[31m   \u001b[0m     dist.run_commands()\r\n",
      "  \u001b[31m   \u001b[0m   File \"/private/var/folders/s7/64fny07d7w3380r2_6x9s8wm0000gn/T/pip-build-env-2wvi5y6b/overlay/lib/python3.12/site-packages/setuptools/_distutils/dist.py\", line 969, in run_commands\r\n",
      "  \u001b[31m   \u001b[0m     self.run_command(cmd)\r\n",
      "  \u001b[31m   \u001b[0m   File \"/private/var/folders/s7/64fny07d7w3380r2_6x9s8wm0000gn/T/pip-build-env-2wvi5y6b/overlay/lib/python3.12/site-packages/setuptools/dist.py\", line 967, in run_command\r\n",
      "  \u001b[31m   \u001b[0m     super().run_command(command)\r\n",
      "  \u001b[31m   \u001b[0m   File \"/private/var/folders/s7/64fny07d7w3380r2_6x9s8wm0000gn/T/pip-build-env-2wvi5y6b/overlay/lib/python3.12/site-packages/setuptools/_distutils/dist.py\", line 988, in run_command\r\n",
      "  \u001b[31m   \u001b[0m     cmd_obj.run()\r\n",
      "  \u001b[31m   \u001b[0m   File \"/private/var/folders/s7/64fny07d7w3380r2_6x9s8wm0000gn/T/pip-build-env-2wvi5y6b/overlay/lib/python3.12/site-packages/setuptools/command/egg_info.py\", line 321, in run\r\n",
      "  \u001b[31m   \u001b[0m     self.find_sources()\r\n",
      "  \u001b[31m   \u001b[0m   File \"/private/var/folders/s7/64fny07d7w3380r2_6x9s8wm0000gn/T/pip-build-env-2wvi5y6b/overlay/lib/python3.12/site-packages/setuptools/command/egg_info.py\", line 329, in find_sources\r\n",
      "  \u001b[31m   \u001b[0m     mm.run()\r\n",
      "  \u001b[31m   \u001b[0m   File \"/private/var/folders/s7/64fny07d7w3380r2_6x9s8wm0000gn/T/pip-build-env-2wvi5y6b/overlay/lib/python3.12/site-packages/setuptools/command/egg_info.py\", line 550, in run\r\n",
      "  \u001b[31m   \u001b[0m     self.add_defaults()\r\n",
      "  \u001b[31m   \u001b[0m   File \"/private/var/folders/s7/64fny07d7w3380r2_6x9s8wm0000gn/T/pip-build-env-2wvi5y6b/overlay/lib/python3.12/site-packages/setuptools/command/egg_info.py\", line 588, in add_defaults\r\n",
      "  \u001b[31m   \u001b[0m     sdist.add_defaults(self)\r\n",
      "  \u001b[31m   \u001b[0m   File \"/private/var/folders/s7/64fny07d7w3380r2_6x9s8wm0000gn/T/pip-build-env-2wvi5y6b/overlay/lib/python3.12/site-packages/setuptools/command/sdist.py\", line 102, in add_defaults\r\n",
      "  \u001b[31m   \u001b[0m     super().add_defaults()\r\n",
      "  \u001b[31m   \u001b[0m   File \"/private/var/folders/s7/64fny07d7w3380r2_6x9s8wm0000gn/T/pip-build-env-2wvi5y6b/overlay/lib/python3.12/site-packages/setuptools/_distutils/command/sdist.py\", line 251, in add_defaults\r\n",
      "  \u001b[31m   \u001b[0m     self._add_defaults_ext()\r\n",
      "  \u001b[31m   \u001b[0m   File \"/private/var/folders/s7/64fny07d7w3380r2_6x9s8wm0000gn/T/pip-build-env-2wvi5y6b/overlay/lib/python3.12/site-packages/setuptools/_distutils/command/sdist.py\", line 336, in _add_defaults_ext\r\n",
      "  \u001b[31m   \u001b[0m     self.filelist.extend(build_ext.get_source_files())\r\n",
      "  \u001b[31m   \u001b[0m                          ^^^^^^^^^^^^^^^^^^^^^^^^^^^^\r\n",
      "  \u001b[31m   \u001b[0m   File \"<string>\", line 201, in get_source_files\r\n",
      "  \u001b[31m   \u001b[0m   File \"/private/var/folders/s7/64fny07d7w3380r2_6x9s8wm0000gn/T/pip-build-env-2wvi5y6b/overlay/lib/python3.12/site-packages/setuptools/_distutils/cmd.py\", line 107, in __getattr__\r\n",
      "  \u001b[31m   \u001b[0m     raise AttributeError(attr)\r\n",
      "  \u001b[31m   \u001b[0m AttributeError: cython_sources\r\n",
      "  \u001b[31m   \u001b[0m \u001b[31m[end of output]\u001b[0m\r\n",
      "  \r\n",
      "  \u001b[1;35mnote\u001b[0m: This error originates from a subprocess, and is likely not a problem with pip.\r\n",
      "\u001b[1;31merror\u001b[0m: \u001b[1msubprocess-exited-with-error\u001b[0m\r\n",
      "\r\n",
      "\u001b[31m×\u001b[0m \u001b[32mGetting requirements to build wheel\u001b[0m did not run successfully.\r\n",
      "\u001b[31m│\u001b[0m exit code: \u001b[1;36m1\u001b[0m\r\n",
      "\u001b[31m╰─>\u001b[0m See above for output.\r\n",
      "\r\n",
      "\u001b[1;35mnote\u001b[0m: This error originates from a subprocess, and is likely not a problem with pip.\r\n"
     ]
    }
   ],
   "execution_count": 1
  },
  {
   "cell_type": "markdown",
   "metadata": {
    "id": "CKYMTPjOE400"
   },
   "source": [
    "Import TensorFlow, TensorFlow Datasets, and a few helper libraries."
   ]
  },
  {
   "cell_type": "code",
   "execution_count": 2,
   "metadata": {
    "id": "Wlon1uoIowmZ",
    "executionInfo": {
     "status": "ok",
     "timestamp": 1712164242487,
     "user_tz": -330,
     "elapsed": 3809,
     "user": {
      "displayName": "",
      "userId": ""
     }
    }
   },
   "outputs": [],
   "source": [
    "import pprint\n",
    "import tempfile\n",
    "\n",
    "from IPython import display\n",
    "import matplotlib.pyplot as plt\n",
    "\n",
    "import tensorflow as tf\n",
    "import tensorflow_datasets as tfds"
   ]
  },
  {
   "cell_type": "markdown",
   "metadata": {
    "id": "AVTs0jDd1b24"
   },
   "source": [
    "The `tensorflow_models` package contains the ResNet vision model, and the `official.vision.serving` model contains the function to save and export the tuned model."
   ]
  },
  {
   "cell_type": "code",
   "source": [
    "import os\n",
    "\n",
    "env = os.environ\n",
    "for key, value in env.items():\n",
    "    print(key, value)"
   ],
   "metadata": {
    "id": "6XblJpoe5-8q",
    "executionInfo": {
     "status": "ok",
     "timestamp": 1712164249006,
     "user_tz": -330,
     "elapsed": 6531,
     "user": {
      "displayName": "",
      "userId": ""
     }
    },
    "outputId": "32d54b2f-8999-4e5e-fc80-39cd5bd76f7a",
    "colab": {
     "base_uri": "https://localhost:8080/"
    }
   },
   "execution_count": 3,
   "outputs": [
    {
     "output_type": "stream",
     "name": "stdout",
     "text": [
      "Requirement already satisfied: wheel in /usr/local/lib/python3.10/dist-packages (0.43.0)\n",
      "SHELL /bin/bash\n",
      "NV_LIBCUBLAS_VERSION 12.2.5.6-1\n",
      "NVIDIA_VISIBLE_DEVICES all\n",
      "COLAB_JUPYTER_TRANSPORT ipc\n",
      "NV_NVML_DEV_VERSION 12.2.140-1\n",
      "NV_CUDNN_PACKAGE_NAME libcudnn8\n",
      "CGROUP_MEMORY_EVENTS /sys/fs/cgroup/memory.events /var/colab/cgroup/jupyter-children/memory.events\n",
      "NV_LIBNCCL_DEV_PACKAGE libnccl-dev=2.19.3-1+cuda12.2\n",
      "NV_LIBNCCL_DEV_PACKAGE_VERSION 2.19.3-1\n",
      "VM_GCE_METADATA_HOST 169.254.169.253\n",
      "HOSTNAME 7c254b1ed74d\n",
      "LANGUAGE en_US\n",
      "TBE_RUNTIME_ADDR 172.28.0.1:8011\n",
      "COLAB_TPU_1VM \n",
      "GCE_METADATA_TIMEOUT 3\n",
      "NVIDIA_REQUIRE_CUDA cuda>=12.2 brand=tesla,driver>=470,driver<471 brand=unknown,driver>=470,driver<471 brand=nvidia,driver>=470,driver<471 brand=nvidiartx,driver>=470,driver<471 brand=geforce,driver>=470,driver<471 brand=geforcertx,driver>=470,driver<471 brand=quadro,driver>=470,driver<471 brand=quadrortx,driver>=470,driver<471 brand=titan,driver>=470,driver<471 brand=titanrtx,driver>=470,driver<471 brand=tesla,driver>=525,driver<526 brand=unknown,driver>=525,driver<526 brand=nvidia,driver>=525,driver<526 brand=nvidiartx,driver>=525,driver<526 brand=geforce,driver>=525,driver<526 brand=geforcertx,driver>=525,driver<526 brand=quadro,driver>=525,driver<526 brand=quadrortx,driver>=525,driver<526 brand=titan,driver>=525,driver<526 brand=titanrtx,driver>=525,driver<526\n",
      "NV_LIBCUBLAS_DEV_PACKAGE libcublas-dev-12-2=12.2.5.6-1\n",
      "NV_NVTX_VERSION 12.2.140-1\n",
      "COLAB_JUPYTER_IP 172.28.0.12\n",
      "NV_CUDA_CUDART_DEV_VERSION 12.2.140-1\n",
      "NV_LIBCUSPARSE_VERSION 12.1.2.141-1\n",
      "COLAB_LANGUAGE_SERVER_PROXY_ROOT_URL http://172.28.0.1:8013/\n",
      "NV_LIBNPP_VERSION 12.2.1.4-1\n",
      "NCCL_VERSION 2.19.3-1\n",
      "KMP_LISTEN_PORT 6000\n",
      "TF_FORCE_GPU_ALLOW_GROWTH true\n",
      "ENV /root/.bashrc\n",
      "PWD /\n",
      "TBE_EPHEM_CREDS_ADDR 172.28.0.1:8009\n",
      "COLAB_LANGUAGE_SERVER_PROXY_REQUEST_TIMEOUT 30s\n",
      "TBE_CREDS_ADDR 172.28.0.1:8008\n",
      "NV_CUDNN_PACKAGE libcudnn8=8.9.6.50-1+cuda12.2\n",
      "NVIDIA_DRIVER_CAPABILITIES compute,utility\n",
      "COLAB_JUPYTER_TOKEN \n",
      "LAST_FORCED_REBUILD 20240321\n",
      "NV_NVPROF_DEV_PACKAGE cuda-nvprof-12-2=12.2.142-1\n",
      "NV_LIBNPP_PACKAGE libnpp-12-2=12.2.1.4-1\n",
      "NV_LIBNCCL_DEV_PACKAGE_NAME libnccl-dev\n",
      "TCLLIBPATH /usr/share/tcltk/tcllib1.20\n",
      "NV_LIBCUBLAS_DEV_VERSION 12.2.5.6-1\n",
      "NVIDIA_PRODUCT_NAME CUDA\n",
      "COLAB_KERNEL_MANAGER_PROXY_HOST 172.28.0.12\n",
      "NV_LIBCUBLAS_DEV_PACKAGE_NAME libcublas-dev-12-2\n",
      "NV_CUDA_CUDART_VERSION 12.2.140-1\n",
      "COLAB_WARMUP_DEFAULTS 1\n",
      "HOME /root\n",
      "LANG en_US.UTF-8\n",
      "COLUMNS 100\n",
      "CUDA_VERSION 12.2.2\n",
      "CLOUDSDK_CONFIG /content/.config\n",
      "NV_LIBCUBLAS_PACKAGE libcublas-12-2=12.2.5.6-1\n",
      "NV_CUDA_NSIGHT_COMPUTE_DEV_PACKAGE cuda-nsight-compute-12-2=12.2.2-1\n",
      "COLAB_RELEASE_TAG release-colab_20240402-060125_RC00\n",
      "KMP_TARGET_PORT 9000\n",
      "KMP_EXTRA_ARGS --logtostderr --listen_host=172.28.0.12 --target_host=172.28.0.12 --tunnel_background_save_url=https://colab.research.google.com/tun/m/cc48301118ce562b961b3c22d803539adc1e0c19/gpu-t4-s-1mnyjrinnekq1 --tunnel_background_save_delay=10s --tunnel_periodic_background_save_frequency=30m0s --enable_output_coalescing=true --output_coalescing_required=true\n",
      "NV_LIBNPP_DEV_PACKAGE libnpp-dev-12-2=12.2.1.4-1\n",
      "COLAB_LANGUAGE_SERVER_PROXY_LSP_DIRS /datalab/web/pyright/typeshed-fallback/stdlib,/usr/local/lib/python3.10/dist-packages\n",
      "NV_LIBCUBLAS_PACKAGE_NAME libcublas-12-2\n",
      "COLAB_KERNEL_MANAGER_PROXY_PORT 6000\n",
      "CLOUDSDK_PYTHON python3\n",
      "NV_LIBNPP_DEV_VERSION 12.2.1.4-1\n",
      "NO_GCE_CHECK False\n",
      "PYTHONPATH /env/python\n",
      "NV_LIBCUSPARSE_DEV_VERSION 12.1.2.141-1\n",
      "LIBRARY_PATH /usr/local/cuda/lib64/stubs\n",
      "NV_CUDNN_VERSION 8.9.6.50\n",
      "SHLVL 0\n",
      "NV_CUDA_LIB_VERSION 12.2.2-1\n",
      "COLAB_LANGUAGE_SERVER_PROXY /usr/colab/bin/language_service\n",
      "NVARCH x86_64\n",
      "NV_CUDNN_PACKAGE_DEV libcudnn8-dev=8.9.6.50-1+cuda12.2\n",
      "NV_CUDA_COMPAT_PACKAGE cuda-compat-12-2\n",
      "NV_LIBNCCL_PACKAGE libnccl2=2.19.3-1+cuda12.2\n",
      "LD_LIBRARY_PATH /usr/local/lib/python3.10/dist-packages/cv2/../../lib64:/usr/lib64-nvidia\n",
      "COLAB_GPU 1\n",
      "NV_CUDA_NSIGHT_COMPUTE_VERSION 12.2.2-1\n",
      "GCS_READ_CACHE_BLOCK_SIZE_MB 16\n",
      "NV_NVPROF_VERSION 12.2.142-1\n",
      "LC_ALL en_US.UTF-8\n",
      "COLAB_FILE_HANDLER_ADDR localhost:3453\n",
      "PATH /opt/bin:/usr/local/nvidia/bin:/usr/local/cuda/bin:/usr/local/sbin:/usr/local/bin:/usr/sbin:/usr/bin:/sbin:/bin:/tools/node/bin:/tools/google-cloud-sdk/bin\n",
      "NV_LIBNCCL_PACKAGE_NAME libnccl2\n",
      "COLAB_DEBUG_ADAPTER_MUX_PATH /usr/local/bin/dap_multiplexer\n",
      "NV_LIBNCCL_PACKAGE_VERSION 2.19.3-1\n",
      "PYTHONWARNINGS ignore:::pip._internal.cli.base_command\n",
      "DEBIAN_FRONTEND noninteractive\n",
      "COLAB_BACKEND_VERSION next\n",
      "OLDPWD /\n",
      "JPY_PARENT_PID 112\n",
      "TERM xterm-color\n",
      "CLICOLOR 1\n",
      "PAGER cat\n",
      "GIT_PAGER cat\n",
      "MPLBACKEND module://ipykernel.pylab.backend_inline\n",
      "ENABLE_DIRECTORYPREFETCHER 1\n",
      "USE_AUTH_EPHEM 1\n",
      "PYDEVD_USE_FRAME_EVAL NO\n",
      "TF2_BEHAVIOR 1\n",
      "TPU_ML_PLATFORM Tensorflow\n",
      "TF_CPP_MIN_LOG_LEVEL 1\n",
      "QT_QPA_PLATFORM_PLUGIN_PATH /usr/local/lib/python3.10/dist-packages/cv2/qt/plugins\n",
      "QT_QPA_FONTDIR /usr/local/lib/python3.10/dist-packages/cv2/qt/fonts\n"
     ]
    }
   ]
  },
  {
   "cell_type": "code",
   "execution_count": 4,
   "metadata": {
    "id": "NHT1iiIiBzlC",
    "executionInfo": {
     "status": "ok",
     "timestamp": 1712164250669,
     "user_tz": -330,
     "elapsed": 1669,
     "user": {
      "displayName": "",
      "userId": ""
     }
    }
   },
   "outputs": [],
   "source": [
    "import tensorflow_models as tfm\n",
    "\n",
    "# These are not in the tfm public API for v2.9. They will be available in v2.10\n",
    "from official.vision.serving import export_saved_model_lib\n",
    "import official.core.train_lib"
   ]
  },
  {
   "cell_type": "markdown",
   "metadata": {
    "id": "aKv3wdqkQ8FU"
   },
   "source": [
    "## Configure the ResNet-18 model for the Cifar-10 dataset"
   ]
  },
  {
   "cell_type": "markdown",
   "metadata": {
    "id": "5iN8mHEJjKYE"
   },
   "source": [
    "The CIFAR10 dataset contains 60,000 color images in mutually exclusive 10 classes, with 6,000 images in each class.\n",
    "\n",
    "In Model Garden, the collections of parameters that define a model are called *configs*. Model Garden can create a config based on a known set of parameters via a [factory](https://en.wikipedia.org/wiki/Factory_method_pattern).\n",
    "\n",
    "Use the `resnet_imagenet` factory configuration, as defined by `tfm.vision.configs.image_classification.image_classification_imagenet`. The configuration is set up to train ResNet to converge on [ImageNet](https://www.image-net.org/)."
   ]
  },
  {
   "cell_type": "code",
   "source": [],
   "metadata": {
    "id": "UWSFH3qn6y0V",
    "executionInfo": {
     "status": "ok",
     "timestamp": 1712164264220,
     "user_tz": -330,
     "elapsed": 10,
     "user": {
      "displayName": "",
      "userId": ""
     }
    }
   },
   "execution_count": 4,
   "outputs": []
  },
  {
   "cell_type": "code",
   "source": [],
   "metadata": {
    "id": "iSOnyD_K7Wmp",
    "executionInfo": {
     "status": "error",
     "timestamp": 1712164022718,
     "user_tz": -330,
     "elapsed": 1073,
     "user": {
      "displayName": "",
      "userId": ""
     }
    },
    "outputId": "ba4f05c6-9f12-413d-aaed-b1efbf914a1d",
    "colab": {
     "base_uri": "https://localhost:8080/",
     "height": 181
    }
   },
   "execution_count": 9,
   "outputs": [
    {
     "output_type": "error",
     "ename": "TypeError",
     "evalue": "'DatasetInfo' object is not subscriptable",
     "traceback": [
      "\u001b[0;31m---------------------------------------------------------------------------\u001b[0m",
      "\u001b[0;31mTypeError\u001b[0m                                 Traceback (most recent call last)",
      "\u001b[0;32m<ipython-input-9-dd27a614fddb>\u001b[0m in \u001b[0;36m<cell line: 1>\u001b[0;34m()\u001b[0m\n\u001b[0;32m----> 1\u001b[0;31m \u001b[0mprint\u001b[0m\u001b[0;34m(\u001b[0m\u001b[0mds_info\u001b[0m\u001b[0;34m[\u001b[0m\u001b[0;36m0\u001b[0m\u001b[0;34m]\u001b[0m\u001b[0;34m)\u001b[0m\u001b[0;34m\u001b[0m\u001b[0;34m\u001b[0m\u001b[0m\n\u001b[0m",
      "\u001b[0;31mTypeError\u001b[0m: 'DatasetInfo' object is not subscriptable"
     ]
    }
   ]
  },
  {
   "cell_type": "code",
   "execution_count": 5,
   "metadata": {
    "id": "1M77f88Dj2Td",
    "executionInfo": {
     "status": "ok",
     "timestamp": 1712164355007,
     "user_tz": -330,
     "elapsed": 80081,
     "user": {
      "displayName": "",
      "userId": ""
     }
    },
    "outputId": "b345bcf7-7bcd-4d28-b5ee-4d9635b673d7",
    "colab": {
     "base_uri": "https://localhost:8080/",
     "height": 937,
     "referenced_widgets": [
      "808c437221f449d484698b69cc56436e",
      "7edab9bd96f246a09c2052fe200d609c",
      "526fef240e464501852c50bc3a5e1b8a",
      "70428c3b6d29447c823ef19de3e11d12",
      "68fe05a9424c4e979741c0d57d32c14d",
      "27e916437b384fb4a1b8715668fbd329",
      "c32ca49029964733bff94687c632b4fe",
      "71870137444e4f18b1da6077f303e670",
      "4ce05a21e1a843659307984ac4ad1916",
      "21917509c61c454c903b23a17193be6a",
      "cc39446c78d24fd8ac30d6f2dd4d68ca",
      "37a145599b124b27b56f405057447cff",
      "33830d3e7230440794cb5da391bb0515",
      "79a73d1da8434769a436ca6af44d4385",
      "79556e23e5e74b209d13438c657fb75f",
      "530fb4f1fe3f4629b456307cf1576391",
      "b131d244e94342e5a1e71f273e76ce9a",
      "f27a9a6e33e54ed7a591311d3b6a5335",
      "bb30c40ce45049d8b13fd342919ae2bc",
      "a9c4492c44b247f1ab8143caf774e870",
      "4494ff57eab143d7837c8dd373170a3e",
      "69a77faf7d834f9a927bd2c54b7fbae6",
      "5214b5a5d9444c14b0d64aec1c9ff2ea",
      "108ac92de1564fb587bd499b0484eef4",
      "7ed5b17205b34da8bef50fbb947b6668",
      "942a129d345443b2b5b68d2c4b0fe8d0",
      "f61cebfb9b134b62973af5ce037c0063",
      "5f3552a9a17145398bfed1bd8519c8e2",
      "081147bebc1d4b02ab476537b8c5a281",
      "d357d5a98a3a4cfda9e3e12fbf0c205a",
      "cdc1489344a941cc9a72a362b6f76b83",
      "44d7cb5c4bb44e0e9776dc2b0f0f9d00",
      "aba0c554dc21494c92fed0da053cf180",
      "54076754ffb84597aca27c56184235d2",
      "943e0dbe526346db826d6b02ebd8c27d",
      "bae84f6820de4ba39eec9aebddaf9577",
      "9b82012fb76f4e58a0d455e6e5211a4f",
      "eb9a9ed77ad74092b50a5ee3020e55ac",
      "0458065912864d28be8e1c91fb3cf67c",
      "e61b8858c6404b6cbae7cb4c6ec1e53d",
      "e45742a9338a41adb87d6820760b2c0c",
      "6a44dc7a788b4102a2408c503924e843",
      "ce94c18cde9b498e849e8886f45c0978",
      "3ca2d326764d41d6b550c7fe2e687376",
      "51bcd17ca3884f03acd5094fae04a546",
      "15c3e3ab1be94c4488b89c556be9fd64",
      "bf98b1cd6ac04f24b8f990d58d23830d",
      "ca623fb53dc54ded9aa06ef22eff13d0",
      "46f3edbe325044b98c63f2f07be7a511",
      "bb8a339d929f4a8692cc33a543961b9f",
      "4e16b3c41a1b43f1a9168535190ffc72",
      "3c75937527bf460db734c4415eeaccb1",
      "2f591ad53033478eb1ab4817d8ac29f0",
      "2d84610dca924937bef2de3437859c68",
      "d9d64ab085d2409aa10904f9a4fd985b",
      "339c30bd74744cfbb0c18048c39e4fc6",
      "63b2356dca724547aea2229010f469ea",
      "c7efe075a19d453c9774ec6707bd6464",
      "acef8875432e48618a798cc236719588",
      "7100f9facc1948ec9a39e94471c6a463",
      "9f42b39814ab46bb8597a0ad8aa803b3",
      "d7c7f2d084974a68aef135ffce245eab",
      "83a0f875cc454af9b1a6c82f1a024b6a",
      "cb3414fa753641fea40385738ee4fc33",
      "94ac0ddc7bfe42a1966982d6f915e721",
      "414b3f2d476441ad9f04d6d524c56883",
      "2abb3531a2684d848b14aaa5c9385cbf",
      "99b17ce203804060a93a8c63e1c8437d",
      "f9611338eee94123aed9ffafe0ded18f",
      "99fa113edfed4e6ebf6dd8a29fc76420",
      "32a71423c8de45ed903f22037c51ffe9",
      "6393024871bd496b8a0d61460a3b918d",
      "f3876f04fa25456081a90a97f4efd331",
      "86f986a9e7494fa88bf0fa7c0471c302",
      "34c25f5ef38345c8a57c1f8b704b9ce0",
      "20d5589d24ca4c77b427b84dffdabecb",
      "f5568dc8549f49b3908eb4745b386e82",
      "85e7bc5e93b54040b1e95b822deec23e",
      "43351d89501e40fba1e2f5be9a088008",
      "cb67ed9bbf19431abaad4aa5c6c7e0dc",
      "e9443d0e0809453b850dc460151c19f7",
      "7f6a9424150141cdab96fff743964dca",
      "ca8324bbed564656b64c67af49b8477f",
      "da8f4207c693440f865dc47e0d7daecc",
      "be16e24689254ea1a755a6b26e8ea66b",
      "7c0fa163b0104c759916d9ca84ff8478",
      "29162894b10d49f5b0bab04c2373e173",
      "eeb1c4b9a5be4e5592ad55c7a00b2d25"
     ]
    }
   },
   "outputs": [
    {
     "output_type": "stream",
     "name": "stdout",
     "text": [
      "Downloading and preparing dataset 162.17 MiB (download: 162.17 MiB, generated: 132.40 MiB, total: 294.58 MiB) to /root/tensorflow_datasets/cifar10/3.0.2...\n"
     ]
    },
    {
     "output_type": "display_data",
     "data": {
      "text/plain": [
       "Dl Completed...: 0 url [00:00, ? url/s]"
      ],
      "application/vnd.jupyter.widget-view+json": {
       "version_major": 2,
       "version_minor": 0,
       "model_id": "808c437221f449d484698b69cc56436e"
      }
     },
     "metadata": {}
    },
    {
     "output_type": "display_data",
     "data": {
      "text/plain": [
       "Dl Size...: 0 MiB [00:00, ? MiB/s]"
      ],
      "application/vnd.jupyter.widget-view+json": {
       "version_major": 2,
       "version_minor": 0,
       "model_id": "37a145599b124b27b56f405057447cff"
      }
     },
     "metadata": {}
    },
    {
     "output_type": "display_data",
     "data": {
      "text/plain": [
       "Extraction completed...: 0 file [00:00, ? file/s]"
      ],
      "application/vnd.jupyter.widget-view+json": {
       "version_major": 2,
       "version_minor": 0,
       "model_id": "5214b5a5d9444c14b0d64aec1c9ff2ea"
      }
     },
     "metadata": {}
    },
    {
     "output_type": "display_data",
     "data": {
      "text/plain": [
       "Generating splits...:   0%|          | 0/2 [00:00<?, ? splits/s]"
      ],
      "application/vnd.jupyter.widget-view+json": {
       "version_major": 2,
       "version_minor": 0,
       "model_id": "54076754ffb84597aca27c56184235d2"
      }
     },
     "metadata": {}
    },
    {
     "output_type": "display_data",
     "data": {
      "text/plain": [
       "Generating train examples...:   0%|          | 0/50000 [00:00<?, ? examples/s]"
      ],
      "application/vnd.jupyter.widget-view+json": {
       "version_major": 2,
       "version_minor": 0,
       "model_id": "51bcd17ca3884f03acd5094fae04a546"
      }
     },
     "metadata": {}
    },
    {
     "output_type": "display_data",
     "data": {
      "text/plain": [
       "Shuffling /root/tensorflow_datasets/cifar10/3.0.2.incompleteR8CPP8/cifar10-train.tfrecord*...:   0%|          …"
      ],
      "application/vnd.jupyter.widget-view+json": {
       "version_major": 2,
       "version_minor": 0,
       "model_id": "339c30bd74744cfbb0c18048c39e4fc6"
      }
     },
     "metadata": {}
    },
    {
     "output_type": "display_data",
     "data": {
      "text/plain": [
       "Generating test examples...:   0%|          | 0/10000 [00:00<?, ? examples/s]"
      ],
      "application/vnd.jupyter.widget-view+json": {
       "version_major": 2,
       "version_minor": 0,
       "model_id": "2abb3531a2684d848b14aaa5c9385cbf"
      }
     },
     "metadata": {}
    },
    {
     "output_type": "display_data",
     "data": {
      "text/plain": [
       "Shuffling /root/tensorflow_datasets/cifar10/3.0.2.incompleteR8CPP8/cifar10-test.tfrecord*...:   0%|          |…"
      ],
      "application/vnd.jupyter.widget-view+json": {
       "version_major": 2,
       "version_minor": 0,
       "model_id": "85e7bc5e93b54040b1e95b822deec23e"
      }
     },
     "metadata": {}
    },
    {
     "output_type": "stream",
     "name": "stdout",
     "text": [
      "Dataset cifar10 downloaded and prepared to /root/tensorflow_datasets/cifar10/3.0.2. Subsequent calls will reuse this data.\n"
     ]
    },
    {
     "output_type": "execute_result",
     "data": {
      "text/plain": [
       "tfds.core.DatasetInfo(\n",
       "    name='cifar10',\n",
       "    full_name='cifar10/3.0.2',\n",
       "    description=\"\"\"\n",
       "    The CIFAR-10 dataset consists of 60000 32x32 colour images in 10 classes, with 6000 images per class. There are 50000 training images and 10000 test images.\n",
       "    \"\"\",\n",
       "    homepage='https://www.cs.toronto.edu/~kriz/cifar.html',\n",
       "    data_dir=PosixGPath('/tmp/tmp58211ixttfds'),\n",
       "    file_format=tfrecord,\n",
       "    download_size=162.17 MiB,\n",
       "    dataset_size=132.40 MiB,\n",
       "    features=FeaturesDict({\n",
       "        'id': Text(shape=(), dtype=string),\n",
       "        'image': Image(shape=(32, 32, 3), dtype=uint8),\n",
       "        'label': ClassLabel(shape=(), dtype=int64, num_classes=10),\n",
       "    }),\n",
       "    supervised_keys=('image', 'label'),\n",
       "    disable_shuffling=False,\n",
       "    splits={\n",
       "        'test': <SplitInfo num_examples=10000, num_shards=1>,\n",
       "        'train': <SplitInfo num_examples=50000, num_shards=1>,\n",
       "    },\n",
       "    citation=\"\"\"@TECHREPORT{Krizhevsky09learningmultiple,\n",
       "        author = {Alex Krizhevsky},\n",
       "        title = {Learning multiple layers of features from tiny images},\n",
       "        institution = {},\n",
       "        year = {2009}\n",
       "    }\"\"\",\n",
       ")"
      ]
     },
     "metadata": {},
     "execution_count": 5
    }
   ],
   "source": [
    "exp_config = tfm.core.exp_factory.get_exp_config(\"resnet_imagenet\")\n",
    "tfds_name = \"cifar10\"\n",
    "ds, ds_info = tfds.load(tfds_name, with_info=True)\n",
    "ds_info"
   ]
  },
  {
   "cell_type": "markdown",
   "metadata": {
    "id": "U6PVwXA-j3E7"
   },
   "source": [
    "Adjust the model and dataset configurations so that it works with Cifar-10 (`cifar10`)."
   ]
  },
  {
   "cell_type": "code",
   "execution_count": 6,
   "metadata": {
    "id": "YWI7faVStQaV",
    "executionInfo": {
     "status": "ok",
     "timestamp": 1712164355007,
     "user_tz": -330,
     "elapsed": 15,
     "user": {
      "displayName": "",
      "userId": ""
     }
    }
   },
   "outputs": [],
   "source": [
    "# Configure model\n",
    "exp_config.task.model.num_classes = 10\n",
    "exp_config.task.model.input_size = list(ds_info.features[\"image\"].shape)\n",
    "exp_config.task.model.backbone.resnet.model_id = 18\n",
    "\n",
    "# Configure training and testing data\n",
    "batch_size = 128\n",
    "\n",
    "exp_config.task.train_data.input_path = \"\"\n",
    "exp_config.task.train_data.tfds_name = tfds_name\n",
    "exp_config.task.train_data.tfds_split = \"train\"\n",
    "exp_config.task.train_data.global_batch_size = batch_size\n",
    "\n",
    "exp_config.task.validation_data.input_path = \"\"\n",
    "exp_config.task.validation_data.tfds_name = tfds_name\n",
    "exp_config.task.validation_data.tfds_split = \"test\"\n",
    "exp_config.task.validation_data.global_batch_size = batch_size"
   ]
  },
  {
   "cell_type": "markdown",
   "metadata": {
    "id": "DE3ggKzzTD56"
   },
   "source": [
    "Adjust the trainer configuration."
   ]
  },
  {
   "cell_type": "code",
   "execution_count": 8,
   "metadata": {
    "id": "inE_-4UGkLud",
    "executionInfo": {
     "status": "ok",
     "timestamp": 1712164370619,
     "user_tz": -330,
     "elapsed": 1295,
     "user": {
      "displayName": "",
      "userId": ""
     }
    },
    "outputId": "198e153c-7f8e-4b67-fb05-c4ba3eefdbaa",
    "colab": {
     "base_uri": "https://localhost:8080/"
    }
   },
   "outputs": [
    {
     "output_type": "stream",
     "name": "stdout",
     "text": [
      "This may be broken in Colab.\n"
     ]
    }
   ],
   "source": [
    "logical_device_names = [\n",
    "    logical_device.name for logical_device in tf.config.list_logical_devices()\n",
    "]\n",
    "\n",
    "if \"GPU\" in \"\".join(logical_device_names):\n",
    "    print(\"This may be broken in Colab.\")\n",
    "    device = \"GPU\"\n",
    "elif \"TPU\" in \"\".join(logical_device_names):\n",
    "    print(\"This may be broken in Colab.\")\n",
    "    device = \"TPU\"\n",
    "else:\n",
    "    print(\"Running on CPU is slow, so only train for a few steps.\")\n",
    "    device = \"CPU\"\n",
    "\n",
    "if device == \"CPU\":\n",
    "    train_steps = 20\n",
    "    exp_config.trainer.steps_per_loop = 5\n",
    "else:\n",
    "    train_steps = 5000\n",
    "    exp_config.trainer.steps_per_loop = 100\n",
    "\n",
    "exp_config.trainer.summary_interval = 100\n",
    "exp_config.trainer.checkpoint_interval = train_steps\n",
    "exp_config.trainer.validation_interval = 1000\n",
    "exp_config.trainer.validation_steps = ds_info.splits[\"test\"].num_examples // batch_size\n",
    "exp_config.trainer.train_steps = train_steps\n",
    "exp_config.trainer.optimizer_config.learning_rate.type = \"cosine\"\n",
    "exp_config.trainer.optimizer_config.learning_rate.cosine.decay_steps = train_steps\n",
    "exp_config.trainer.optimizer_config.learning_rate.cosine.initial_learning_rate = 0.1\n",
    "exp_config.trainer.optimizer_config.warmup.linear.warmup_steps = 100"
   ]
  },
  {
   "cell_type": "markdown",
   "metadata": {
    "id": "5mTcDnBiTOYD"
   },
   "source": [
    "Print the modified configuration."
   ]
  },
  {
   "cell_type": "markdown",
   "source": [],
   "metadata": {
    "id": "RkBJl0ml8wbO"
   }
  },
  {
   "cell_type": "code",
   "execution_count": 9,
   "metadata": {
    "id": "tuVfxSBCTK-y",
    "executionInfo": {
     "status": "ok",
     "timestamp": 1712164378559,
     "user_tz": -330,
     "elapsed": 13,
     "user": {
      "displayName": "",
      "userId": ""
     }
    },
    "outputId": "e7299a24-73f9-4461-b698-049856442085",
    "colab": {
     "base_uri": "https://localhost:8080/",
     "height": 300
    }
   },
   "outputs": [
    {
     "output_type": "stream",
     "name": "stdout",
     "text": [
      "{'runtime': {'all_reduce_alg': None,\n",
      "             'batchnorm_spatial_persistent': False,\n",
      "             'dataset_num_private_threads': None,\n",
      "             'default_shard_dim': -1,\n",
      "             'distribution_strategy': 'mirrored',\n",
      "             'enable_xla': True,\n",
      "             'gpu_thread_mode': None,\n",
      "             'loss_scale': None,\n",
      "             'mixed_precision_dtype': None,\n",
      "             'num_cores_per_replica': 1,\n",
      "             'num_gpus': 0,\n",
      "             'num_packs': 1,\n",
      "             'per_gpu_thread_count': 0,\n",
      "             'run_eagerly': False,\n",
      "             'task_index': -1,\n",
      "             'tpu': None,\n",
      "             'tpu_enable_xla_dynamic_padder': None,\n",
      "             'use_tpu_mp_strategy': False,\n",
      "             'worker_hosts': None},\n",
      " 'task': {'allow_image_summary': False,\n",
      "          'differential_privacy_config': None,\n",
      "          'eval_input_partition_dims': [],\n",
      "          'evaluation': {'precision_and_recall_thresholds': None,\n",
      "                         'report_per_class_precision_and_recall': False,\n",
      "                         'top_k': 5},\n",
      "          'freeze_backbone': False,\n",
      "          'init_checkpoint': None,\n",
      "          'init_checkpoint_modules': 'all',\n",
      "          'losses': {'l2_weight_decay': 0.0001,\n",
      "                     'label_smoothing': 0.0,\n",
      "                     'loss_weight': 1.0,\n",
      "                     'one_hot': True,\n",
      "                     'soft_labels': False,\n",
      "                     'use_binary_cross_entropy': False},\n",
      "          'model': {'add_head_batch_norm': False,\n",
      "                    'backbone': {'resnet': {'bn_trainable': True,\n",
      "                                            'depth_multiplier': 1.0,\n",
      "                                            'model_id': 18,\n",
      "                                            'replace_stem_max_pool': False,\n",
      "                                            'resnetd_shortcut': False,\n",
      "                                            'scale_stem': True,\n",
      "                                            'se_ratio': 0.0,\n",
      "                                            'stem_type': 'v0',\n",
      "                                            'stochastic_depth_drop_rate': 0.0},\n",
      "                                 'type': 'resnet'},\n",
      "                    'dropout_rate': 0.0,\n",
      "                    'input_size': [32, 32, 3],\n",
      "                    'kernel_initializer': 'random_uniform',\n",
      "                    'norm_activation': {'activation': 'relu',\n",
      "                                        'norm_epsilon': 1e-05,\n",
      "                                        'norm_momentum': 0.9,\n",
      "                                        'use_sync_bn': False},\n",
      "                    'num_classes': 10,\n",
      "                    'output_softmax': False},\n",
      "          'model_output_keys': [],\n",
      "          'name': None,\n",
      "          'train_data': {'apply_tf_data_service_before_batching': False,\n",
      "                         'aug_crop': True,\n",
      "                         'aug_policy': None,\n",
      "                         'aug_rand_hflip': True,\n",
      "                         'aug_type': None,\n",
      "                         'autotune_algorithm': None,\n",
      "                         'block_length': 1,\n",
      "                         'cache': False,\n",
      "                         'center_crop_fraction': 0.875,\n",
      "                         'color_jitter': 0.0,\n",
      "                         'crop_area_range': (0.08, 1.0),\n",
      "                         'cycle_length': 10,\n",
      "                         'decode_jpeg_only': True,\n",
      "                         'decoder': {'simple_decoder': {'attribute_names': [],\n",
      "                                                        'mask_binarize_threshold': None,\n",
      "                                                        'regenerate_source_id': False},\n",
      "                                     'type': 'simple_decoder'},\n",
      "                         'deterministic': None,\n",
      "                         'drop_remainder': True,\n",
      "                         'dtype': 'float32',\n",
      "                         'enable_shared_tf_data_service_between_parallel_trainers': False,\n",
      "                         'enable_tf_data_service': False,\n",
      "                         'file_type': 'tfrecord',\n",
      "                         'global_batch_size': 128,\n",
      "                         'image_field_key': 'image/encoded',\n",
      "                         'input_path': '',\n",
      "                         'is_multilabel': False,\n",
      "                         'is_training': True,\n",
      "                         'label_field_key': 'image/class/label',\n",
      "                         'mixup_and_cutmix': None,\n",
      "                         'prefetch_buffer_size': None,\n",
      "                         'ram_budget': None,\n",
      "                         'randaug_magnitude': 10,\n",
      "                         'random_erasing': None,\n",
      "                         'repeated_augment': None,\n",
      "                         'seed': None,\n",
      "                         'sharding': True,\n",
      "                         'shuffle_buffer_size': 10000,\n",
      "                         'tf_data_service_address': None,\n",
      "                         'tf_data_service_job_name': None,\n",
      "                         'tf_resize_method': 'bilinear',\n",
      "                         'tfds_as_supervised': False,\n",
      "                         'tfds_data_dir': '',\n",
      "                         'tfds_name': 'cifar10',\n",
      "                         'tfds_skip_decoding_feature': '',\n",
      "                         'tfds_split': 'train',\n",
      "                         'three_augment': False,\n",
      "                         'trainer_id': None,\n",
      "                         'weights': None},\n",
      "          'train_input_partition_dims': [],\n",
      "          'validation_data': {'apply_tf_data_service_before_batching': False,\n",
      "                              'aug_crop': True,\n",
      "                              'aug_policy': None,\n",
      "                              'aug_rand_hflip': True,\n",
      "                              'aug_type': None,\n",
      "                              'autotune_algorithm': None,\n",
      "                              'block_length': 1,\n",
      "                              'cache': False,\n",
      "                              'center_crop_fraction': 0.875,\n",
      "                              'color_jitter': 0.0,\n",
      "                              'crop_area_range': (0.08, 1.0),\n",
      "                              'cycle_length': 10,\n",
      "                              'decode_jpeg_only': True,\n",
      "                              'decoder': {'simple_decoder': {'attribute_names': [],\n",
      "                                                             'mask_binarize_threshold': None,\n",
      "                                                             'regenerate_source_id': False},\n",
      "                                          'type': 'simple_decoder'},\n",
      "                              'deterministic': None,\n",
      "                              'drop_remainder': True,\n",
      "                              'dtype': 'float32',\n",
      "                              'enable_shared_tf_data_service_between_parallel_trainers': False,\n",
      "                              'enable_tf_data_service': False,\n",
      "                              'file_type': 'tfrecord',\n",
      "                              'global_batch_size': 128,\n",
      "                              'image_field_key': 'image/encoded',\n",
      "                              'input_path': '',\n",
      "                              'is_multilabel': False,\n",
      "                              'is_training': False,\n",
      "                              'label_field_key': 'image/class/label',\n",
      "                              'mixup_and_cutmix': None,\n",
      "                              'prefetch_buffer_size': None,\n",
      "                              'ram_budget': None,\n",
      "                              'randaug_magnitude': 10,\n",
      "                              'random_erasing': None,\n",
      "                              'repeated_augment': None,\n",
      "                              'seed': None,\n",
      "                              'sharding': True,\n",
      "                              'shuffle_buffer_size': 10000,\n",
      "                              'tf_data_service_address': None,\n",
      "                              'tf_data_service_job_name': None,\n",
      "                              'tf_resize_method': 'bilinear',\n",
      "                              'tfds_as_supervised': False,\n",
      "                              'tfds_data_dir': '',\n",
      "                              'tfds_name': 'cifar10',\n",
      "                              'tfds_skip_decoding_feature': '',\n",
      "                              'tfds_split': 'test',\n",
      "                              'three_augment': False,\n",
      "                              'trainer_id': None,\n",
      "                              'weights': None}},\n",
      " 'trainer': {'allow_tpu_summary': False,\n",
      "             'best_checkpoint_eval_metric': '',\n",
      "             'best_checkpoint_export_subdir': '',\n",
      "             'best_checkpoint_metric_comp': 'higher',\n",
      "             'checkpoint_interval': 5000,\n",
      "             'continuous_eval_timeout': 3600,\n",
      "             'eval_tf_function': True,\n",
      "             'eval_tf_while_loop': False,\n",
      "             'loss_upper_bound': 1000000.0,\n",
      "             'max_to_keep': 5,\n",
      "             'optimizer_config': {'ema': None,\n",
      "                                  'learning_rate': {'cosine': {'alpha': 0.0,\n",
      "                                                               'decay_steps': 5000,\n",
      "                                                               'initial_learning_rate': 0.1,\n",
      "                                                               'name': 'CosineDecay',\n",
      "                                                               'offset': 0},\n",
      "                                                    'type': 'cosine'},\n",
      "                                  'optimizer': {'sgd': {'clipnorm': None,\n",
      "                                                        'clipvalue': None,\n",
      "                                                        'decay': 0.0,\n",
      "                                                        'global_clipnorm': None,\n",
      "                                                        'momentum': 0.9,\n",
      "                                                        'name': 'SGD',\n",
      "                                                        'nesterov': False},\n",
      "                                                'type': 'sgd'},\n",
      "                                  'warmup': {'linear': {'name': 'linear',\n",
      "                                                        'warmup_learning_rate': 0,\n",
      "                                                        'warmup_steps': 100},\n",
      "                                             'type': 'linear'}},\n",
      "             'preemption_on_demand_checkpoint': True,\n",
      "             'recovery_begin_steps': 0,\n",
      "             'recovery_max_trials': 0,\n",
      "             'steps_per_loop': 100,\n",
      "             'summary_interval': 100,\n",
      "             'train_steps': 5000,\n",
      "             'train_tf_function': True,\n",
      "             'train_tf_while_loop': True,\n",
      "             'validation_interval': 1000,\n",
      "             'validation_steps': 78,\n",
      "             'validation_summary_subdir': 'validation'}}\n"
     ]
    },
    {
     "output_type": "execute_result",
     "data": {
      "text/plain": [
       "<IPython.core.display.Javascript object>"
      ],
      "application/javascript": [
       "google.colab.output.setIframeHeight('300px');"
      ]
     },
     "metadata": {},
     "execution_count": 9
    }
   ],
   "source": [
    "pprint.pprint(exp_config.as_dict())\n",
    "\n",
    "display.Javascript(\"google.colab.output.setIframeHeight('300px');\")"
   ]
  },
  {
   "cell_type": "markdown",
   "metadata": {
    "id": "w7_X0UHaRF2m"
   },
   "source": [
    "Set up the distribution strategy."
   ]
  },
  {
   "cell_type": "code",
   "execution_count": 10,
   "metadata": {
    "id": "ykL14FIbTaSt",
    "executionInfo": {
     "status": "ok",
     "timestamp": 1712164385807,
     "user_tz": -330,
     "elapsed": 11,
     "user": {
      "displayName": "",
      "userId": ""
     }
    }
   },
   "outputs": [],
   "source": [
    "logical_device_names = [\n",
    "    logical_device.name for logical_device in tf.config.list_logical_devices()\n",
    "]\n",
    "\n",
    "if exp_config.runtime.mixed_precision_dtype == tf.float16:\n",
    "    tf.keras.mixed_precision.set_global_policy(\"mixed_float16\")\n",
    "\n",
    "if \"GPU\" in \"\".join(logical_device_names):\n",
    "    distribution_strategy = tf.distribute.MirroredStrategy()\n",
    "elif \"TPU\" in \"\".join(logical_device_names):\n",
    "    tf.tpu.experimental.initialize_tpu_system()\n",
    "    tpu = tf.distribute.cluster_resolver.TPUClusterResolver(tpu=\"/device:TPU_SYSTEM:0\")\n",
    "    distribution_strategy = tf.distribute.experimental.TPUStrategy(tpu)\n",
    "else:\n",
    "    print(\"Warning: this will be really slow.\")\n",
    "    distribution_strategy = tf.distribute.OneDeviceStrategy(logical_device_names[0])"
   ]
  },
  {
   "cell_type": "markdown",
   "metadata": {
    "id": "W4k5YH5pTjaK"
   },
   "source": [
    "Create the `Task` object (`tfm.core.base_task.Task`) from the `config_definitions.TaskConfig`.\n",
    "\n",
    "The `Task` object has all the methods necessary for building the dataset, building the model, and running training & evaluation. These methods are driven by `tfm.core.train_lib.run_experiment`."
   ]
  },
  {
   "cell_type": "code",
   "execution_count": 11,
   "metadata": {
    "id": "6MgYSH0PtUaW",
    "executionInfo": {
     "status": "ok",
     "timestamp": 1712164394370,
     "user_tz": -330,
     "elapsed": 728,
     "user": {
      "displayName": "",
      "userId": ""
     }
    }
   },
   "outputs": [],
   "source": [
    "with distribution_strategy.scope():\n",
    "    model_dir = tempfile.mkdtemp()\n",
    "    task = tfm.core.task_factory.get_task(exp_config.task, logging_dir=model_dir)\n",
    "\n",
    "#  tf.keras.utils.plot_model(task.build_model(), show_shapes=True)"
   ]
  },
  {
   "cell_type": "code",
   "execution_count": 12,
   "metadata": {
    "id": "IFXEZYdzBKoX",
    "executionInfo": {
     "status": "ok",
     "timestamp": 1712164398936,
     "user_tz": -330,
     "elapsed": 2090,
     "user": {
      "displayName": "",
      "userId": ""
     }
    },
    "outputId": "a8abc561-3fd5-43fa-cf85-9e3376d5715b",
    "colab": {
     "base_uri": "https://localhost:8080/"
    }
   },
   "outputs": [
    {
     "output_type": "stream",
     "name": "stdout",
     "text": [
      "\n",
      "images.shape: (128, 32, 32, 3)  images.dtype: tf.float32\n",
      "labels.shape: (128,)            labels.dtype: tf.int32\n"
     ]
    }
   ],
   "source": [
    "for images, labels in task.build_inputs(exp_config.task.train_data).take(1):\n",
    "    print()\n",
    "    print(f\"images.shape: {str(images.shape):16}  images.dtype: {images.dtype!r}\")\n",
    "    print(f\"labels.shape: {str(labels.shape):16}  labels.dtype: {labels.dtype!r}\")"
   ]
  },
  {
   "cell_type": "markdown",
   "metadata": {
    "id": "yrwxnGDaRU0U"
   },
   "source": [
    "## Visualize the training data"
   ]
  },
  {
   "cell_type": "markdown",
   "metadata": {
    "id": "683c255c6c52"
   },
   "source": [
    "The dataloader applies a z-score normalization using\n",
    "`preprocess_ops.normalize_image(image, offset=MEAN_RGB, scale=STDDEV_RGB)`, so the images returned by the dataset can't be directly displayed by standard tools. The visualization code needs to rescale the data into the [0,1] range."
   ]
  },
  {
   "cell_type": "code",
   "execution_count": 13,
   "metadata": {
    "id": "PdmOz2EC0Nx2",
    "executionInfo": {
     "status": "ok",
     "timestamp": 1712164405352,
     "user_tz": -330,
     "elapsed": 6,
     "user": {
      "displayName": "",
      "userId": ""
     }
    }
   },
   "outputs": [],
   "source": [
    "plt.hist(images.numpy().flatten());"
   ]
  },
  {
   "cell_type": "markdown",
   "metadata": {
    "id": "7a8582ebde7b"
   },
   "source": [
    "Use `ds_info` (which is an instance of `tfds.core.DatasetInfo`) to lookup the text descriptions of each class ID."
   ]
  },
  {
   "cell_type": "code",
   "execution_count": 14,
   "metadata": {
    "id": "Wq4Wq_CuDG3Q",
    "executionInfo": {
     "status": "ok",
     "timestamp": 1712164410616,
     "user_tz": -330,
     "elapsed": 10,
     "user": {
      "displayName": "",
      "userId": ""
     }
    },
    "outputId": "dbcf9d92-eb49-494b-f918-a8359cb5f3fb",
    "colab": {
     "base_uri": "https://localhost:8080/",
     "height": 41
    }
   },
   "outputs": [
    {
     "output_type": "execute_result",
     "data": {
      "text/plain": [
       "'automobile'"
      ],
      "application/vnd.google.colaboratory.intrinsic+json": {
       "type": "string"
      }
     },
     "metadata": {},
     "execution_count": 14
    }
   ],
   "source": [
    "label_info = ds_info.features[\"label\"]\n",
    "label_info.int2str(1)"
   ]
  },
  {
   "cell_type": "markdown",
   "metadata": {
    "id": "8c652a6fdbcf"
   },
   "source": [
    "Visualize a batch of the data."
   ]
  },
  {
   "cell_type": "code",
   "execution_count": 15,
   "metadata": {
    "id": "ZKfTxytf1l0d",
    "executionInfo": {
     "status": "ok",
     "timestamp": 1712164425175,
     "user_tz": -330,
     "elapsed": 647,
     "user": {
      "displayName": "",
      "userId": ""
     }
    }
   },
   "outputs": [],
   "source": [
    "def show_batch(images, labels, predictions=None):\n",
    "    plt.figure(figsize=(10, 10))\n",
    "    min = images.numpy().min()\n",
    "    max = images.numpy().max()\n",
    "    delta = max - min\n",
    "\n",
    "    for i in range(12):\n",
    "        plt.subplot(6, 6, i + 1)\n",
    "        plt.imshow((images[i] - min) / delta)\n",
    "        if predictions is None:\n",
    "            plt.title(label_info.int2str(labels[i]))\n",
    "        else:\n",
    "            if labels[i] == predictions[i]:\n",
    "                color = \"g\"\n",
    "            else:\n",
    "                color = \"r\"\n",
    "            plt.title(label_info.int2str(predictions[i]), color=color)\n",
    "        plt.axis(\"off\")"
   ]
  },
  {
   "cell_type": "code",
   "execution_count": 16,
   "metadata": {
    "id": "xkA5h_RBtYYU",
    "executionInfo": {
     "status": "ok",
     "timestamp": 1712164432535,
     "user_tz": -330,
     "elapsed": 1874,
     "user": {
      "displayName": "",
      "userId": ""
     }
    }
   },
   "outputs": [],
   "source": [
    "plt.figure(figsize=(10, 10))\n",
    "for images, labels in task.build_inputs(exp_config.task.train_data).take(1):\n",
    "    show_batch(images, labels)"
   ]
  },
  {
   "cell_type": "markdown",
   "metadata": {
    "id": "v_A9VnL2RbXP"
   },
   "source": [
    "## Visualize the testing data"
   ]
  },
  {
   "cell_type": "markdown",
   "metadata": {
    "id": "AXovuumW_I2z"
   },
   "source": [
    "Visualize a batch of images from the validation dataset."
   ]
  },
  {
   "cell_type": "code",
   "execution_count": 17,
   "metadata": {
    "id": "Ma-_Eb-nte9A",
    "executionInfo": {
     "status": "ok",
     "timestamp": 1712164438159,
     "user_tz": -330,
     "elapsed": 1153,
     "user": {
      "displayName": "",
      "userId": ""
     }
    }
   },
   "outputs": [],
   "source": [
    "plt.figure(figsize=(10, 10))\n",
    "for images, labels in task.build_inputs(exp_config.task.validation_data).take(1):\n",
    "    show_batch(images, labels)"
   ]
  },
  {
   "cell_type": "code",
   "source": [
    "plt.show()"
   ],
   "metadata": {
    "id": "gXihHXfr9Bsb",
    "executionInfo": {
     "status": "ok",
     "timestamp": 1712164459486,
     "user_tz": -330,
     "elapsed": 14,
     "user": {
      "displayName": "",
      "userId": ""
     }
    }
   },
   "execution_count": 18,
   "outputs": []
  },
  {
   "cell_type": "markdown",
   "metadata": {
    "id": "ihKJt2FHRi2N"
   },
   "source": [
    "## Train and evaluate"
   ]
  },
  {
   "cell_type": "code",
   "execution_count": 19,
   "metadata": {
    "id": "0AFMNvYxtjXx",
    "executionInfo": {
     "status": "ok",
     "timestamp": 1712164795691,
     "user_tz": -330,
     "elapsed": 325955,
     "user": {
      "displayName": "",
      "userId": ""
     }
    },
    "outputId": "e603eaf4-25e2-476a-cfca-4311d6247fa1",
    "colab": {
     "base_uri": "https://localhost:8080/"
    }
   },
   "outputs": [
    {
     "output_type": "stream",
     "name": "stdout",
     "text": [
      "restoring or initializing model...\n",
      "train | step:      0 | training until step 1000...\n",
      "train | step:    100 | steps/sec:    4.4 | output: \n",
      "    {'accuracy': 0.21203125,\n",
      "     'learning_rate': 0.09990134,\n",
      "     'top_5_accuracy': 0.7217187,\n",
      "     'training_loss': 2.6484103}\n",
      "saved checkpoint to /tmp/tmp8wy6e_cq/ckpt-100.\n",
      "train | step:    200 | steps/sec:   15.5 | output: \n",
      "    {'accuracy': 0.25046876,\n",
      "     'learning_rate': 0.09960574,\n",
      "     'top_5_accuracy': 0.7752344,\n",
      "     'training_loss': 2.5541472}\n",
      "train | step:    300 | steps/sec:   14.7 | output: \n",
      "    {'accuracy': 0.29304686,\n",
      "     'learning_rate': 0.09911436,\n",
      "     'top_5_accuracy': 0.81710935,\n",
      "     'training_loss': 2.2889428}\n",
      "train | step:    400 | steps/sec:   16.0 | output: \n",
      "    {'accuracy': 0.32195312,\n",
      "     'learning_rate': 0.09842916,\n",
      "     'top_5_accuracy': 0.8335937,\n",
      "     'training_loss': 2.145918}\n",
      "train | step:    500 | steps/sec:   22.7 | output: \n",
      "    {'accuracy': 0.3428125,\n",
      "     'learning_rate': 0.09755283,\n",
      "     'top_5_accuracy': 0.8524219,\n",
      "     'training_loss': 2.066386}\n",
      "train | step:    600 | steps/sec:   23.3 | output: \n",
      "    {'accuracy': 0.351875,\n",
      "     'learning_rate': 0.096488826,\n",
      "     'top_5_accuracy': 0.8521875,\n",
      "     'training_loss': 2.0398273}\n",
      "train | step:    700 | steps/sec:   16.4 | output: \n",
      "    {'accuracy': 0.36640626,\n",
      "     'learning_rate': 0.09524136,\n",
      "     'top_5_accuracy': 0.85445315,\n",
      "     'training_loss': 2.0033104}\n",
      "train | step:    800 | steps/sec:   21.6 | output: \n",
      "    {'accuracy': 0.38578126,\n",
      "     'learning_rate': 0.09381534,\n",
      "     'top_5_accuracy': 0.86890626,\n",
      "     'training_loss': 1.9523948}\n",
      "train | step:    900 | steps/sec:   18.4 | output: \n",
      "    {'accuracy': 0.38609374,\n",
      "     'learning_rate': 0.092216395,\n",
      "     'top_5_accuracy': 0.8742969,\n",
      "     'training_loss': 1.9377595}\n",
      "train | step:   1000 | steps/sec:   23.0 | output: \n",
      "    {'accuracy': 0.41078126,\n",
      "     'learning_rate': 0.090450846,\n",
      "     'top_5_accuracy': 0.8811719,\n",
      "     'training_loss': 1.8895835}\n",
      " eval | step:   1000 | running 78 steps of evaluation...\n",
      " eval | step:   1000 | steps/sec:   12.2 | eval time:    6.4 sec | output: \n",
      "    {'accuracy': 0.47145432,\n",
      "     'steps_per_second': 12.191900858378311,\n",
      "     'top_5_accuracy': 0.91165864,\n",
      "     'validation_loss': 1.7230822}\n",
      "train | step:   1000 | training until step 2000...\n",
      "train | step:   1100 | steps/sec:    8.6 | output: \n",
      "    {'accuracy': 0.424375,\n",
      "     'learning_rate': 0.08852567,\n",
      "     'top_5_accuracy': 0.8916406,\n",
      "     'training_loss': 1.8410578}\n",
      "train | step:   1200 | steps/sec:   21.2 | output: \n",
      "    {'accuracy': 0.42679688,\n",
      "     'learning_rate': 0.08644843,\n",
      "     'top_5_accuracy': 0.8886719,\n",
      "     'training_loss': 1.8345485}\n",
      "train | step:   1300 | steps/sec:   18.3 | output: \n",
      "    {'accuracy': 0.43859375,\n",
      "     'learning_rate': 0.08422736,\n",
      "     'top_5_accuracy': 0.899375,\n",
      "     'training_loss': 1.790372}\n",
      "train | step:   1400 | steps/sec:   22.7 | output: \n",
      "    {'accuracy': 0.44695312,\n",
      "     'learning_rate': 0.081871204,\n",
      "     'top_5_accuracy': 0.89804685,\n",
      "     'training_loss': 1.7747265}\n",
      "train | step:   1500 | steps/sec:   18.9 | output: \n",
      "    {'accuracy': 0.450625,\n",
      "     'learning_rate': 0.07938927,\n",
      "     'top_5_accuracy': 0.904375,\n",
      "     'training_loss': 1.7613466}\n",
      "train | step:   1600 | steps/sec:   21.2 | output: \n",
      "    {'accuracy': 0.4584375,\n",
      "     'learning_rate': 0.07679134,\n",
      "     'top_5_accuracy': 0.9021094,\n",
      "     'training_loss': 1.7410209}\n",
      "train | step:   1700 | steps/sec:   22.6 | output: \n",
      "    {'accuracy': 0.46703124,\n",
      "     'learning_rate': 0.07408768,\n",
      "     'top_5_accuracy': 0.911875,\n",
      "     'training_loss': 1.7152319}\n",
      "train | step:   1800 | steps/sec:   18.6 | output: \n",
      "    {'accuracy': 0.4764844,\n",
      "     'learning_rate': 0.071288966,\n",
      "     'top_5_accuracy': 0.9105469,\n",
      "     'training_loss': 1.6899756}\n",
      "train | step:   1900 | steps/sec:   22.5 | output: \n",
      "    {'accuracy': 0.48085937,\n",
      "     'learning_rate': 0.068406224,\n",
      "     'top_5_accuracy': 0.914375,\n",
      "     'training_loss': 1.6739798}\n",
      "train | step:   2000 | steps/sec:   20.7 | output: \n",
      "    {'accuracy': 0.481875,\n",
      "     'learning_rate': 0.06545085,\n",
      "     'top_5_accuracy': 0.9071875,\n",
      "     'training_loss': 1.6812519}\n",
      " eval | step:   2000 | running 78 steps of evaluation...\n",
      " eval | step:   2000 | steps/sec:   13.3 | eval time:    5.8 sec | output: \n",
      "    {'accuracy': 0.5500801,\n",
      "     'steps_per_second': 13.3485983849192,\n",
      "     'top_5_accuracy': 0.9469151,\n",
      "     'validation_loss': 1.4910927}\n",
      "train | step:   2000 | training until step 3000...\n",
      "train | step:   2100 | steps/sec:   10.1 | output: \n",
      "    {'accuracy': 0.4988281,\n",
      "     'learning_rate': 0.062434502,\n",
      "     'top_5_accuracy': 0.9188281,\n",
      "     'training_loss': 1.6329634}\n",
      "train | step:   2200 | steps/sec:   11.0 | output: \n",
      "    {'accuracy': 0.50539064,\n",
      "     'learning_rate': 0.059369065,\n",
      "     'top_5_accuracy': 0.9203906,\n",
      "     'training_loss': 1.6079075}\n",
      "train | step:   2300 | steps/sec:   20.6 | output: \n",
      "    {'accuracy': 0.52140623,\n",
      "     'learning_rate': 0.056266654,\n",
      "     'top_5_accuracy': 0.924375,\n",
      "     'training_loss': 1.5711141}\n",
      "train | step:   2400 | steps/sec:   18.2 | output: \n",
      "    {'accuracy': 0.52921873,\n",
      "     'learning_rate': 0.053139526,\n",
      "     'top_5_accuracy': 0.9277344,\n",
      "     'training_loss': 1.5386598}\n",
      "train | step:   2500 | steps/sec:   22.3 | output: \n",
      "    {'accuracy': 0.5210937,\n",
      "     'learning_rate': 0.049999997,\n",
      "     'top_5_accuracy': 0.9273437,\n",
      "     'training_loss': 1.5674554}\n",
      "train | step:   2600 | steps/sec:   18.1 | output: \n",
      "    {'accuracy': 0.53125,\n",
      "     'learning_rate': 0.04686048,\n",
      "     'top_5_accuracy': 0.9255469,\n",
      "     'training_loss': 1.5399909}\n",
      "train | step:   2700 | steps/sec:   22.1 | output: \n",
      "    {'accuracy': 0.53453124,\n",
      "     'learning_rate': 0.043733336,\n",
      "     'top_5_accuracy': 0.9271875,\n",
      "     'training_loss': 1.5346055}\n",
      "train | step:   2800 | steps/sec:   22.2 | output: \n",
      "    {'accuracy': 0.53484374,\n",
      "     'learning_rate': 0.040630933,\n",
      "     'top_5_accuracy': 0.92890626,\n",
      "     'training_loss': 1.5227966}\n",
      "train | step:   2900 | steps/sec:   18.1 | output: \n",
      "    {'accuracy': 0.5414063,\n",
      "     'learning_rate': 0.037565507,\n",
      "     'top_5_accuracy': 0.92796874,\n",
      "     'training_loss': 1.5131559}\n",
      "train | step:   3000 | steps/sec:   22.2 | output: \n",
      "    {'accuracy': 0.53382814,\n",
      "     'learning_rate': 0.034549143,\n",
      "     'top_5_accuracy': 0.93046874,\n",
      "     'training_loss': 1.5229785}\n",
      " eval | step:   3000 | running 78 steps of evaluation...\n",
      " eval | step:   3000 | steps/sec:   21.6 | eval time:    3.6 sec | output: \n",
      "    {'accuracy': 0.63922274,\n",
      "     'steps_per_second': 21.592335636783588,\n",
      "     'top_5_accuracy': 0.965645,\n",
      "     'validation_loss': 1.2412637}\n",
      "train | step:   3000 | training until step 4000...\n",
      "train | step:   3100 | steps/sec:   13.2 | output: \n",
      "    {'accuracy': 0.54976565,\n",
      "     'learning_rate': 0.03159377,\n",
      "     'top_5_accuracy': 0.92945313,\n",
      "     'training_loss': 1.4878514}\n",
      "train | step:   3200 | steps/sec:   22.0 | output: \n",
      "    {'accuracy': 0.5586719,\n",
      "     'learning_rate': 0.028711034,\n",
      "     'top_5_accuracy': 0.935,\n",
      "     'training_loss': 1.466949}\n",
      "train | step:   3300 | steps/sec:   18.1 | output: \n",
      "    {'accuracy': 0.5638281,\n",
      "     'learning_rate': 0.025912309,\n",
      "     'top_5_accuracy': 0.935625,\n",
      "     'training_loss': 1.4451262}\n",
      "train | step:   3400 | steps/sec:   18.9 | output: \n",
      "    {'accuracy': 0.5654687,\n",
      "     'learning_rate': 0.023208654,\n",
      "     'top_5_accuracy': 0.9367969,\n",
      "     'training_loss': 1.4395921}\n",
      "train | step:   3500 | steps/sec:   16.9 | output: \n",
      "    {'accuracy': 0.5583594,\n",
      "     'learning_rate': 0.020610739,\n",
      "     'top_5_accuracy': 0.9332031,\n",
      "     'training_loss': 1.4546658}\n",
      "train | step:   3600 | steps/sec:   15.8 | output: \n",
      "    {'accuracy': 0.55679685,\n",
      "     'learning_rate': 0.018128792,\n",
      "     'top_5_accuracy': 0.9363281,\n",
      "     'training_loss': 1.4523929}\n",
      "train | step:   3700 | steps/sec:   21.7 | output: \n",
      "    {'accuracy': 0.57789063,\n",
      "     'learning_rate': 0.015772644,\n",
      "     'top_5_accuracy': 0.93476564,\n",
      "     'training_loss': 1.4179411}\n",
      "train | step:   3800 | steps/sec:   18.0 | output: \n",
      "    {'accuracy': 0.5800781,\n",
      "     'learning_rate': 0.01355157,\n",
      "     'top_5_accuracy': 0.9392969,\n",
      "     'training_loss': 1.4050026}\n",
      "train | step:   3900 | steps/sec:   22.1 | output: \n",
      "    {'accuracy': 0.5874219,\n",
      "     'learning_rate': 0.011474336,\n",
      "     'top_5_accuracy': 0.94,\n",
      "     'training_loss': 1.3797036}\n",
      "train | step:   4000 | steps/sec:   16.7 | output: \n",
      "    {'accuracy': 0.5894531,\n",
      "     'learning_rate': 0.009549147,\n",
      "     'top_5_accuracy': 0.93828124,\n",
      "     'training_loss': 1.3908889}\n",
      " eval | step:   4000 | running 78 steps of evaluation...\n",
      " eval | step:   4000 | steps/sec:   23.6 | eval time:    3.3 sec | output: \n",
      "    {'accuracy': 0.70182294,\n",
      "     'steps_per_second': 23.640464832143707,\n",
      "     'top_5_accuracy': 0.9744591,\n",
      "     'validation_loss': 1.0730547}\n",
      "train | step:   4000 | training until step 5000...\n",
      "train | step:   4100 | steps/sec:   15.2 | output: \n",
      "    {'accuracy': 0.58875,\n",
      "     'learning_rate': 0.0077836006,\n",
      "     'top_5_accuracy': 0.9410156,\n",
      "     'training_loss': 1.3790814}\n",
      "train | step:   4200 | steps/sec:   17.7 | output: \n",
      "    {'accuracy': 0.5967187,\n",
      "     'learning_rate': 0.0061846706,\n",
      "     'top_5_accuracy': 0.9453125,\n",
      "     'training_loss': 1.3671002}\n",
      "train | step:   4300 | steps/sec:   22.1 | output: \n",
      "    {'accuracy': 0.59046876,\n",
      "     'learning_rate': 0.0047586444,\n",
      "     'top_5_accuracy': 0.9404687,\n",
      "     'training_loss': 1.3837426}\n",
      "train | step:   4400 | steps/sec:   21.9 | output: \n",
      "    {'accuracy': 0.59382814,\n",
      "     'learning_rate': 0.0035111725,\n",
      "     'top_5_accuracy': 0.94539064,\n",
      "     'training_loss': 1.3757237}\n",
      "train | step:   4500 | steps/sec:   18.0 | output: \n",
      "    {'accuracy': 0.5807812,\n",
      "     'learning_rate': 0.002447176,\n",
      "     'top_5_accuracy': 0.94257814,\n",
      "     'training_loss': 1.3878808}\n",
      "train | step:   4600 | steps/sec:   22.1 | output: \n",
      "    {'accuracy': 0.58601564,\n",
      "     'learning_rate': 0.0015708387,\n",
      "     'top_5_accuracy': 0.943125,\n",
      "     'training_loss': 1.383753}\n",
      "train | step:   4700 | steps/sec:   17.9 | output: \n",
      "    {'accuracy': 0.5884375,\n",
      "     'learning_rate': 0.0008856386,\n",
      "     'top_5_accuracy': 0.93671876,\n",
      "     'training_loss': 1.3978313}\n",
      "train | step:   4800 | steps/sec:   22.5 | output: \n",
      "    {'accuracy': 0.58382815,\n",
      "     'learning_rate': 0.00039426386,\n",
      "     'top_5_accuracy': 0.9423438,\n",
      "     'training_loss': 1.3876066}\n",
      "train | step:   4900 | steps/sec:   22.0 | output: \n",
      "    {'accuracy': 0.58273435,\n",
      "     'learning_rate': 9.866357e-05,\n",
      "     'top_5_accuracy': 0.94671875,\n",
      "     'training_loss': 1.3844205}\n",
      "train | step:   5000 | steps/sec:   18.2 | output: \n",
      "    {'accuracy': 0.6074219,\n",
      "     'learning_rate': 0.0,\n",
      "     'top_5_accuracy': 0.94570315,\n",
      "     'training_loss': 1.3397987}\n",
      " eval | step:   5000 | running 78 steps of evaluation...\n",
      " eval | step:   5000 | steps/sec:   24.5 | eval time:    3.2 sec | output: \n",
      "    {'accuracy': 0.7234575,\n",
      "     'steps_per_second': 24.515714399723937,\n",
      "     'top_5_accuracy': 0.97636217,\n",
      "     'validation_loss': 1.0185812}\n",
      "saved checkpoint to /tmp/tmp8wy6e_cq/ckpt-5000.\n"
     ]
    },
    {
     "output_type": "stream",
     "name": "stderr",
     "text": [
      "WARNING:tensorflow:From /usr/local/lib/python3.10/dist-packages/tensorflow/python/ops/nn_ops.py:5256: tensor_shape_from_node_def_name (from tensorflow.python.framework.graph_util_impl) is deprecated and will be removed in a future version.\n",
      "Instructions for updating:\n",
      "This API was designed for TensorFlow v1. See https://www.tensorflow.org/guide/migrate for instructions on how to migrate your code to TensorFlow v2.\n"
     ]
    },
    {
     "output_type": "stream",
     "name": "stdout",
     "text": [
      " eval | step:   5000 | running 78 steps of evaluation...\n",
      " eval | step:   5000 | steps/sec:   14.9 | eval time:    5.2 sec | output: \n",
      "    {'accuracy': 0.7234575,\n",
      "     'steps_per_second': 14.890574824412397,\n",
      "     'top_5_accuracy': 0.97636217,\n",
      "     'validation_loss': 1.0185812}\n"
     ]
    }
   ],
   "source": [
    "model, eval_logs = tfm.core.train_lib.run_experiment(\n",
    "    distribution_strategy=distribution_strategy,\n",
    "    task=task,\n",
    "    mode=\"train_and_eval\",\n",
    "    params=exp_config,\n",
    "    model_dir=model_dir,\n",
    "    run_post_eval=True,\n",
    ")"
   ]
  },
  {
   "cell_type": "code",
   "execution_count": 20,
   "metadata": {
    "id": "gCcHMQYhozmA",
    "executionInfo": {
     "status": "ok",
     "timestamp": 1712164795691,
     "user_tz": -330,
     "elapsed": 12,
     "user": {
      "displayName": "",
      "userId": ""
     }
    },
    "outputId": "2afd6f58-8161-4e72-b6d3-2324fafa6a3e",
    "colab": {
     "base_uri": "https://localhost:8080/",
     "height": 273
    }
   },
   "outputs": [
    {
     "output_type": "execute_result",
     "data": {
      "image/png": "[encoded data removed]",
      "text/plain": [
       "<IPython.core.display.Image object>"
      ]
     },
     "metadata": {},
     "execution_count": 20
    }
   ],
   "source": [
    "tf.keras.utils.plot_model(model, show_shapes=True)"
   ]
  },
  {
   "cell_type": "markdown",
   "metadata": {
    "id": "L7nVfxlBA8Gb"
   },
   "source": [
    "Print the `accuracy`, `top_5_accuracy`, and `validation_loss` evaluation metrics."
   ]
  },
  {
   "cell_type": "code",
   "execution_count": 21,
   "metadata": {
    "id": "0124f938a1b9",
    "executionInfo": {
     "status": "ok",
     "timestamp": 1712164814775,
     "user_tz": -330,
     "elapsed": 11,
     "user": {
      "displayName": "",
      "userId": ""
     }
    },
    "outputId": "e2f7492e-eada-407a-e267-d1b485dbfd9e",
    "colab": {
     "base_uri": "https://localhost:8080/"
    }
   },
   "outputs": [
    {
     "output_type": "stream",
     "name": "stdout",
     "text": [
      "accuracy            : 0.723\n",
      "top_5_accuracy      : 0.976\n",
      "validation_loss     : 1.019\n",
      "steps_per_second    : 14.891\n"
     ]
    }
   ],
   "source": [
    "for key, value in eval_logs.items():\n",
    "    if isinstance(value, tf.Tensor):\n",
    "        value = value.numpy()\n",
    "    print(f\"{key:20}: {value:.3f}\")"
   ]
  },
  {
   "cell_type": "markdown",
   "metadata": {
    "id": "TDys5bZ1zsml"
   },
   "source": [
    "Run a batch of the processed training data through the model, and view the results"
   ]
  },
  {
   "cell_type": "code",
   "execution_count": 22,
   "metadata": {
    "id": "GhI7zR-Uz1JT",
    "executionInfo": {
     "status": "ok",
     "timestamp": 1712164851478,
     "user_tz": -330,
     "elapsed": 6154,
     "user": {
      "displayName": "",
      "userId": ""
     }
    },
    "outputId": "4019c8b5-3a16-4b77-f3cd-295cfdcad51f",
    "colab": {
     "base_uri": "https://localhost:8080/"
    }
   },
   "outputs": [
    {
     "output_type": "stream",
     "name": "stdout",
     "text": [
      "4/4 [==============================] - 4s 6ms/step\n"
     ]
    }
   ],
   "source": [
    "for images, labels in task.build_inputs(exp_config.task.train_data).take(1):\n",
    "    predictions = model.predict(images)\n",
    "    predictions = tf.argmax(predictions, axis=-1)\n",
    "\n",
    "show_batch(images, labels, tf.cast(predictions, tf.int32))\n",
    "\n",
    "if device == \"CPU\":\n",
    "    plt.suptitle(\n",
    "        \"The model was only trained for a few steps, it is not expected to do well.\"\n",
    "    )"
   ]
  },
  {
   "cell_type": "markdown",
   "metadata": {
    "id": "fkE9locGTBgt"
   },
   "source": [
    "## Export a SavedModel"
   ]
  },
  {
   "cell_type": "code",
   "source": [
    "print(predictions)"
   ],
   "metadata": {
    "id": "3mHs5Lu3-p8q",
    "executionInfo": {
     "status": "ok",
     "timestamp": 1712164883262,
     "user_tz": -330,
     "elapsed": 17,
     "user": {
      "displayName": "",
      "userId": ""
     }
    },
    "outputId": "7edbe709-81cb-4b24-969a-235b39947ff3",
    "colab": {
     "base_uri": "https://localhost:8080/"
    }
   },
   "execution_count": 23,
   "outputs": [
    {
     "output_type": "stream",
     "name": "stdout",
     "text": [
      "tf.Tensor(\n",
      "[8 1 7 3 1 6 6 5 4 1 4 6 6 0 2 3 9 5 9 4 7 4 5 1 0 2 1 1 3 6 7 5 6 8 0 3 8\n",
      " 3 7 7 4 5 3 9 7 2 9 5 0 0 5 6 8 0 1 3 9 9 3 2 6 2 8 3 4 8 0 7 1 7 4 0 3 4\n",
      " 7 4 5 2 4 0 0 9 3 9 5 6 0 9 2 7 7 4 0 9 7 7 6 0 6 2 9 5 1 9 5 2 1 6 0 9 5\n",
      " 4 3 5 1 3 5 0 7 4 1 8 2 6 3 1 8 6], shape=(128,), dtype=int64)\n"
     ]
    }
   ]
  },
  {
   "cell_type": "markdown",
   "source": [],
   "metadata": {
    "id": "R3jEv1Ax-pn2"
   }
  },
  {
   "cell_type": "markdown",
   "metadata": {
    "id": "9669d08c91af"
   },
   "source": [
    "The `keras.Model` object returned by `train_lib.run_experiment` expects the data to be normalized by the dataset loader using the same mean and variance statiscics in `preprocess_ops.normalize_image(image, offset=MEAN_RGB, scale=STDDEV_RGB)`. This export function handles those details, so you can pass `tf.uint8` images and get the correct results.\n"
   ]
  },
  {
   "cell_type": "code",
   "execution_count": 24,
   "metadata": {
    "id": "AQCFa7BvtmDg",
    "executionInfo": {
     "status": "ok",
     "timestamp": 1712164924538,
     "user_tz": -330,
     "elapsed": 17459,
     "user": {
      "displayName": "",
      "userId": ""
     }
    }
   },
   "outputs": [],
   "source": [
    "# Saving and exporting the trained model\n",
    "export_saved_model_lib.export_inference_graph(\n",
    "    input_type=\"image_tensor\",\n",
    "    batch_size=1,\n",
    "    input_image_size=[32, 32],\n",
    "    params=exp_config,\n",
    "    checkpoint_path=tf.train.latest_checkpoint(model_dir),\n",
    "    export_dir=\"./export/\",\n",
    ")"
   ]
  },
  {
   "cell_type": "markdown",
   "metadata": {
    "id": "vVr6DxNqTyLZ"
   },
   "source": [
    "Test the exported model."
   ]
  },
  {
   "cell_type": "code",
   "execution_count": 25,
   "metadata": {
    "id": "gP7nOvrftsB0",
    "executionInfo": {
     "status": "ok",
     "timestamp": 1712164932527,
     "user_tz": -330,
     "elapsed": 1915,
     "user": {
      "displayName": "",
      "userId": ""
     }
    }
   },
   "outputs": [],
   "source": [
    "# Importing SavedModel\n",
    "imported = tf.saved_model.load(\"./export/\")\n",
    "model_fn = imported.signatures[\"serving_default\"]"
   ]
  },
  {
   "cell_type": "markdown",
   "metadata": {
    "id": "GiOp2WVIUNUZ"
   },
   "source": [
    "Visualize the predictions."
   ]
  },
  {
   "cell_type": "code",
   "execution_count": 26,
   "metadata": {
    "id": "BTRMrZQAN4mk",
    "executionInfo": {
     "status": "ok",
     "timestamp": 1712164955421,
     "user_tz": -330,
     "elapsed": 2733,
     "user": {
      "displayName": "",
      "userId": ""
     }
    }
   },
   "outputs": [],
   "source": [
    "plt.figure(figsize=(10, 10))\n",
    "for data in tfds.load(\"cifar10\", split=\"test\").batch(12).take(1):\n",
    "    predictions = []\n",
    "    for image in data[\"image\"]:\n",
    "        index = tf.argmax(model_fn(image[tf.newaxis, ...])[\"logits\"], axis=1)[0]\n",
    "        predictions.append(index)\n",
    "    show_batch(data[\"image\"], data[\"label\"], predictions)\n",
    "\n",
    "    if device == \"CPU\":\n",
    "        plt.suptitle(\n",
    "            \"The model was only trained for a few steps, it is not expected to do better than random.\"\n",
    "        )\n",
    "plt.show()"
   ]
  },
  {
   "cell_type": "code",
   "source": [
    "%matplotlib inline\n",
    "from PIL import Image\n",
    "\n",
    "model = Image.open(\"./model.png\")\n",
    "plt.show()"
   ],
   "metadata": {
    "id": "utfxDcxl-7n8",
    "executionInfo": {
     "status": "ok",
     "timestamp": 1712165150149,
     "user_tz": -330,
     "elapsed": 3917,
     "user": {
      "displayName": "",
      "userId": ""
     }
    },
    "outputId": "ec763d4e-2f47-4092-811a-faf5a99a3413",
    "colab": {
     "base_uri": "https://localhost:8080/",
     "height": 1000
    }
   },
   "execution_count": 29,
   "outputs": [
    {
     "output_type": "display_data",
     "data": {
      "text/plain": [
       "<Figure size 640x480 with 1 Axes>"
      ],
      "image/png": "[encoded data removed]"
     },
     "metadata": {}
    },
    {
     "output_type": "display_data",
     "data": {
      "text/plain": [
       "<Figure size 1000x1000 with 0 Axes>"
      ]
     },
     "metadata": {}
    },
    {
     "output_type": "display_data",
     "data": {
      "text/plain": [
       "<Figure size 1000x1000 with 12 Axes>"
      ],
      "image/png": "[encoded data removed]"
     },
     "metadata": {}
    },
    {
     "output_type": "display_data",
     "data": {
      "text/plain": [
       "<Figure size 1000x1000 with 0 Axes>"
      ]
     },
     "metadata": {}
    },
    {
     "output_type": "display_data",
     "data": {
      "text/plain": [
       "<Figure size 1000x1000 with 12 Axes>"
      ],
      "image/png": "[encoded data removed]"
     },
     "metadata": {}
    },
    {
     "output_type": "display_data",
     "data": {
      "text/plain": [
       "<Figure size 1000x1000 with 12 Axes>"
      ],
      "image/png": "[encoded data removed]"
     },
     "metadata": {}
    },
    {
     "output_type": "display_data",
     "data": {
      "text/plain": [
       "<Figure size 1000x1000 with 0 Axes>"
      ]
     },
     "metadata": {}
    },
    {
     "output_type": "display_data",
     "data": {
      "text/plain": [
       "<Figure size 1000x1000 with 12 Axes>"
      ],
      "image/png": "[encoded data removed]"
     },
     "metadata": {}
    }
   ]
  },
  {
   "cell_type": "code",
   "source": [],
   "metadata": {
    "id": "Lxr8HR5t_UKP"
   },
   "execution_count": null,
   "outputs": []
  }
 ],
 "metadata": {
  "colab": {
   "name": "classification_with_model_garden.ipynb",
   "provenance": [
    {
     "file_id": "https://github.com/tensorflow/models/blob/master/docs/vision/image_classification.ipynb",
     "timestamp": 1712165188703
    }
   ],
   "gpuType": "T4"
  },
  "kernelspec": {
   "display_name": "Python 3 (ipykernel)",
   "name": "python3",
   "language": "python"
  },
  "accelerator": "GPU",
  "widgets": {
   "application/vnd.jupyter.widget-state+json": {
    "808c437221f449d484698b69cc56436e": {
     "model_module": "@jupyter-widgets/controls",
     "model_name": "HBoxModel",
     "model_module_version": "1.5.0",
     "state": {
      "_dom_classes": [],
      "_model_module": "@jupyter-widgets/controls",
      "_model_module_version": "1.5.0",
      "_model_name": "HBoxModel",
      "_view_count": null,
      "_view_module": "@jupyter-widgets/controls",
      "_view_module_version": "1.5.0",
      "_view_name": "HBoxView",
      "box_style": "",
      "children": [
       "IPY_MODEL_7edab9bd96f246a09c2052fe200d609c",
       "IPY_MODEL_526fef240e464501852c50bc3a5e1b8a",
       "IPY_MODEL_70428c3b6d29447c823ef19de3e11d12"
      ],
      "layout": "IPY_MODEL_68fe05a9424c4e979741c0d57d32c14d"
     }
    },
    "7edab9bd96f246a09c2052fe200d609c": {
     "model_module": "@jupyter-widgets/controls",
     "model_name": "HTMLModel",
     "model_module_version": "1.5.0",
     "state": {
      "_dom_classes": [],
      "_model_module": "@jupyter-widgets/controls",
      "_model_module_version": "1.5.0",
      "_model_name": "HTMLModel",
      "_view_count": null,
      "_view_module": "@jupyter-widgets/controls",
      "_view_module_version": "1.5.0",
      "_view_name": "HTMLView",
      "description": "",
      "description_tooltip": null,
      "layout": "IPY_MODEL_27e916437b384fb4a1b8715668fbd329",
      "placeholder": "​",
      "style": "IPY_MODEL_c32ca49029964733bff94687c632b4fe",
      "value": "Dl Completed...: 100%"
     }
    },
    "526fef240e464501852c50bc3a5e1b8a": {
     "model_module": "@jupyter-widgets/controls",
     "model_name": "FloatProgressModel",
     "model_module_version": "1.5.0",
     "state": {
      "_dom_classes": [],
      "_model_module": "@jupyter-widgets/controls",
      "_model_module_version": "1.5.0",
      "_model_name": "FloatProgressModel",
      "_view_count": null,
      "_view_module": "@jupyter-widgets/controls",
      "_view_module_version": "1.5.0",
      "_view_name": "ProgressView",
      "bar_style": "success",
      "description": "",
      "description_tooltip": null,
      "layout": "IPY_MODEL_71870137444e4f18b1da6077f303e670",
      "max": 1,
      "min": 0,
      "orientation": "horizontal",
      "style": "IPY_MODEL_4ce05a21e1a843659307984ac4ad1916",
      "value": 1
     }
    },
    "70428c3b6d29447c823ef19de3e11d12": {
     "model_module": "@jupyter-widgets/controls",
     "model_name": "HTMLModel",
     "model_module_version": "1.5.0",
     "state": {
      "_dom_classes": [],
      "_model_module": "@jupyter-widgets/controls",
      "_model_module_version": "1.5.0",
      "_model_name": "HTMLModel",
      "_view_count": null,
      "_view_module": "@jupyter-widgets/controls",
      "_view_module_version": "1.5.0",
      "_view_name": "HTMLView",
      "description": "",
      "description_tooltip": null,
      "layout": "IPY_MODEL_21917509c61c454c903b23a17193be6a",
      "placeholder": "​",
      "style": "IPY_MODEL_cc39446c78d24fd8ac30d6f2dd4d68ca",
      "value": " 1/1 [00:16&lt;00:00, 14.77s/ url]"
     }
    },
    "68fe05a9424c4e979741c0d57d32c14d": {
     "model_module": "@jupyter-widgets/base",
     "model_name": "LayoutModel",
     "model_module_version": "1.2.0",
     "state": {
      "_model_module": "@jupyter-widgets/base",
      "_model_module_version": "1.2.0",
      "_model_name": "LayoutModel",
      "_view_count": null,
      "_view_module": "@jupyter-widgets/base",
      "_view_module_version": "1.2.0",
      "_view_name": "LayoutView",
      "align_content": null,
      "align_items": null,
      "align_self": null,
      "border": null,
      "bottom": null,
      "display": null,
      "flex": null,
      "flex_flow": null,
      "grid_area": null,
      "grid_auto_columns": null,
      "grid_auto_flow": null,
      "grid_auto_rows": null,
      "grid_column": null,
      "grid_gap": null,
      "grid_row": null,
      "grid_template_areas": null,
      "grid_template_columns": null,
      "grid_template_rows": null,
      "height": null,
      "justify_content": null,
      "justify_items": null,
      "left": null,
      "margin": null,
      "max_height": null,
      "max_width": null,
      "min_height": null,
      "min_width": null,
      "object_fit": null,
      "object_position": null,
      "order": null,
      "overflow": null,
      "overflow_x": null,
      "overflow_y": null,
      "padding": null,
      "right": null,
      "top": null,
      "visibility": null,
      "width": null
     }
    },
    "27e916437b384fb4a1b8715668fbd329": {
     "model_module": "@jupyter-widgets/base",
     "model_name": "LayoutModel",
     "model_module_version": "1.2.0",
     "state": {
      "_model_module": "@jupyter-widgets/base",
      "_model_module_version": "1.2.0",
      "_model_name": "LayoutModel",
      "_view_count": null,
      "_view_module": "@jupyter-widgets/base",
      "_view_module_version": "1.2.0",
      "_view_name": "LayoutView",
      "align_content": null,
      "align_items": null,
      "align_self": null,
      "border": null,
      "bottom": null,
      "display": null,
      "flex": null,
      "flex_flow": null,
      "grid_area": null,
      "grid_auto_columns": null,
      "grid_auto_flow": null,
      "grid_auto_rows": null,
      "grid_column": null,
      "grid_gap": null,
      "grid_row": null,
      "grid_template_areas": null,
      "grid_template_columns": null,
      "grid_template_rows": null,
      "height": null,
      "justify_content": null,
      "justify_items": null,
      "left": null,
      "margin": null,
      "max_height": null,
      "max_width": null,
      "min_height": null,
      "min_width": null,
      "object_fit": null,
      "object_position": null,
      "order": null,
      "overflow": null,
      "overflow_x": null,
      "overflow_y": null,
      "padding": null,
      "right": null,
      "top": null,
      "visibility": null,
      "width": null
     }
    },
    "c32ca49029964733bff94687c632b4fe": {
     "model_module": "@jupyter-widgets/controls",
     "model_name": "DescriptionStyleModel",
     "model_module_version": "1.5.0",
     "state": {
      "_model_module": "@jupyter-widgets/controls",
      "_model_module_version": "1.5.0",
      "_model_name": "DescriptionStyleModel",
      "_view_count": null,
      "_view_module": "@jupyter-widgets/base",
      "_view_module_version": "1.2.0",
      "_view_name": "StyleView",
      "description_width": ""
     }
    },
    "71870137444e4f18b1da6077f303e670": {
     "model_module": "@jupyter-widgets/base",
     "model_name": "LayoutModel",
     "model_module_version": "1.2.0",
     "state": {
      "_model_module": "@jupyter-widgets/base",
      "_model_module_version": "1.2.0",
      "_model_name": "LayoutModel",
      "_view_count": null,
      "_view_module": "@jupyter-widgets/base",
      "_view_module_version": "1.2.0",
      "_view_name": "LayoutView",
      "align_content": null,
      "align_items": null,
      "align_self": null,
      "border": null,
      "bottom": null,
      "display": null,
      "flex": null,
      "flex_flow": null,
      "grid_area": null,
      "grid_auto_columns": null,
      "grid_auto_flow": null,
      "grid_auto_rows": null,
      "grid_column": null,
      "grid_gap": null,
      "grid_row": null,
      "grid_template_areas": null,
      "grid_template_columns": null,
      "grid_template_rows": null,
      "height": null,
      "justify_content": null,
      "justify_items": null,
      "left": null,
      "margin": null,
      "max_height": null,
      "max_width": null,
      "min_height": null,
      "min_width": null,
      "object_fit": null,
      "object_position": null,
      "order": null,
      "overflow": null,
      "overflow_x": null,
      "overflow_y": null,
      "padding": null,
      "right": null,
      "top": null,
      "visibility": null,
      "width": "20px"
     }
    },
    "4ce05a21e1a843659307984ac4ad1916": {
     "model_module": "@jupyter-widgets/controls",
     "model_name": "ProgressStyleModel",
     "model_module_version": "1.5.0",
     "state": {
      "_model_module": "@jupyter-widgets/controls",
      "_model_module_version": "1.5.0",
      "_model_name": "ProgressStyleModel",
      "_view_count": null,
      "_view_module": "@jupyter-widgets/base",
      "_view_module_version": "1.2.0",
      "_view_name": "StyleView",
      "bar_color": null,
      "description_width": ""
     }
    },
    "21917509c61c454c903b23a17193be6a": {
     "model_module": "@jupyter-widgets/base",
     "model_name": "LayoutModel",
     "model_module_version": "1.2.0",
     "state": {
      "_model_module": "@jupyter-widgets/base",
      "_model_module_version": "1.2.0",
      "_model_name": "LayoutModel",
      "_view_count": null,
      "_view_module": "@jupyter-widgets/base",
      "_view_module_version": "1.2.0",
      "_view_name": "LayoutView",
      "align_content": null,
      "align_items": null,
      "align_self": null,
      "border": null,
      "bottom": null,
      "display": null,
      "flex": null,
      "flex_flow": null,
      "grid_area": null,
      "grid_auto_columns": null,
      "grid_auto_flow": null,
      "grid_auto_rows": null,
      "grid_column": null,
      "grid_gap": null,
      "grid_row": null,
      "grid_template_areas": null,
      "grid_template_columns": null,
      "grid_template_rows": null,
      "height": null,
      "justify_content": null,
      "justify_items": null,
      "left": null,
      "margin": null,
      "max_height": null,
      "max_width": null,
      "min_height": null,
      "min_width": null,
      "object_fit": null,
      "object_position": null,
      "order": null,
      "overflow": null,
      "overflow_x": null,
      "overflow_y": null,
      "padding": null,
      "right": null,
      "top": null,
      "visibility": null,
      "width": null
     }
    },
    "cc39446c78d24fd8ac30d6f2dd4d68ca": {
     "model_module": "@jupyter-widgets/controls",
     "model_name": "DescriptionStyleModel",
     "model_module_version": "1.5.0",
     "state": {
      "_model_module": "@jupyter-widgets/controls",
      "_model_module_version": "1.5.0",
      "_model_name": "DescriptionStyleModel",
      "_view_count": null,
      "_view_module": "@jupyter-widgets/base",
      "_view_module_version": "1.2.0",
      "_view_name": "StyleView",
      "description_width": ""
     }
    },
    "37a145599b124b27b56f405057447cff": {
     "model_module": "@jupyter-widgets/controls",
     "model_name": "HBoxModel",
     "model_module_version": "1.5.0",
     "state": {
      "_dom_classes": [],
      "_model_module": "@jupyter-widgets/controls",
      "_model_module_version": "1.5.0",
      "_model_name": "HBoxModel",
      "_view_count": null,
      "_view_module": "@jupyter-widgets/controls",
      "_view_module_version": "1.5.0",
      "_view_name": "HBoxView",
      "box_style": "",
      "children": [
       "IPY_MODEL_33830d3e7230440794cb5da391bb0515",
       "IPY_MODEL_79a73d1da8434769a436ca6af44d4385",
       "IPY_MODEL_79556e23e5e74b209d13438c657fb75f"
      ],
      "layout": "IPY_MODEL_530fb4f1fe3f4629b456307cf1576391"
     }
    },
    "33830d3e7230440794cb5da391bb0515": {
     "model_module": "@jupyter-widgets/controls",
     "model_name": "HTMLModel",
     "model_module_version": "1.5.0",
     "state": {
      "_dom_classes": [],
      "_model_module": "@jupyter-widgets/controls",
      "_model_module_version": "1.5.0",
      "_model_name": "HTMLModel",
      "_view_count": null,
      "_view_module": "@jupyter-widgets/controls",
      "_view_module_version": "1.5.0",
      "_view_name": "HTMLView",
      "description": "",
      "description_tooltip": null,
      "layout": "IPY_MODEL_b131d244e94342e5a1e71f273e76ce9a",
      "placeholder": "​",
      "style": "IPY_MODEL_f27a9a6e33e54ed7a591311d3b6a5335",
      "value": "Dl Size...: 100%"
     }
    },
    "79a73d1da8434769a436ca6af44d4385": {
     "model_module": "@jupyter-widgets/controls",
     "model_name": "FloatProgressModel",
     "model_module_version": "1.5.0",
     "state": {
      "_dom_classes": [],
      "_model_module": "@jupyter-widgets/controls",
      "_model_module_version": "1.5.0",
      "_model_name": "FloatProgressModel",
      "_view_count": null,
      "_view_module": "@jupyter-widgets/controls",
      "_view_module_version": "1.5.0",
      "_view_name": "ProgressView",
      "bar_style": "success",
      "description": "",
      "description_tooltip": null,
      "layout": "IPY_MODEL_bb30c40ce45049d8b13fd342919ae2bc",
      "max": 1,
      "min": 0,
      "orientation": "horizontal",
      "style": "IPY_MODEL_a9c4492c44b247f1ab8143caf774e870",
      "value": 1
     }
    },
    "79556e23e5e74b209d13438c657fb75f": {
     "model_module": "@jupyter-widgets/controls",
     "model_name": "HTMLModel",
     "model_module_version": "1.5.0",
     "state": {
      "_dom_classes": [],
      "_model_module": "@jupyter-widgets/controls",
      "_model_module_version": "1.5.0",
      "_model_name": "HTMLModel",
      "_view_count": null,
      "_view_module": "@jupyter-widgets/controls",
      "_view_module_version": "1.5.0",
      "_view_name": "HTMLView",
      "description": "",
      "description_tooltip": null,
      "layout": "IPY_MODEL_4494ff57eab143d7837c8dd373170a3e",
      "placeholder": "​",
      "style": "IPY_MODEL_69a77faf7d834f9a927bd2c54b7fbae6",
      "value": " 162/162 [00:16&lt;00:00, 13.20 MiB/s]"
     }
    },
    "530fb4f1fe3f4629b456307cf1576391": {
     "model_module": "@jupyter-widgets/base",
     "model_name": "LayoutModel",
     "model_module_version": "1.2.0",
     "state": {
      "_model_module": "@jupyter-widgets/base",
      "_model_module_version": "1.2.0",
      "_model_name": "LayoutModel",
      "_view_count": null,
      "_view_module": "@jupyter-widgets/base",
      "_view_module_version": "1.2.0",
      "_view_name": "LayoutView",
      "align_content": null,
      "align_items": null,
      "align_self": null,
      "border": null,
      "bottom": null,
      "display": null,
      "flex": null,
      "flex_flow": null,
      "grid_area": null,
      "grid_auto_columns": null,
      "grid_auto_flow": null,
      "grid_auto_rows": null,
      "grid_column": null,
      "grid_gap": null,
      "grid_row": null,
      "grid_template_areas": null,
      "grid_template_columns": null,
      "grid_template_rows": null,
      "height": null,
      "justify_content": null,
      "justify_items": null,
      "left": null,
      "margin": null,
      "max_height": null,
      "max_width": null,
      "min_height": null,
      "min_width": null,
      "object_fit": null,
      "object_position": null,
      "order": null,
      "overflow": null,
      "overflow_x": null,
      "overflow_y": null,
      "padding": null,
      "right": null,
      "top": null,
      "visibility": null,
      "width": null
     }
    },
    "b131d244e94342e5a1e71f273e76ce9a": {
     "model_module": "@jupyter-widgets/base",
     "model_name": "LayoutModel",
     "model_module_version": "1.2.0",
     "state": {
      "_model_module": "@jupyter-widgets/base",
      "_model_module_version": "1.2.0",
      "_model_name": "LayoutModel",
      "_view_count": null,
      "_view_module": "@jupyter-widgets/base",
      "_view_module_version": "1.2.0",
      "_view_name": "LayoutView",
      "align_content": null,
      "align_items": null,
      "align_self": null,
      "border": null,
      "bottom": null,
      "display": null,
      "flex": null,
      "flex_flow": null,
      "grid_area": null,
      "grid_auto_columns": null,
      "grid_auto_flow": null,
      "grid_auto_rows": null,
      "grid_column": null,
      "grid_gap": null,
      "grid_row": null,
      "grid_template_areas": null,
      "grid_template_columns": null,
      "grid_template_rows": null,
      "height": null,
      "justify_content": null,
      "justify_items": null,
      "left": null,
      "margin": null,
      "max_height": null,
      "max_width": null,
      "min_height": null,
      "min_width": null,
      "object_fit": null,
      "object_position": null,
      "order": null,
      "overflow": null,
      "overflow_x": null,
      "overflow_y": null,
      "padding": null,
      "right": null,
      "top": null,
      "visibility": null,
      "width": null
     }
    },
    "f27a9a6e33e54ed7a591311d3b6a5335": {
     "model_module": "@jupyter-widgets/controls",
     "model_name": "DescriptionStyleModel",
     "model_module_version": "1.5.0",
     "state": {
      "_model_module": "@jupyter-widgets/controls",
      "_model_module_version": "1.5.0",
      "_model_name": "DescriptionStyleModel",
      "_view_count": null,
      "_view_module": "@jupyter-widgets/base",
      "_view_module_version": "1.2.0",
      "_view_name": "StyleView",
      "description_width": ""
     }
    },
    "bb30c40ce45049d8b13fd342919ae2bc": {
     "model_module": "@jupyter-widgets/base",
     "model_name": "LayoutModel",
     "model_module_version": "1.2.0",
     "state": {
      "_model_module": "@jupyter-widgets/base",
      "_model_module_version": "1.2.0",
      "_model_name": "LayoutModel",
      "_view_count": null,
      "_view_module": "@jupyter-widgets/base",
      "_view_module_version": "1.2.0",
      "_view_name": "LayoutView",
      "align_content": null,
      "align_items": null,
      "align_self": null,
      "border": null,
      "bottom": null,
      "display": null,
      "flex": null,
      "flex_flow": null,
      "grid_area": null,
      "grid_auto_columns": null,
      "grid_auto_flow": null,
      "grid_auto_rows": null,
      "grid_column": null,
      "grid_gap": null,
      "grid_row": null,
      "grid_template_areas": null,
      "grid_template_columns": null,
      "grid_template_rows": null,
      "height": null,
      "justify_content": null,
      "justify_items": null,
      "left": null,
      "margin": null,
      "max_height": null,
      "max_width": null,
      "min_height": null,
      "min_width": null,
      "object_fit": null,
      "object_position": null,
      "order": null,
      "overflow": null,
      "overflow_x": null,
      "overflow_y": null,
      "padding": null,
      "right": null,
      "top": null,
      "visibility": null,
      "width": "20px"
     }
    },
    "a9c4492c44b247f1ab8143caf774e870": {
     "model_module": "@jupyter-widgets/controls",
     "model_name": "ProgressStyleModel",
     "model_module_version": "1.5.0",
     "state": {
      "_model_module": "@jupyter-widgets/controls",
      "_model_module_version": "1.5.0",
      "_model_name": "ProgressStyleModel",
      "_view_count": null,
      "_view_module": "@jupyter-widgets/base",
      "_view_module_version": "1.2.0",
      "_view_name": "StyleView",
      "bar_color": null,
      "description_width": ""
     }
    },
    "4494ff57eab143d7837c8dd373170a3e": {
     "model_module": "@jupyter-widgets/base",
     "model_name": "LayoutModel",
     "model_module_version": "1.2.0",
     "state": {
      "_model_module": "@jupyter-widgets/base",
      "_model_module_version": "1.2.0",
      "_model_name": "LayoutModel",
      "_view_count": null,
      "_view_module": "@jupyter-widgets/base",
      "_view_module_version": "1.2.0",
      "_view_name": "LayoutView",
      "align_content": null,
      "align_items": null,
      "align_self": null,
      "border": null,
      "bottom": null,
      "display": null,
      "flex": null,
      "flex_flow": null,
      "grid_area": null,
      "grid_auto_columns": null,
      "grid_auto_flow": null,
      "grid_auto_rows": null,
      "grid_column": null,
      "grid_gap": null,
      "grid_row": null,
      "grid_template_areas": null,
      "grid_template_columns": null,
      "grid_template_rows": null,
      "height": null,
      "justify_content": null,
      "justify_items": null,
      "left": null,
      "margin": null,
      "max_height": null,
      "max_width": null,
      "min_height": null,
      "min_width": null,
      "object_fit": null,
      "object_position": null,
      "order": null,
      "overflow": null,
      "overflow_x": null,
      "overflow_y": null,
      "padding": null,
      "right": null,
      "top": null,
      "visibility": null,
      "width": null
     }
    },
    "69a77faf7d834f9a927bd2c54b7fbae6": {
     "model_module": "@jupyter-widgets/controls",
     "model_name": "DescriptionStyleModel",
     "model_module_version": "1.5.0",
     "state": {
      "_model_module": "@jupyter-widgets/controls",
      "_model_module_version": "1.5.0",
      "_model_name": "DescriptionStyleModel",
      "_view_count": null,
      "_view_module": "@jupyter-widgets/base",
      "_view_module_version": "1.2.0",
      "_view_name": "StyleView",
      "description_width": ""
     }
    },
    "5214b5a5d9444c14b0d64aec1c9ff2ea": {
     "model_module": "@jupyter-widgets/controls",
     "model_name": "HBoxModel",
     "model_module_version": "1.5.0",
     "state": {
      "_dom_classes": [],
      "_model_module": "@jupyter-widgets/controls",
      "_model_module_version": "1.5.0",
      "_model_name": "HBoxModel",
      "_view_count": null,
      "_view_module": "@jupyter-widgets/controls",
      "_view_module_version": "1.5.0",
      "_view_name": "HBoxView",
      "box_style": "",
      "children": [
       "IPY_MODEL_108ac92de1564fb587bd499b0484eef4",
       "IPY_MODEL_7ed5b17205b34da8bef50fbb947b6668",
       "IPY_MODEL_942a129d345443b2b5b68d2c4b0fe8d0"
      ],
      "layout": "IPY_MODEL_f61cebfb9b134b62973af5ce037c0063"
     }
    },
    "108ac92de1564fb587bd499b0484eef4": {
     "model_module": "@jupyter-widgets/controls",
     "model_name": "HTMLModel",
     "model_module_version": "1.5.0",
     "state": {
      "_dom_classes": [],
      "_model_module": "@jupyter-widgets/controls",
      "_model_module_version": "1.5.0",
      "_model_name": "HTMLModel",
      "_view_count": null,
      "_view_module": "@jupyter-widgets/controls",
      "_view_module_version": "1.5.0",
      "_view_name": "HTMLView",
      "description": "",
      "description_tooltip": null,
      "layout": "IPY_MODEL_5f3552a9a17145398bfed1bd8519c8e2",
      "placeholder": "​",
      "style": "IPY_MODEL_081147bebc1d4b02ab476537b8c5a281",
      "value": "Extraction completed...: 100%"
     }
    },
    "7ed5b17205b34da8bef50fbb947b6668": {
     "model_module": "@jupyter-widgets/controls",
     "model_name": "FloatProgressModel",
     "model_module_version": "1.5.0",
     "state": {
      "_dom_classes": [],
      "_model_module": "@jupyter-widgets/controls",
      "_model_module_version": "1.5.0",
      "_model_name": "FloatProgressModel",
      "_view_count": null,
      "_view_module": "@jupyter-widgets/controls",
      "_view_module_version": "1.5.0",
      "_view_name": "ProgressView",
      "bar_style": "success",
      "description": "",
      "description_tooltip": null,
      "layout": "IPY_MODEL_d357d5a98a3a4cfda9e3e12fbf0c205a",
      "max": 1,
      "min": 0,
      "orientation": "horizontal",
      "style": "IPY_MODEL_cdc1489344a941cc9a72a362b6f76b83",
      "value": 1
     }
    },
    "942a129d345443b2b5b68d2c4b0fe8d0": {
     "model_module": "@jupyter-widgets/controls",
     "model_name": "HTMLModel",
     "model_module_version": "1.5.0",
     "state": {
      "_dom_classes": [],
      "_model_module": "@jupyter-widgets/controls",
      "_model_module_version": "1.5.0",
      "_model_name": "HTMLModel",
      "_view_count": null,
      "_view_module": "@jupyter-widgets/controls",
      "_view_module_version": "1.5.0",
      "_view_name": "HTMLView",
      "description": "",
      "description_tooltip": null,
      "layout": "IPY_MODEL_44d7cb5c4bb44e0e9776dc2b0f0f9d00",
      "placeholder": "​",
      "style": "IPY_MODEL_aba0c554dc21494c92fed0da053cf180",
      "value": " 8/8 [00:16&lt;00:00, 16.29s/ file]"
     }
    },
    "f61cebfb9b134b62973af5ce037c0063": {
     "model_module": "@jupyter-widgets/base",
     "model_name": "LayoutModel",
     "model_module_version": "1.2.0",
     "state": {
      "_model_module": "@jupyter-widgets/base",
      "_model_module_version": "1.2.0",
      "_model_name": "LayoutModel",
      "_view_count": null,
      "_view_module": "@jupyter-widgets/base",
      "_view_module_version": "1.2.0",
      "_view_name": "LayoutView",
      "align_content": null,
      "align_items": null,
      "align_self": null,
      "border": null,
      "bottom": null,
      "display": null,
      "flex": null,
      "flex_flow": null,
      "grid_area": null,
      "grid_auto_columns": null,
      "grid_auto_flow": null,
      "grid_auto_rows": null,
      "grid_column": null,
      "grid_gap": null,
      "grid_row": null,
      "grid_template_areas": null,
      "grid_template_columns": null,
      "grid_template_rows": null,
      "height": null,
      "justify_content": null,
      "justify_items": null,
      "left": null,
      "margin": null,
      "max_height": null,
      "max_width": null,
      "min_height": null,
      "min_width": null,
      "object_fit": null,
      "object_position": null,
      "order": null,
      "overflow": null,
      "overflow_x": null,
      "overflow_y": null,
      "padding": null,
      "right": null,
      "top": null,
      "visibility": null,
      "width": null
     }
    },
    "5f3552a9a17145398bfed1bd8519c8e2": {
     "model_module": "@jupyter-widgets/base",
     "model_name": "LayoutModel",
     "model_module_version": "1.2.0",
     "state": {
      "_model_module": "@jupyter-widgets/base",
      "_model_module_version": "1.2.0",
      "_model_name": "LayoutModel",
      "_view_count": null,
      "_view_module": "@jupyter-widgets/base",
      "_view_module_version": "1.2.0",
      "_view_name": "LayoutView",
      "align_content": null,
      "align_items": null,
      "align_self": null,
      "border": null,
      "bottom": null,
      "display": null,
      "flex": null,
      "flex_flow": null,
      "grid_area": null,
      "grid_auto_columns": null,
      "grid_auto_flow": null,
      "grid_auto_rows": null,
      "grid_column": null,
      "grid_gap": null,
      "grid_row": null,
      "grid_template_areas": null,
      "grid_template_columns": null,
      "grid_template_rows": null,
      "height": null,
      "justify_content": null,
      "justify_items": null,
      "left": null,
      "margin": null,
      "max_height": null,
      "max_width": null,
      "min_height": null,
      "min_width": null,
      "object_fit": null,
      "object_position": null,
      "order": null,
      "overflow": null,
      "overflow_x": null,
      "overflow_y": null,
      "padding": null,
      "right": null,
      "top": null,
      "visibility": null,
      "width": null
     }
    },
    "081147bebc1d4b02ab476537b8c5a281": {
     "model_module": "@jupyter-widgets/controls",
     "model_name": "DescriptionStyleModel",
     "model_module_version": "1.5.0",
     "state": {
      "_model_module": "@jupyter-widgets/controls",
      "_model_module_version": "1.5.0",
      "_model_name": "DescriptionStyleModel",
      "_view_count": null,
      "_view_module": "@jupyter-widgets/base",
      "_view_module_version": "1.2.0",
      "_view_name": "StyleView",
      "description_width": ""
     }
    },
    "d357d5a98a3a4cfda9e3e12fbf0c205a": {
     "model_module": "@jupyter-widgets/base",
     "model_name": "LayoutModel",
     "model_module_version": "1.2.0",
     "state": {
      "_model_module": "@jupyter-widgets/base",
      "_model_module_version": "1.2.0",
      "_model_name": "LayoutModel",
      "_view_count": null,
      "_view_module": "@jupyter-widgets/base",
      "_view_module_version": "1.2.0",
      "_view_name": "LayoutView",
      "align_content": null,
      "align_items": null,
      "align_self": null,
      "border": null,
      "bottom": null,
      "display": null,
      "flex": null,
      "flex_flow": null,
      "grid_area": null,
      "grid_auto_columns": null,
      "grid_auto_flow": null,
      "grid_auto_rows": null,
      "grid_column": null,
      "grid_gap": null,
      "grid_row": null,
      "grid_template_areas": null,
      "grid_template_columns": null,
      "grid_template_rows": null,
      "height": null,
      "justify_content": null,
      "justify_items": null,
      "left": null,
      "margin": null,
      "max_height": null,
      "max_width": null,
      "min_height": null,
      "min_width": null,
      "object_fit": null,
      "object_position": null,
      "order": null,
      "overflow": null,
      "overflow_x": null,
      "overflow_y": null,
      "padding": null,
      "right": null,
      "top": null,
      "visibility": null,
      "width": "20px"
     }
    },
    "cdc1489344a941cc9a72a362b6f76b83": {
     "model_module": "@jupyter-widgets/controls",
     "model_name": "ProgressStyleModel",
     "model_module_version": "1.5.0",
     "state": {
      "_model_module": "@jupyter-widgets/controls",
      "_model_module_version": "1.5.0",
      "_model_name": "ProgressStyleModel",
      "_view_count": null,
      "_view_module": "@jupyter-widgets/base",
      "_view_module_version": "1.2.0",
      "_view_name": "StyleView",
      "bar_color": null,
      "description_width": ""
     }
    },
    "44d7cb5c4bb44e0e9776dc2b0f0f9d00": {
     "model_module": "@jupyter-widgets/base",
     "model_name": "LayoutModel",
     "model_module_version": "1.2.0",
     "state": {
      "_model_module": "@jupyter-widgets/base",
      "_model_module_version": "1.2.0",
      "_model_name": "LayoutModel",
      "_view_count": null,
      "_view_module": "@jupyter-widgets/base",
      "_view_module_version": "1.2.0",
      "_view_name": "LayoutView",
      "align_content": null,
      "align_items": null,
      "align_self": null,
      "border": null,
      "bottom": null,
      "display": null,
      "flex": null,
      "flex_flow": null,
      "grid_area": null,
      "grid_auto_columns": null,
      "grid_auto_flow": null,
      "grid_auto_rows": null,
      "grid_column": null,
      "grid_gap": null,
      "grid_row": null,
      "grid_template_areas": null,
      "grid_template_columns": null,
      "grid_template_rows": null,
      "height": null,
      "justify_content": null,
      "justify_items": null,
      "left": null,
      "margin": null,
      "max_height": null,
      "max_width": null,
      "min_height": null,
      "min_width": null,
      "object_fit": null,
      "object_position": null,
      "order": null,
      "overflow": null,
      "overflow_x": null,
      "overflow_y": null,
      "padding": null,
      "right": null,
      "top": null,
      "visibility": null,
      "width": null
     }
    },
    "aba0c554dc21494c92fed0da053cf180": {
     "model_module": "@jupyter-widgets/controls",
     "model_name": "DescriptionStyleModel",
     "model_module_version": "1.5.0",
     "state": {
      "_model_module": "@jupyter-widgets/controls",
      "_model_module_version": "1.5.0",
      "_model_name": "DescriptionStyleModel",
      "_view_count": null,
      "_view_module": "@jupyter-widgets/base",
      "_view_module_version": "1.2.0",
      "_view_name": "StyleView",
      "description_width": ""
     }
    },
    "54076754ffb84597aca27c56184235d2": {
     "model_module": "@jupyter-widgets/controls",
     "model_name": "HBoxModel",
     "model_module_version": "1.5.0",
     "state": {
      "_dom_classes": [],
      "_model_module": "@jupyter-widgets/controls",
      "_model_module_version": "1.5.0",
      "_model_name": "HBoxModel",
      "_view_count": null,
      "_view_module": "@jupyter-widgets/controls",
      "_view_module_version": "1.5.0",
      "_view_name": "HBoxView",
      "box_style": "",
      "children": [
       "IPY_MODEL_943e0dbe526346db826d6b02ebd8c27d",
       "IPY_MODEL_bae84f6820de4ba39eec9aebddaf9577",
       "IPY_MODEL_9b82012fb76f4e58a0d455e6e5211a4f"
      ],
      "layout": "IPY_MODEL_eb9a9ed77ad74092b50a5ee3020e55ac"
     }
    },
    "943e0dbe526346db826d6b02ebd8c27d": {
     "model_module": "@jupyter-widgets/controls",
     "model_name": "HTMLModel",
     "model_module_version": "1.5.0",
     "state": {
      "_dom_classes": [],
      "_model_module": "@jupyter-widgets/controls",
      "_model_module_version": "1.5.0",
      "_model_name": "HTMLModel",
      "_view_count": null,
      "_view_module": "@jupyter-widgets/controls",
      "_view_module_version": "1.5.0",
      "_view_name": "HTMLView",
      "description": "",
      "description_tooltip": null,
      "layout": "IPY_MODEL_0458065912864d28be8e1c91fb3cf67c",
      "placeholder": "​",
      "style": "IPY_MODEL_e61b8858c6404b6cbae7cb4c6ec1e53d",
      "value": "Generating splits...: 100%"
     }
    },
    "bae84f6820de4ba39eec9aebddaf9577": {
     "model_module": "@jupyter-widgets/controls",
     "model_name": "FloatProgressModel",
     "model_module_version": "1.5.0",
     "state": {
      "_dom_classes": [],
      "_model_module": "@jupyter-widgets/controls",
      "_model_module_version": "1.5.0",
      "_model_name": "FloatProgressModel",
      "_view_count": null,
      "_view_module": "@jupyter-widgets/controls",
      "_view_module_version": "1.5.0",
      "_view_name": "ProgressView",
      "bar_style": "",
      "description": "",
      "description_tooltip": null,
      "layout": "IPY_MODEL_e45742a9338a41adb87d6820760b2c0c",
      "max": 2,
      "min": 0,
      "orientation": "horizontal",
      "style": "IPY_MODEL_6a44dc7a788b4102a2408c503924e843",
      "value": 2
     }
    },
    "9b82012fb76f4e58a0d455e6e5211a4f": {
     "model_module": "@jupyter-widgets/controls",
     "model_name": "HTMLModel",
     "model_module_version": "1.5.0",
     "state": {
      "_dom_classes": [],
      "_model_module": "@jupyter-widgets/controls",
      "_model_module_version": "1.5.0",
      "_model_name": "HTMLModel",
      "_view_count": null,
      "_view_module": "@jupyter-widgets/controls",
      "_view_module_version": "1.5.0",
      "_view_name": "HTMLView",
      "description": "",
      "description_tooltip": null,
      "layout": "IPY_MODEL_ce94c18cde9b498e849e8886f45c0978",
      "placeholder": "​",
      "style": "IPY_MODEL_3ca2d326764d41d6b550c7fe2e687376",
      "value": " 2/2 [01:00&lt;00:00, 26.40s/ splits]"
     }
    },
    "eb9a9ed77ad74092b50a5ee3020e55ac": {
     "model_module": "@jupyter-widgets/base",
     "model_name": "LayoutModel",
     "model_module_version": "1.2.0",
     "state": {
      "_model_module": "@jupyter-widgets/base",
      "_model_module_version": "1.2.0",
      "_model_name": "LayoutModel",
      "_view_count": null,
      "_view_module": "@jupyter-widgets/base",
      "_view_module_version": "1.2.0",
      "_view_name": "LayoutView",
      "align_content": null,
      "align_items": null,
      "align_self": null,
      "border": null,
      "bottom": null,
      "display": null,
      "flex": null,
      "flex_flow": null,
      "grid_area": null,
      "grid_auto_columns": null,
      "grid_auto_flow": null,
      "grid_auto_rows": null,
      "grid_column": null,
      "grid_gap": null,
      "grid_row": null,
      "grid_template_areas": null,
      "grid_template_columns": null,
      "grid_template_rows": null,
      "height": null,
      "justify_content": null,
      "justify_items": null,
      "left": null,
      "margin": null,
      "max_height": null,
      "max_width": null,
      "min_height": null,
      "min_width": null,
      "object_fit": null,
      "object_position": null,
      "order": null,
      "overflow": null,
      "overflow_x": null,
      "overflow_y": null,
      "padding": null,
      "right": null,
      "top": null,
      "visibility": "hidden",
      "width": null
     }
    },
    "0458065912864d28be8e1c91fb3cf67c": {
     "model_module": "@jupyter-widgets/base",
     "model_name": "LayoutModel",
     "model_module_version": "1.2.0",
     "state": {
      "_model_module": "@jupyter-widgets/base",
      "_model_module_version": "1.2.0",
      "_model_name": "LayoutModel",
      "_view_count": null,
      "_view_module": "@jupyter-widgets/base",
      "_view_module_version": "1.2.0",
      "_view_name": "LayoutView",
      "align_content": null,
      "align_items": null,
      "align_self": null,
      "border": null,
      "bottom": null,
      "display": null,
      "flex": null,
      "flex_flow": null,
      "grid_area": null,
      "grid_auto_columns": null,
      "grid_auto_flow": null,
      "grid_auto_rows": null,
      "grid_column": null,
      "grid_gap": null,
      "grid_row": null,
      "grid_template_areas": null,
      "grid_template_columns": null,
      "grid_template_rows": null,
      "height": null,
      "justify_content": null,
      "justify_items": null,
      "left": null,
      "margin": null,
      "max_height": null,
      "max_width": null,
      "min_height": null,
      "min_width": null,
      "object_fit": null,
      "object_position": null,
      "order": null,
      "overflow": null,
      "overflow_x": null,
      "overflow_y": null,
      "padding": null,
      "right": null,
      "top": null,
      "visibility": null,
      "width": null
     }
    },
    "e61b8858c6404b6cbae7cb4c6ec1e53d": {
     "model_module": "@jupyter-widgets/controls",
     "model_name": "DescriptionStyleModel",
     "model_module_version": "1.5.0",
     "state": {
      "_model_module": "@jupyter-widgets/controls",
      "_model_module_version": "1.5.0",
      "_model_name": "DescriptionStyleModel",
      "_view_count": null,
      "_view_module": "@jupyter-widgets/base",
      "_view_module_version": "1.2.0",
      "_view_name": "StyleView",
      "description_width": ""
     }
    },
    "e45742a9338a41adb87d6820760b2c0c": {
     "model_module": "@jupyter-widgets/base",
     "model_name": "LayoutModel",
     "model_module_version": "1.2.0",
     "state": {
      "_model_module": "@jupyter-widgets/base",
      "_model_module_version": "1.2.0",
      "_model_name": "LayoutModel",
      "_view_count": null,
      "_view_module": "@jupyter-widgets/base",
      "_view_module_version": "1.2.0",
      "_view_name": "LayoutView",
      "align_content": null,
      "align_items": null,
      "align_self": null,
      "border": null,
      "bottom": null,
      "display": null,
      "flex": null,
      "flex_flow": null,
      "grid_area": null,
      "grid_auto_columns": null,
      "grid_auto_flow": null,
      "grid_auto_rows": null,
      "grid_column": null,
      "grid_gap": null,
      "grid_row": null,
      "grid_template_areas": null,
      "grid_template_columns": null,
      "grid_template_rows": null,
      "height": null,
      "justify_content": null,
      "justify_items": null,
      "left": null,
      "margin": null,
      "max_height": null,
      "max_width": null,
      "min_height": null,
      "min_width": null,
      "object_fit": null,
      "object_position": null,
      "order": null,
      "overflow": null,
      "overflow_x": null,
      "overflow_y": null,
      "padding": null,
      "right": null,
      "top": null,
      "visibility": null,
      "width": null
     }
    },
    "6a44dc7a788b4102a2408c503924e843": {
     "model_module": "@jupyter-widgets/controls",
     "model_name": "ProgressStyleModel",
     "model_module_version": "1.5.0",
     "state": {
      "_model_module": "@jupyter-widgets/controls",
      "_model_module_version": "1.5.0",
      "_model_name": "ProgressStyleModel",
      "_view_count": null,
      "_view_module": "@jupyter-widgets/base",
      "_view_module_version": "1.2.0",
      "_view_name": "StyleView",
      "bar_color": null,
      "description_width": ""
     }
    },
    "ce94c18cde9b498e849e8886f45c0978": {
     "model_module": "@jupyter-widgets/base",
     "model_name": "LayoutModel",
     "model_module_version": "1.2.0",
     "state": {
      "_model_module": "@jupyter-widgets/base",
      "_model_module_version": "1.2.0",
      "_model_name": "LayoutModel",
      "_view_count": null,
      "_view_module": "@jupyter-widgets/base",
      "_view_module_version": "1.2.0",
      "_view_name": "LayoutView",
      "align_content": null,
      "align_items": null,
      "align_self": null,
      "border": null,
      "bottom": null,
      "display": null,
      "flex": null,
      "flex_flow": null,
      "grid_area": null,
      "grid_auto_columns": null,
      "grid_auto_flow": null,
      "grid_auto_rows": null,
      "grid_column": null,
      "grid_gap": null,
      "grid_row": null,
      "grid_template_areas": null,
      "grid_template_columns": null,
      "grid_template_rows": null,
      "height": null,
      "justify_content": null,
      "justify_items": null,
      "left": null,
      "margin": null,
      "max_height": null,
      "max_width": null,
      "min_height": null,
      "min_width": null,
      "object_fit": null,
      "object_position": null,
      "order": null,
      "overflow": null,
      "overflow_x": null,
      "overflow_y": null,
      "padding": null,
      "right": null,
      "top": null,
      "visibility": null,
      "width": null
     }
    },
    "3ca2d326764d41d6b550c7fe2e687376": {
     "model_module": "@jupyter-widgets/controls",
     "model_name": "DescriptionStyleModel",
     "model_module_version": "1.5.0",
     "state": {
      "_model_module": "@jupyter-widgets/controls",
      "_model_module_version": "1.5.0",
      "_model_name": "DescriptionStyleModel",
      "_view_count": null,
      "_view_module": "@jupyter-widgets/base",
      "_view_module_version": "1.2.0",
      "_view_name": "StyleView",
      "description_width": ""
     }
    },
    "51bcd17ca3884f03acd5094fae04a546": {
     "model_module": "@jupyter-widgets/controls",
     "model_name": "HBoxModel",
     "model_module_version": "1.5.0",
     "state": {
      "_dom_classes": [],
      "_model_module": "@jupyter-widgets/controls",
      "_model_module_version": "1.5.0",
      "_model_name": "HBoxModel",
      "_view_count": null,
      "_view_module": "@jupyter-widgets/controls",
      "_view_module_version": "1.5.0",
      "_view_name": "HBoxView",
      "box_style": "",
      "children": [
       "IPY_MODEL_15c3e3ab1be94c4488b89c556be9fd64",
       "IPY_MODEL_bf98b1cd6ac04f24b8f990d58d23830d",
       "IPY_MODEL_ca623fb53dc54ded9aa06ef22eff13d0"
      ],
      "layout": "IPY_MODEL_46f3edbe325044b98c63f2f07be7a511"
     }
    },
    "15c3e3ab1be94c4488b89c556be9fd64": {
     "model_module": "@jupyter-widgets/controls",
     "model_name": "HTMLModel",
     "model_module_version": "1.5.0",
     "state": {
      "_dom_classes": [],
      "_model_module": "@jupyter-widgets/controls",
      "_model_module_version": "1.5.0",
      "_model_name": "HTMLModel",
      "_view_count": null,
      "_view_module": "@jupyter-widgets/controls",
      "_view_module_version": "1.5.0",
      "_view_name": "HTMLView",
      "description": "",
      "description_tooltip": null,
      "layout": "IPY_MODEL_bb8a339d929f4a8692cc33a543961b9f",
      "placeholder": "​",
      "style": "IPY_MODEL_4e16b3c41a1b43f1a9168535190ffc72",
      "value": "Generating train examples...: 100%"
     }
    },
    "bf98b1cd6ac04f24b8f990d58d23830d": {
     "model_module": "@jupyter-widgets/controls",
     "model_name": "FloatProgressModel",
     "model_module_version": "1.5.0",
     "state": {
      "_dom_classes": [],
      "_model_module": "@jupyter-widgets/controls",
      "_model_module_version": "1.5.0",
      "_model_name": "FloatProgressModel",
      "_view_count": null,
      "_view_module": "@jupyter-widgets/controls",
      "_view_module_version": "1.5.0",
      "_view_name": "ProgressView",
      "bar_style": "",
      "description": "",
      "description_tooltip": null,
      "layout": "IPY_MODEL_3c75937527bf460db734c4415eeaccb1",
      "max": 50000,
      "min": 0,
      "orientation": "horizontal",
      "style": "IPY_MODEL_2f591ad53033478eb1ab4817d8ac29f0",
      "value": 50000
     }
    },
    "ca623fb53dc54ded9aa06ef22eff13d0": {
     "model_module": "@jupyter-widgets/controls",
     "model_name": "HTMLModel",
     "model_module_version": "1.5.0",
     "state": {
      "_dom_classes": [],
      "_model_module": "@jupyter-widgets/controls",
      "_model_module_version": "1.5.0",
      "_model_name": "HTMLModel",
      "_view_count": null,
      "_view_module": "@jupyter-widgets/controls",
      "_view_module_version": "1.5.0",
      "_view_name": "HTMLView",
      "description": "",
      "description_tooltip": null,
      "layout": "IPY_MODEL_2d84610dca924937bef2de3437859c68",
      "placeholder": "​",
      "style": "IPY_MODEL_d9d64ab085d2409aa10904f9a4fd985b",
      "value": " 49913/50000 [00:51&lt;00:00, 1134.56 examples/s]"
     }
    },
    "46f3edbe325044b98c63f2f07be7a511": {
     "model_module": "@jupyter-widgets/base",
     "model_name": "LayoutModel",
     "model_module_version": "1.2.0",
     "state": {
      "_model_module": "@jupyter-widgets/base",
      "_model_module_version": "1.2.0",
      "_model_name": "LayoutModel",
      "_view_count": null,
      "_view_module": "@jupyter-widgets/base",
      "_view_module_version": "1.2.0",
      "_view_name": "LayoutView",
      "align_content": null,
      "align_items": null,
      "align_self": null,
      "border": null,
      "bottom": null,
      "display": null,
      "flex": null,
      "flex_flow": null,
      "grid_area": null,
      "grid_auto_columns": null,
      "grid_auto_flow": null,
      "grid_auto_rows": null,
      "grid_column": null,
      "grid_gap": null,
      "grid_row": null,
      "grid_template_areas": null,
      "grid_template_columns": null,
      "grid_template_rows": null,
      "height": null,
      "justify_content": null,
      "justify_items": null,
      "left": null,
      "margin": null,
      "max_height": null,
      "max_width": null,
      "min_height": null,
      "min_width": null,
      "object_fit": null,
      "object_position": null,
      "order": null,
      "overflow": null,
      "overflow_x": null,
      "overflow_y": null,
      "padding": null,
      "right": null,
      "top": null,
      "visibility": "hidden",
      "width": null
     }
    },
    "bb8a339d929f4a8692cc33a543961b9f": {
     "model_module": "@jupyter-widgets/base",
     "model_name": "LayoutModel",
     "model_module_version": "1.2.0",
     "state": {
      "_model_module": "@jupyter-widgets/base",
      "_model_module_version": "1.2.0",
      "_model_name": "LayoutModel",
      "_view_count": null,
      "_view_module": "@jupyter-widgets/base",
      "_view_module_version": "1.2.0",
      "_view_name": "LayoutView",
      "align_content": null,
      "align_items": null,
      "align_self": null,
      "border": null,
      "bottom": null,
      "display": null,
      "flex": null,
      "flex_flow": null,
      "grid_area": null,
      "grid_auto_columns": null,
      "grid_auto_flow": null,
      "grid_auto_rows": null,
      "grid_column": null,
      "grid_gap": null,
      "grid_row": null,
      "grid_template_areas": null,
      "grid_template_columns": null,
      "grid_template_rows": null,
      "height": null,
      "justify_content": null,
      "justify_items": null,
      "left": null,
      "margin": null,
      "max_height": null,
      "max_width": null,
      "min_height": null,
      "min_width": null,
      "object_fit": null,
      "object_position": null,
      "order": null,
      "overflow": null,
      "overflow_x": null,
      "overflow_y": null,
      "padding": null,
      "right": null,
      "top": null,
      "visibility": null,
      "width": null
     }
    },
    "4e16b3c41a1b43f1a9168535190ffc72": {
     "model_module": "@jupyter-widgets/controls",
     "model_name": "DescriptionStyleModel",
     "model_module_version": "1.5.0",
     "state": {
      "_model_module": "@jupyter-widgets/controls",
      "_model_module_version": "1.5.0",
      "_model_name": "DescriptionStyleModel",
      "_view_count": null,
      "_view_module": "@jupyter-widgets/base",
      "_view_module_version": "1.2.0",
      "_view_name": "StyleView",
      "description_width": ""
     }
    },
    "3c75937527bf460db734c4415eeaccb1": {
     "model_module": "@jupyter-widgets/base",
     "model_name": "LayoutModel",
     "model_module_version": "1.2.0",
     "state": {
      "_model_module": "@jupyter-widgets/base",
      "_model_module_version": "1.2.0",
      "_model_name": "LayoutModel",
      "_view_count": null,
      "_view_module": "@jupyter-widgets/base",
      "_view_module_version": "1.2.0",
      "_view_name": "LayoutView",
      "align_content": null,
      "align_items": null,
      "align_self": null,
      "border": null,
      "bottom": null,
      "display": null,
      "flex": null,
      "flex_flow": null,
      "grid_area": null,
      "grid_auto_columns": null,
      "grid_auto_flow": null,
      "grid_auto_rows": null,
      "grid_column": null,
      "grid_gap": null,
      "grid_row": null,
      "grid_template_areas": null,
      "grid_template_columns": null,
      "grid_template_rows": null,
      "height": null,
      "justify_content": null,
      "justify_items": null,
      "left": null,
      "margin": null,
      "max_height": null,
      "max_width": null,
      "min_height": null,
      "min_width": null,
      "object_fit": null,
      "object_position": null,
      "order": null,
      "overflow": null,
      "overflow_x": null,
      "overflow_y": null,
      "padding": null,
      "right": null,
      "top": null,
      "visibility": null,
      "width": null
     }
    },
    "2f591ad53033478eb1ab4817d8ac29f0": {
     "model_module": "@jupyter-widgets/controls",
     "model_name": "ProgressStyleModel",
     "model_module_version": "1.5.0",
     "state": {
      "_model_module": "@jupyter-widgets/controls",
      "_model_module_version": "1.5.0",
      "_model_name": "ProgressStyleModel",
      "_view_count": null,
      "_view_module": "@jupyter-widgets/base",
      "_view_module_version": "1.2.0",
      "_view_name": "StyleView",
      "bar_color": null,
      "description_width": ""
     }
    },
    "2d84610dca924937bef2de3437859c68": {
     "model_module": "@jupyter-widgets/base",
     "model_name": "LayoutModel",
     "model_module_version": "1.2.0",
     "state": {
      "_model_module": "@jupyter-widgets/base",
      "_model_module_version": "1.2.0",
      "_model_name": "LayoutModel",
      "_view_count": null,
      "_view_module": "@jupyter-widgets/base",
      "_view_module_version": "1.2.0",
      "_view_name": "LayoutView",
      "align_content": null,
      "align_items": null,
      "align_self": null,
      "border": null,
      "bottom": null,
      "display": null,
      "flex": null,
      "flex_flow": null,
      "grid_area": null,
      "grid_auto_columns": null,
      "grid_auto_flow": null,
      "grid_auto_rows": null,
      "grid_column": null,
      "grid_gap": null,
      "grid_row": null,
      "grid_template_areas": null,
      "grid_template_columns": null,
      "grid_template_rows": null,
      "height": null,
      "justify_content": null,
      "justify_items": null,
      "left": null,
      "margin": null,
      "max_height": null,
      "max_width": null,
      "min_height": null,
      "min_width": null,
      "object_fit": null,
      "object_position": null,
      "order": null,
      "overflow": null,
      "overflow_x": null,
      "overflow_y": null,
      "padding": null,
      "right": null,
      "top": null,
      "visibility": null,
      "width": null
     }
    },
    "d9d64ab085d2409aa10904f9a4fd985b": {
     "model_module": "@jupyter-widgets/controls",
     "model_name": "DescriptionStyleModel",
     "model_module_version": "1.5.0",
     "state": {
      "_model_module": "@jupyter-widgets/controls",
      "_model_module_version": "1.5.0",
      "_model_name": "DescriptionStyleModel",
      "_view_count": null,
      "_view_module": "@jupyter-widgets/base",
      "_view_module_version": "1.2.0",
      "_view_name": "StyleView",
      "description_width": ""
     }
    },
    "339c30bd74744cfbb0c18048c39e4fc6": {
     "model_module": "@jupyter-widgets/controls",
     "model_name": "HBoxModel",
     "model_module_version": "1.5.0",
     "state": {
      "_dom_classes": [],
      "_model_module": "@jupyter-widgets/controls",
      "_model_module_version": "1.5.0",
      "_model_name": "HBoxModel",
      "_view_count": null,
      "_view_module": "@jupyter-widgets/controls",
      "_view_module_version": "1.5.0",
      "_view_name": "HBoxView",
      "box_style": "",
      "children": [
       "IPY_MODEL_63b2356dca724547aea2229010f469ea",
       "IPY_MODEL_c7efe075a19d453c9774ec6707bd6464",
       "IPY_MODEL_acef8875432e48618a798cc236719588"
      ],
      "layout": "IPY_MODEL_7100f9facc1948ec9a39e94471c6a463"
     }
    },
    "63b2356dca724547aea2229010f469ea": {
     "model_module": "@jupyter-widgets/controls",
     "model_name": "HTMLModel",
     "model_module_version": "1.5.0",
     "state": {
      "_dom_classes": [],
      "_model_module": "@jupyter-widgets/controls",
      "_model_module_version": "1.5.0",
      "_model_name": "HTMLModel",
      "_view_count": null,
      "_view_module": "@jupyter-widgets/controls",
      "_view_module_version": "1.5.0",
      "_view_name": "HTMLView",
      "description": "",
      "description_tooltip": null,
      "layout": "IPY_MODEL_9f42b39814ab46bb8597a0ad8aa803b3",
      "placeholder": "​",
      "style": "IPY_MODEL_d7c7f2d084974a68aef135ffce245eab",
      "value": "Shuffling /root/tensorflow_datasets/cifar10/3.0.2.incompleteR8CPP8/cifar10-train.tfrecord*...:  78%"
     }
    },
    "c7efe075a19d453c9774ec6707bd6464": {
     "model_module": "@jupyter-widgets/controls",
     "model_name": "FloatProgressModel",
     "model_module_version": "1.5.0",
     "state": {
      "_dom_classes": [],
      "_model_module": "@jupyter-widgets/controls",
      "_model_module_version": "1.5.0",
      "_model_name": "FloatProgressModel",
      "_view_count": null,
      "_view_module": "@jupyter-widgets/controls",
      "_view_module_version": "1.5.0",
      "_view_name": "ProgressView",
      "bar_style": "",
      "description": "",
      "description_tooltip": null,
      "layout": "IPY_MODEL_83a0f875cc454af9b1a6c82f1a024b6a",
      "max": 50000,
      "min": 0,
      "orientation": "horizontal",
      "style": "IPY_MODEL_cb3414fa753641fea40385738ee4fc33",
      "value": 50000
     }
    },
    "acef8875432e48618a798cc236719588": {
     "model_module": "@jupyter-widgets/controls",
     "model_name": "HTMLModel",
     "model_module_version": "1.5.0",
     "state": {
      "_dom_classes": [],
      "_model_module": "@jupyter-widgets/controls",
      "_model_module_version": "1.5.0",
      "_model_name": "HTMLModel",
      "_view_count": null,
      "_view_module": "@jupyter-widgets/controls",
      "_view_module_version": "1.5.0",
      "_view_name": "HTMLView",
      "description": "",
      "description_tooltip": null,
      "layout": "IPY_MODEL_94ac0ddc7bfe42a1966982d6f915e721",
      "placeholder": "​",
      "style": "IPY_MODEL_414b3f2d476441ad9f04d6d524c56883",
      "value": " 38866/50000 [00:00&lt;00:00, 141010.76 examples/s]"
     }
    },
    "7100f9facc1948ec9a39e94471c6a463": {
     "model_module": "@jupyter-widgets/base",
     "model_name": "LayoutModel",
     "model_module_version": "1.2.0",
     "state": {
      "_model_module": "@jupyter-widgets/base",
      "_model_module_version": "1.2.0",
      "_model_name": "LayoutModel",
      "_view_count": null,
      "_view_module": "@jupyter-widgets/base",
      "_view_module_version": "1.2.0",
      "_view_name": "LayoutView",
      "align_content": null,
      "align_items": null,
      "align_self": null,
      "border": null,
      "bottom": null,
      "display": null,
      "flex": null,
      "flex_flow": null,
      "grid_area": null,
      "grid_auto_columns": null,
      "grid_auto_flow": null,
      "grid_auto_rows": null,
      "grid_column": null,
      "grid_gap": null,
      "grid_row": null,
      "grid_template_areas": null,
      "grid_template_columns": null,
      "grid_template_rows": null,
      "height": null,
      "justify_content": null,
      "justify_items": null,
      "left": null,
      "margin": null,
      "max_height": null,
      "max_width": null,
      "min_height": null,
      "min_width": null,
      "object_fit": null,
      "object_position": null,
      "order": null,
      "overflow": null,
      "overflow_x": null,
      "overflow_y": null,
      "padding": null,
      "right": null,
      "top": null,
      "visibility": "hidden",
      "width": null
     }
    },
    "9f42b39814ab46bb8597a0ad8aa803b3": {
     "model_module": "@jupyter-widgets/base",
     "model_name": "LayoutModel",
     "model_module_version": "1.2.0",
     "state": {
      "_model_module": "@jupyter-widgets/base",
      "_model_module_version": "1.2.0",
      "_model_name": "LayoutModel",
      "_view_count": null,
      "_view_module": "@jupyter-widgets/base",
      "_view_module_version": "1.2.0",
      "_view_name": "LayoutView",
      "align_content": null,
      "align_items": null,
      "align_self": null,
      "border": null,
      "bottom": null,
      "display": null,
      "flex": null,
      "flex_flow": null,
      "grid_area": null,
      "grid_auto_columns": null,
      "grid_auto_flow": null,
      "grid_auto_rows": null,
      "grid_column": null,
      "grid_gap": null,
      "grid_row": null,
      "grid_template_areas": null,
      "grid_template_columns": null,
      "grid_template_rows": null,
      "height": null,
      "justify_content": null,
      "justify_items": null,
      "left": null,
      "margin": null,
      "max_height": null,
      "max_width": null,
      "min_height": null,
      "min_width": null,
      "object_fit": null,
      "object_position": null,
      "order": null,
      "overflow": null,
      "overflow_x": null,
      "overflow_y": null,
      "padding": null,
      "right": null,
      "top": null,
      "visibility": null,
      "width": null
     }
    },
    "d7c7f2d084974a68aef135ffce245eab": {
     "model_module": "@jupyter-widgets/controls",
     "model_name": "DescriptionStyleModel",
     "model_module_version": "1.5.0",
     "state": {
      "_model_module": "@jupyter-widgets/controls",
      "_model_module_version": "1.5.0",
      "_model_name": "DescriptionStyleModel",
      "_view_count": null,
      "_view_module": "@jupyter-widgets/base",
      "_view_module_version": "1.2.0",
      "_view_name": "StyleView",
      "description_width": ""
     }
    },
    "83a0f875cc454af9b1a6c82f1a024b6a": {
     "model_module": "@jupyter-widgets/base",
     "model_name": "LayoutModel",
     "model_module_version": "1.2.0",
     "state": {
      "_model_module": "@jupyter-widgets/base",
      "_model_module_version": "1.2.0",
      "_model_name": "LayoutModel",
      "_view_count": null,
      "_view_module": "@jupyter-widgets/base",
      "_view_module_version": "1.2.0",
      "_view_name": "LayoutView",
      "align_content": null,
      "align_items": null,
      "align_self": null,
      "border": null,
      "bottom": null,
      "display": null,
      "flex": null,
      "flex_flow": null,
      "grid_area": null,
      "grid_auto_columns": null,
      "grid_auto_flow": null,
      "grid_auto_rows": null,
      "grid_column": null,
      "grid_gap": null,
      "grid_row": null,
      "grid_template_areas": null,
      "grid_template_columns": null,
      "grid_template_rows": null,
      "height": null,
      "justify_content": null,
      "justify_items": null,
      "left": null,
      "margin": null,
      "max_height": null,
      "max_width": null,
      "min_height": null,
      "min_width": null,
      "object_fit": null,
      "object_position": null,
      "order": null,
      "overflow": null,
      "overflow_x": null,
      "overflow_y": null,
      "padding": null,
      "right": null,
      "top": null,
      "visibility": null,
      "width": null
     }
    },
    "cb3414fa753641fea40385738ee4fc33": {
     "model_module": "@jupyter-widgets/controls",
     "model_name": "ProgressStyleModel",
     "model_module_version": "1.5.0",
     "state": {
      "_model_module": "@jupyter-widgets/controls",
      "_model_module_version": "1.5.0",
      "_model_name": "ProgressStyleModel",
      "_view_count": null,
      "_view_module": "@jupyter-widgets/base",
      "_view_module_version": "1.2.0",
      "_view_name": "StyleView",
      "bar_color": null,
      "description_width": ""
     }
    },
    "94ac0ddc7bfe42a1966982d6f915e721": {
     "model_module": "@jupyter-widgets/base",
     "model_name": "LayoutModel",
     "model_module_version": "1.2.0",
     "state": {
      "_model_module": "@jupyter-widgets/base",
      "_model_module_version": "1.2.0",
      "_model_name": "LayoutModel",
      "_view_count": null,
      "_view_module": "@jupyter-widgets/base",
      "_view_module_version": "1.2.0",
      "_view_name": "LayoutView",
      "align_content": null,
      "align_items": null,
      "align_self": null,
      "border": null,
      "bottom": null,
      "display": null,
      "flex": null,
      "flex_flow": null,
      "grid_area": null,
      "grid_auto_columns": null,
      "grid_auto_flow": null,
      "grid_auto_rows": null,
      "grid_column": null,
      "grid_gap": null,
      "grid_row": null,
      "grid_template_areas": null,
      "grid_template_columns": null,
      "grid_template_rows": null,
      "height": null,
      "justify_content": null,
      "justify_items": null,
      "left": null,
      "margin": null,
      "max_height": null,
      "max_width": null,
      "min_height": null,
      "min_width": null,
      "object_fit": null,
      "object_position": null,
      "order": null,
      "overflow": null,
      "overflow_x": null,
      "overflow_y": null,
      "padding": null,
      "right": null,
      "top": null,
      "visibility": null,
      "width": null
     }
    },
    "414b3f2d476441ad9f04d6d524c56883": {
     "model_module": "@jupyter-widgets/controls",
     "model_name": "DescriptionStyleModel",
     "model_module_version": "1.5.0",
     "state": {
      "_model_module": "@jupyter-widgets/controls",
      "_model_module_version": "1.5.0",
      "_model_name": "DescriptionStyleModel",
      "_view_count": null,
      "_view_module": "@jupyter-widgets/base",
      "_view_module_version": "1.2.0",
      "_view_name": "StyleView",
      "description_width": ""
     }
    },
    "2abb3531a2684d848b14aaa5c9385cbf": {
     "model_module": "@jupyter-widgets/controls",
     "model_name": "HBoxModel",
     "model_module_version": "1.5.0",
     "state": {
      "_dom_classes": [],
      "_model_module": "@jupyter-widgets/controls",
      "_model_module_version": "1.5.0",
      "_model_name": "HBoxModel",
      "_view_count": null,
      "_view_module": "@jupyter-widgets/controls",
      "_view_module_version": "1.5.0",
      "_view_name": "HBoxView",
      "box_style": "",
      "children": [
       "IPY_MODEL_99b17ce203804060a93a8c63e1c8437d",
       "IPY_MODEL_f9611338eee94123aed9ffafe0ded18f",
       "IPY_MODEL_99fa113edfed4e6ebf6dd8a29fc76420"
      ],
      "layout": "IPY_MODEL_32a71423c8de45ed903f22037c51ffe9"
     }
    },
    "99b17ce203804060a93a8c63e1c8437d": {
     "model_module": "@jupyter-widgets/controls",
     "model_name": "HTMLModel",
     "model_module_version": "1.5.0",
     "state": {
      "_dom_classes": [],
      "_model_module": "@jupyter-widgets/controls",
      "_model_module_version": "1.5.0",
      "_model_name": "HTMLModel",
      "_view_count": null,
      "_view_module": "@jupyter-widgets/controls",
      "_view_module_version": "1.5.0",
      "_view_name": "HTMLView",
      "description": "",
      "description_tooltip": null,
      "layout": "IPY_MODEL_6393024871bd496b8a0d61460a3b918d",
      "placeholder": "​",
      "style": "IPY_MODEL_f3876f04fa25456081a90a97f4efd331",
      "value": "Generating test examples...:  97%"
     }
    },
    "f9611338eee94123aed9ffafe0ded18f": {
     "model_module": "@jupyter-widgets/controls",
     "model_name": "FloatProgressModel",
     "model_module_version": "1.5.0",
     "state": {
      "_dom_classes": [],
      "_model_module": "@jupyter-widgets/controls",
      "_model_module_version": "1.5.0",
      "_model_name": "FloatProgressModel",
      "_view_count": null,
      "_view_module": "@jupyter-widgets/controls",
      "_view_module_version": "1.5.0",
      "_view_name": "ProgressView",
      "bar_style": "",
      "description": "",
      "description_tooltip": null,
      "layout": "IPY_MODEL_86f986a9e7494fa88bf0fa7c0471c302",
      "max": 10000,
      "min": 0,
      "orientation": "horizontal",
      "style": "IPY_MODEL_34c25f5ef38345c8a57c1f8b704b9ce0",
      "value": 10000
     }
    },
    "99fa113edfed4e6ebf6dd8a29fc76420": {
     "model_module": "@jupyter-widgets/controls",
     "model_name": "HTMLModel",
     "model_module_version": "1.5.0",
     "state": {
      "_dom_classes": [],
      "_model_module": "@jupyter-widgets/controls",
      "_model_module_version": "1.5.0",
      "_model_name": "HTMLModel",
      "_view_count": null,
      "_view_module": "@jupyter-widgets/controls",
      "_view_module_version": "1.5.0",
      "_view_name": "HTMLView",
      "description": "",
      "description_tooltip": null,
      "layout": "IPY_MODEL_20d5589d24ca4c77b427b84dffdabecb",
      "placeholder": "​",
      "style": "IPY_MODEL_f5568dc8549f49b3908eb4745b386e82",
      "value": " 9739/10000 [00:08&lt;00:00, 1219.33 examples/s]"
     }
    },
    "32a71423c8de45ed903f22037c51ffe9": {
     "model_module": "@jupyter-widgets/base",
     "model_name": "LayoutModel",
     "model_module_version": "1.2.0",
     "state": {
      "_model_module": "@jupyter-widgets/base",
      "_model_module_version": "1.2.0",
      "_model_name": "LayoutModel",
      "_view_count": null,
      "_view_module": "@jupyter-widgets/base",
      "_view_module_version": "1.2.0",
      "_view_name": "LayoutView",
      "align_content": null,
      "align_items": null,
      "align_self": null,
      "border": null,
      "bottom": null,
      "display": null,
      "flex": null,
      "flex_flow": null,
      "grid_area": null,
      "grid_auto_columns": null,
      "grid_auto_flow": null,
      "grid_auto_rows": null,
      "grid_column": null,
      "grid_gap": null,
      "grid_row": null,
      "grid_template_areas": null,
      "grid_template_columns": null,
      "grid_template_rows": null,
      "height": null,
      "justify_content": null,
      "justify_items": null,
      "left": null,
      "margin": null,
      "max_height": null,
      "max_width": null,
      "min_height": null,
      "min_width": null,
      "object_fit": null,
      "object_position": null,
      "order": null,
      "overflow": null,
      "overflow_x": null,
      "overflow_y": null,
      "padding": null,
      "right": null,
      "top": null,
      "visibility": "hidden",
      "width": null
     }
    },
    "6393024871bd496b8a0d61460a3b918d": {
     "model_module": "@jupyter-widgets/base",
     "model_name": "LayoutModel",
     "model_module_version": "1.2.0",
     "state": {
      "_model_module": "@jupyter-widgets/base",
      "_model_module_version": "1.2.0",
      "_model_name": "LayoutModel",
      "_view_count": null,
      "_view_module": "@jupyter-widgets/base",
      "_view_module_version": "1.2.0",
      "_view_name": "LayoutView",
      "align_content": null,
      "align_items": null,
      "align_self": null,
      "border": null,
      "bottom": null,
      "display": null,
      "flex": null,
      "flex_flow": null,
      "grid_area": null,
      "grid_auto_columns": null,
      "grid_auto_flow": null,
      "grid_auto_rows": null,
      "grid_column": null,
      "grid_gap": null,
      "grid_row": null,
      "grid_template_areas": null,
      "grid_template_columns": null,
      "grid_template_rows": null,
      "height": null,
      "justify_content": null,
      "justify_items": null,
      "left": null,
      "margin": null,
      "max_height": null,
      "max_width": null,
      "min_height": null,
      "min_width": null,
      "object_fit": null,
      "object_position": null,
      "order": null,
      "overflow": null,
      "overflow_x": null,
      "overflow_y": null,
      "padding": null,
      "right": null,
      "top": null,
      "visibility": null,
      "width": null
     }
    },
    "f3876f04fa25456081a90a97f4efd331": {
     "model_module": "@jupyter-widgets/controls",
     "model_name": "DescriptionStyleModel",
     "model_module_version": "1.5.0",
     "state": {
      "_model_module": "@jupyter-widgets/controls",
      "_model_module_version": "1.5.0",
      "_model_name": "DescriptionStyleModel",
      "_view_count": null,
      "_view_module": "@jupyter-widgets/base",
      "_view_module_version": "1.2.0",
      "_view_name": "StyleView",
      "description_width": ""
     }
    },
    "86f986a9e7494fa88bf0fa7c0471c302": {
     "model_module": "@jupyter-widgets/base",
     "model_name": "LayoutModel",
     "model_module_version": "1.2.0",
     "state": {
      "_model_module": "@jupyter-widgets/base",
      "_model_module_version": "1.2.0",
      "_model_name": "LayoutModel",
      "_view_count": null,
      "_view_module": "@jupyter-widgets/base",
      "_view_module_version": "1.2.0",
      "_view_name": "LayoutView",
      "align_content": null,
      "align_items": null,
      "align_self": null,
      "border": null,
      "bottom": null,
      "display": null,
      "flex": null,
      "flex_flow": null,
      "grid_area": null,
      "grid_auto_columns": null,
      "grid_auto_flow": null,
      "grid_auto_rows": null,
      "grid_column": null,
      "grid_gap": null,
      "grid_row": null,
      "grid_template_areas": null,
      "grid_template_columns": null,
      "grid_template_rows": null,
      "height": null,
      "justify_content": null,
      "justify_items": null,
      "left": null,
      "margin": null,
      "max_height": null,
      "max_width": null,
      "min_height": null,
      "min_width": null,
      "object_fit": null,
      "object_position": null,
      "order": null,
      "overflow": null,
      "overflow_x": null,
      "overflow_y": null,
      "padding": null,
      "right": null,
      "top": null,
      "visibility": null,
      "width": null
     }
    },
    "34c25f5ef38345c8a57c1f8b704b9ce0": {
     "model_module": "@jupyter-widgets/controls",
     "model_name": "ProgressStyleModel",
     "model_module_version": "1.5.0",
     "state": {
      "_model_module": "@jupyter-widgets/controls",
      "_model_module_version": "1.5.0",
      "_model_name": "ProgressStyleModel",
      "_view_count": null,
      "_view_module": "@jupyter-widgets/base",
      "_view_module_version": "1.2.0",
      "_view_name": "StyleView",
      "bar_color": null,
      "description_width": ""
     }
    },
    "20d5589d24ca4c77b427b84dffdabecb": {
     "model_module": "@jupyter-widgets/base",
     "model_name": "LayoutModel",
     "model_module_version": "1.2.0",
     "state": {
      "_model_module": "@jupyter-widgets/base",
      "_model_module_version": "1.2.0",
      "_model_name": "LayoutModel",
      "_view_count": null,
      "_view_module": "@jupyter-widgets/base",
      "_view_module_version": "1.2.0",
      "_view_name": "LayoutView",
      "align_content": null,
      "align_items": null,
      "align_self": null,
      "border": null,
      "bottom": null,
      "display": null,
      "flex": null,
      "flex_flow": null,
      "grid_area": null,
      "grid_auto_columns": null,
      "grid_auto_flow": null,
      "grid_auto_rows": null,
      "grid_column": null,
      "grid_gap": null,
      "grid_row": null,
      "grid_template_areas": null,
      "grid_template_columns": null,
      "grid_template_rows": null,
      "height": null,
      "justify_content": null,
      "justify_items": null,
      "left": null,
      "margin": null,
      "max_height": null,
      "max_width": null,
      "min_height": null,
      "min_width": null,
      "object_fit": null,
      "object_position": null,
      "order": null,
      "overflow": null,
      "overflow_x": null,
      "overflow_y": null,
      "padding": null,
      "right": null,
      "top": null,
      "visibility": null,
      "width": null
     }
    },
    "f5568dc8549f49b3908eb4745b386e82": {
     "model_module": "@jupyter-widgets/controls",
     "model_name": "DescriptionStyleModel",
     "model_module_version": "1.5.0",
     "state": {
      "_model_module": "@jupyter-widgets/controls",
      "_model_module_version": "1.5.0",
      "_model_name": "DescriptionStyleModel",
      "_view_count": null,
      "_view_module": "@jupyter-widgets/base",
      "_view_module_version": "1.2.0",
      "_view_name": "StyleView",
      "description_width": ""
     }
    },
    "85e7bc5e93b54040b1e95b822deec23e": {
     "model_module": "@jupyter-widgets/controls",
     "model_name": "HBoxModel",
     "model_module_version": "1.5.0",
     "state": {
      "_dom_classes": [],
      "_model_module": "@jupyter-widgets/controls",
      "_model_module_version": "1.5.0",
      "_model_name": "HBoxModel",
      "_view_count": null,
      "_view_module": "@jupyter-widgets/controls",
      "_view_module_version": "1.5.0",
      "_view_name": "HBoxView",
      "box_style": "",
      "children": [
       "IPY_MODEL_43351d89501e40fba1e2f5be9a088008",
       "IPY_MODEL_cb67ed9bbf19431abaad4aa5c6c7e0dc",
       "IPY_MODEL_e9443d0e0809453b850dc460151c19f7"
      ],
      "layout": "IPY_MODEL_7f6a9424150141cdab96fff743964dca"
     }
    },
    "43351d89501e40fba1e2f5be9a088008": {
     "model_module": "@jupyter-widgets/controls",
     "model_name": "HTMLModel",
     "model_module_version": "1.5.0",
     "state": {
      "_dom_classes": [],
      "_model_module": "@jupyter-widgets/controls",
      "_model_module_version": "1.5.0",
      "_model_name": "HTMLModel",
      "_view_count": null,
      "_view_module": "@jupyter-widgets/controls",
      "_view_module_version": "1.5.0",
      "_view_name": "HTMLView",
      "description": "",
      "description_tooltip": null,
      "layout": "IPY_MODEL_ca8324bbed564656b64c67af49b8477f",
      "placeholder": "​",
      "style": "IPY_MODEL_da8f4207c693440f865dc47e0d7daecc",
      "value": "Shuffling /root/tensorflow_datasets/cifar10/3.0.2.incompleteR8CPP8/cifar10-test.tfrecord*...:  78%"
     }
    },
    "cb67ed9bbf19431abaad4aa5c6c7e0dc": {
     "model_module": "@jupyter-widgets/controls",
     "model_name": "FloatProgressModel",
     "model_module_version": "1.5.0",
     "state": {
      "_dom_classes": [],
      "_model_module": "@jupyter-widgets/controls",
      "_model_module_version": "1.5.0",
      "_model_name": "FloatProgressModel",
      "_view_count": null,
      "_view_module": "@jupyter-widgets/controls",
      "_view_module_version": "1.5.0",
      "_view_name": "ProgressView",
      "bar_style": "",
      "description": "",
      "description_tooltip": null,
      "layout": "IPY_MODEL_be16e24689254ea1a755a6b26e8ea66b",
      "max": 10000,
      "min": 0,
      "orientation": "horizontal",
      "style": "IPY_MODEL_7c0fa163b0104c759916d9ca84ff8478",
      "value": 10000
     }
    },
    "e9443d0e0809453b850dc460151c19f7": {
     "model_module": "@jupyter-widgets/controls",
     "model_name": "HTMLModel",
     "model_module_version": "1.5.0",
     "state": {
      "_dom_classes": [],
      "_model_module": "@jupyter-widgets/controls",
      "_model_module_version": "1.5.0",
      "_model_name": "HTMLModel",
      "_view_count": null,
      "_view_module": "@jupyter-widgets/controls",
      "_view_module_version": "1.5.0",
      "_view_name": "HTMLView",
      "description": "",
      "description_tooltip": null,
      "layout": "IPY_MODEL_29162894b10d49f5b0bab04c2373e173",
      "placeholder": "​",
      "style": "IPY_MODEL_eeb1c4b9a5be4e5592ad55c7a00b2d25",
      "value": " 7802/10000 [00:00&lt;00:00, 78007.43 examples/s]"
     }
    },
    "7f6a9424150141cdab96fff743964dca": {
     "model_module": "@jupyter-widgets/base",
     "model_name": "LayoutModel",
     "model_module_version": "1.2.0",
     "state": {
      "_model_module": "@jupyter-widgets/base",
      "_model_module_version": "1.2.0",
      "_model_name": "LayoutModel",
      "_view_count": null,
      "_view_module": "@jupyter-widgets/base",
      "_view_module_version": "1.2.0",
      "_view_name": "LayoutView",
      "align_content": null,
      "align_items": null,
      "align_self": null,
      "border": null,
      "bottom": null,
      "display": null,
      "flex": null,
      "flex_flow": null,
      "grid_area": null,
      "grid_auto_columns": null,
      "grid_auto_flow": null,
      "grid_auto_rows": null,
      "grid_column": null,
      "grid_gap": null,
      "grid_row": null,
      "grid_template_areas": null,
      "grid_template_columns": null,
      "grid_template_rows": null,
      "height": null,
      "justify_content": null,
      "justify_items": null,
      "left": null,
      "margin": null,
      "max_height": null,
      "max_width": null,
      "min_height": null,
      "min_width": null,
      "object_fit": null,
      "object_position": null,
      "order": null,
      "overflow": null,
      "overflow_x": null,
      "overflow_y": null,
      "padding": null,
      "right": null,
      "top": null,
      "visibility": "hidden",
      "width": null
     }
    },
    "ca8324bbed564656b64c67af49b8477f": {
     "model_module": "@jupyter-widgets/base",
     "model_name": "LayoutModel",
     "model_module_version": "1.2.0",
     "state": {
      "_model_module": "@jupyter-widgets/base",
      "_model_module_version": "1.2.0",
      "_model_name": "LayoutModel",
      "_view_count": null,
      "_view_module": "@jupyter-widgets/base",
      "_view_module_version": "1.2.0",
      "_view_name": "LayoutView",
      "align_content": null,
      "align_items": null,
      "align_self": null,
      "border": null,
      "bottom": null,
      "display": null,
      "flex": null,
      "flex_flow": null,
      "grid_area": null,
      "grid_auto_columns": null,
      "grid_auto_flow": null,
      "grid_auto_rows": null,
      "grid_column": null,
      "grid_gap": null,
      "grid_row": null,
      "grid_template_areas": null,
      "grid_template_columns": null,
      "grid_template_rows": null,
      "height": null,
      "justify_content": null,
      "justify_items": null,
      "left": null,
      "margin": null,
      "max_height": null,
      "max_width": null,
      "min_height": null,
      "min_width": null,
      "object_fit": null,
      "object_position": null,
      "order": null,
      "overflow": null,
      "overflow_x": null,
      "overflow_y": null,
      "padding": null,
      "right": null,
      "top": null,
      "visibility": null,
      "width": null
     }
    },
    "da8f4207c693440f865dc47e0d7daecc": {
     "model_module": "@jupyter-widgets/controls",
     "model_name": "DescriptionStyleModel",
     "model_module_version": "1.5.0",
     "state": {
      "_model_module": "@jupyter-widgets/controls",
      "_model_module_version": "1.5.0",
      "_model_name": "DescriptionStyleModel",
      "_view_count": null,
      "_view_module": "@jupyter-widgets/base",
      "_view_module_version": "1.2.0",
      "_view_name": "StyleView",
      "description_width": ""
     }
    },
    "be16e24689254ea1a755a6b26e8ea66b": {
     "model_module": "@jupyter-widgets/base",
     "model_name": "LayoutModel",
     "model_module_version": "1.2.0",
     "state": {
      "_model_module": "@jupyter-widgets/base",
      "_model_module_version": "1.2.0",
      "_model_name": "LayoutModel",
      "_view_count": null,
      "_view_module": "@jupyter-widgets/base",
      "_view_module_version": "1.2.0",
      "_view_name": "LayoutView",
      "align_content": null,
      "align_items": null,
      "align_self": null,
      "border": null,
      "bottom": null,
      "display": null,
      "flex": null,
      "flex_flow": null,
      "grid_area": null,
      "grid_auto_columns": null,
      "grid_auto_flow": null,
      "grid_auto_rows": null,
      "grid_column": null,
      "grid_gap": null,
      "grid_row": null,
      "grid_template_areas": null,
      "grid_template_columns": null,
      "grid_template_rows": null,
      "height": null,
      "justify_content": null,
      "justify_items": null,
      "left": null,
      "margin": null,
      "max_height": null,
      "max_width": null,
      "min_height": null,
      "min_width": null,
      "object_fit": null,
      "object_position": null,
      "order": null,
      "overflow": null,
      "overflow_x": null,
      "overflow_y": null,
      "padding": null,
      "right": null,
      "top": null,
      "visibility": null,
      "width": null
     }
    },
    "7c0fa163b0104c759916d9ca84ff8478": {
     "model_module": "@jupyter-widgets/controls",
     "model_name": "ProgressStyleModel",
     "model_module_version": "1.5.0",
     "state": {
      "_model_module": "@jupyter-widgets/controls",
      "_model_module_version": "1.5.0",
      "_model_name": "ProgressStyleModel",
      "_view_count": null,
      "_view_module": "@jupyter-widgets/base",
      "_view_module_version": "1.2.0",
      "_view_name": "StyleView",
      "bar_color": null,
      "description_width": ""
     }
    },
    "29162894b10d49f5b0bab04c2373e173": {
     "model_module": "@jupyter-widgets/base",
     "model_name": "LayoutModel",
     "model_module_version": "1.2.0",
     "state": {
      "_model_module": "@jupyter-widgets/base",
      "_model_module_version": "1.2.0",
      "_model_name": "LayoutModel",
      "_view_count": null,
      "_view_module": "@jupyter-widgets/base",
      "_view_module_version": "1.2.0",
      "_view_name": "LayoutView",
      "align_content": null,
      "align_items": null,
      "align_self": null,
      "border": null,
      "bottom": null,
      "display": null,
      "flex": null,
      "flex_flow": null,
      "grid_area": null,
      "grid_auto_columns": null,
      "grid_auto_flow": null,
      "grid_auto_rows": null,
      "grid_column": null,
      "grid_gap": null,
      "grid_row": null,
      "grid_template_areas": null,
      "grid_template_columns": null,
      "grid_template_rows": null,
      "height": null,
      "justify_content": null,
      "justify_items": null,
      "left": null,
      "margin": null,
      "max_height": null,
      "max_width": null,
      "min_height": null,
      "min_width": null,
      "object_fit": null,
      "object_position": null,
      "order": null,
      "overflow": null,
      "overflow_x": null,
      "overflow_y": null,
      "padding": null,
      "right": null,
      "top": null,
      "visibility": null,
      "width": null
     }
    },
    "eeb1c4b9a5be4e5592ad55c7a00b2d25": {
     "model_module": "@jupyter-widgets/controls",
     "model_name": "DescriptionStyleModel",
     "model_module_version": "1.5.0",
     "state": {
      "_model_module": "@jupyter-widgets/controls",
      "_model_module_version": "1.5.0",
      "_model_name": "DescriptionStyleModel",
      "_view_count": null,
      "_view_module": "@jupyter-widgets/base",
      "_view_module_version": "1.2.0",
      "_view_name": "StyleView",
      "description_width": ""
     }
    }
   }
  }
 },
 "nbformat": 4,
 "nbformat_minor": 0
}
