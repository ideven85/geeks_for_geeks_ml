{
 "cells": [
  {
   "cell_type": "code",
   "execution_count": 1,
   "id": "4da4cf8e-c71a-497e-86cf-974cffa5c1e6",
   "metadata": {
    "execution": {
     "iopub.execute_input": "2024-10-10T01:02:27.482206Z",
     "iopub.status.busy": "2024-10-10T01:02:27.481713Z",
     "iopub.status.idle": "2024-10-10T01:02:28.108976Z",
     "shell.execute_reply": "2024-10-10T01:02:28.108639Z",
     "shell.execute_reply.started": "2024-10-10T01:02:27.482175Z"
    }
   },
   "outputs": [],
   "source": [
    "import numpy as np\n",
    "import pandas as pd\n",
    "from IPython.display import Image as img\n",
    "from PIL import Image\n",
    "import cv2\n",
    "import matplotlib.pyplot as plt"
   ]
  },
  {
   "cell_type": "code",
   "execution_count": 2,
   "id": "9364f397-89a9-488d-843d-61651665e2a4",
   "metadata": {
    "execution": {
     "iopub.execute_input": "2024-10-10T01:02:36.010905Z",
     "iopub.status.busy": "2024-10-10T01:02:36.010165Z",
     "iopub.status.idle": "2024-10-10T01:02:38.233723Z",
     "shell.execute_reply": "2024-10-10T01:02:38.233485Z",
     "shell.execute_reply.started": "2024-10-10T01:02:36.010874Z"
    }
   },
   "outputs": [
    {
     "name": "stdout",
     "output_type": "stream",
     "text": [
      "TensorFlow version: 2.17.0\n"
     ]
    }
   ],
   "source": [
    "import tensorflow as tf\n",
    "\n",
    "print(\"TensorFlow version:\", tf.__version__)"
   ]
  },
  {
   "cell_type": "code",
   "execution_count": 3,
   "id": "0708b88a-3bc0-4ff2-aa3c-978e24d011c2",
   "metadata": {
    "execution": {
     "iopub.execute_input": "2024-10-10T01:02:53.008635Z",
     "iopub.status.busy": "2024-10-10T01:02:53.008083Z",
     "iopub.status.idle": "2024-10-10T01:02:53.012323Z",
     "shell.execute_reply": "2024-10-10T01:02:53.011728Z",
     "shell.execute_reply.started": "2024-10-10T01:02:53.008603Z"
    }
   },
   "outputs": [],
   "source": [
    "boston_housing = tf.keras.datasets.boston_housing"
   ]
  },
  {
   "cell_type": "code",
   "execution_count": 5,
   "id": "e3f88ba2-7997-4ed3-b24f-d154f07ce57a",
   "metadata": {
    "execution": {
     "iopub.execute_input": "2024-10-10T01:03:29.183676Z",
     "iopub.status.busy": "2024-10-10T01:03:29.183101Z",
     "iopub.status.idle": "2024-10-10T01:03:29.190660Z",
     "shell.execute_reply": "2024-10-10T01:03:29.189794Z",
     "shell.execute_reply.started": "2024-10-10T01:03:29.183639Z"
    }
   },
   "outputs": [],
   "source": [
    "(x_train, x_test), (y_train, y_test) = boston_housing.load_data()"
   ]
  },
  {
   "cell_type": "code",
   "execution_count": 7,
   "id": "23b9a619-2851-44b2-861d-280c95109975",
   "metadata": {
    "execution": {
     "iopub.execute_input": "2024-10-10T01:04:40.556912Z",
     "iopub.status.busy": "2024-10-10T01:04:40.556399Z",
     "iopub.status.idle": "2024-10-10T01:04:40.562563Z",
     "shell.execute_reply": "2024-10-10T01:04:40.561910Z",
     "shell.execute_reply.started": "2024-10-10T01:04:40.556884Z"
    }
   },
   "outputs": [],
   "source": [
    "df = pd.DataFrame(x_train)"
   ]
  },
  {
   "cell_type": "code",
   "execution_count": 8,
   "id": "8287b0ca-d941-4ab7-bcd6-aa635505839a",
   "metadata": {
    "execution": {
     "iopub.execute_input": "2024-10-10T01:04:46.318945Z",
     "iopub.status.busy": "2024-10-10T01:04:46.318143Z",
     "iopub.status.idle": "2024-10-10T01:04:46.346939Z",
     "shell.execute_reply": "2024-10-10T01:04:46.346527Z",
     "shell.execute_reply.started": "2024-10-10T01:04:46.318891Z"
    }
   },
   "outputs": [
    {
     "data": {
      "text/html": [
       "<div>\n",
       "<style scoped>\n",
       "    .dataframe tbody tr th:only-of-type {\n",
       "        vertical-align: middle;\n",
       "    }\n",
       "\n",
       "    .dataframe tbody tr th {\n",
       "        vertical-align: top;\n",
       "    }\n",
       "\n",
       "    .dataframe thead th {\n",
       "        text-align: right;\n",
       "    }\n",
       "</style>\n",
       "<table border=\"1\" class=\"dataframe\">\n",
       "  <thead>\n",
       "    <tr style=\"text-align: right;\">\n",
       "      <th></th>\n",
       "      <th>0</th>\n",
       "      <th>1</th>\n",
       "      <th>2</th>\n",
       "      <th>3</th>\n",
       "      <th>4</th>\n",
       "      <th>5</th>\n",
       "      <th>6</th>\n",
       "      <th>7</th>\n",
       "      <th>8</th>\n",
       "      <th>9</th>\n",
       "      <th>10</th>\n",
       "      <th>11</th>\n",
       "      <th>12</th>\n",
       "    </tr>\n",
       "  </thead>\n",
       "  <tbody>\n",
       "    <tr>\n",
       "      <th>count</th>\n",
       "      <td>404.000000</td>\n",
       "      <td>404.000000</td>\n",
       "      <td>404.000000</td>\n",
       "      <td>404.000000</td>\n",
       "      <td>404.000000</td>\n",
       "      <td>404.000000</td>\n",
       "      <td>404.000000</td>\n",
       "      <td>404.000000</td>\n",
       "      <td>404.000000</td>\n",
       "      <td>404.000000</td>\n",
       "      <td>404.000000</td>\n",
       "      <td>404.000000</td>\n",
       "      <td>404.000000</td>\n",
       "    </tr>\n",
       "    <tr>\n",
       "      <th>mean</th>\n",
       "      <td>3.745111</td>\n",
       "      <td>11.480198</td>\n",
       "      <td>11.104431</td>\n",
       "      <td>0.061881</td>\n",
       "      <td>0.557356</td>\n",
       "      <td>6.267082</td>\n",
       "      <td>69.010644</td>\n",
       "      <td>3.740271</td>\n",
       "      <td>9.440594</td>\n",
       "      <td>405.898515</td>\n",
       "      <td>18.475990</td>\n",
       "      <td>354.783168</td>\n",
       "      <td>12.740817</td>\n",
       "    </tr>\n",
       "    <tr>\n",
       "      <th>std</th>\n",
       "      <td>9.240734</td>\n",
       "      <td>23.767711</td>\n",
       "      <td>6.811308</td>\n",
       "      <td>0.241238</td>\n",
       "      <td>0.117293</td>\n",
       "      <td>0.709788</td>\n",
       "      <td>27.940665</td>\n",
       "      <td>2.030215</td>\n",
       "      <td>8.698360</td>\n",
       "      <td>166.374543</td>\n",
       "      <td>2.200382</td>\n",
       "      <td>94.111148</td>\n",
       "      <td>7.254545</td>\n",
       "    </tr>\n",
       "    <tr>\n",
       "      <th>min</th>\n",
       "      <td>0.006320</td>\n",
       "      <td>0.000000</td>\n",
       "      <td>0.460000</td>\n",
       "      <td>0.000000</td>\n",
       "      <td>0.385000</td>\n",
       "      <td>3.561000</td>\n",
       "      <td>2.900000</td>\n",
       "      <td>1.129600</td>\n",
       "      <td>1.000000</td>\n",
       "      <td>188.000000</td>\n",
       "      <td>12.600000</td>\n",
       "      <td>0.320000</td>\n",
       "      <td>1.730000</td>\n",
       "    </tr>\n",
       "    <tr>\n",
       "      <th>25%</th>\n",
       "      <td>0.081437</td>\n",
       "      <td>0.000000</td>\n",
       "      <td>5.130000</td>\n",
       "      <td>0.000000</td>\n",
       "      <td>0.453000</td>\n",
       "      <td>5.874750</td>\n",
       "      <td>45.475000</td>\n",
       "      <td>2.077100</td>\n",
       "      <td>4.000000</td>\n",
       "      <td>279.000000</td>\n",
       "      <td>17.225000</td>\n",
       "      <td>374.672500</td>\n",
       "      <td>6.890000</td>\n",
       "    </tr>\n",
       "    <tr>\n",
       "      <th>50%</th>\n",
       "      <td>0.268880</td>\n",
       "      <td>0.000000</td>\n",
       "      <td>9.690000</td>\n",
       "      <td>0.000000</td>\n",
       "      <td>0.538000</td>\n",
       "      <td>6.198500</td>\n",
       "      <td>78.500000</td>\n",
       "      <td>3.142300</td>\n",
       "      <td>5.000000</td>\n",
       "      <td>330.000000</td>\n",
       "      <td>19.100000</td>\n",
       "      <td>391.250000</td>\n",
       "      <td>11.395000</td>\n",
       "    </tr>\n",
       "    <tr>\n",
       "      <th>75%</th>\n",
       "      <td>3.674808</td>\n",
       "      <td>12.500000</td>\n",
       "      <td>18.100000</td>\n",
       "      <td>0.000000</td>\n",
       "      <td>0.631000</td>\n",
       "      <td>6.609000</td>\n",
       "      <td>94.100000</td>\n",
       "      <td>5.118000</td>\n",
       "      <td>24.000000</td>\n",
       "      <td>666.000000</td>\n",
       "      <td>20.200000</td>\n",
       "      <td>396.157500</td>\n",
       "      <td>17.092500</td>\n",
       "    </tr>\n",
       "    <tr>\n",
       "      <th>max</th>\n",
       "      <td>88.976200</td>\n",
       "      <td>100.000000</td>\n",
       "      <td>27.740000</td>\n",
       "      <td>1.000000</td>\n",
       "      <td>0.871000</td>\n",
       "      <td>8.725000</td>\n",
       "      <td>100.000000</td>\n",
       "      <td>10.710300</td>\n",
       "      <td>24.000000</td>\n",
       "      <td>711.000000</td>\n",
       "      <td>22.000000</td>\n",
       "      <td>396.900000</td>\n",
       "      <td>37.970000</td>\n",
       "    </tr>\n",
       "  </tbody>\n",
       "</table>\n",
       "</div>"
      ],
      "text/plain": [
       "               0           1           2           3           4           5   \\\n",
       "count  404.000000  404.000000  404.000000  404.000000  404.000000  404.000000   \n",
       "mean     3.745111   11.480198   11.104431    0.061881    0.557356    6.267082   \n",
       "std      9.240734   23.767711    6.811308    0.241238    0.117293    0.709788   \n",
       "min      0.006320    0.000000    0.460000    0.000000    0.385000    3.561000   \n",
       "25%      0.081437    0.000000    5.130000    0.000000    0.453000    5.874750   \n",
       "50%      0.268880    0.000000    9.690000    0.000000    0.538000    6.198500   \n",
       "75%      3.674808   12.500000   18.100000    0.000000    0.631000    6.609000   \n",
       "max     88.976200  100.000000   27.740000    1.000000    0.871000    8.725000   \n",
       "\n",
       "               6           7           8           9           10          11  \\\n",
       "count  404.000000  404.000000  404.000000  404.000000  404.000000  404.000000   \n",
       "mean    69.010644    3.740271    9.440594  405.898515   18.475990  354.783168   \n",
       "std     27.940665    2.030215    8.698360  166.374543    2.200382   94.111148   \n",
       "min      2.900000    1.129600    1.000000  188.000000   12.600000    0.320000   \n",
       "25%     45.475000    2.077100    4.000000  279.000000   17.225000  374.672500   \n",
       "50%     78.500000    3.142300    5.000000  330.000000   19.100000  391.250000   \n",
       "75%     94.100000    5.118000   24.000000  666.000000   20.200000  396.157500   \n",
       "max    100.000000   10.710300   24.000000  711.000000   22.000000  396.900000   \n",
       "\n",
       "               12  \n",
       "count  404.000000  \n",
       "mean    12.740817  \n",
       "std      7.254545  \n",
       "min      1.730000  \n",
       "25%      6.890000  \n",
       "50%     11.395000  \n",
       "75%     17.092500  \n",
       "max     37.970000  "
      ]
     },
     "execution_count": 8,
     "metadata": {},
     "output_type": "execute_result"
    }
   ],
   "source": [
    "df.describe()"
   ]
  },
  {
   "cell_type": "code",
   "execution_count": 9,
   "id": "10567912-da9f-4d43-af26-2e9d297d9ab0",
   "metadata": {
    "execution": {
     "iopub.execute_input": "2024-10-10T01:05:10.644412Z",
     "iopub.status.busy": "2024-10-10T01:05:10.643873Z",
     "iopub.status.idle": "2024-10-10T01:05:10.651678Z",
     "shell.execute_reply": "2024-10-10T01:05:10.651146Z",
     "shell.execute_reply.started": "2024-10-10T01:05:10.644384Z"
    }
   },
   "outputs": [],
   "source": [
    "boston_housing = boston_housing.load_data()"
   ]
  },
  {
   "cell_type": "code",
   "execution_count": 10,
   "id": "98a34bfe-418f-4a84-8176-ea8f7e2c0da5",
   "metadata": {
    "execution": {
     "iopub.execute_input": "2024-10-10T01:06:03.730116Z",
     "iopub.status.busy": "2024-10-10T01:06:03.729627Z",
     "iopub.status.idle": "2024-10-10T01:06:06.587475Z",
     "shell.execute_reply": "2024-10-10T01:06:06.587168Z",
     "shell.execute_reply.started": "2024-10-10T01:06:03.730087Z"
    }
   },
   "outputs": [],
   "source": [
    "import torch"
   ]
  },
  {
   "cell_type": "code",
   "execution_count": 26,
   "id": "a5727431-4501-4b5d-9233-ae6ee9e58186",
   "metadata": {
    "execution": {
     "iopub.execute_input": "2024-10-10T01:10:41.138908Z",
     "iopub.status.busy": "2024-10-10T01:10:41.138617Z",
     "iopub.status.idle": "2024-10-10T01:10:41.226922Z",
     "shell.execute_reply": "2024-10-10T01:10:41.226584Z",
     "shell.execute_reply.started": "2024-10-10T01:10:41.138889Z"
    }
   },
   "outputs": [
    {
     "data": {
      "text/plain": [
       "tensor([ 0,  1,  2,  3,  4,  5,  6,  7,  8,  9, 10], device='mps:0')"
      ]
     },
     "execution_count": 26,
     "metadata": {},
     "output_type": "execute_result"
    }
   ],
   "source": ""
  },
  {
   "cell_type": "code",
   "execution_count": null,
   "id": "61ef848a-ea60-4db3-84ac-b7faaa19fffe",
   "metadata": {},
   "outputs": [],
   "source": ""
  }
 ],
 "metadata": {
  "kernelspec": {
   "display_name": "Python 3 (ipykernel)",
   "language": "python",
   "name": "python3"
  },
  "language_info": {
   "codemirror_mode": {
    "name": "ipython",
    "version": 3
   },
   "file_extension": ".py",
   "mimetype": "text/x-python",
   "name": "python",
   "nbconvert_exporter": "python",
   "pygments_lexer": "ipython3",
   "version": "3.12.6"
  }
 },
 "nbformat": 4,
 "nbformat_minor": 5
}
