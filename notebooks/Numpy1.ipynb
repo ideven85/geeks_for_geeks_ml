{
 "cells": [
  {
   "cell_type": "code",
   "execution_count": 2,
   "id": "initial_id",
   "metadata": {
    "collapsed": true,
    "ExecuteTime": {
     "end_time": "2024-03-17T04:39:47.629611Z",
     "start_time": "2024-03-17T04:39:47.627382Z"
    }
   },
   "outputs": [],
   "source": [
    "import numpy as np\n",
    "\n",
    "a = np.arange(10)"
   ]
  },
  {
   "cell_type": "code",
   "outputs": [
    {
     "data": {
      "text/plain": "array([0, 1, 2, 3, 4, 5, 6, 7, 8, 9])"
     },
     "execution_count": 3,
     "metadata": {},
     "output_type": "execute_result"
    }
   ],
   "source": [
    "a"
   ],
   "metadata": {
    "collapsed": false,
    "ExecuteTime": {
     "end_time": "2024-03-17T04:39:49.609972Z",
     "start_time": "2024-03-17T04:39:49.606313Z"
    }
   },
   "id": "cffd7cbbe740d469",
   "execution_count": 3
  },
  {
   "cell_type": "code",
   "outputs": [],
   "source": [
    "b = np.array([[1, 2, 3, 4], [5, 6, 7, 8]])"
   ],
   "metadata": {
    "collapsed": false,
    "ExecuteTime": {
     "end_time": "2024-03-17T04:40:15.620500Z",
     "start_time": "2024-03-17T04:40:15.618232Z"
    }
   },
   "id": "4b4834ca02355847",
   "execution_count": 4
  },
  {
   "cell_type": "code",
   "outputs": [
    {
     "data": {
      "text/plain": "(2, 4)"
     },
     "execution_count": 5,
     "metadata": {},
     "output_type": "execute_result"
    }
   ],
   "source": [
    "b.shape"
   ],
   "metadata": {
    "collapsed": false,
    "ExecuteTime": {
     "end_time": "2024-03-17T04:40:23.233762Z",
     "start_time": "2024-03-17T04:40:23.231169Z"
    }
   },
   "id": "72814c294641d41b",
   "execution_count": 5
  },
  {
   "cell_type": "code",
   "outputs": [
    {
     "data": {
      "text/plain": "array([[1],\n       [2],\n       [3],\n       [4],\n       [5],\n       [6],\n       [7],\n       [8]])"
     },
     "execution_count": 6,
     "metadata": {},
     "output_type": "execute_result"
    }
   ],
   "source": [
    "b.reshape(-1, 1)"
   ],
   "metadata": {
    "collapsed": false,
    "ExecuteTime": {
     "end_time": "2024-03-17T04:40:32.353130Z",
     "start_time": "2024-03-17T04:40:32.349171Z"
    }
   },
   "id": "67b479bb2f895767",
   "execution_count": 6
  },
  {
   "cell_type": "code",
   "outputs": [
    {
     "data": {
      "text/plain": "array([[1, 2],\n       [3, 4],\n       [5, 6],\n       [7, 8]])"
     },
     "execution_count": 7,
     "metadata": {},
     "output_type": "execute_result"
    }
   ],
   "source": [
    "b.reshape(-1, 2)"
   ],
   "metadata": {
    "collapsed": false,
    "ExecuteTime": {
     "end_time": "2024-03-17T04:40:44.997914Z",
     "start_time": "2024-03-17T04:40:44.995041Z"
    }
   },
   "id": "f80d28fa4ac25e42",
   "execution_count": 7
  },
  {
   "cell_type": "code",
   "outputs": [],
   "source": [
    "import pandas as pd"
   ],
   "metadata": {
    "collapsed": false,
    "ExecuteTime": {
     "end_time": "2024-03-17T04:41:12.864979Z",
     "start_time": "2024-03-17T04:41:12.862348Z"
    }
   },
   "id": "e10943e9762a1deb",
   "execution_count": 8
  },
  {
   "cell_type": "code",
   "outputs": [],
   "source": [
    "names = [\"Deven\", \"John\", \"Alice\", \"Pooja\"]\n",
    "marks = [95, 84, 45, 100]"
   ],
   "metadata": {
    "collapsed": false,
    "ExecuteTime": {
     "end_time": "2024-03-17T04:42:02.543284Z",
     "start_time": "2024-03-17T04:42:02.541057Z"
    }
   },
   "id": "1e34ec818a985480",
   "execution_count": 9
  },
  {
   "cell_type": "code",
   "outputs": [],
   "source": [
    "classroom = pd.DataFrame({\"names\": names, \"marks\": marks})"
   ],
   "metadata": {
    "collapsed": false,
    "ExecuteTime": {
     "end_time": "2024-03-17T05:00:20.630932Z",
     "start_time": "2024-03-17T05:00:20.627411Z"
    }
   },
   "id": "c6312e99da324e75",
   "execution_count": 49
  },
  {
   "cell_type": "code",
   "outputs": [
    {
     "data": {
      "text/plain": "   names  marks\n0  Deven     95\n1   John     84\n2  Alice     45\n3  Pooja    100",
      "text/html": "<div>\n<style scoped>\n    .dataframe tbody tr th:only-of-type {\n        vertical-align: middle;\n    }\n\n    .dataframe tbody tr th {\n        vertical-align: top;\n    }\n\n    .dataframe thead th {\n        text-align: right;\n    }\n</style>\n<table border=\"1\" class=\"dataframe\">\n  <thead>\n    <tr style=\"text-align: right;\">\n      <th></th>\n      <th>names</th>\n      <th>marks</th>\n    </tr>\n  </thead>\n  <tbody>\n    <tr>\n      <th>0</th>\n      <td>Deven</td>\n      <td>95</td>\n    </tr>\n    <tr>\n      <th>1</th>\n      <td>John</td>\n      <td>84</td>\n    </tr>\n    <tr>\n      <th>2</th>\n      <td>Alice</td>\n      <td>45</td>\n    </tr>\n    <tr>\n      <th>3</th>\n      <td>Pooja</td>\n      <td>100</td>\n    </tr>\n  </tbody>\n</table>\n</div>"
     },
     "execution_count": 50,
     "metadata": {},
     "output_type": "execute_result"
    }
   ],
   "source": [
    "classroom"
   ],
   "metadata": {
    "collapsed": false,
    "ExecuteTime": {
     "end_time": "2024-03-17T05:00:21.235101Z",
     "start_time": "2024-03-17T05:00:21.229804Z"
    }
   },
   "id": "93831c356dc3a78f",
   "execution_count": 50
  },
  {
   "cell_type": "code",
   "outputs": [
    {
     "name": "stdout",
     "output_type": "stream",
     "text": [
      "[20, 40, 60, 90, 100]\n"
     ]
    }
   ],
   "source": [
    "grades = [\"D\", \"C\", \"B\", \"A\"]\n",
    "marks_between = sorted([100, 90, 60, 40, 20])\n",
    "print(marks_between)"
   ],
   "metadata": {
    "collapsed": false,
    "ExecuteTime": {
     "end_time": "2024-03-17T05:06:56.254127Z",
     "start_time": "2024-03-17T05:06:56.250695Z"
    }
   },
   "id": "d0a087dc7059560",
   "execution_count": 73
  },
  {
   "cell_type": "code",
   "outputs": [],
   "source": [
    "classroom[\"grade\"] = pd.cut(classroom[\"marks\"], bins=marks_between, labels=grades)"
   ],
   "metadata": {
    "collapsed": false,
    "ExecuteTime": {
     "end_time": "2024-03-17T05:06:56.675731Z",
     "start_time": "2024-03-17T05:06:56.673129Z"
    }
   },
   "id": "6a3c2b4b669439b0",
   "execution_count": 74
  },
  {
   "cell_type": "code",
   "outputs": [
    {
     "data": {
      "text/plain": "   names  marks grade\n0  Deven     95     A\n1   John     84     B\n2  Alice     45     C\n3  Pooja    100     A",
      "text/html": "<div>\n<style scoped>\n    .dataframe tbody tr th:only-of-type {\n        vertical-align: middle;\n    }\n\n    .dataframe tbody tr th {\n        vertical-align: top;\n    }\n\n    .dataframe thead th {\n        text-align: right;\n    }\n</style>\n<table border=\"1\" class=\"dataframe\">\n  <thead>\n    <tr style=\"text-align: right;\">\n      <th></th>\n      <th>names</th>\n      <th>marks</th>\n      <th>grade</th>\n    </tr>\n  </thead>\n  <tbody>\n    <tr>\n      <th>0</th>\n      <td>Deven</td>\n      <td>95</td>\n      <td>A</td>\n    </tr>\n    <tr>\n      <th>1</th>\n      <td>John</td>\n      <td>84</td>\n      <td>B</td>\n    </tr>\n    <tr>\n      <th>2</th>\n      <td>Alice</td>\n      <td>45</td>\n      <td>C</td>\n    </tr>\n    <tr>\n      <th>3</th>\n      <td>Pooja</td>\n      <td>100</td>\n      <td>A</td>\n    </tr>\n  </tbody>\n</table>\n</div>"
     },
     "execution_count": 75,
     "metadata": {},
     "output_type": "execute_result"
    }
   ],
   "source": [
    "classroom"
   ],
   "metadata": {
    "collapsed": false,
    "ExecuteTime": {
     "end_time": "2024-03-17T05:06:57.034802Z",
     "start_time": "2024-03-17T05:06:57.031084Z"
    }
   },
   "id": "6c9619a0aaa71314",
   "execution_count": 75
  },
  {
   "cell_type": "code",
   "outputs": [],
   "source": [
    "classroom[\"countries\"] = [\"India\", \"USA\", \"France\", \"Pakistan\"]"
   ],
   "metadata": {
    "collapsed": false,
    "ExecuteTime": {
     "end_time": "2024-03-17T05:08:01.043664Z",
     "start_time": "2024-03-17T05:08:01.040477Z"
    }
   },
   "id": "749bd91ecdbef6d1",
   "execution_count": 76
  },
  {
   "cell_type": "code",
   "outputs": [
    {
     "data": {
      "text/plain": "   names  marks grade countries\n0  Deven     95     A     India\n1   John     84     B       USA\n2  Alice     45     C    France\n3  Pooja    100     A  Pakistan",
      "text/html": "<div>\n<style scoped>\n    .dataframe tbody tr th:only-of-type {\n        vertical-align: middle;\n    }\n\n    .dataframe tbody tr th {\n        vertical-align: top;\n    }\n\n    .dataframe thead th {\n        text-align: right;\n    }\n</style>\n<table border=\"1\" class=\"dataframe\">\n  <thead>\n    <tr style=\"text-align: right;\">\n      <th></th>\n      <th>names</th>\n      <th>marks</th>\n      <th>grade</th>\n      <th>countries</th>\n    </tr>\n  </thead>\n  <tbody>\n    <tr>\n      <th>0</th>\n      <td>Deven</td>\n      <td>95</td>\n      <td>A</td>\n      <td>India</td>\n    </tr>\n    <tr>\n      <th>1</th>\n      <td>John</td>\n      <td>84</td>\n      <td>B</td>\n      <td>USA</td>\n    </tr>\n    <tr>\n      <th>2</th>\n      <td>Alice</td>\n      <td>45</td>\n      <td>C</td>\n      <td>France</td>\n    </tr>\n    <tr>\n      <th>3</th>\n      <td>Pooja</td>\n      <td>100</td>\n      <td>A</td>\n      <td>Pakistan</td>\n    </tr>\n  </tbody>\n</table>\n</div>"
     },
     "execution_count": 77,
     "metadata": {},
     "output_type": "execute_result"
    }
   ],
   "source": [
    "classroom"
   ],
   "metadata": {
    "collapsed": false,
    "ExecuteTime": {
     "end_time": "2024-03-17T05:08:04.225001Z",
     "start_time": "2024-03-17T05:08:04.221520Z"
    }
   },
   "id": "46b9dfeb64b603e0",
   "execution_count": 77
  },
  {
   "cell_type": "code",
   "outputs": [
    {
     "ename": "ValueError",
     "evalue": "No axis named names for object type DataFrame",
     "output_type": "error",
     "traceback": [
      "\u001B[0;31m---------------------------------------------------------------------------\u001B[0m",
      "\u001B[0;31mKeyError\u001B[0m                                  Traceback (most recent call last)",
      "\u001B[0;32m~/Developer/Machine_Learning_Algorithms/.venv/lib/python3.12/site-packages/pandas/core/generic.py\u001B[0m in \u001B[0;36m?\u001B[0;34m(cls, axis)\u001B[0m\n\u001B[1;32m    575\u001B[0m             \u001B[0;32mreturn\u001B[0m \u001B[0mcls\u001B[0m\u001B[0;34m.\u001B[0m\u001B[0m_AXIS_TO_AXIS_NUMBER\u001B[0m\u001B[0;34m[\u001B[0m\u001B[0maxis\u001B[0m\u001B[0;34m]\u001B[0m\u001B[0;34m\u001B[0m\u001B[0;34m\u001B[0m\u001B[0m\n\u001B[1;32m    576\u001B[0m         \u001B[0;32mexcept\u001B[0m \u001B[0mKeyError\u001B[0m\u001B[0;34m:\u001B[0m\u001B[0;34m\u001B[0m\u001B[0;34m\u001B[0m\u001B[0m\n\u001B[0;32m--> 577\u001B[0;31m             \u001B[0;32mraise\u001B[0m \u001B[0mValueError\u001B[0m\u001B[0;34m(\u001B[0m\u001B[0;34mf\"\u001B[0m\u001B[0;34mNo axis named \u001B[0m\u001B[0;34m{\u001B[0m\u001B[0maxis\u001B[0m\u001B[0;34m}\u001B[0m\u001B[0;34m for object type \u001B[0m\u001B[0;34m{\u001B[0m\u001B[0mcls\u001B[0m\u001B[0;34m.\u001B[0m\u001B[0m__name__\u001B[0m\u001B[0;34m}\u001B[0m\u001B[0;34m\"\u001B[0m\u001B[0;34m)\u001B[0m\u001B[0;34m\u001B[0m\u001B[0;34m\u001B[0m\u001B[0m\n\u001B[0m",
      "\u001B[0;31mKeyError\u001B[0m: 'names'",
      "\nDuring handling of the above exception, another exception occurred:\n",
      "\u001B[0;31mValueError\u001B[0m                                Traceback (most recent call last)",
      "\u001B[0;32m/var/folders/xn/4bc_bn4140ngpppx3_1k_3n00000gn/T/ipykernel_13372/2254981549.py\u001B[0m in \u001B[0;36m?\u001B[0;34m()\u001B[0m\n\u001B[0;32m----> 1\u001B[0;31m \u001B[0mclassroom\u001B[0m\u001B[0;34m.\u001B[0m\u001B[0mgroupby\u001B[0m\u001B[0;34m(\u001B[0m\u001B[0;34m'countries'\u001B[0m\u001B[0;34m,\u001B[0m\u001B[0;34m'names'\u001B[0m\u001B[0;34m)\u001B[0m\u001B[0;34m.\u001B[0m\u001B[0mmean\u001B[0m\u001B[0;34m\u001B[0m\u001B[0;34m\u001B[0m\u001B[0m\n\u001B[0m",
      "\u001B[0;32m~/Developer/Machine_Learning_Algorithms/.venv/lib/python3.12/site-packages/pandas/core/frame.py\u001B[0m in \u001B[0;36m?\u001B[0;34m(self, by, axis, level, as_index, sort, group_keys, observed, dropna)\u001B[0m\n\u001B[1;32m   9143\u001B[0m         \u001B[0mobserved\u001B[0m\u001B[0;34m:\u001B[0m \u001B[0mbool\u001B[0m \u001B[0;34m|\u001B[0m \u001B[0mlib\u001B[0m\u001B[0;34m.\u001B[0m\u001B[0mNoDefault\u001B[0m \u001B[0;34m=\u001B[0m \u001B[0mlib\u001B[0m\u001B[0;34m.\u001B[0m\u001B[0mno_default\u001B[0m\u001B[0;34m,\u001B[0m\u001B[0;34m\u001B[0m\u001B[0;34m\u001B[0m\u001B[0m\n\u001B[1;32m   9144\u001B[0m         \u001B[0mdropna\u001B[0m\u001B[0;34m:\u001B[0m \u001B[0mbool\u001B[0m \u001B[0;34m=\u001B[0m \u001B[0;32mTrue\u001B[0m\u001B[0;34m,\u001B[0m\u001B[0;34m\u001B[0m\u001B[0;34m\u001B[0m\u001B[0m\n\u001B[1;32m   9145\u001B[0m     \u001B[0;34m)\u001B[0m \u001B[0;34m->\u001B[0m \u001B[0mDataFrameGroupBy\u001B[0m\u001B[0;34m:\u001B[0m\u001B[0;34m\u001B[0m\u001B[0;34m\u001B[0m\u001B[0m\n\u001B[1;32m   9146\u001B[0m         \u001B[0;32mif\u001B[0m \u001B[0maxis\u001B[0m \u001B[0;32mis\u001B[0m \u001B[0;32mnot\u001B[0m \u001B[0mlib\u001B[0m\u001B[0;34m.\u001B[0m\u001B[0mno_default\u001B[0m\u001B[0;34m:\u001B[0m\u001B[0;34m\u001B[0m\u001B[0;34m\u001B[0m\u001B[0m\n\u001B[0;32m-> 9147\u001B[0;31m             \u001B[0maxis\u001B[0m \u001B[0;34m=\u001B[0m \u001B[0mself\u001B[0m\u001B[0;34m.\u001B[0m\u001B[0m_get_axis_number\u001B[0m\u001B[0;34m(\u001B[0m\u001B[0maxis\u001B[0m\u001B[0;34m)\u001B[0m\u001B[0;34m\u001B[0m\u001B[0;34m\u001B[0m\u001B[0m\n\u001B[0m\u001B[1;32m   9148\u001B[0m             \u001B[0;32mif\u001B[0m \u001B[0maxis\u001B[0m \u001B[0;34m==\u001B[0m \u001B[0;36m1\u001B[0m\u001B[0;34m:\u001B[0m\u001B[0;34m\u001B[0m\u001B[0;34m\u001B[0m\u001B[0m\n\u001B[1;32m   9149\u001B[0m                 warnings.warn(\n\u001B[1;32m   9150\u001B[0m                     \u001B[0;34m\"DataFrame.groupby with axis=1 is deprecated. Do \"\u001B[0m\u001B[0;34m\u001B[0m\u001B[0;34m\u001B[0m\u001B[0m\n",
      "\u001B[0;32m~/Developer/Machine_Learning_Algorithms/.venv/lib/python3.12/site-packages/pandas/core/generic.py\u001B[0m in \u001B[0;36m?\u001B[0;34m(cls, axis)\u001B[0m\n\u001B[1;32m    573\u001B[0m     \u001B[0;32mdef\u001B[0m \u001B[0m_get_axis_number\u001B[0m\u001B[0;34m(\u001B[0m\u001B[0mcls\u001B[0m\u001B[0;34m,\u001B[0m \u001B[0maxis\u001B[0m\u001B[0;34m:\u001B[0m \u001B[0mAxis\u001B[0m\u001B[0;34m)\u001B[0m \u001B[0;34m->\u001B[0m \u001B[0mAxisInt\u001B[0m\u001B[0;34m:\u001B[0m\u001B[0;34m\u001B[0m\u001B[0;34m\u001B[0m\u001B[0m\n\u001B[1;32m    574\u001B[0m         \u001B[0;32mtry\u001B[0m\u001B[0;34m:\u001B[0m\u001B[0;34m\u001B[0m\u001B[0;34m\u001B[0m\u001B[0m\n\u001B[1;32m    575\u001B[0m             \u001B[0;32mreturn\u001B[0m \u001B[0mcls\u001B[0m\u001B[0;34m.\u001B[0m\u001B[0m_AXIS_TO_AXIS_NUMBER\u001B[0m\u001B[0;34m[\u001B[0m\u001B[0maxis\u001B[0m\u001B[0;34m]\u001B[0m\u001B[0;34m\u001B[0m\u001B[0;34m\u001B[0m\u001B[0m\n\u001B[1;32m    576\u001B[0m         \u001B[0;32mexcept\u001B[0m \u001B[0mKeyError\u001B[0m\u001B[0;34m:\u001B[0m\u001B[0;34m\u001B[0m\u001B[0;34m\u001B[0m\u001B[0m\n\u001B[0;32m--> 577\u001B[0;31m             \u001B[0;32mraise\u001B[0m \u001B[0mValueError\u001B[0m\u001B[0;34m(\u001B[0m\u001B[0;34mf\"\u001B[0m\u001B[0;34mNo axis named \u001B[0m\u001B[0;34m{\u001B[0m\u001B[0maxis\u001B[0m\u001B[0;34m}\u001B[0m\u001B[0;34m for object type \u001B[0m\u001B[0;34m{\u001B[0m\u001B[0mcls\u001B[0m\u001B[0;34m.\u001B[0m\u001B[0m__name__\u001B[0m\u001B[0;34m}\u001B[0m\u001B[0;34m\"\u001B[0m\u001B[0;34m)\u001B[0m\u001B[0;34m\u001B[0m\u001B[0;34m\u001B[0m\u001B[0m\n\u001B[0m",
      "\u001B[0;31mValueError\u001B[0m: No axis named names for object type DataFrame"
     ]
    }
   ],
   "source": [
    "classroom.groupby(\"countries\", \"names\").mean"
   ],
   "metadata": {
    "collapsed": false,
    "ExecuteTime": {
     "end_time": "2024-03-17T05:09:00.940722Z",
     "start_time": "2024-03-17T05:09:00.924358Z"
    }
   },
   "id": "5bfbc4f1fa757517",
   "execution_count": 79
  },
  {
   "cell_type": "code",
   "outputs": [
    {
     "ename": "TypeError",
     "evalue": "category type does not support sum operations",
     "output_type": "error",
     "traceback": [
      "\u001B[0;31m---------------------------------------------------------------------------\u001B[0m",
      "\u001B[0;31mTypeError\u001B[0m                                 Traceback (most recent call last)",
      "Cell \u001B[0;32mIn[82], line 2\u001B[0m\n\u001B[1;32m      1\u001B[0m L \u001B[38;5;241m=\u001B[39m [\u001B[38;5;241m0\u001B[39m,\u001B[38;5;241m1\u001B[39m,\u001B[38;5;241m2\u001B[39m,\u001B[38;5;241m0\u001B[39m]\n\u001B[0;32m----> 2\u001B[0m \u001B[43mclassroom\u001B[49m\u001B[38;5;241;43m.\u001B[39;49m\u001B[43mgroupby\u001B[49m\u001B[43m(\u001B[49m\u001B[43mL\u001B[49m\u001B[43m)\u001B[49m\u001B[38;5;241;43m.\u001B[39;49m\u001B[43msum\u001B[49m\u001B[43m(\u001B[49m\u001B[43m)\u001B[49m\n",
      "File \u001B[0;32m~/Developer/Machine_Learning_Algorithms/.venv/lib/python3.12/site-packages/pandas/core/groupby/groupby.py:3146\u001B[0m, in \u001B[0;36mGroupBy.sum\u001B[0;34m(self, numeric_only, min_count, engine, engine_kwargs)\u001B[0m\n\u001B[1;32m   3141\u001B[0m \u001B[38;5;28;01melse\u001B[39;00m:\n\u001B[1;32m   3142\u001B[0m     \u001B[38;5;66;03m# If we are grouping on categoricals we want unobserved categories to\u001B[39;00m\n\u001B[1;32m   3143\u001B[0m     \u001B[38;5;66;03m# return zero, rather than the default of NaN which the reindexing in\u001B[39;00m\n\u001B[1;32m   3144\u001B[0m     \u001B[38;5;66;03m# _agg_general() returns. GH #31422\u001B[39;00m\n\u001B[1;32m   3145\u001B[0m     \u001B[38;5;28;01mwith\u001B[39;00m com\u001B[38;5;241m.\u001B[39mtemp_setattr(\u001B[38;5;28mself\u001B[39m, \u001B[38;5;124m\"\u001B[39m\u001B[38;5;124mobserved\u001B[39m\u001B[38;5;124m\"\u001B[39m, \u001B[38;5;28;01mTrue\u001B[39;00m):\n\u001B[0;32m-> 3146\u001B[0m         result \u001B[38;5;241m=\u001B[39m \u001B[38;5;28;43mself\u001B[39;49m\u001B[38;5;241;43m.\u001B[39;49m\u001B[43m_agg_general\u001B[49m\u001B[43m(\u001B[49m\n\u001B[1;32m   3147\u001B[0m \u001B[43m            \u001B[49m\u001B[43mnumeric_only\u001B[49m\u001B[38;5;241;43m=\u001B[39;49m\u001B[43mnumeric_only\u001B[49m\u001B[43m,\u001B[49m\n\u001B[1;32m   3148\u001B[0m \u001B[43m            \u001B[49m\u001B[43mmin_count\u001B[49m\u001B[38;5;241;43m=\u001B[39;49m\u001B[43mmin_count\u001B[49m\u001B[43m,\u001B[49m\n\u001B[1;32m   3149\u001B[0m \u001B[43m            \u001B[49m\u001B[43malias\u001B[49m\u001B[38;5;241;43m=\u001B[39;49m\u001B[38;5;124;43m\"\u001B[39;49m\u001B[38;5;124;43msum\u001B[39;49m\u001B[38;5;124;43m\"\u001B[39;49m\u001B[43m,\u001B[49m\n\u001B[1;32m   3150\u001B[0m \u001B[43m            \u001B[49m\u001B[43mnpfunc\u001B[49m\u001B[38;5;241;43m=\u001B[39;49m\u001B[43mnp\u001B[49m\u001B[38;5;241;43m.\u001B[39;49m\u001B[43msum\u001B[49m\u001B[43m,\u001B[49m\n\u001B[1;32m   3151\u001B[0m \u001B[43m        \u001B[49m\u001B[43m)\u001B[49m\n\u001B[1;32m   3153\u001B[0m     \u001B[38;5;28;01mreturn\u001B[39;00m \u001B[38;5;28mself\u001B[39m\u001B[38;5;241m.\u001B[39m_reindex_output(result, fill_value\u001B[38;5;241m=\u001B[39m\u001B[38;5;241m0\u001B[39m)\n",
      "File \u001B[0;32m~/Developer/Machine_Learning_Algorithms/.venv/lib/python3.12/site-packages/pandas/core/groupby/groupby.py:1906\u001B[0m, in \u001B[0;36mGroupBy._agg_general\u001B[0;34m(self, numeric_only, min_count, alias, npfunc, **kwargs)\u001B[0m\n\u001B[1;32m   1896\u001B[0m \u001B[38;5;129m@final\u001B[39m\n\u001B[1;32m   1897\u001B[0m \u001B[38;5;28;01mdef\u001B[39;00m \u001B[38;5;21m_agg_general\u001B[39m(\n\u001B[1;32m   1898\u001B[0m     \u001B[38;5;28mself\u001B[39m,\n\u001B[0;32m   (...)\u001B[0m\n\u001B[1;32m   1904\u001B[0m     \u001B[38;5;241m*\u001B[39m\u001B[38;5;241m*\u001B[39mkwargs,\n\u001B[1;32m   1905\u001B[0m ):\n\u001B[0;32m-> 1906\u001B[0m     result \u001B[38;5;241m=\u001B[39m \u001B[38;5;28;43mself\u001B[39;49m\u001B[38;5;241;43m.\u001B[39;49m\u001B[43m_cython_agg_general\u001B[49m\u001B[43m(\u001B[49m\n\u001B[1;32m   1907\u001B[0m \u001B[43m        \u001B[49m\u001B[43mhow\u001B[49m\u001B[38;5;241;43m=\u001B[39;49m\u001B[43malias\u001B[49m\u001B[43m,\u001B[49m\n\u001B[1;32m   1908\u001B[0m \u001B[43m        \u001B[49m\u001B[43malt\u001B[49m\u001B[38;5;241;43m=\u001B[39;49m\u001B[43mnpfunc\u001B[49m\u001B[43m,\u001B[49m\n\u001B[1;32m   1909\u001B[0m \u001B[43m        \u001B[49m\u001B[43mnumeric_only\u001B[49m\u001B[38;5;241;43m=\u001B[39;49m\u001B[43mnumeric_only\u001B[49m\u001B[43m,\u001B[49m\n\u001B[1;32m   1910\u001B[0m \u001B[43m        \u001B[49m\u001B[43mmin_count\u001B[49m\u001B[38;5;241;43m=\u001B[39;49m\u001B[43mmin_count\u001B[49m\u001B[43m,\u001B[49m\n\u001B[1;32m   1911\u001B[0m \u001B[43m        \u001B[49m\u001B[38;5;241;43m*\u001B[39;49m\u001B[38;5;241;43m*\u001B[39;49m\u001B[43mkwargs\u001B[49m\u001B[43m,\u001B[49m\n\u001B[1;32m   1912\u001B[0m \u001B[43m    \u001B[49m\u001B[43m)\u001B[49m\n\u001B[1;32m   1913\u001B[0m     \u001B[38;5;28;01mreturn\u001B[39;00m result\u001B[38;5;241m.\u001B[39m__finalize__(\u001B[38;5;28mself\u001B[39m\u001B[38;5;241m.\u001B[39mobj, method\u001B[38;5;241m=\u001B[39m\u001B[38;5;124m\"\u001B[39m\u001B[38;5;124mgroupby\u001B[39m\u001B[38;5;124m\"\u001B[39m)\n",
      "File \u001B[0;32m~/Developer/Machine_Learning_Algorithms/.venv/lib/python3.12/site-packages/pandas/core/groupby/groupby.py:1998\u001B[0m, in \u001B[0;36mGroupBy._cython_agg_general\u001B[0;34m(self, how, alt, numeric_only, min_count, **kwargs)\u001B[0m\n\u001B[1;32m   1995\u001B[0m     result \u001B[38;5;241m=\u001B[39m \u001B[38;5;28mself\u001B[39m\u001B[38;5;241m.\u001B[39m_agg_py_fallback(how, values, ndim\u001B[38;5;241m=\u001B[39mdata\u001B[38;5;241m.\u001B[39mndim, alt\u001B[38;5;241m=\u001B[39malt)\n\u001B[1;32m   1996\u001B[0m     \u001B[38;5;28;01mreturn\u001B[39;00m result\n\u001B[0;32m-> 1998\u001B[0m new_mgr \u001B[38;5;241m=\u001B[39m \u001B[43mdata\u001B[49m\u001B[38;5;241;43m.\u001B[39;49m\u001B[43mgrouped_reduce\u001B[49m\u001B[43m(\u001B[49m\u001B[43marray_func\u001B[49m\u001B[43m)\u001B[49m\n\u001B[1;32m   1999\u001B[0m res \u001B[38;5;241m=\u001B[39m \u001B[38;5;28mself\u001B[39m\u001B[38;5;241m.\u001B[39m_wrap_agged_manager(new_mgr)\n\u001B[1;32m   2000\u001B[0m \u001B[38;5;28;01mif\u001B[39;00m how \u001B[38;5;129;01min\u001B[39;00m [\u001B[38;5;124m\"\u001B[39m\u001B[38;5;124midxmin\u001B[39m\u001B[38;5;124m\"\u001B[39m, \u001B[38;5;124m\"\u001B[39m\u001B[38;5;124midxmax\u001B[39m\u001B[38;5;124m\"\u001B[39m]:\n",
      "File \u001B[0;32m~/Developer/Machine_Learning_Algorithms/.venv/lib/python3.12/site-packages/pandas/core/internals/managers.py:1472\u001B[0m, in \u001B[0;36mBlockManager.grouped_reduce\u001B[0;34m(self, func)\u001B[0m\n\u001B[1;32m   1470\u001B[0m             result_blocks \u001B[38;5;241m=\u001B[39m extend_blocks(applied, result_blocks)\n\u001B[1;32m   1471\u001B[0m     \u001B[38;5;28;01melse\u001B[39;00m:\n\u001B[0;32m-> 1472\u001B[0m         applied \u001B[38;5;241m=\u001B[39m \u001B[43mblk\u001B[49m\u001B[38;5;241;43m.\u001B[39;49m\u001B[43mapply\u001B[49m\u001B[43m(\u001B[49m\u001B[43mfunc\u001B[49m\u001B[43m)\u001B[49m\n\u001B[1;32m   1473\u001B[0m         result_blocks \u001B[38;5;241m=\u001B[39m extend_blocks(applied, result_blocks)\n\u001B[1;32m   1475\u001B[0m \u001B[38;5;28;01mif\u001B[39;00m \u001B[38;5;28mlen\u001B[39m(result_blocks) \u001B[38;5;241m==\u001B[39m \u001B[38;5;241m0\u001B[39m:\n",
      "File \u001B[0;32m~/Developer/Machine_Learning_Algorithms/.venv/lib/python3.12/site-packages/pandas/core/internals/blocks.py:393\u001B[0m, in \u001B[0;36mBlock.apply\u001B[0;34m(self, func, **kwargs)\u001B[0m\n\u001B[1;32m    387\u001B[0m \u001B[38;5;129m@final\u001B[39m\n\u001B[1;32m    388\u001B[0m \u001B[38;5;28;01mdef\u001B[39;00m \u001B[38;5;21mapply\u001B[39m(\u001B[38;5;28mself\u001B[39m, func, \u001B[38;5;241m*\u001B[39m\u001B[38;5;241m*\u001B[39mkwargs) \u001B[38;5;241m-\u001B[39m\u001B[38;5;241m>\u001B[39m \u001B[38;5;28mlist\u001B[39m[Block]:\n\u001B[1;32m    389\u001B[0m \u001B[38;5;250m    \u001B[39m\u001B[38;5;124;03m\"\"\"\u001B[39;00m\n\u001B[1;32m    390\u001B[0m \u001B[38;5;124;03m    apply the function to my values; return a block if we are not\u001B[39;00m\n\u001B[1;32m    391\u001B[0m \u001B[38;5;124;03m    one\u001B[39;00m\n\u001B[1;32m    392\u001B[0m \u001B[38;5;124;03m    \"\"\"\u001B[39;00m\n\u001B[0;32m--> 393\u001B[0m     result \u001B[38;5;241m=\u001B[39m \u001B[43mfunc\u001B[49m\u001B[43m(\u001B[49m\u001B[38;5;28;43mself\u001B[39;49m\u001B[38;5;241;43m.\u001B[39;49m\u001B[43mvalues\u001B[49m\u001B[43m,\u001B[49m\u001B[43m \u001B[49m\u001B[38;5;241;43m*\u001B[39;49m\u001B[38;5;241;43m*\u001B[39;49m\u001B[43mkwargs\u001B[49m\u001B[43m)\u001B[49m\n\u001B[1;32m    395\u001B[0m     result \u001B[38;5;241m=\u001B[39m maybe_coerce_values(result)\n\u001B[1;32m    396\u001B[0m     \u001B[38;5;28;01mreturn\u001B[39;00m \u001B[38;5;28mself\u001B[39m\u001B[38;5;241m.\u001B[39m_split_op_result(result)\n",
      "File \u001B[0;32m~/Developer/Machine_Learning_Algorithms/.venv/lib/python3.12/site-packages/pandas/core/groupby/groupby.py:1973\u001B[0m, in \u001B[0;36mGroupBy._cython_agg_general.<locals>.array_func\u001B[0;34m(values)\u001B[0m\n\u001B[1;32m   1971\u001B[0m \u001B[38;5;28;01mdef\u001B[39;00m \u001B[38;5;21marray_func\u001B[39m(values: ArrayLike) \u001B[38;5;241m-\u001B[39m\u001B[38;5;241m>\u001B[39m ArrayLike:\n\u001B[1;32m   1972\u001B[0m     \u001B[38;5;28;01mtry\u001B[39;00m:\n\u001B[0;32m-> 1973\u001B[0m         result \u001B[38;5;241m=\u001B[39m \u001B[38;5;28;43mself\u001B[39;49m\u001B[38;5;241;43m.\u001B[39;49m\u001B[43m_grouper\u001B[49m\u001B[38;5;241;43m.\u001B[39;49m\u001B[43m_cython_operation\u001B[49m\u001B[43m(\u001B[49m\n\u001B[1;32m   1974\u001B[0m \u001B[43m            \u001B[49m\u001B[38;5;124;43m\"\u001B[39;49m\u001B[38;5;124;43maggregate\u001B[39;49m\u001B[38;5;124;43m\"\u001B[39;49m\u001B[43m,\u001B[49m\n\u001B[1;32m   1975\u001B[0m \u001B[43m            \u001B[49m\u001B[43mvalues\u001B[49m\u001B[43m,\u001B[49m\n\u001B[1;32m   1976\u001B[0m \u001B[43m            \u001B[49m\u001B[43mhow\u001B[49m\u001B[43m,\u001B[49m\n\u001B[1;32m   1977\u001B[0m \u001B[43m            \u001B[49m\u001B[43maxis\u001B[49m\u001B[38;5;241;43m=\u001B[39;49m\u001B[43mdata\u001B[49m\u001B[38;5;241;43m.\u001B[39;49m\u001B[43mndim\u001B[49m\u001B[43m \u001B[49m\u001B[38;5;241;43m-\u001B[39;49m\u001B[43m \u001B[49m\u001B[38;5;241;43m1\u001B[39;49m\u001B[43m,\u001B[49m\n\u001B[1;32m   1978\u001B[0m \u001B[43m            \u001B[49m\u001B[43mmin_count\u001B[49m\u001B[38;5;241;43m=\u001B[39;49m\u001B[43mmin_count\u001B[49m\u001B[43m,\u001B[49m\n\u001B[1;32m   1979\u001B[0m \u001B[43m            \u001B[49m\u001B[38;5;241;43m*\u001B[39;49m\u001B[38;5;241;43m*\u001B[39;49m\u001B[43mkwargs\u001B[49m\u001B[43m,\u001B[49m\n\u001B[1;32m   1980\u001B[0m \u001B[43m        \u001B[49m\u001B[43m)\u001B[49m\n\u001B[1;32m   1981\u001B[0m     \u001B[38;5;28;01mexcept\u001B[39;00m \u001B[38;5;167;01mNotImplementedError\u001B[39;00m:\n\u001B[1;32m   1982\u001B[0m         \u001B[38;5;66;03m# generally if we have numeric_only=False\u001B[39;00m\n\u001B[1;32m   1983\u001B[0m         \u001B[38;5;66;03m# and non-applicable functions\u001B[39;00m\n\u001B[1;32m   1984\u001B[0m         \u001B[38;5;66;03m# try to python agg\u001B[39;00m\n\u001B[1;32m   1985\u001B[0m         \u001B[38;5;66;03m# TODO: shouldn't min_count matter?\u001B[39;00m\n\u001B[1;32m   1986\u001B[0m         \u001B[38;5;66;03m# TODO: avoid special casing SparseArray here\u001B[39;00m\n\u001B[1;32m   1987\u001B[0m         \u001B[38;5;28;01mif\u001B[39;00m how \u001B[38;5;129;01min\u001B[39;00m [\u001B[38;5;124m\"\u001B[39m\u001B[38;5;124many\u001B[39m\u001B[38;5;124m\"\u001B[39m, \u001B[38;5;124m\"\u001B[39m\u001B[38;5;124mall\u001B[39m\u001B[38;5;124m\"\u001B[39m] \u001B[38;5;129;01mand\u001B[39;00m \u001B[38;5;28misinstance\u001B[39m(values, SparseArray):\n",
      "File \u001B[0;32m~/Developer/Machine_Learning_Algorithms/.venv/lib/python3.12/site-packages/pandas/core/groupby/ops.py:831\u001B[0m, in \u001B[0;36mBaseGrouper._cython_operation\u001B[0;34m(self, kind, values, how, axis, min_count, **kwargs)\u001B[0m\n\u001B[1;32m    829\u001B[0m ids, _, _ \u001B[38;5;241m=\u001B[39m \u001B[38;5;28mself\u001B[39m\u001B[38;5;241m.\u001B[39mgroup_info\n\u001B[1;32m    830\u001B[0m ngroups \u001B[38;5;241m=\u001B[39m \u001B[38;5;28mself\u001B[39m\u001B[38;5;241m.\u001B[39mngroups\n\u001B[0;32m--> 831\u001B[0m \u001B[38;5;28;01mreturn\u001B[39;00m \u001B[43mcy_op\u001B[49m\u001B[38;5;241;43m.\u001B[39;49m\u001B[43mcython_operation\u001B[49m\u001B[43m(\u001B[49m\n\u001B[1;32m    832\u001B[0m \u001B[43m    \u001B[49m\u001B[43mvalues\u001B[49m\u001B[38;5;241;43m=\u001B[39;49m\u001B[43mvalues\u001B[49m\u001B[43m,\u001B[49m\n\u001B[1;32m    833\u001B[0m \u001B[43m    \u001B[49m\u001B[43maxis\u001B[49m\u001B[38;5;241;43m=\u001B[39;49m\u001B[43maxis\u001B[49m\u001B[43m,\u001B[49m\n\u001B[1;32m    834\u001B[0m \u001B[43m    \u001B[49m\u001B[43mmin_count\u001B[49m\u001B[38;5;241;43m=\u001B[39;49m\u001B[43mmin_count\u001B[49m\u001B[43m,\u001B[49m\n\u001B[1;32m    835\u001B[0m \u001B[43m    \u001B[49m\u001B[43mcomp_ids\u001B[49m\u001B[38;5;241;43m=\u001B[39;49m\u001B[43mids\u001B[49m\u001B[43m,\u001B[49m\n\u001B[1;32m    836\u001B[0m \u001B[43m    \u001B[49m\u001B[43mngroups\u001B[49m\u001B[38;5;241;43m=\u001B[39;49m\u001B[43mngroups\u001B[49m\u001B[43m,\u001B[49m\n\u001B[1;32m    837\u001B[0m \u001B[43m    \u001B[49m\u001B[38;5;241;43m*\u001B[39;49m\u001B[38;5;241;43m*\u001B[39;49m\u001B[43mkwargs\u001B[49m\u001B[43m,\u001B[49m\n\u001B[1;32m    838\u001B[0m \u001B[43m\u001B[49m\u001B[43m)\u001B[49m\n",
      "File \u001B[0;32m~/Developer/Machine_Learning_Algorithms/.venv/lib/python3.12/site-packages/pandas/core/groupby/ops.py:541\u001B[0m, in \u001B[0;36mWrappedCythonOp.cython_operation\u001B[0;34m(self, values, axis, min_count, comp_ids, ngroups, **kwargs)\u001B[0m\n\u001B[1;32m    537\u001B[0m \u001B[38;5;28mself\u001B[39m\u001B[38;5;241m.\u001B[39m_validate_axis(axis, values)\n\u001B[1;32m    539\u001B[0m \u001B[38;5;28;01mif\u001B[39;00m \u001B[38;5;129;01mnot\u001B[39;00m \u001B[38;5;28misinstance\u001B[39m(values, np\u001B[38;5;241m.\u001B[39mndarray):\n\u001B[1;32m    540\u001B[0m     \u001B[38;5;66;03m# i.e. ExtensionArray\u001B[39;00m\n\u001B[0;32m--> 541\u001B[0m     \u001B[38;5;28;01mreturn\u001B[39;00m \u001B[43mvalues\u001B[49m\u001B[38;5;241;43m.\u001B[39;49m\u001B[43m_groupby_op\u001B[49m\u001B[43m(\u001B[49m\n\u001B[1;32m    542\u001B[0m \u001B[43m        \u001B[49m\u001B[43mhow\u001B[49m\u001B[38;5;241;43m=\u001B[39;49m\u001B[38;5;28;43mself\u001B[39;49m\u001B[38;5;241;43m.\u001B[39;49m\u001B[43mhow\u001B[49m\u001B[43m,\u001B[49m\n\u001B[1;32m    543\u001B[0m \u001B[43m        \u001B[49m\u001B[43mhas_dropped_na\u001B[49m\u001B[38;5;241;43m=\u001B[39;49m\u001B[38;5;28;43mself\u001B[39;49m\u001B[38;5;241;43m.\u001B[39;49m\u001B[43mhas_dropped_na\u001B[49m\u001B[43m,\u001B[49m\n\u001B[1;32m    544\u001B[0m \u001B[43m        \u001B[49m\u001B[43mmin_count\u001B[49m\u001B[38;5;241;43m=\u001B[39;49m\u001B[43mmin_count\u001B[49m\u001B[43m,\u001B[49m\n\u001B[1;32m    545\u001B[0m \u001B[43m        \u001B[49m\u001B[43mngroups\u001B[49m\u001B[38;5;241;43m=\u001B[39;49m\u001B[43mngroups\u001B[49m\u001B[43m,\u001B[49m\n\u001B[1;32m    546\u001B[0m \u001B[43m        \u001B[49m\u001B[43mids\u001B[49m\u001B[38;5;241;43m=\u001B[39;49m\u001B[43mcomp_ids\u001B[49m\u001B[43m,\u001B[49m\n\u001B[1;32m    547\u001B[0m \u001B[43m        \u001B[49m\u001B[38;5;241;43m*\u001B[39;49m\u001B[38;5;241;43m*\u001B[39;49m\u001B[43mkwargs\u001B[49m\u001B[43m,\u001B[49m\n\u001B[1;32m    548\u001B[0m \u001B[43m    \u001B[49m\u001B[43m)\u001B[49m\n\u001B[1;32m    550\u001B[0m \u001B[38;5;28;01mreturn\u001B[39;00m \u001B[38;5;28mself\u001B[39m\u001B[38;5;241m.\u001B[39m_cython_op_ndim_compat(\n\u001B[1;32m    551\u001B[0m     values,\n\u001B[1;32m    552\u001B[0m     min_count\u001B[38;5;241m=\u001B[39mmin_count,\n\u001B[0;32m   (...)\u001B[0m\n\u001B[1;32m    556\u001B[0m     \u001B[38;5;241m*\u001B[39m\u001B[38;5;241m*\u001B[39mkwargs,\n\u001B[1;32m    557\u001B[0m )\n",
      "File \u001B[0;32m~/Developer/Machine_Learning_Algorithms/.venv/lib/python3.12/site-packages/pandas/core/arrays/categorical.py:2719\u001B[0m, in \u001B[0;36mCategorical._groupby_op\u001B[0;34m(self, how, has_dropped_na, min_count, ngroups, ids, **kwargs)\u001B[0m\n\u001B[1;32m   2717\u001B[0m dtype \u001B[38;5;241m=\u001B[39m \u001B[38;5;28mself\u001B[39m\u001B[38;5;241m.\u001B[39mdtype\n\u001B[1;32m   2718\u001B[0m \u001B[38;5;28;01mif\u001B[39;00m how \u001B[38;5;129;01min\u001B[39;00m [\u001B[38;5;124m\"\u001B[39m\u001B[38;5;124msum\u001B[39m\u001B[38;5;124m\"\u001B[39m, \u001B[38;5;124m\"\u001B[39m\u001B[38;5;124mprod\u001B[39m\u001B[38;5;124m\"\u001B[39m, \u001B[38;5;124m\"\u001B[39m\u001B[38;5;124mcumsum\u001B[39m\u001B[38;5;124m\"\u001B[39m, \u001B[38;5;124m\"\u001B[39m\u001B[38;5;124mcumprod\u001B[39m\u001B[38;5;124m\"\u001B[39m, \u001B[38;5;124m\"\u001B[39m\u001B[38;5;124mskew\u001B[39m\u001B[38;5;124m\"\u001B[39m]:\n\u001B[0;32m-> 2719\u001B[0m     \u001B[38;5;28;01mraise\u001B[39;00m \u001B[38;5;167;01mTypeError\u001B[39;00m(\u001B[38;5;124mf\u001B[39m\u001B[38;5;124m\"\u001B[39m\u001B[38;5;132;01m{\u001B[39;00mdtype\u001B[38;5;132;01m}\u001B[39;00m\u001B[38;5;124m type does not support \u001B[39m\u001B[38;5;132;01m{\u001B[39;00mhow\u001B[38;5;132;01m}\u001B[39;00m\u001B[38;5;124m operations\u001B[39m\u001B[38;5;124m\"\u001B[39m)\n\u001B[1;32m   2720\u001B[0m \u001B[38;5;28;01mif\u001B[39;00m how \u001B[38;5;129;01min\u001B[39;00m [\u001B[38;5;124m\"\u001B[39m\u001B[38;5;124mmin\u001B[39m\u001B[38;5;124m\"\u001B[39m, \u001B[38;5;124m\"\u001B[39m\u001B[38;5;124mmax\u001B[39m\u001B[38;5;124m\"\u001B[39m, \u001B[38;5;124m\"\u001B[39m\u001B[38;5;124mrank\u001B[39m\u001B[38;5;124m\"\u001B[39m, \u001B[38;5;124m\"\u001B[39m\u001B[38;5;124midxmin\u001B[39m\u001B[38;5;124m\"\u001B[39m, \u001B[38;5;124m\"\u001B[39m\u001B[38;5;124midxmax\u001B[39m\u001B[38;5;124m\"\u001B[39m] \u001B[38;5;129;01mand\u001B[39;00m \u001B[38;5;129;01mnot\u001B[39;00m dtype\u001B[38;5;241m.\u001B[39mordered:\n\u001B[1;32m   2721\u001B[0m     \u001B[38;5;66;03m# raise TypeError instead of NotImplementedError to ensure we\u001B[39;00m\n\u001B[1;32m   2722\u001B[0m     \u001B[38;5;66;03m#  don't go down a group-by-group path, since in the empty-groups\u001B[39;00m\n\u001B[1;32m   2723\u001B[0m     \u001B[38;5;66;03m#  case that would fail to raise\u001B[39;00m\n\u001B[1;32m   2724\u001B[0m     \u001B[38;5;28;01mraise\u001B[39;00m \u001B[38;5;167;01mTypeError\u001B[39;00m(\u001B[38;5;124mf\u001B[39m\u001B[38;5;124m\"\u001B[39m\u001B[38;5;124mCannot perform \u001B[39m\u001B[38;5;132;01m{\u001B[39;00mhow\u001B[38;5;132;01m}\u001B[39;00m\u001B[38;5;124m with non-ordered Categorical\u001B[39m\u001B[38;5;124m\"\u001B[39m)\n",
      "\u001B[0;31mTypeError\u001B[0m: category type does not support sum operations"
     ]
    }
   ],
   "source": [
    "L = [0, 1, 2, 0]\n",
    "classroom.groupby(L).sum()"
   ],
   "metadata": {
    "collapsed": false,
    "ExecuteTime": {
     "end_time": "2024-03-17T05:10:42.840839Z",
     "start_time": "2024-03-17T05:10:42.581352Z"
    }
   },
   "id": "f403fb8a6d40b7c0",
   "execution_count": 82
  },
  {
   "cell_type": "code",
   "outputs": [],
   "source": [
    "monte = pd.Series(\n",
    "    [\n",
    "        \"Graham Chapman\",\n",
    "        \"John Cleese\",\n",
    "        \"Terry Gilliam\",\n",
    "        \"Eric Idle\",\n",
    "        \"Terry Jones\",\n",
    "        \"Michael Palin\",\n",
    "    ]\n",
    ")"
   ],
   "metadata": {
    "collapsed": false,
    "ExecuteTime": {
     "end_time": "2024-03-17T05:53:34.825658Z",
     "start_time": "2024-03-17T05:53:34.820036Z"
    }
   },
   "id": "666b7f4a24ba61b6",
   "execution_count": 83
  },
  {
   "cell_type": "code",
   "outputs": [],
   "source": [
    "lower = monte.str.lower()"
   ],
   "metadata": {
    "collapsed": false,
    "ExecuteTime": {
     "end_time": "2024-03-17T05:55:54.523166Z",
     "start_time": "2024-03-17T05:55:54.520144Z"
    }
   },
   "id": "74baa8bd7095e641",
   "execution_count": 90
  },
  {
   "cell_type": "code",
   "outputs": [
    {
     "data": {
      "text/plain": "0    14\n1    11\n2    13\n3     9\n4    11\n5    13\ndtype: int64"
     },
     "execution_count": 85,
     "metadata": {},
     "output_type": "execute_result"
    }
   ],
   "source": [
    "monte.str.len()"
   ],
   "metadata": {
    "collapsed": false,
    "ExecuteTime": {
     "end_time": "2024-03-17T05:54:14.479803Z",
     "start_time": "2024-03-17T05:54:14.476394Z"
    }
   },
   "id": "9398327f30351c9",
   "execution_count": 85
  },
  {
   "cell_type": "code",
   "outputs": [
    {
     "data": {
      "text/plain": "['graham chapman',\n 'john cleese',\n 'terry gilliam',\n 'eric idle',\n 'terry jones',\n 'michael palin']"
     },
     "execution_count": 91,
     "metadata": {},
     "output_type": "execute_result"
    }
   ],
   "source": [
    "[x for x in lower]"
   ],
   "metadata": {
    "collapsed": false,
    "ExecuteTime": {
     "end_time": "2024-03-17T05:56:25.144505Z",
     "start_time": "2024-03-17T05:56:25.140878Z"
    }
   },
   "id": "20f519519a4ee521",
   "execution_count": 91
  },
  {
   "cell_type": "code",
   "outputs": [
    {
     "data": {
      "text/plain": "0    graham chapman\n1       john cleese\n2     terry gilliam\n3        deven idle\n4       terry jones\n5     michael palin\ndtype: object"
     },
     "execution_count": 120,
     "metadata": {},
     "output_type": "execute_result"
    }
   ],
   "source": [
    "lower.str.replace(\"eric\", \"deven\", regex=True)"
   ],
   "metadata": {
    "collapsed": false,
    "ExecuteTime": {
     "end_time": "2024-03-17T06:03:58.497988Z",
     "start_time": "2024-03-17T06:03:58.493210Z"
    }
   },
   "id": "11a05a0bd35d6263",
   "execution_count": 120
  },
  {
   "cell_type": "code",
   "outputs": [],
   "source": [
    "a = monte.str.lower().str.split()"
   ],
   "metadata": {
    "collapsed": false,
    "ExecuteTime": {
     "end_time": "2024-03-17T06:04:48.215230Z",
     "start_time": "2024-03-17T06:04:48.212219Z"
    }
   },
   "id": "2dd73d9ee5db496b",
   "execution_count": 123
  },
  {
   "cell_type": "code",
   "outputs": [
    {
     "data": {
      "text/plain": "pandas.core.series.Series"
     },
     "execution_count": 124,
     "metadata": {},
     "output_type": "execute_result"
    }
   ],
   "source": [
    "type(a)"
   ],
   "metadata": {
    "collapsed": false,
    "ExecuteTime": {
     "end_time": "2024-03-17T06:04:54.319252Z",
     "start_time": "2024-03-17T06:04:54.316396Z"
    }
   },
   "id": "c351cf9e0de03b40",
   "execution_count": 124
  },
  {
   "cell_type": "code",
   "outputs": [
    {
     "data": {
      "text/plain": "0    [graham, chapman]\n1       [john, cleese]\n2     [terry, gilliam]\n3         [eric, idle]\n4       [terry, jones]\n5     [michael, palin]\ndtype: object"
     },
     "execution_count": 131,
     "metadata": {},
     "output_type": "execute_result"
    }
   ],
   "source": [
    "a"
   ],
   "metadata": {
    "collapsed": false,
    "ExecuteTime": {
     "end_time": "2024-03-17T06:06:04.844536Z",
     "start_time": "2024-03-17T06:06:04.839902Z"
    }
   },
   "id": "5d19785eb7b2e071",
   "execution_count": 131
  },
  {
   "cell_type": "code",
   "outputs": [
    {
     "data": {
      "text/plain": "0    [graham, chapman]\n1       [john, cleese]\ndtype: object"
     },
     "execution_count": 132,
     "metadata": {},
     "output_type": "execute_result"
    }
   ],
   "source": [
    "a[:2]"
   ],
   "metadata": {
    "collapsed": false,
    "ExecuteTime": {
     "end_time": "2024-03-17T06:06:18.619089Z",
     "start_time": "2024-03-17T06:06:18.615195Z"
    }
   },
   "id": "31323372af50b07a",
   "execution_count": 132
  },
  {
   "cell_type": "code",
   "outputs": [],
   "source": [
    "a = dict(a)"
   ],
   "metadata": {
    "collapsed": false,
    "ExecuteTime": {
     "end_time": "2024-03-17T06:06:42.695025Z",
     "start_time": "2024-03-17T06:06:42.693284Z"
    }
   },
   "id": "dd9539a7553e705a",
   "execution_count": 134
  },
  {
   "cell_type": "code",
   "outputs": [
    {
     "name": "stdout",
     "output_type": "stream",
     "text": [
      "FirstName: graham, LastName: chapman\n",
      "FirstName: john, LastName: cleese\n",
      "FirstName: terry, LastName: gilliam\n",
      "FirstName: eric, LastName: idle\n",
      "FirstName: terry, LastName: jones\n",
      "FirstName: michael, LastName: palin\n"
     ]
    }
   ],
   "source": [
    "for value in a.values():\n",
    "    print(f\"FirstName: {value[0]}, LastName: {value[1]}\")"
   ],
   "metadata": {
    "collapsed": false,
    "ExecuteTime": {
     "end_time": "2024-03-17T06:07:53.814502Z",
     "start_time": "2024-03-17T06:07:53.811552Z"
    }
   },
   "id": "c0f3f7c4d1f4ec54",
   "execution_count": 136
  },
  {
   "cell_type": "code",
   "outputs": [
    {
     "data": {
      "text/plain": "0    Graham Chapman\n1       John Cleese\n2     Terry Gilliam\n3         Eric Idle\n4       Terry Jones\n5     Michael Palin\ndtype: object"
     },
     "execution_count": 139,
     "metadata": {},
     "output_type": "execute_result"
    }
   ],
   "source": [
    "monte.str.split().str[0] + \" \" + monte.str.split().str[1]"
   ],
   "metadata": {
    "collapsed": false,
    "ExecuteTime": {
     "end_time": "2024-03-17T06:09:29.485024Z",
     "start_time": "2024-03-17T06:09:29.480433Z"
    }
   },
   "id": "2e7e120799076950",
   "execution_count": 139
  },
  {
   "cell_type": "code",
   "outputs": [
    {
     "data": {
      "text/plain": "   PassengerId  Survived  Pclass  \\\n0            1         0       3   \n1            2         1       1   \n2            3         1       3   \n3            4         1       1   \n4            5         0       3   \n\n                                                Name     Sex   Age  SibSp  \\\n0                            Braund, Mr. Owen Harris    male  22.0      1   \n1  Cumings, Mrs. John Bradley (Florence Briggs Th...  female  38.0      1   \n2                             Heikkinen, Miss. Laina  female  26.0      0   \n3       Futrelle, Mrs. Jacques Heath (Lily May Peel)  female  35.0      1   \n4                           Allen, Mr. William Henry    male  35.0      0   \n\n   Parch            Ticket     Fare Cabin Embarked  \n0      0         A/5 21171   7.2500   NaN        S  \n1      0          PC 17599  71.2833   C85        C  \n2      0  STON/O2. 3101282   7.9250   NaN        S  \n3      0            113803  53.1000  C123        S  \n4      0            373450   8.0500   NaN        S  ",
      "text/html": "<div>\n<style scoped>\n    .dataframe tbody tr th:only-of-type {\n        vertical-align: middle;\n    }\n\n    .dataframe tbody tr th {\n        vertical-align: top;\n    }\n\n    .dataframe thead th {\n        text-align: right;\n    }\n</style>\n<table border=\"1\" class=\"dataframe\">\n  <thead>\n    <tr style=\"text-align: right;\">\n      <th></th>\n      <th>PassengerId</th>\n      <th>Survived</th>\n      <th>Pclass</th>\n      <th>Name</th>\n      <th>Sex</th>\n      <th>Age</th>\n      <th>SibSp</th>\n      <th>Parch</th>\n      <th>Ticket</th>\n      <th>Fare</th>\n      <th>Cabin</th>\n      <th>Embarked</th>\n    </tr>\n  </thead>\n  <tbody>\n    <tr>\n      <th>0</th>\n      <td>1</td>\n      <td>0</td>\n      <td>3</td>\n      <td>Braund, Mr. Owen Harris</td>\n      <td>male</td>\n      <td>22.0</td>\n      <td>1</td>\n      <td>0</td>\n      <td>A/5 21171</td>\n      <td>7.2500</td>\n      <td>NaN</td>\n      <td>S</td>\n    </tr>\n    <tr>\n      <th>1</th>\n      <td>2</td>\n      <td>1</td>\n      <td>1</td>\n      <td>Cumings, Mrs. John Bradley (Florence Briggs Th...</td>\n      <td>female</td>\n      <td>38.0</td>\n      <td>1</td>\n      <td>0</td>\n      <td>PC 17599</td>\n      <td>71.2833</td>\n      <td>C85</td>\n      <td>C</td>\n    </tr>\n    <tr>\n      <th>2</th>\n      <td>3</td>\n      <td>1</td>\n      <td>3</td>\n      <td>Heikkinen, Miss. Laina</td>\n      <td>female</td>\n      <td>26.0</td>\n      <td>0</td>\n      <td>0</td>\n      <td>STON/O2. 3101282</td>\n      <td>7.9250</td>\n      <td>NaN</td>\n      <td>S</td>\n    </tr>\n    <tr>\n      <th>3</th>\n      <td>4</td>\n      <td>1</td>\n      <td>1</td>\n      <td>Futrelle, Mrs. Jacques Heath (Lily May Peel)</td>\n      <td>female</td>\n      <td>35.0</td>\n      <td>1</td>\n      <td>0</td>\n      <td>113803</td>\n      <td>53.1000</td>\n      <td>C123</td>\n      <td>S</td>\n    </tr>\n    <tr>\n      <th>4</th>\n      <td>5</td>\n      <td>0</td>\n      <td>3</td>\n      <td>Allen, Mr. William Henry</td>\n      <td>male</td>\n      <td>35.0</td>\n      <td>0</td>\n      <td>0</td>\n      <td>373450</td>\n      <td>8.0500</td>\n      <td>NaN</td>\n      <td>S</td>\n    </tr>\n  </tbody>\n</table>\n</div>"
     },
     "execution_count": 142,
     "metadata": {},
     "output_type": "execute_result"
    }
   ],
   "source": [
    "titanic = pd.read_csv(\"../../data/titanic/train.csv\")\n",
    "titanic.head()"
   ],
   "metadata": {
    "collapsed": false,
    "ExecuteTime": {
     "end_time": "2024-03-17T06:11:05.835121Z",
     "start_time": "2024-03-17T06:11:05.827306Z"
    }
   },
   "id": "63cf3ded7983e6ba",
   "execution_count": 142
  },
  {
   "cell_type": "code",
   "outputs": [
    {
     "name": "stdout",
     "output_type": "stream",
     "text": [
      "(891, 12)\n"
     ]
    }
   ],
   "source": [
    "print(titanic.shape)"
   ],
   "metadata": {
    "collapsed": false,
    "ExecuteTime": {
     "end_time": "2024-03-17T06:11:16.727601Z",
     "start_time": "2024-03-17T06:11:16.724579Z"
    }
   },
   "id": "2e16bcbe3bc7f6a3",
   "execution_count": 143
  },
  {
   "cell_type": "code",
   "outputs": [],
   "source": [
    "titanic = titanic.dropna(thresh=10)"
   ],
   "metadata": {
    "collapsed": false,
    "ExecuteTime": {
     "end_time": "2024-03-17T06:28:11.264859Z",
     "start_time": "2024-03-17T06:28:11.261765Z"
    }
   },
   "id": "bb95ee215a2e930c",
   "execution_count": 167
  },
  {
   "cell_type": "code",
   "outputs": [
    {
     "data": {
      "text/plain": "          PassengerId  Pclass  Name  Sex  Age  SibSp  Parch  Ticket  Fare  \\\nSurvived                                                                    \n0                 549     549   549  549  424    549    549     549   549   \n1                 342     342   342  342  290    342    342     342   342   \n\n          Cabin  Embarked  \nSurvived                   \n0            68       549  \n1           136       340  ",
      "text/html": "<div>\n<style scoped>\n    .dataframe tbody tr th:only-of-type {\n        vertical-align: middle;\n    }\n\n    .dataframe tbody tr th {\n        vertical-align: top;\n    }\n\n    .dataframe thead th {\n        text-align: right;\n    }\n</style>\n<table border=\"1\" class=\"dataframe\">\n  <thead>\n    <tr style=\"text-align: right;\">\n      <th></th>\n      <th>PassengerId</th>\n      <th>Pclass</th>\n      <th>Name</th>\n      <th>Sex</th>\n      <th>Age</th>\n      <th>SibSp</th>\n      <th>Parch</th>\n      <th>Ticket</th>\n      <th>Fare</th>\n      <th>Cabin</th>\n      <th>Embarked</th>\n    </tr>\n    <tr>\n      <th>Survived</th>\n      <th></th>\n      <th></th>\n      <th></th>\n      <th></th>\n      <th></th>\n      <th></th>\n      <th></th>\n      <th></th>\n      <th></th>\n      <th></th>\n      <th></th>\n    </tr>\n  </thead>\n  <tbody>\n    <tr>\n      <th>0</th>\n      <td>549</td>\n      <td>549</td>\n      <td>549</td>\n      <td>549</td>\n      <td>424</td>\n      <td>549</td>\n      <td>549</td>\n      <td>549</td>\n      <td>549</td>\n      <td>68</td>\n      <td>549</td>\n    </tr>\n    <tr>\n      <th>1</th>\n      <td>342</td>\n      <td>342</td>\n      <td>342</td>\n      <td>342</td>\n      <td>290</td>\n      <td>342</td>\n      <td>342</td>\n      <td>342</td>\n      <td>342</td>\n      <td>136</td>\n      <td>340</td>\n    </tr>\n  </tbody>\n</table>\n</div>"
     },
     "execution_count": 147,
     "metadata": {},
     "output_type": "execute_result"
    }
   ],
   "source": [
    "titanic.groupby(\"Survived\").count()"
   ],
   "metadata": {
    "collapsed": false,
    "ExecuteTime": {
     "end_time": "2024-03-17T06:13:37.309190Z",
     "start_time": "2024-03-17T06:13:37.301484Z"
    }
   },
   "id": "e51dd582f41f629d",
   "execution_count": 147
  },
  {
   "cell_type": "code",
   "outputs": [],
   "source": [
    "females = titanic[\"Survived\"].groupby(titanic[\"Sex\"]).count()"
   ],
   "metadata": {
    "collapsed": false,
    "ExecuteTime": {
     "end_time": "2024-03-17T06:15:47.569367Z",
     "start_time": "2024-03-17T06:15:47.566799Z"
    }
   },
   "id": "bbad2d5c478898d4",
   "execution_count": 153
  },
  {
   "cell_type": "code",
   "outputs": [
    {
     "data": {
      "text/plain": "Sex\nfemale    314\nmale      577\nName: Survived, dtype: int64"
     },
     "execution_count": 154,
     "metadata": {},
     "output_type": "execute_result"
    }
   ],
   "source": [
    "females"
   ],
   "metadata": {
    "collapsed": false,
    "ExecuteTime": {
     "end_time": "2024-03-17T06:15:48.509676Z",
     "start_time": "2024-03-17T06:15:48.506198Z"
    }
   },
   "id": "8a05b74d7627b741",
   "execution_count": 154
  },
  {
   "cell_type": "code",
   "outputs": [],
   "source": [
    "count = titanic.groupby(\"Sex\")[[\"Survived\"]].count()\n",
    "mean = titanic.groupby(\"Sex\")[[\"Survived\"]].mean()"
   ],
   "metadata": {
    "collapsed": false,
    "ExecuteTime": {
     "end_time": "2024-03-17T06:23:22.169775Z",
     "start_time": "2024-03-17T06:23:22.164100Z"
    }
   },
   "id": "35f3b33f81c665cb",
   "execution_count": 156
  },
  {
   "cell_type": "code",
   "outputs": [
    {
     "name": "stdout",
     "output_type": "stream",
     "text": [
      "        Survived\n",
      "Sex             \n",
      "female       314\n",
      "male         577\n",
      "\n",
      "\n",
      "\n",
      "        Survived\n",
      "Sex             \n",
      "female  0.742038\n",
      "male    0.188908\n"
     ]
    }
   ],
   "source": [
    "print(count)\n",
    "print(\"\\n\\n\")\n",
    "print(mean)"
   ],
   "metadata": {
    "collapsed": false,
    "ExecuteTime": {
     "end_time": "2024-03-17T06:24:51.532607Z",
     "start_time": "2024-03-17T06:24:51.529863Z"
    }
   },
   "id": "b8f9ebc61f4f2b29",
   "execution_count": 160
  },
  {
   "cell_type": "code",
   "outputs": [
    {
     "data": {
      "text/plain": "        Survived\nSex             \nfemale       314\nmale         577",
      "text/html": "<div>\n<style scoped>\n    .dataframe tbody tr th:only-of-type {\n        vertical-align: middle;\n    }\n\n    .dataframe tbody tr th {\n        vertical-align: top;\n    }\n\n    .dataframe thead th {\n        text-align: right;\n    }\n</style>\n<table border=\"1\" class=\"dataframe\">\n  <thead>\n    <tr style=\"text-align: right;\">\n      <th></th>\n      <th>Survived</th>\n    </tr>\n    <tr>\n      <th>Sex</th>\n      <th></th>\n    </tr>\n  </thead>\n  <tbody>\n    <tr>\n      <th>female</th>\n      <td>314</td>\n    </tr>\n    <tr>\n      <th>male</th>\n      <td>577</td>\n    </tr>\n  </tbody>\n</table>\n</div>"
     },
     "execution_count": 161,
     "metadata": {},
     "output_type": "execute_result"
    }
   ],
   "source": [
    "count"
   ],
   "metadata": {
    "collapsed": false,
    "ExecuteTime": {
     "end_time": "2024-03-17T06:25:00.666282Z",
     "start_time": "2024-03-17T06:25:00.663182Z"
    }
   },
   "id": "2c4d0a0add10300c",
   "execution_count": 161
  },
  {
   "cell_type": "code",
   "outputs": [
    {
     "data": {
      "text/plain": "        Survived\nSex             \nfemale  0.742038\nmale    0.188908",
      "text/html": "<div>\n<style scoped>\n    .dataframe tbody tr th:only-of-type {\n        vertical-align: middle;\n    }\n\n    .dataframe tbody tr th {\n        vertical-align: top;\n    }\n\n    .dataframe thead th {\n        text-align: right;\n    }\n</style>\n<table border=\"1\" class=\"dataframe\">\n  <thead>\n    <tr style=\"text-align: right;\">\n      <th></th>\n      <th>Survived</th>\n    </tr>\n    <tr>\n      <th>Sex</th>\n      <th></th>\n    </tr>\n  </thead>\n  <tbody>\n    <tr>\n      <th>female</th>\n      <td>0.742038</td>\n    </tr>\n    <tr>\n      <th>male</th>\n      <td>0.188908</td>\n    </tr>\n  </tbody>\n</table>\n</div>"
     },
     "execution_count": 162,
     "metadata": {},
     "output_type": "execute_result"
    }
   ],
   "source": [
    "mean"
   ],
   "metadata": {
    "collapsed": false,
    "ExecuteTime": {
     "end_time": "2024-03-17T06:25:02.499138Z",
     "start_time": "2024-03-17T06:25:02.495596Z"
    }
   },
   "id": "884d4ac370f4047a",
   "execution_count": 162
  },
  {
   "cell_type": "code",
   "outputs": [
    {
     "data": {
      "text/plain": "Pclass    1    2    3\nSex                  \nfemale   94   76  144\nmale    122  108  347",
      "text/html": "<div>\n<style scoped>\n    .dataframe tbody tr th:only-of-type {\n        vertical-align: middle;\n    }\n\n    .dataframe tbody tr th {\n        vertical-align: top;\n    }\n\n    .dataframe thead th {\n        text-align: right;\n    }\n</style>\n<table border=\"1\" class=\"dataframe\">\n  <thead>\n    <tr style=\"text-align: right;\">\n      <th>Pclass</th>\n      <th>1</th>\n      <th>2</th>\n      <th>3</th>\n    </tr>\n    <tr>\n      <th>Sex</th>\n      <th></th>\n      <th></th>\n      <th></th>\n    </tr>\n  </thead>\n  <tbody>\n    <tr>\n      <th>female</th>\n      <td>94</td>\n      <td>76</td>\n      <td>144</td>\n    </tr>\n    <tr>\n      <th>male</th>\n      <td>122</td>\n      <td>108</td>\n      <td>347</td>\n    </tr>\n  </tbody>\n</table>\n</div>"
     },
     "execution_count": 168,
     "metadata": {},
     "output_type": "execute_result"
    }
   ],
   "source": [
    "titanic.groupby([\"Sex\", \"Pclass\"])[\"Survived\"].aggregate(\"count\").unstack()"
   ],
   "metadata": {
    "collapsed": false,
    "ExecuteTime": {
     "end_time": "2024-03-17T06:28:17.718878Z",
     "start_time": "2024-03-17T06:28:17.712105Z"
    }
   },
   "id": "fc6f1f9420f87246",
   "execution_count": 168
  },
  {
   "cell_type": "code",
   "outputs": [
    {
     "data": {
      "text/plain": "     PassengerId  Survived  Pclass  \\\n0              1         0       3   \n1              2         1       1   \n2              3         1       3   \n3              4         1       1   \n4              5         0       3   \n..           ...       ...     ...   \n195          196         1       1   \n196          197         0       3   \n197          198         0       3   \n198          199         1       3   \n199          200         0       2   \n\n                                                  Name     Sex   Age  SibSp  \\\n0                              Braund, Mr. Owen Harris    male  22.0      1   \n1    Cumings, Mrs. John Bradley (Florence Briggs Th...  female  38.0      1   \n2                               Heikkinen, Miss. Laina  female  26.0      0   \n3         Futrelle, Mrs. Jacques Heath (Lily May Peel)  female  35.0      1   \n4                             Allen, Mr. William Henry    male  35.0      0   \n..                                                 ...     ...   ...    ...   \n195                               Lurette, Miss. Elise  female  58.0      0   \n196                                Mernagh, Mr. Robert    male   NaN      0   \n197                   Olsen, Mr. Karl Siegwart Andreas    male  42.0      0   \n198                   Madigan, Miss. Margaret 'Maggie'  female   NaN      0   \n199             Yrois, Miss. Henriette ('Mrs Harbeck')  female  24.0      0   \n\n     Parch            Ticket      Fare Cabin Embarked  \n0        0         A/5 21171    7.2500   NaN        S  \n1        0          PC 17599   71.2833   C85        C  \n2        0  STON/O2. 3101282    7.9250   NaN        S  \n3        0            113803   53.1000  C123        S  \n4        0            373450    8.0500   NaN        S  \n..     ...               ...       ...   ...      ...  \n195      0          PC 17569  146.5208   B80        C  \n196      0            368703    7.7500   NaN        Q  \n197      1              4579    8.4042   NaN        S  \n198      0            370370    7.7500   NaN        Q  \n199      0            248747   13.0000   NaN        S  \n\n[200 rows x 12 columns]",
      "text/html": "<div>\n<style scoped>\n    .dataframe tbody tr th:only-of-type {\n        vertical-align: middle;\n    }\n\n    .dataframe tbody tr th {\n        vertical-align: top;\n    }\n\n    .dataframe thead th {\n        text-align: right;\n    }\n</style>\n<table border=\"1\" class=\"dataframe\">\n  <thead>\n    <tr style=\"text-align: right;\">\n      <th></th>\n      <th>PassengerId</th>\n      <th>Survived</th>\n      <th>Pclass</th>\n      <th>Name</th>\n      <th>Sex</th>\n      <th>Age</th>\n      <th>SibSp</th>\n      <th>Parch</th>\n      <th>Ticket</th>\n      <th>Fare</th>\n      <th>Cabin</th>\n      <th>Embarked</th>\n    </tr>\n  </thead>\n  <tbody>\n    <tr>\n      <th>0</th>\n      <td>1</td>\n      <td>0</td>\n      <td>3</td>\n      <td>Braund, Mr. Owen Harris</td>\n      <td>male</td>\n      <td>22.0</td>\n      <td>1</td>\n      <td>0</td>\n      <td>A/5 21171</td>\n      <td>7.2500</td>\n      <td>NaN</td>\n      <td>S</td>\n    </tr>\n    <tr>\n      <th>1</th>\n      <td>2</td>\n      <td>1</td>\n      <td>1</td>\n      <td>Cumings, Mrs. John Bradley (Florence Briggs Th...</td>\n      <td>female</td>\n      <td>38.0</td>\n      <td>1</td>\n      <td>0</td>\n      <td>PC 17599</td>\n      <td>71.2833</td>\n      <td>C85</td>\n      <td>C</td>\n    </tr>\n    <tr>\n      <th>2</th>\n      <td>3</td>\n      <td>1</td>\n      <td>3</td>\n      <td>Heikkinen, Miss. Laina</td>\n      <td>female</td>\n      <td>26.0</td>\n      <td>0</td>\n      <td>0</td>\n      <td>STON/O2. 3101282</td>\n      <td>7.9250</td>\n      <td>NaN</td>\n      <td>S</td>\n    </tr>\n    <tr>\n      <th>3</th>\n      <td>4</td>\n      <td>1</td>\n      <td>1</td>\n      <td>Futrelle, Mrs. Jacques Heath (Lily May Peel)</td>\n      <td>female</td>\n      <td>35.0</td>\n      <td>1</td>\n      <td>0</td>\n      <td>113803</td>\n      <td>53.1000</td>\n      <td>C123</td>\n      <td>S</td>\n    </tr>\n    <tr>\n      <th>4</th>\n      <td>5</td>\n      <td>0</td>\n      <td>3</td>\n      <td>Allen, Mr. William Henry</td>\n      <td>male</td>\n      <td>35.0</td>\n      <td>0</td>\n      <td>0</td>\n      <td>373450</td>\n      <td>8.0500</td>\n      <td>NaN</td>\n      <td>S</td>\n    </tr>\n    <tr>\n      <th>...</th>\n      <td>...</td>\n      <td>...</td>\n      <td>...</td>\n      <td>...</td>\n      <td>...</td>\n      <td>...</td>\n      <td>...</td>\n      <td>...</td>\n      <td>...</td>\n      <td>...</td>\n      <td>...</td>\n      <td>...</td>\n    </tr>\n    <tr>\n      <th>195</th>\n      <td>196</td>\n      <td>1</td>\n      <td>1</td>\n      <td>Lurette, Miss. Elise</td>\n      <td>female</td>\n      <td>58.0</td>\n      <td>0</td>\n      <td>0</td>\n      <td>PC 17569</td>\n      <td>146.5208</td>\n      <td>B80</td>\n      <td>C</td>\n    </tr>\n    <tr>\n      <th>196</th>\n      <td>197</td>\n      <td>0</td>\n      <td>3</td>\n      <td>Mernagh, Mr. Robert</td>\n      <td>male</td>\n      <td>NaN</td>\n      <td>0</td>\n      <td>0</td>\n      <td>368703</td>\n      <td>7.7500</td>\n      <td>NaN</td>\n      <td>Q</td>\n    </tr>\n    <tr>\n      <th>197</th>\n      <td>198</td>\n      <td>0</td>\n      <td>3</td>\n      <td>Olsen, Mr. Karl Siegwart Andreas</td>\n      <td>male</td>\n      <td>42.0</td>\n      <td>0</td>\n      <td>1</td>\n      <td>4579</td>\n      <td>8.4042</td>\n      <td>NaN</td>\n      <td>S</td>\n    </tr>\n    <tr>\n      <th>198</th>\n      <td>199</td>\n      <td>1</td>\n      <td>3</td>\n      <td>Madigan, Miss. Margaret 'Maggie'</td>\n      <td>female</td>\n      <td>NaN</td>\n      <td>0</td>\n      <td>0</td>\n      <td>370370</td>\n      <td>7.7500</td>\n      <td>NaN</td>\n      <td>Q</td>\n    </tr>\n    <tr>\n      <th>199</th>\n      <td>200</td>\n      <td>0</td>\n      <td>2</td>\n      <td>Yrois, Miss. Henriette ('Mrs Harbeck')</td>\n      <td>female</td>\n      <td>24.0</td>\n      <td>0</td>\n      <td>0</td>\n      <td>248747</td>\n      <td>13.0000</td>\n      <td>NaN</td>\n      <td>S</td>\n    </tr>\n  </tbody>\n</table>\n<p>200 rows × 12 columns</p>\n</div>"
     },
     "execution_count": 169,
     "metadata": {},
     "output_type": "execute_result"
    }
   ],
   "source": [
    "titanic[:200]"
   ],
   "metadata": {
    "collapsed": false,
    "ExecuteTime": {
     "end_time": "2024-03-17T06:28:27.621610Z",
     "start_time": "2024-03-17T06:28:27.616159Z"
    }
   },
   "id": "e33f2dcf876211bf",
   "execution_count": 169
  },
  {
   "cell_type": "code",
   "outputs": [
    {
     "data": {
      "text/plain": "False"
     },
     "execution_count": 174,
     "metadata": {},
     "output_type": "execute_result"
    }
   ],
   "source": [
    "\"N/A\" in titanic[\"Cabin\"]"
   ],
   "metadata": {
    "collapsed": false,
    "ExecuteTime": {
     "end_time": "2024-03-17T06:29:58.532309Z",
     "start_time": "2024-03-17T06:29:58.528743Z"
    }
   },
   "id": "ead7bc2dfe4f6a83",
   "execution_count": 174
  },
  {
   "cell_type": "code",
   "outputs": [
    {
     "name": "stderr",
     "output_type": "stream",
     "text": [
      "/var/folders/xn/4bc_bn4140ngpppx3_1k_3n00000gn/T/ipykernel_13372/145527605.py:2: FutureWarning: The default value of observed=False is deprecated and will change to observed=True in a future version of pandas. Specify observed=False to silence this warning and retain the current behavior\n",
      "  titanic.pivot_table('Survived', ['Sex',age],'Pclass')\n"
     ]
    },
    {
     "data": {
      "text/plain": "Pclass                  1         2         3\nSex    Age                                   \nfemale (0, 18]   0.909091  1.000000  0.511628\n       (18, 80]  0.972973  0.900000  0.423729\nmale   (0, 18]   0.800000  0.600000  0.215686\n       (18, 80]  0.375000  0.071429  0.133663",
      "text/html": "<div>\n<style scoped>\n    .dataframe tbody tr th:only-of-type {\n        vertical-align: middle;\n    }\n\n    .dataframe tbody tr th {\n        vertical-align: top;\n    }\n\n    .dataframe thead th {\n        text-align: right;\n    }\n</style>\n<table border=\"1\" class=\"dataframe\">\n  <thead>\n    <tr style=\"text-align: right;\">\n      <th></th>\n      <th>Pclass</th>\n      <th>1</th>\n      <th>2</th>\n      <th>3</th>\n    </tr>\n    <tr>\n      <th>Sex</th>\n      <th>Age</th>\n      <th></th>\n      <th></th>\n      <th></th>\n    </tr>\n  </thead>\n  <tbody>\n    <tr>\n      <th rowspan=\"2\" valign=\"top\">female</th>\n      <th>(0, 18]</th>\n      <td>0.909091</td>\n      <td>1.000000</td>\n      <td>0.511628</td>\n    </tr>\n    <tr>\n      <th>(18, 80]</th>\n      <td>0.972973</td>\n      <td>0.900000</td>\n      <td>0.423729</td>\n    </tr>\n    <tr>\n      <th rowspan=\"2\" valign=\"top\">male</th>\n      <th>(0, 18]</th>\n      <td>0.800000</td>\n      <td>0.600000</td>\n      <td>0.215686</td>\n    </tr>\n    <tr>\n      <th>(18, 80]</th>\n      <td>0.375000</td>\n      <td>0.071429</td>\n      <td>0.133663</td>\n    </tr>\n  </tbody>\n</table>\n</div>"
     },
     "execution_count": 175,
     "metadata": {},
     "output_type": "execute_result"
    }
   ],
   "source": [
    "age = pd.cut(titanic[\"Age\"], [0, 18, 80])\n",
    "titanic.pivot_table(\"Survived\", [\"Sex\", age], \"Pclass\")"
   ],
   "metadata": {
    "collapsed": false,
    "ExecuteTime": {
     "end_time": "2024-03-17T06:31:38.356622Z",
     "start_time": "2024-03-17T06:31:38.346894Z"
    }
   },
   "id": "251d849210a38e7c",
   "execution_count": 175
  },
  {
   "cell_type": "code",
   "outputs": [],
   "source": [],
   "metadata": {
    "collapsed": false
   },
   "id": "1ee1b2fd1c392256",
   "execution_count": null
  }
 ],
 "metadata": {
  "kernelspec": {
   "display_name": "Python 3",
   "language": "python",
   "name": "python3"
  },
  "language_info": {
   "codemirror_mode": {
    "name": "ipython",
    "version": 2
   },
   "file_extension": ".py",
   "mimetype": "text/x-python",
   "name": "python",
   "nbconvert_exporter": "python",
   "pygments_lexer": "ipython2",
   "version": "2.7.6"
  }
 },
 "nbformat": 4,
 "nbformat_minor": 5
}
