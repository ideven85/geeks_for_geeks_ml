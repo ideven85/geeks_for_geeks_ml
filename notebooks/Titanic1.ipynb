{
 "cells": [
  {
   "cell_type": "code",
   "execution_count": 1,
   "id": "09ca24ff",
   "metadata": {
    "ExecuteTime": {
     "end_time": "2022-06-16T21:29:09.798233Z",
     "start_time": "2022-06-16T21:29:06.569000Z"
    },
    "pycharm": {
     "name": "#%%\n"
    }
   },
   "outputs": [],
   "source": [
    "import numpy as np\n",
    "import pandas as pd\n",
    "import seaborn as sns\n",
    "\n",
    "titanic = sns.load_dataset(\"titanic\")"
   ]
  },
  {
   "cell_type": "code",
   "execution_count": 2,
   "id": "ff728a26",
   "metadata": {
    "ExecuteTime": {
     "end_time": "2022-06-16T21:29:10.540105Z",
     "start_time": "2022-06-16T21:29:10.512999Z"
    },
    "pycharm": {
     "name": "#%%\n"
    }
   },
   "outputs": [
    {
     "data": {
      "text/plain": "     survived  pclass     sex   age  sibsp  parch     fare embarked   class  \\\n0           0       3    male  22.0      1      0   7.2500        S   Third   \n1           1       1  female  38.0      1      0  71.2833        C   First   \n2           1       3  female  26.0      0      0   7.9250        S   Third   \n3           1       1  female  35.0      1      0  53.1000        S   First   \n4           0       3    male  35.0      0      0   8.0500        S   Third   \n..        ...     ...     ...   ...    ...    ...      ...      ...     ...   \n886         0       2    male  27.0      0      0  13.0000        S  Second   \n887         1       1  female  19.0      0      0  30.0000        S   First   \n888         0       3  female   NaN      1      2  23.4500        S   Third   \n889         1       1    male  26.0      0      0  30.0000        C   First   \n890         0       3    male  32.0      0      0   7.7500        Q   Third   \n\n       who  adult_male deck  embark_town alive  alone  \n0      man        True  NaN  Southampton    no  False  \n1    woman       False    C    Cherbourg   yes  False  \n2    woman       False  NaN  Southampton   yes   True  \n3    woman       False    C  Southampton   yes  False  \n4      man        True  NaN  Southampton    no   True  \n..     ...         ...  ...          ...   ...    ...  \n886    man        True  NaN  Southampton    no   True  \n887  woman       False    B  Southampton   yes   True  \n888  woman       False  NaN  Southampton    no  False  \n889    man        True    C    Cherbourg   yes   True  \n890    man        True  NaN   Queenstown    no   True  \n\n[891 rows x 15 columns]",
      "text/html": "<div>\n<style scoped>\n    .dataframe tbody tr th:only-of-type {\n        vertical-align: middle;\n    }\n\n    .dataframe tbody tr th {\n        vertical-align: top;\n    }\n\n    .dataframe thead th {\n        text-align: right;\n    }\n</style>\n<table border=\"1\" class=\"dataframe\">\n  <thead>\n    <tr style=\"text-align: right;\">\n      <th></th>\n      <th>survived</th>\n      <th>pclass</th>\n      <th>sex</th>\n      <th>age</th>\n      <th>sibsp</th>\n      <th>parch</th>\n      <th>fare</th>\n      <th>embarked</th>\n      <th>class</th>\n      <th>who</th>\n      <th>adult_male</th>\n      <th>deck</th>\n      <th>embark_town</th>\n      <th>alive</th>\n      <th>alone</th>\n    </tr>\n  </thead>\n  <tbody>\n    <tr>\n      <th>0</th>\n      <td>0</td>\n      <td>3</td>\n      <td>male</td>\n      <td>22.0</td>\n      <td>1</td>\n      <td>0</td>\n      <td>7.2500</td>\n      <td>S</td>\n      <td>Third</td>\n      <td>man</td>\n      <td>True</td>\n      <td>NaN</td>\n      <td>Southampton</td>\n      <td>no</td>\n      <td>False</td>\n    </tr>\n    <tr>\n      <th>1</th>\n      <td>1</td>\n      <td>1</td>\n      <td>female</td>\n      <td>38.0</td>\n      <td>1</td>\n      <td>0</td>\n      <td>71.2833</td>\n      <td>C</td>\n      <td>First</td>\n      <td>woman</td>\n      <td>False</td>\n      <td>C</td>\n      <td>Cherbourg</td>\n      <td>yes</td>\n      <td>False</td>\n    </tr>\n    <tr>\n      <th>2</th>\n      <td>1</td>\n      <td>3</td>\n      <td>female</td>\n      <td>26.0</td>\n      <td>0</td>\n      <td>0</td>\n      <td>7.9250</td>\n      <td>S</td>\n      <td>Third</td>\n      <td>woman</td>\n      <td>False</td>\n      <td>NaN</td>\n      <td>Southampton</td>\n      <td>yes</td>\n      <td>True</td>\n    </tr>\n    <tr>\n      <th>3</th>\n      <td>1</td>\n      <td>1</td>\n      <td>female</td>\n      <td>35.0</td>\n      <td>1</td>\n      <td>0</td>\n      <td>53.1000</td>\n      <td>S</td>\n      <td>First</td>\n      <td>woman</td>\n      <td>False</td>\n      <td>C</td>\n      <td>Southampton</td>\n      <td>yes</td>\n      <td>False</td>\n    </tr>\n    <tr>\n      <th>4</th>\n      <td>0</td>\n      <td>3</td>\n      <td>male</td>\n      <td>35.0</td>\n      <td>0</td>\n      <td>0</td>\n      <td>8.0500</td>\n      <td>S</td>\n      <td>Third</td>\n      <td>man</td>\n      <td>True</td>\n      <td>NaN</td>\n      <td>Southampton</td>\n      <td>no</td>\n      <td>True</td>\n    </tr>\n    <tr>\n      <th>...</th>\n      <td>...</td>\n      <td>...</td>\n      <td>...</td>\n      <td>...</td>\n      <td>...</td>\n      <td>...</td>\n      <td>...</td>\n      <td>...</td>\n      <td>...</td>\n      <td>...</td>\n      <td>...</td>\n      <td>...</td>\n      <td>...</td>\n      <td>...</td>\n      <td>...</td>\n    </tr>\n    <tr>\n      <th>886</th>\n      <td>0</td>\n      <td>2</td>\n      <td>male</td>\n      <td>27.0</td>\n      <td>0</td>\n      <td>0</td>\n      <td>13.0000</td>\n      <td>S</td>\n      <td>Second</td>\n      <td>man</td>\n      <td>True</td>\n      <td>NaN</td>\n      <td>Southampton</td>\n      <td>no</td>\n      <td>True</td>\n    </tr>\n    <tr>\n      <th>887</th>\n      <td>1</td>\n      <td>1</td>\n      <td>female</td>\n      <td>19.0</td>\n      <td>0</td>\n      <td>0</td>\n      <td>30.0000</td>\n      <td>S</td>\n      <td>First</td>\n      <td>woman</td>\n      <td>False</td>\n      <td>B</td>\n      <td>Southampton</td>\n      <td>yes</td>\n      <td>True</td>\n    </tr>\n    <tr>\n      <th>888</th>\n      <td>0</td>\n      <td>3</td>\n      <td>female</td>\n      <td>NaN</td>\n      <td>1</td>\n      <td>2</td>\n      <td>23.4500</td>\n      <td>S</td>\n      <td>Third</td>\n      <td>woman</td>\n      <td>False</td>\n      <td>NaN</td>\n      <td>Southampton</td>\n      <td>no</td>\n      <td>False</td>\n    </tr>\n    <tr>\n      <th>889</th>\n      <td>1</td>\n      <td>1</td>\n      <td>male</td>\n      <td>26.0</td>\n      <td>0</td>\n      <td>0</td>\n      <td>30.0000</td>\n      <td>C</td>\n      <td>First</td>\n      <td>man</td>\n      <td>True</td>\n      <td>C</td>\n      <td>Cherbourg</td>\n      <td>yes</td>\n      <td>True</td>\n    </tr>\n    <tr>\n      <th>890</th>\n      <td>0</td>\n      <td>3</td>\n      <td>male</td>\n      <td>32.0</td>\n      <td>0</td>\n      <td>0</td>\n      <td>7.7500</td>\n      <td>Q</td>\n      <td>Third</td>\n      <td>man</td>\n      <td>True</td>\n      <td>NaN</td>\n      <td>Queenstown</td>\n      <td>no</td>\n      <td>True</td>\n    </tr>\n  </tbody>\n</table>\n<p>891 rows × 15 columns</p>\n</div>"
     },
     "execution_count": 2,
     "metadata": {},
     "output_type": "execute_result"
    }
   ],
   "source": [
    "titanic"
   ]
  },
  {
   "cell_type": "code",
   "execution_count": 3,
   "id": "83229e1e",
   "metadata": {
    "ExecuteTime": {
     "end_time": "2022-06-16T21:29:11.834755Z",
     "start_time": "2022-06-16T21:29:11.829303Z"
    },
    "pycharm": {
     "name": "#%%\n"
    }
   },
   "outputs": [
    {
     "data": {
      "text/plain": "342"
     },
     "execution_count": 3,
     "metadata": {},
     "output_type": "execute_result"
    }
   ],
   "source": [
    "titanic[\"survived\"].sum()"
   ]
  },
  {
   "cell_type": "code",
   "execution_count": 4,
   "id": "bb857971",
   "metadata": {
    "ExecuteTime": {
     "end_time": "2022-06-16T21:29:12.651820Z",
     "start_time": "2022-06-16T21:29:12.644419Z"
    },
    "pycharm": {
     "name": "#%%\n"
    }
   },
   "outputs": [
    {
     "data": {
      "text/plain": "adult_male\nFalse    254\nTrue      88\nName: survived, dtype: int64"
     },
     "execution_count": 4,
     "metadata": {},
     "output_type": "execute_result"
    }
   ],
   "source": [
    "titanic[\"survived\"].groupby(titanic[\"adult_male\"]).sum()"
   ]
  },
  {
   "cell_type": "code",
   "execution_count": 5,
   "id": "7b31bc30",
   "metadata": {
    "ExecuteTime": {
     "end_time": "2022-06-16T21:29:15.053429Z",
     "start_time": "2022-06-16T21:29:15.039642Z"
    },
    "pycharm": {
     "name": "#%%\n"
    }
   },
   "outputs": [],
   "source": [
    "titanic.to_csv(\"titanic.csv\")"
   ]
  },
  {
   "cell_type": "code",
   "execution_count": 6,
   "id": "4575cbd4",
   "metadata": {
    "ExecuteTime": {
     "end_time": "2022-06-16T21:29:15.757787Z",
     "start_time": "2022-06-16T21:29:15.735912Z"
    },
    "pycharm": {
     "name": "#%%\n"
    }
   },
   "outputs": [
    {
     "data": {
      "text/plain": "class      First    Second     Third\nsex                                 \nfemale  0.968085  0.921053  0.500000\nmale    0.368852  0.157407  0.135447",
      "text/html": "<div>\n<style scoped>\n    .dataframe tbody tr th:only-of-type {\n        vertical-align: middle;\n    }\n\n    .dataframe tbody tr th {\n        vertical-align: top;\n    }\n\n    .dataframe thead th {\n        text-align: right;\n    }\n</style>\n<table border=\"1\" class=\"dataframe\">\n  <thead>\n    <tr style=\"text-align: right;\">\n      <th>class</th>\n      <th>First</th>\n      <th>Second</th>\n      <th>Third</th>\n    </tr>\n    <tr>\n      <th>sex</th>\n      <th></th>\n      <th></th>\n      <th></th>\n    </tr>\n  </thead>\n  <tbody>\n    <tr>\n      <th>female</th>\n      <td>0.968085</td>\n      <td>0.921053</td>\n      <td>0.500000</td>\n    </tr>\n    <tr>\n      <th>male</th>\n      <td>0.368852</td>\n      <td>0.157407</td>\n      <td>0.135447</td>\n    </tr>\n  </tbody>\n</table>\n</div>"
     },
     "execution_count": 6,
     "metadata": {},
     "output_type": "execute_result"
    }
   ],
   "source": [
    "titanic.pivot_table(\"survived\", index=\"sex\", columns=\"class\")"
   ]
  },
  {
   "cell_type": "code",
   "execution_count": 7,
   "id": "de7c6856",
   "metadata": {
    "ExecuteTime": {
     "end_time": "2022-06-16T21:30:27.846456Z",
     "start_time": "2022-06-16T21:30:27.833766Z"
    },
    "pycharm": {
     "name": "#%%\n"
    }
   },
   "outputs": [],
   "source": [
    "age = pd.cut(titanic[\"age\"], [0, 18, 80])"
   ]
  },
  {
   "cell_type": "code",
   "execution_count": 8,
   "id": "0cddba8e",
   "metadata": {
    "ExecuteTime": {
     "end_time": "2022-06-16T21:31:45.612116Z",
     "start_time": "2022-06-16T21:31:45.603703Z"
    },
    "pycharm": {
     "name": "#%%\n"
    }
   },
   "outputs": [
    {
     "data": {
      "text/plain": "pandas.core.series.Series"
     },
     "execution_count": 8,
     "metadata": {},
     "output_type": "execute_result"
    }
   ],
   "source": [
    "type(age)"
   ]
  },
  {
   "cell_type": "code",
   "execution_count": 9,
   "id": "fa7fc6ef",
   "metadata": {
    "ExecuteTime": {
     "end_time": "2022-06-16T21:30:53.329094Z",
     "start_time": "2022-06-16T21:30:53.316455Z"
    },
    "pycharm": {
     "name": "#%%\n"
    }
   },
   "outputs": [
    {
     "data": {
      "text/plain": "0      22.0\n1      38.0\n2      26.0\n3      35.0\n4      35.0\n       ... \n886    27.0\n887    19.0\n888     NaN\n889    26.0\n890    32.0\nName: age, Length: 891, dtype: float64"
     },
     "execution_count": 9,
     "metadata": {},
     "output_type": "execute_result"
    }
   ],
   "source": [
    "titanic[\"age\"]"
   ]
  },
  {
   "cell_type": "code",
   "execution_count": 10,
   "id": "37b727a1",
   "metadata": {
    "ExecuteTime": {
     "end_time": "2022-06-16T21:34:16.198968Z",
     "start_time": "2022-06-16T21:34:16.171753Z"
    },
    "pycharm": {
     "name": "#%%\n"
    }
   },
   "outputs": [
    {
     "data": {
      "text/plain": "class               First    Second     Third\nsex    age                                   \nfemale (0, 18]   0.909091  1.000000  0.511628\n       (18, 80]  0.972973  0.900000  0.423729\nmale   (0, 18]   0.800000  0.600000  0.215686\n       (18, 80]  0.375000  0.071429  0.133663",
      "text/html": "<div>\n<style scoped>\n    .dataframe tbody tr th:only-of-type {\n        vertical-align: middle;\n    }\n\n    .dataframe tbody tr th {\n        vertical-align: top;\n    }\n\n    .dataframe thead th {\n        text-align: right;\n    }\n</style>\n<table border=\"1\" class=\"dataframe\">\n  <thead>\n    <tr style=\"text-align: right;\">\n      <th></th>\n      <th>class</th>\n      <th>First</th>\n      <th>Second</th>\n      <th>Third</th>\n    </tr>\n    <tr>\n      <th>sex</th>\n      <th>age</th>\n      <th></th>\n      <th></th>\n      <th></th>\n    </tr>\n  </thead>\n  <tbody>\n    <tr>\n      <th rowspan=\"2\" valign=\"top\">female</th>\n      <th>(0, 18]</th>\n      <td>0.909091</td>\n      <td>1.000000</td>\n      <td>0.511628</td>\n    </tr>\n    <tr>\n      <th>(18, 80]</th>\n      <td>0.972973</td>\n      <td>0.900000</td>\n      <td>0.423729</td>\n    </tr>\n    <tr>\n      <th rowspan=\"2\" valign=\"top\">male</th>\n      <th>(0, 18]</th>\n      <td>0.800000</td>\n      <td>0.600000</td>\n      <td>0.215686</td>\n    </tr>\n    <tr>\n      <th>(18, 80]</th>\n      <td>0.375000</td>\n      <td>0.071429</td>\n      <td>0.133663</td>\n    </tr>\n  </tbody>\n</table>\n</div>"
     },
     "execution_count": 10,
     "metadata": {},
     "output_type": "execute_result"
    }
   ],
   "source": [
    "titanic.pivot_table(\"survived\", [\"sex\", age], \"class\")"
   ]
  },
  {
   "cell_type": "code",
   "execution_count": 13,
   "id": "f3717152",
   "metadata": {
    "ExecuteTime": {
     "end_time": "2022-06-16T21:35:45.633023Z",
     "start_time": "2022-06-16T21:35:45.624670Z"
    },
    "pycharm": {
     "name": "#%%\n"
    }
   },
   "outputs": [
    {
     "name": "stdout",
     "output_type": "stream",
     "text": [
      "Help on function qcut in module pandas.core.reshape.tile:\n",
      "\n",
      "qcut(x, q, labels=None, retbins: 'bool' = False, precision: 'int' = 3, duplicates: 'str' = 'raise')\n",
      "    Quantile-based discretization function.\n",
      "    \n",
      "    Discretize variable into equal-sized buckets based on rank or based\n",
      "    on sample quantiles. For example 1000 values for 10 quantiles would\n",
      "    produce a Categorical object indicating quantile membership for each data point.\n",
      "    \n",
      "    Parameters\n",
      "    ----------\n",
      "    x : 1d ndarray or Series\n",
      "    q : int or list-like of float\n",
      "        Number of quantiles. 10 for deciles, 4 for quartiles, etc. Alternately\n",
      "        array of quantiles, e.g. [0, .25, .5, .75, 1.] for quartiles.\n",
      "    labels : array or False, default None\n",
      "        Used as labels for the resulting bins. Must be of the same length as\n",
      "        the resulting bins. If False, return only integer indicators of the\n",
      "        bins. If True, raises an error.\n",
      "    retbins : bool, optional\n",
      "        Whether to return the (bins, labels) or not. Can be useful if bins\n",
      "        is given as a scalar.\n",
      "    precision : int, optional\n",
      "        The precision at which to store and display the bins labels.\n",
      "    duplicates : {default 'raise', 'drop'}, optional\n",
      "        If bin edges are not unique, raise ValueError or drop non-uniques.\n",
      "    \n",
      "    Returns\n",
      "    -------\n",
      "    out : Categorical or Series or array of integers if labels is False\n",
      "        The return type (Categorical or Series) depends on the input: a Series\n",
      "        of type category if input is a Series else Categorical. Bins are\n",
      "        represented as categories when categorical data is returned.\n",
      "    bins : ndarray of floats\n",
      "        Returned only if `retbins` is True.\n",
      "    \n",
      "    Notes\n",
      "    -----\n",
      "    Out of bounds values will be NA in the resulting Categorical object\n",
      "    \n",
      "    Examples\n",
      "    --------\n",
      "    >>> pd.qcut(range(5), 4)\n",
      "    ... # doctest: +ELLIPSIS\n",
      "    [(-0.001, 1.0], (-0.001, 1.0], (1.0, 2.0], (2.0, 3.0], (3.0, 4.0]]\n",
      "    Categories (4, interval[float64, right]): [(-0.001, 1.0] < (1.0, 2.0] ...\n",
      "    \n",
      "    >>> pd.qcut(range(5), 3, labels=[\"good\", \"medium\", \"bad\"])\n",
      "    ... # doctest: +SKIP\n",
      "    [good, good, medium, bad, bad]\n",
      "    Categories (3, object): [good < medium < bad]\n",
      "    \n",
      "    >>> pd.qcut(range(5), 4, labels=False)\n",
      "    array([0, 0, 1, 2, 3])\n",
      "\n"
     ]
    }
   ],
   "source": [
    "help(pd.qcut)"
   ]
  },
  {
   "cell_type": "code",
   "execution_count": 11,
   "id": "1b97dab0",
   "metadata": {
    "ExecuteTime": {
     "end_time": "2022-06-16T21:37:31.624988Z",
     "start_time": "2022-06-16T21:37:31.611225Z"
    },
    "pycharm": {
     "name": "#%%\n"
    }
   },
   "outputs": [
    {
     "data": {
      "text/plain": "['good', 'good', 'medium', 'bad', 'bad']\nCategories (3, object): ['good' < 'medium' < 'bad']"
     },
     "execution_count": 11,
     "metadata": {},
     "output_type": "execute_result"
    }
   ],
   "source": [
    "pd.qcut(range(5), 3, labels=[\"good\", \"medium\", \"bad\"])"
   ]
  },
  {
   "cell_type": "code",
   "execution_count": 15,
   "id": "3a0a67cd",
   "metadata": {
    "ExecuteTime": {
     "end_time": "2022-06-16T21:37:52.077772Z",
     "start_time": "2022-06-16T21:37:52.070887Z"
    },
    "pycharm": {
     "name": "#%%\n"
    }
   },
   "outputs": [
    {
     "name": "stdout",
     "output_type": "stream",
     "text": [
      "Help on function cut in module pandas.core.reshape.tile:\n",
      "\n",
      "cut(x, bins, right: 'bool' = True, labels=None, retbins: 'bool' = False, precision: 'int' = 3, include_lowest: 'bool' = False, duplicates: 'str' = 'raise', ordered: 'bool' = True)\n",
      "    Bin values into discrete intervals.\n",
      "    \n",
      "    Use `cut` when you need to segment and sort data values into bins. This\n",
      "    function is also useful for going from a continuous variable to a\n",
      "    categorical variable. For example, `cut` could convert ages to groups of\n",
      "    age ranges. Supports binning into an equal number of bins, or a\n",
      "    pre-specified array of bins.\n",
      "    \n",
      "    Parameters\n",
      "    ----------\n",
      "    x : array-like\n",
      "        The input array to be binned. Must be 1-dimensional.\n",
      "    bins : int, sequence of scalars, or IntervalIndex\n",
      "        The criteria to bin by.\n",
      "    \n",
      "        * int : Defines the number of equal-width bins in the range of `x`. The\n",
      "          range of `x` is extended by .1% on each side to include the minimum\n",
      "          and maximum values of `x`.\n",
      "        * sequence of scalars : Defines the bin edges allowing for non-uniform\n",
      "          width. No extension of the range of `x` is done.\n",
      "        * IntervalIndex : Defines the exact bins to be used. Note that\n",
      "          IntervalIndex for `bins` must be non-overlapping.\n",
      "    \n",
      "    right : bool, default True\n",
      "        Indicates whether `bins` includes the rightmost edge or not. If\n",
      "        ``right == True`` (the default), then the `bins` ``[1, 2, 3, 4]``\n",
      "        indicate (1,2], (2,3], (3,4]. This argument is ignored when\n",
      "        `bins` is an IntervalIndex.\n",
      "    labels : array or False, default None\n",
      "        Specifies the labels for the returned bins. Must be the same length as\n",
      "        the resulting bins. If False, returns only integer indicators of the\n",
      "        bins. This affects the type of the output container (see below).\n",
      "        This argument is ignored when `bins` is an IntervalIndex. If True,\n",
      "        raises an error. When `ordered=False`, labels must be provided.\n",
      "    retbins : bool, default False\n",
      "        Whether to return the bins or not. Useful when bins is provided\n",
      "        as a scalar.\n",
      "    precision : int, default 3\n",
      "        The precision at which to store and display the bins labels.\n",
      "    include_lowest : bool, default False\n",
      "        Whether the first interval should be left-inclusive or not.\n",
      "    duplicates : {default 'raise', 'drop'}, optional\n",
      "        If bin edges are not unique, raise ValueError or drop non-uniques.\n",
      "    ordered : bool, default True\n",
      "        Whether the labels are ordered or not. Applies to returned types\n",
      "        Categorical and Series (with Categorical dtype). If True,\n",
      "        the resulting categorical will be ordered. If False, the resulting\n",
      "        categorical will be unordered (labels must be provided).\n",
      "    \n",
      "        .. versionadded:: 1.1.0\n",
      "    \n",
      "    Returns\n",
      "    -------\n",
      "    out : Categorical, Series, or ndarray\n",
      "        An array-like object representing the respective bin for each value\n",
      "        of `x`. The type depends on the value of `labels`.\n",
      "    \n",
      "        * None (default) : returns a Series for Series `x` or a\n",
      "          Categorical for all other inputs. The values stored within\n",
      "          are Interval dtype.\n",
      "    \n",
      "        * sequence of scalars : returns a Series for Series `x` or a\n",
      "          Categorical for all other inputs. The values stored within\n",
      "          are whatever the type in the sequence is.\n",
      "    \n",
      "        * False : returns an ndarray of integers.\n",
      "    \n",
      "    bins : numpy.ndarray or IntervalIndex.\n",
      "        The computed or specified bins. Only returned when `retbins=True`.\n",
      "        For scalar or sequence `bins`, this is an ndarray with the computed\n",
      "        bins. If set `duplicates=drop`, `bins` will drop non-unique bin. For\n",
      "        an IntervalIndex `bins`, this is equal to `bins`.\n",
      "    \n",
      "    See Also\n",
      "    --------\n",
      "    qcut : Discretize variable into equal-sized buckets based on rank\n",
      "        or based on sample quantiles.\n",
      "    Categorical : Array type for storing data that come from a\n",
      "        fixed set of values.\n",
      "    Series : One-dimensional array with axis labels (including time series).\n",
      "    IntervalIndex : Immutable Index implementing an ordered, sliceable set.\n",
      "    \n",
      "    Notes\n",
      "    -----\n",
      "    Any NA values will be NA in the result. Out of bounds values will be NA in\n",
      "    the resulting Series or Categorical object.\n",
      "    \n",
      "    Reference :ref:`the user guide <reshaping.tile.cut>` for more examples.\n",
      "    \n",
      "    Examples\n",
      "    --------\n",
      "    Discretize into three equal-sized bins.\n",
      "    \n",
      "    >>> pd.cut(np.array([1, 7, 5, 4, 6, 3]), 3)\n",
      "    ... # doctest: +ELLIPSIS\n",
      "    [(0.994, 3.0], (5.0, 7.0], (3.0, 5.0], (3.0, 5.0], (5.0, 7.0], ...\n",
      "    Categories (3, interval[float64, right]): [(0.994, 3.0] < (3.0, 5.0] ...\n",
      "    \n",
      "    >>> pd.cut(np.array([1, 7, 5, 4, 6, 3]), 3, retbins=True)\n",
      "    ... # doctest: +ELLIPSIS\n",
      "    ([(0.994, 3.0], (5.0, 7.0], (3.0, 5.0], (3.0, 5.0], (5.0, 7.0], ...\n",
      "    Categories (3, interval[float64, right]): [(0.994, 3.0] < (3.0, 5.0] ...\n",
      "    array([0.994, 3.   , 5.   , 7.   ]))\n",
      "    \n",
      "    Discovers the same bins, but assign them specific labels. Notice that\n",
      "    the returned Categorical's categories are `labels` and is ordered.\n",
      "    \n",
      "    >>> pd.cut(np.array([1, 7, 5, 4, 6, 3]),\n",
      "    ...        3, labels=[\"bad\", \"medium\", \"good\"])\n",
      "    ['bad', 'good', 'medium', 'medium', 'good', 'bad']\n",
      "    Categories (3, object): ['bad' < 'medium' < 'good']\n",
      "    \n",
      "    ``ordered=False`` will result in unordered categories when labels are passed.\n",
      "    This parameter can be used to allow non-unique labels:\n",
      "    \n",
      "    >>> pd.cut(np.array([1, 7, 5, 4, 6, 3]), 3,\n",
      "    ...        labels=[\"B\", \"A\", \"B\"], ordered=False)\n",
      "    ['B', 'B', 'A', 'A', 'B', 'B']\n",
      "    Categories (2, object): ['A', 'B']\n",
      "    \n",
      "    ``labels=False`` implies you just want the bins back.\n",
      "    \n",
      "    >>> pd.cut([0, 1, 1, 2], bins=4, labels=False)\n",
      "    array([0, 1, 1, 3])\n",
      "    \n",
      "    Passing a Series as an input returns a Series with categorical dtype:\n",
      "    \n",
      "    >>> s = pd.Series(np.array([2, 4, 6, 8, 10]),\n",
      "    ...               index=['a', 'b', 'c', 'd', 'e'])\n",
      "    >>> pd.cut(s, 3)\n",
      "    ... # doctest: +ELLIPSIS\n",
      "    a    (1.992, 4.667]\n",
      "    b    (1.992, 4.667]\n",
      "    c    (4.667, 7.333]\n",
      "    d     (7.333, 10.0]\n",
      "    e     (7.333, 10.0]\n",
      "    dtype: category\n",
      "    Categories (3, interval[float64, right]): [(1.992, 4.667] < (4.667, ...\n",
      "    \n",
      "    Passing a Series as an input returns a Series with mapping value.\n",
      "    It is used to map numerically to intervals based on bins.\n",
      "    \n",
      "    >>> s = pd.Series(np.array([2, 4, 6, 8, 10]),\n",
      "    ...               index=['a', 'b', 'c', 'd', 'e'])\n",
      "    >>> pd.cut(s, [0, 2, 4, 6, 8, 10], labels=False, retbins=True, right=False)\n",
      "    ... # doctest: +ELLIPSIS\n",
      "    (a    1.0\n",
      "     b    2.0\n",
      "     c    3.0\n",
      "     d    4.0\n",
      "     e    NaN\n",
      "     dtype: float64,\n",
      "     array([ 0,  2,  4,  6,  8, 10]))\n",
      "    \n",
      "    Use `drop` optional when bins is not unique\n",
      "    \n",
      "    >>> pd.cut(s, [0, 2, 4, 6, 10, 10], labels=False, retbins=True,\n",
      "    ...        right=False, duplicates='drop')\n",
      "    ... # doctest: +ELLIPSIS\n",
      "    (a    1.0\n",
      "     b    2.0\n",
      "     c    3.0\n",
      "     d    3.0\n",
      "     e    NaN\n",
      "     dtype: float64,\n",
      "     array([ 0,  2,  4,  6, 10]))\n",
      "    \n",
      "    Passing an IntervalIndex for `bins` results in those categories exactly.\n",
      "    Notice that values not covered by the IntervalIndex are set to NaN. 0\n",
      "    is to the left of the first bin (which is closed on the right), and 1.5\n",
      "    falls between two bins.\n",
      "    \n",
      "    >>> bins = pd.IntervalIndex.from_tuples([(0, 1), (2, 3), (4, 5)])\n",
      "    >>> pd.cut([0, 0.5, 1.5, 2.5, 4.5], bins)\n",
      "    [NaN, (0.0, 1.0], NaN, (2.0, 3.0], (4.0, 5.0]]\n",
      "    Categories (3, interval[int64, right]): [(0, 1] < (2, 3] < (4, 5]]\n",
      "\n"
     ]
    }
   ],
   "source": [
    "help(pd.cut)"
   ]
  },
  {
   "cell_type": "code",
   "execution_count": 12,
   "outputs": [],
   "source": [
    "fare = pd.qcut(titanic[\"fare\"], 2)"
   ],
   "metadata": {
    "collapsed": false,
    "pycharm": {
     "name": "#%%\n"
    }
   }
  },
  {
   "cell_type": "code",
   "execution_count": 13,
   "outputs": [
    {
     "data": {
      "text/plain": "0       (-0.001, 14.454]\n1      (14.454, 512.329]\n2       (-0.001, 14.454]\n3      (14.454, 512.329]\n4       (-0.001, 14.454]\n             ...        \n886     (-0.001, 14.454]\n887    (14.454, 512.329]\n888    (14.454, 512.329]\n889    (14.454, 512.329]\n890     (-0.001, 14.454]\nName: fare, Length: 891, dtype: category\nCategories (2, interval[float64, right]): [(-0.001, 14.454] < (14.454, 512.329]]"
     },
     "execution_count": 13,
     "metadata": {},
     "output_type": "execute_result"
    }
   ],
   "source": [
    "fare"
   ],
   "metadata": {
    "collapsed": false,
    "pycharm": {
     "name": "#%%\n"
    }
   }
  },
  {
   "cell_type": "code",
   "execution_count": 14,
   "outputs": [
    {
     "data": {
      "text/plain": "pandas.core.series.Series"
     },
     "execution_count": 14,
     "metadata": {},
     "output_type": "execute_result"
    }
   ],
   "source": [
    "type(fare)"
   ],
   "metadata": {
    "collapsed": false,
    "pycharm": {
     "name": "#%%\n"
    }
   }
  },
  {
   "cell_type": "code",
   "execution_count": 15,
   "outputs": [
    {
     "data": {
      "text/plain": "fare            (-0.001, 14.454]                     (14.454, 512.329]  \\\nclass                      First    Second     Third             First   \nsex    age                                                               \nfemale (0, 18]               NaN  1.000000  0.714286          0.909091   \n       (18, 80]              NaN  0.880000  0.444444          0.972973   \nmale   (0, 18]               NaN  0.000000  0.260870          0.800000   \n       (18, 80]              0.0  0.098039  0.125000          0.391304   \n\nfare                                 \nclass              Second     Third  \nsex    age                           \nfemale (0, 18]   1.000000  0.318182  \n       (18, 80]  0.914286  0.391304  \nmale   (0, 18]   0.818182  0.178571  \n       (18, 80]  0.030303  0.192308  ",
      "text/html": "<div>\n<style scoped>\n    .dataframe tbody tr th:only-of-type {\n        vertical-align: middle;\n    }\n\n    .dataframe tbody tr th {\n        vertical-align: top;\n    }\n\n    .dataframe thead tr th {\n        text-align: left;\n    }\n\n    .dataframe thead tr:last-of-type th {\n        text-align: right;\n    }\n</style>\n<table border=\"1\" class=\"dataframe\">\n  <thead>\n    <tr>\n      <th></th>\n      <th>fare</th>\n      <th colspan=\"3\" halign=\"left\">(-0.001, 14.454]</th>\n      <th colspan=\"3\" halign=\"left\">(14.454, 512.329]</th>\n    </tr>\n    <tr>\n      <th></th>\n      <th>class</th>\n      <th>First</th>\n      <th>Second</th>\n      <th>Third</th>\n      <th>First</th>\n      <th>Second</th>\n      <th>Third</th>\n    </tr>\n    <tr>\n      <th>sex</th>\n      <th>age</th>\n      <th></th>\n      <th></th>\n      <th></th>\n      <th></th>\n      <th></th>\n      <th></th>\n    </tr>\n  </thead>\n  <tbody>\n    <tr>\n      <th rowspan=\"2\" valign=\"top\">female</th>\n      <th>(0, 18]</th>\n      <td>NaN</td>\n      <td>1.000000</td>\n      <td>0.714286</td>\n      <td>0.909091</td>\n      <td>1.000000</td>\n      <td>0.318182</td>\n    </tr>\n    <tr>\n      <th>(18, 80]</th>\n      <td>NaN</td>\n      <td>0.880000</td>\n      <td>0.444444</td>\n      <td>0.972973</td>\n      <td>0.914286</td>\n      <td>0.391304</td>\n    </tr>\n    <tr>\n      <th rowspan=\"2\" valign=\"top\">male</th>\n      <th>(0, 18]</th>\n      <td>NaN</td>\n      <td>0.000000</td>\n      <td>0.260870</td>\n      <td>0.800000</td>\n      <td>0.818182</td>\n      <td>0.178571</td>\n    </tr>\n    <tr>\n      <th>(18, 80]</th>\n      <td>0.0</td>\n      <td>0.098039</td>\n      <td>0.125000</td>\n      <td>0.391304</td>\n      <td>0.030303</td>\n      <td>0.192308</td>\n    </tr>\n  </tbody>\n</table>\n</div>"
     },
     "execution_count": 15,
     "metadata": {},
     "output_type": "execute_result"
    }
   ],
   "source": [
    "titanic.pivot_table(\"survived\", [\"sex\", age], [fare, \"class\"])"
   ],
   "metadata": {
    "collapsed": false,
    "pycharm": {
     "name": "#%%\n"
    }
   }
  },
  {
   "cell_type": "code",
   "execution_count": 18,
   "outputs": [
    {
     "data": {
      "text/plain": "              fare                       survived             \nclass        First     Second      Third    First Second Third\nsex                                                           \nfemale  106.125798  21.970121  16.118810       91     70    72\nmale     67.226127  19.741782  12.661633       45     17    47",
      "text/html": "<div>\n<style scoped>\n    .dataframe tbody tr th:only-of-type {\n        vertical-align: middle;\n    }\n\n    .dataframe tbody tr th {\n        vertical-align: top;\n    }\n\n    .dataframe thead tr th {\n        text-align: left;\n    }\n\n    .dataframe thead tr:last-of-type th {\n        text-align: right;\n    }\n</style>\n<table border=\"1\" class=\"dataframe\">\n  <thead>\n    <tr>\n      <th></th>\n      <th colspan=\"3\" halign=\"left\">fare</th>\n      <th colspan=\"3\" halign=\"left\">survived</th>\n    </tr>\n    <tr>\n      <th>class</th>\n      <th>First</th>\n      <th>Second</th>\n      <th>Third</th>\n      <th>First</th>\n      <th>Second</th>\n      <th>Third</th>\n    </tr>\n    <tr>\n      <th>sex</th>\n      <th></th>\n      <th></th>\n      <th></th>\n      <th></th>\n      <th></th>\n      <th></th>\n    </tr>\n  </thead>\n  <tbody>\n    <tr>\n      <th>female</th>\n      <td>106.125798</td>\n      <td>21.970121</td>\n      <td>16.118810</td>\n      <td>91</td>\n      <td>70</td>\n      <td>72</td>\n    </tr>\n    <tr>\n      <th>male</th>\n      <td>67.226127</td>\n      <td>19.741782</td>\n      <td>12.661633</td>\n      <td>45</td>\n      <td>17</td>\n      <td>47</td>\n    </tr>\n  </tbody>\n</table>\n</div>"
     },
     "execution_count": 18,
     "metadata": {},
     "output_type": "execute_result"
    }
   ],
   "source": [
    "titanic.pivot_table(\n",
    "    index=\"sex\", columns=\"class\", aggfunc={\"survived\": sum, \"fare\": \"mean\"}\n",
    ")"
   ],
   "metadata": {
    "collapsed": false,
    "pycharm": {
     "name": "#%%\n"
    }
   }
  },
  {
   "cell_type": "code",
   "execution_count": 19,
   "outputs": [
    {
     "data": {
      "text/plain": "            fare                survived             \nclass      First Second   Third    First Second Third\nsex                                                  \nfemale  82.66455   22.0  12.475       91     70    72\nmale    41.26250   13.0   7.925       45     17    47",
      "text/html": "<div>\n<style scoped>\n    .dataframe tbody tr th:only-of-type {\n        vertical-align: middle;\n    }\n\n    .dataframe tbody tr th {\n        vertical-align: top;\n    }\n\n    .dataframe thead tr th {\n        text-align: left;\n    }\n\n    .dataframe thead tr:last-of-type th {\n        text-align: right;\n    }\n</style>\n<table border=\"1\" class=\"dataframe\">\n  <thead>\n    <tr>\n      <th></th>\n      <th colspan=\"3\" halign=\"left\">fare</th>\n      <th colspan=\"3\" halign=\"left\">survived</th>\n    </tr>\n    <tr>\n      <th>class</th>\n      <th>First</th>\n      <th>Second</th>\n      <th>Third</th>\n      <th>First</th>\n      <th>Second</th>\n      <th>Third</th>\n    </tr>\n    <tr>\n      <th>sex</th>\n      <th></th>\n      <th></th>\n      <th></th>\n      <th></th>\n      <th></th>\n      <th></th>\n    </tr>\n  </thead>\n  <tbody>\n    <tr>\n      <th>female</th>\n      <td>82.66455</td>\n      <td>22.0</td>\n      <td>12.475</td>\n      <td>91</td>\n      <td>70</td>\n      <td>72</td>\n    </tr>\n    <tr>\n      <th>male</th>\n      <td>41.26250</td>\n      <td>13.0</td>\n      <td>7.925</td>\n      <td>45</td>\n      <td>17</td>\n      <td>47</td>\n    </tr>\n  </tbody>\n</table>\n</div>"
     },
     "execution_count": 19,
     "metadata": {},
     "output_type": "execute_result"
    }
   ],
   "source": [
    "titanic.pivot_table(\n",
    "    index=\"sex\", columns=\"class\", aggfunc={\"survived\": sum, \"fare\": \"median\"}\n",
    ")"
   ],
   "metadata": {
    "collapsed": false,
    "pycharm": {
     "name": "#%%\n"
    }
   }
  },
  {
   "cell_type": "code",
   "execution_count": 20,
   "outputs": [
    {
     "name": "stdout",
     "output_type": "stream",
     "text": [
      "Help on method pivot_table in module pandas.core.frame:\n",
      "\n",
      "pivot_table(values=None, index=None, columns=None, aggfunc='mean', fill_value=None, margins=False, dropna=True, margins_name='All', observed=False, sort=True) -> 'DataFrame' method of pandas.core.frame.DataFrame instance\n",
      "    Create a spreadsheet-style pivot table as a DataFrame.\n",
      "    \n",
      "    The levels in the pivot table will be stored in MultiIndex objects\n",
      "    (hierarchical indexes) on the index and columns of the result DataFrame.\n",
      "    \n",
      "    Parameters\n",
      "    ----------\n",
      "    values : column to aggregate, optional\n",
      "    index : column, Grouper, array, or list of the previous\n",
      "        If an array is passed, it must be the same length as the data. The\n",
      "        list can contain any of the other types (except list).\n",
      "        Keys to group by on the pivot table index.  If an array is passed,\n",
      "        it is being used as the same manner as column values.\n",
      "    columns : column, Grouper, array, or list of the previous\n",
      "        If an array is passed, it must be the same length as the data. The\n",
      "        list can contain any of the other types (except list).\n",
      "        Keys to group by on the pivot table column.  If an array is passed,\n",
      "        it is being used as the same manner as column values.\n",
      "    aggfunc : function, list of functions, dict, default numpy.mean\n",
      "        If list of functions passed, the resulting pivot table will have\n",
      "        hierarchical columns whose top level are the function names\n",
      "        (inferred from the function objects themselves)\n",
      "        If dict is passed, the key is column to aggregate and value\n",
      "        is function or list of functions.\n",
      "    fill_value : scalar, default None\n",
      "        Value to replace missing values with (in the resulting pivot table,\n",
      "        after aggregation).\n",
      "    margins : bool, default False\n",
      "        Add all row / columns (e.g. for subtotal / grand totals).\n",
      "    dropna : bool, default True\n",
      "        Do not include columns whose entries are all NaN.\n",
      "    margins_name : str, default 'All'\n",
      "        Name of the row / column that will contain the totals\n",
      "        when margins is True.\n",
      "    observed : bool, default False\n",
      "        This only applies if any of the groupers are Categoricals.\n",
      "        If True: only show observed values for categorical groupers.\n",
      "        If False: show all values for categorical groupers.\n",
      "    \n",
      "        .. versionchanged:: 0.25.0\n",
      "    \n",
      "    sort : bool, default True\n",
      "        Specifies if the result should be sorted.\n",
      "    \n",
      "        .. versionadded:: 1.3.0\n",
      "    \n",
      "    Returns\n",
      "    -------\n",
      "    DataFrame\n",
      "        An Excel style pivot table.\n",
      "    \n",
      "    See Also\n",
      "    --------\n",
      "    DataFrame.pivot : Pivot without aggregation that can handle\n",
      "        non-numeric data.\n",
      "    DataFrame.melt: Unpivot a DataFrame from wide to long format,\n",
      "        optionally leaving identifiers set.\n",
      "    wide_to_long : Wide panel to long format. Less flexible but more\n",
      "        user-friendly than melt.\n",
      "    \n",
      "    Notes\n",
      "    -----\n",
      "    Reference :ref:`the user guide <reshaping.pivot>` for more examples.\n",
      "    \n",
      "    Examples\n",
      "    --------\n",
      "    >>> df = pd.DataFrame({\"A\": [\"foo\", \"foo\", \"foo\", \"foo\", \"foo\",\n",
      "    ...                          \"bar\", \"bar\", \"bar\", \"bar\"],\n",
      "    ...                    \"B\": [\"one\", \"one\", \"one\", \"two\", \"two\",\n",
      "    ...                          \"one\", \"one\", \"two\", \"two\"],\n",
      "    ...                    \"C\": [\"small\", \"large\", \"large\", \"small\",\n",
      "    ...                          \"small\", \"large\", \"small\", \"small\",\n",
      "    ...                          \"large\"],\n",
      "    ...                    \"D\": [1, 2, 2, 3, 3, 4, 5, 6, 7],\n",
      "    ...                    \"E\": [2, 4, 5, 5, 6, 6, 8, 9, 9]})\n",
      "    >>> df\n",
      "         A    B      C  D  E\n",
      "    0  foo  one  small  1  2\n",
      "    1  foo  one  large  2  4\n",
      "    2  foo  one  large  2  5\n",
      "    3  foo  two  small  3  5\n",
      "    4  foo  two  small  3  6\n",
      "    5  bar  one  large  4  6\n",
      "    6  bar  one  small  5  8\n",
      "    7  bar  two  small  6  9\n",
      "    8  bar  two  large  7  9\n",
      "    \n",
      "    This first example aggregates values by taking the sum.\n",
      "    \n",
      "    >>> table = pd.pivot_table(df, values='D', index=['A', 'B'],\n",
      "    ...                     columns=['C'], aggfunc=np.sum)\n",
      "    >>> table\n",
      "    C        large  small\n",
      "    A   B\n",
      "    bar one    4.0    5.0\n",
      "        two    7.0    6.0\n",
      "    foo one    4.0    1.0\n",
      "        two    NaN    6.0\n",
      "    \n",
      "    We can also fill missing values using the `fill_value` parameter.\n",
      "    \n",
      "    >>> table = pd.pivot_table(df, values='D', index=['A', 'B'],\n",
      "    ...                     columns=['C'], aggfunc=np.sum, fill_value=0)\n",
      "    >>> table\n",
      "    C        large  small\n",
      "    A   B\n",
      "    bar one      4      5\n",
      "        two      7      6\n",
      "    foo one      4      1\n",
      "        two      0      6\n",
      "    \n",
      "    The next example aggregates by taking the mean across multiple columns.\n",
      "    \n",
      "    >>> table = pd.pivot_table(df, values=['D', 'E'], index=['A', 'C'],\n",
      "    ...                     aggfunc={'D': np.mean,\n",
      "    ...                              'E': np.mean})\n",
      "    >>> table\n",
      "                    D         E\n",
      "    A   C\n",
      "    bar large  5.500000  7.500000\n",
      "        small  5.500000  8.500000\n",
      "    foo large  2.000000  4.500000\n",
      "        small  2.333333  4.333333\n",
      "    \n",
      "    We can also calculate multiple types of aggregations for any given\n",
      "    value column.\n",
      "    \n",
      "    >>> table = pd.pivot_table(df, values=['D', 'E'], index=['A', 'C'],\n",
      "    ...                     aggfunc={'D': np.mean,\n",
      "    ...                              'E': [min, max, np.mean]})\n",
      "    >>> table\n",
      "                      D   E\n",
      "                   mean max      mean  min\n",
      "    A   C\n",
      "    bar large  5.500000   9  7.500000    6\n",
      "        small  5.500000   9  8.500000    8\n",
      "    foo large  2.000000   5  4.500000    4\n",
      "        small  2.333333   6  4.333333    2\n",
      "\n"
     ]
    }
   ],
   "source": [
    "help(titanic.pivot_table)"
   ],
   "metadata": {
    "collapsed": false,
    "pycharm": {
     "name": "#%%\n"
    }
   }
  },
  {
   "cell_type": "code",
   "execution_count": 21,
   "outputs": [
    {
     "data": {
      "text/plain": "class      First    Second     Third       All\nsex                                           \nfemale  0.968085  0.921053  0.500000  0.742038\nmale    0.368852  0.157407  0.135447  0.188908\nAll     0.629630  0.472826  0.242363  0.383838",
      "text/html": "<div>\n<style scoped>\n    .dataframe tbody tr th:only-of-type {\n        vertical-align: middle;\n    }\n\n    .dataframe tbody tr th {\n        vertical-align: top;\n    }\n\n    .dataframe thead th {\n        text-align: right;\n    }\n</style>\n<table border=\"1\" class=\"dataframe\">\n  <thead>\n    <tr style=\"text-align: right;\">\n      <th>class</th>\n      <th>First</th>\n      <th>Second</th>\n      <th>Third</th>\n      <th>All</th>\n    </tr>\n    <tr>\n      <th>sex</th>\n      <th></th>\n      <th></th>\n      <th></th>\n      <th></th>\n    </tr>\n  </thead>\n  <tbody>\n    <tr>\n      <th>female</th>\n      <td>0.968085</td>\n      <td>0.921053</td>\n      <td>0.500000</td>\n      <td>0.742038</td>\n    </tr>\n    <tr>\n      <th>male</th>\n      <td>0.368852</td>\n      <td>0.157407</td>\n      <td>0.135447</td>\n      <td>0.188908</td>\n    </tr>\n    <tr>\n      <th>All</th>\n      <td>0.629630</td>\n      <td>0.472826</td>\n      <td>0.242363</td>\n      <td>0.383838</td>\n    </tr>\n  </tbody>\n</table>\n</div>"
     },
     "execution_count": 21,
     "metadata": {},
     "output_type": "execute_result"
    }
   ],
   "source": [
    "titanic.pivot_table(\"survived\", index=\"sex\", columns=\"class\", margins=True)"
   ],
   "metadata": {
    "collapsed": false,
    "pycharm": {
     "name": "#%%\n"
    }
   }
  },
  {
   "cell_type": "code",
   "execution_count": 23,
   "outputs": [
    {
     "name": "stdout",
     "output_type": "stream",
     "text": [
      "  % Total    % Received % Xferd  Average Speed   Time    Time     Time  Current\r\n",
      "                                 Dload  Upload   Total   Spent    Left  Speed\r\n",
      "100  258k  100  258k    0     0   224k      0  0:00:01  0:00:01 --:--:--  225k\r\n"
     ]
    }
   ],
   "source": [
    "!curl -O https://raw.githubusercontent.com/jakevdp/data-CDCbirths/master/births.csv"
   ],
   "metadata": {
    "collapsed": false,
    "pycharm": {
     "name": "#%%\n"
    }
   }
  },
  {
   "cell_type": "code",
   "execution_count": null,
   "outputs": [],
   "source": [],
   "metadata": {
    "collapsed": false,
    "pycharm": {
     "name": "#%%\n"
    }
   }
  }
 ],
 "metadata": {
  "kernelspec": {
   "display_name": "Python 3 (ipykernel)",
   "language": "python",
   "name": "python3"
  },
  "language_info": {
   "codemirror_mode": {
    "name": "ipython",
    "version": 3
   },
   "file_extension": ".py",
   "mimetype": "text/x-python",
   "name": "python",
   "nbconvert_exporter": "python",
   "pygments_lexer": "ipython3",
   "version": "3.10.5"
  },
  "toc": {
   "base_numbering": 1,
   "nav_menu": {},
   "number_sections": true,
   "sideBar": true,
   "skip_h1_title": false,
   "title_cell": "Table of Contents",
   "title_sidebar": "Contents",
   "toc_cell": false,
   "toc_position": {},
   "toc_section_display": true,
   "toc_window_display": false
  },
  "varInspector": {
   "cols": {
    "lenName": 16,
    "lenType": 16,
    "lenVar": 40
   },
   "kernels_config": {
    "python": {
     "delete_cmd_postfix": "",
     "delete_cmd_prefix": "del ",
     "library": "var_list.py",
     "varRefreshCmd": "print(var_dic_list())"
    },
    "r": {
     "delete_cmd_postfix": ") ",
     "delete_cmd_prefix": "rm(",
     "library": "var_list.r",
     "varRefreshCmd": "cat(var_dic_list()) "
    }
   },
   "types_to_exclude": [
    "module",
    "function",
    "builtin_function_or_method",
    "instance",
    "_Feature"
   ],
   "window_display": false
  }
 },
 "nbformat": 4,
 "nbformat_minor": 5
}