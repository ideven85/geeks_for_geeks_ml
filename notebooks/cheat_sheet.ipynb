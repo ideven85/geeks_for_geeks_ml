{
 "cells": [
  {
   "cell_type": "code",
   "id": "initial_id",
   "metadata": {
    "collapsed": true,
    "ExecuteTime": {
     "end_time": "2024-12-10T19:26:36.606295Z",
     "start_time": "2024-12-10T19:26:36.603986Z"
    }
   },
   "source": [
    "a=4;b=4\n",
    "print(a|b) # Bitwise OR"
   ],
   "outputs": [
    {
     "name": "stdout",
     "output_type": "stream",
     "text": [
      "4\n"
     ]
    }
   ],
   "execution_count": 13
  },
  {
   "metadata": {
    "ExecuteTime": {
     "end_time": "2024-12-10T19:26:41.331167Z",
     "start_time": "2024-12-10T19:26:41.328422Z"
    }
   },
   "cell_type": "code",
   "source": "print(~a)",
   "id": "54e736c963afcd26",
   "outputs": [
    {
     "name": "stdout",
     "output_type": "stream",
     "text": [
      "-5\n"
     ]
    }
   ],
   "execution_count": 14
  },
  {
   "metadata": {
    "ExecuteTime": {
     "end_time": "2024-12-10T19:26:41.909309Z",
     "start_time": "2024-12-10T19:26:41.906695Z"
    }
   },
   "cell_type": "code",
   "source": "print(a&b) # Bitwise And",
   "id": "59a7c933c690f9be",
   "outputs": [
    {
     "name": "stdout",
     "output_type": "stream",
     "text": [
      "4\n"
     ]
    }
   ],
   "execution_count": 15
  },
  {
   "metadata": {
    "ExecuteTime": {
     "end_time": "2024-12-10T19:26:42.748122Z",
     "start_time": "2024-12-10T19:26:42.745926Z"
    }
   },
   "cell_type": "code",
   "source": "print(a^b) # Bitwise XOR",
   "id": "2df7b4f38887a416",
   "outputs": [
    {
     "name": "stdout",
     "output_type": "stream",
     "text": [
      "0\n"
     ]
    }
   ],
   "execution_count": 16
  },
  {
   "metadata": {
    "ExecuteTime": {
     "end_time": "2024-12-10T19:27:04.211893Z",
     "start_time": "2024-12-10T19:27:04.207799Z"
    }
   },
   "cell_type": "code",
   "source": "a>>2 # Bitwise Right shift",
   "id": "dcea5381d161d3a",
   "outputs": [
    {
     "data": {
      "text/plain": [
       "1"
      ]
     },
     "execution_count": 17,
     "metadata": {},
     "output_type": "execute_result"
    }
   ],
   "execution_count": 17
  },
  {
   "metadata": {
    "ExecuteTime": {
     "end_time": "2024-12-10T19:27:27.501426Z",
     "start_time": "2024-12-10T19:27:27.499192Z"
    }
   },
   "cell_type": "code",
   "source": "a<<2 # Bitwise Left shift",
   "id": "891a1e291c21b8eb",
   "outputs": [
    {
     "data": {
      "text/plain": [
       "16"
      ]
     },
     "execution_count": 18,
     "metadata": {},
     "output_type": "execute_result"
    }
   ],
   "execution_count": 18
  },
  {
   "metadata": {
    "ExecuteTime": {
     "end_time": "2024-12-10T19:27:30.776755Z",
     "start_time": "2024-12-10T19:27:30.773943Z"
    }
   },
   "cell_type": "code",
   "source": "b<<2 # Bitwise Right shift",
   "id": "990589b1ad3dc731",
   "outputs": [
    {
     "data": {
      "text/plain": [
       "16"
      ]
     },
     "execution_count": 19,
     "metadata": {},
     "output_type": "execute_result"
    }
   ],
   "execution_count": 19
  },
  {
   "metadata": {
    "ExecuteTime": {
     "end_time": "2024-12-10T19:28:54.362474Z",
     "start_time": "2024-12-10T19:28:54.360260Z"
    }
   },
   "cell_type": "code",
   "source": "x = frozenset({'geeks','for','geeks'})",
   "id": "8a2e755cef0a642c",
   "outputs": [],
   "execution_count": 20
  },
  {
   "metadata": {
    "ExecuteTime": {
     "end_time": "2024-12-10T19:28:55.807420Z",
     "start_time": "2024-12-10T19:28:55.804084Z"
    }
   },
   "cell_type": "code",
   "source": "x",
   "id": "4db8acab91acfd37",
   "outputs": [
    {
     "data": {
      "text/plain": [
       "frozenset({'for', 'geeks'})"
      ]
     },
     "execution_count": 21,
     "metadata": {},
     "output_type": "execute_result"
    }
   ],
   "execution_count": 21
  },
  {
   "metadata": {
    "ExecuteTime": {
     "end_time": "2024-12-10T19:29:16.771048Z",
     "start_time": "2024-12-10T19:29:16.768580Z"
    }
   },
   "cell_type": "code",
   "source": "x={'geeks','for','geeks'}",
   "id": "4764186ec8ab3302",
   "outputs": [],
   "execution_count": 22
  },
  {
   "metadata": {
    "ExecuteTime": {
     "end_time": "2024-12-10T19:29:18.164753Z",
     "start_time": "2024-12-10T19:29:18.161874Z"
    }
   },
   "cell_type": "code",
   "source": "x",
   "id": "83bbe73f0bc1d0ec",
   "outputs": [
    {
     "data": {
      "text/plain": [
       "{'for', 'geeks'}"
      ]
     },
     "execution_count": 23,
     "metadata": {},
     "output_type": "execute_result"
    }
   ],
   "execution_count": 23
  },
  {
   "metadata": {
    "ExecuteTime": {
     "end_time": "2024-12-10T19:29:31.494156Z",
     "start_time": "2024-12-10T19:29:31.492046Z"
    }
   },
   "cell_type": "code",
   "source": "x1 = bytearray(4)",
   "id": "35bbc3d300d2deb8",
   "outputs": [],
   "execution_count": 24
  },
  {
   "metadata": {
    "ExecuteTime": {
     "end_time": "2024-12-10T19:29:33.776756Z",
     "start_time": "2024-12-10T19:29:33.773350Z"
    }
   },
   "cell_type": "code",
   "source": "x1",
   "id": "858f91603fe45258",
   "outputs": [
    {
     "data": {
      "text/plain": [
       "bytearray(b'\\x00\\x00\\x00\\x00')"
      ]
     },
     "execution_count": 25,
     "metadata": {},
     "output_type": "execute_result"
    }
   ],
   "execution_count": 25
  },
  {
   "metadata": {
    "ExecuteTime": {
     "end_time": "2024-12-10T19:30:23.925301Z",
     "start_time": "2024-12-10T19:30:23.921624Z"
    }
   },
   "cell_type": "code",
   "source": "memoryview(x1)",
   "id": "743962feb9dfe79f",
   "outputs": [
    {
     "data": {
      "text/plain": [
       "<memory at 0x104445600>"
      ]
     },
     "execution_count": 29,
     "metadata": {},
     "output_type": "execute_result"
    }
   ],
   "execution_count": 29
  },
  {
   "metadata": {
    "ExecuteTime": {
     "end_time": "2024-12-10T19:34:56.366861Z",
     "start_time": "2024-12-10T19:34:56.364007Z"
    }
   },
   "cell_type": "code",
   "source": "2<5",
   "id": "79ac53e1ac1e16eb",
   "outputs": [
    {
     "data": {
      "text/plain": [
       "True"
      ]
     },
     "execution_count": 30,
     "metadata": {},
     "output_type": "execute_result"
    }
   ],
   "execution_count": 30
  },
  {
   "metadata": {
    "ExecuteTime": {
     "end_time": "2024-12-10T19:35:13.268891Z",
     "start_time": "2024-12-10T19:35:13.266234Z"
    }
   },
   "cell_type": "code",
   "source": [
    "def is_true(condition):\n",
    "    return bool(condition)"
   ],
   "id": "6f509c2a0ef77ae0",
   "outputs": [],
   "execution_count": 31
  },
  {
   "metadata": {
    "ExecuteTime": {
     "end_time": "2024-12-10T19:35:19.850373Z",
     "start_time": "2024-12-10T19:35:19.847797Z"
    }
   },
   "cell_type": "code",
   "source": "is_true(2<5)",
   "id": "fe18dc0595536272",
   "outputs": [
    {
     "data": {
      "text/plain": [
       "True"
      ]
     },
     "execution_count": 32,
     "metadata": {},
     "output_type": "execute_result"
    }
   ],
   "execution_count": 32
  },
  {
   "metadata": {
    "ExecuteTime": {
     "end_time": "2024-12-10T19:35:28.441571Z",
     "start_time": "2024-12-10T19:35:28.438801Z"
    }
   },
   "cell_type": "code",
   "source": "bool(2<5)",
   "id": "e5f639b0decb07c4",
   "outputs": [
    {
     "data": {
      "text/plain": [
       "True"
      ]
     },
     "execution_count": 33,
     "metadata": {},
     "output_type": "execute_result"
    }
   ],
   "execution_count": 33
  },
  {
   "metadata": {
    "ExecuteTime": {
     "end_time": "2024-12-10T19:35:31.668465Z",
     "start_time": "2024-12-10T19:35:31.665225Z"
    }
   },
   "cell_type": "code",
   "source": "bool(2)",
   "id": "a3b23d6a9967b530",
   "outputs": [
    {
     "data": {
      "text/plain": [
       "True"
      ]
     },
     "execution_count": 34,
     "metadata": {},
     "output_type": "execute_result"
    }
   ],
   "execution_count": 34
  },
  {
   "metadata": {
    "ExecuteTime": {
     "end_time": "2024-12-10T19:35:36.444582Z",
     "start_time": "2024-12-10T19:35:36.441553Z"
    }
   },
   "cell_type": "code",
   "source": "bool(0)",
   "id": "278c9eed6146f91e",
   "outputs": [
    {
     "data": {
      "text/plain": [
       "False"
      ]
     },
     "execution_count": 35,
     "metadata": {},
     "output_type": "execute_result"
    }
   ],
   "execution_count": 35
  },
  {
   "metadata": {
    "ExecuteTime": {
     "end_time": "2024-12-10T19:42:05.315316Z",
     "start_time": "2024-12-10T19:42:05.311910Z"
    }
   },
   "cell_type": "code",
   "source": [
    "def my_function(*args,**kwargs):\n",
    "    for i in range(len(args)): # Executes if present\n",
    "        print(f\"arg{i}:{args[i]}\")\n",
    "    for key,value in kwargs.items(): # Executes if present\n",
    "        print(key,':',value)\n",
    "\n",
    "course = ('Geeks','For','Geeks')\n",
    "my_function(*course)"
   ],
   "id": "4d5d295cfa4dab88",
   "outputs": [
    {
     "name": "stdout",
     "output_type": "stream",
     "text": [
      "arg0:Geeks\n",
      "arg1:For\n",
      "arg2:Geeks\n"
     ]
    }
   ],
   "execution_count": 43
  },
  {
   "metadata": {
    "ExecuteTime": {
     "end_time": "2024-12-10T19:42:05.647035Z",
     "start_time": "2024-12-10T19:42:05.644816Z"
    }
   },
   "cell_type": "code",
   "source": [
    "given_dictionary = {\"first\": \"Geeks\", \"second\": \"for\", \"third\": \"Geeks\"}\n",
    "my_function(**given_dictionary)"
   ],
   "id": "ea9c32fcea71d2a9",
   "outputs": [
    {
     "name": "stdout",
     "output_type": "stream",
     "text": [
      "first : Geeks\n",
      "second : for\n",
      "third : Geeks\n"
     ]
    }
   ],
   "execution_count": 44
  },
  {
   "metadata": {
    "ExecuteTime": {
     "end_time": "2024-12-10T19:43:28.282178Z",
     "start_time": "2024-12-10T19:43:28.279220Z"
    }
   },
   "cell_type": "code",
   "source": [
    "def add(n):\n",
    "    return n+n\n",
    "l = [1,2,3,4]\n",
    "list(map(add,l))"
   ],
   "id": "3bc7ab6adf07a0f1",
   "outputs": [
    {
     "data": {
      "text/plain": [
       "[2, 4, 6, 8]"
      ]
     },
     "execution_count": 46,
     "metadata": {},
     "output_type": "execute_result"
    }
   ],
   "execution_count": 46
  },
  {
   "metadata": {
    "ExecuteTime": {
     "end_time": "2024-12-10T19:43:51.030539Z",
     "start_time": "2024-12-10T19:43:51.028075Z"
    }
   },
   "cell_type": "code",
   "source": "[x+x for x in l]",
   "id": "4ebb767cfe339a58",
   "outputs": [
    {
     "data": {
      "text/plain": [
       "[2, 4, 6, 8]"
      ]
     },
     "execution_count": 47,
     "metadata": {},
     "output_type": "execute_result"
    }
   ],
   "execution_count": 47
  },
  {
   "metadata": {
    "ExecuteTime": {
     "end_time": "2024-12-10T19:45:49.304948Z",
     "start_time": "2024-12-10T19:45:49.301705Z"
    }
   },
   "cell_type": "code",
   "source": [
    "from functools import reduce\n",
    "def add1(x,y):\n",
    "    return x+y\n",
    "reduce(add1,l)"
   ],
   "id": "2440e2bf469bdf1d",
   "outputs": [
    {
     "data": {
      "text/plain": [
       "10"
      ]
     },
     "execution_count": 49,
     "metadata": {},
     "output_type": "execute_result"
    }
   ],
   "execution_count": 49
  },
  {
   "metadata": {
    "ExecuteTime": {
     "end_time": "2024-12-10T19:46:08.601680Z",
     "start_time": "2024-12-10T19:46:08.598595Z"
    }
   },
   "cell_type": "code",
   "source": "reduce(lambda x,y:x+y,l)",
   "id": "40bfc33f5d083145",
   "outputs": [
    {
     "data": {
      "text/plain": [
       "10"
      ]
     },
     "execution_count": 50,
     "metadata": {},
     "output_type": "execute_result"
    }
   ],
   "execution_count": 50
  },
  {
   "metadata": {
    "ExecuteTime": {
     "end_time": "2024-12-10T19:46:20.468030Z",
     "start_time": "2024-12-10T19:46:20.465370Z"
    }
   },
   "cell_type": "code",
   "source": "sum(l)",
   "id": "464cb91a9cfabd8e",
   "outputs": [
    {
     "data": {
      "text/plain": [
       "10"
      ]
     },
     "execution_count": 51,
     "metadata": {},
     "output_type": "execute_result"
    }
   ],
   "execution_count": 51
  },
  {
   "metadata": {
    "ExecuteTime": {
     "end_time": "2024-12-10T19:51:59.646831Z",
     "start_time": "2024-12-10T19:51:59.643971Z"
    }
   },
   "cell_type": "code",
   "source": [
    "import re\n",
    "\n",
    "# Text to search\n",
    "text = \"Hello, my email is example@example.com\"\n",
    "\n",
    "# Define a pattern to match email addresses\n",
    "pattern =  r\"\\b[A-Za-z0-9._%+-]+@[A-Za-z0-9.-]+\\.[A-Za-z]{2,}\\b\""
   ],
   "id": "4f06f76c1a795cd2",
   "outputs": [],
   "execution_count": 56
  },
  {
   "metadata": {
    "ExecuteTime": {
     "end_time": "2024-12-10T19:52:00.593229Z",
     "start_time": "2024-12-10T19:52:00.589306Z"
    }
   },
   "cell_type": "code",
   "source": [
    "def find_email(pattern,text):\n",
    "    match = re.search(pattern,text)\n",
    "    if match:\n",
    "        return \"Found Email:\"+match.group()\n",
    "    else:\n",
    "        return  \"No Email present in the given text\"\n",
    "find_email(pattern,text)"
   ],
   "id": "d2a16029e4e767a6",
   "outputs": [
    {
     "data": {
      "text/plain": [
       "'No Email present in the given text'"
      ]
     },
     "execution_count": 57,
     "metadata": {},
     "output_type": "execute_result"
    }
   ],
   "execution_count": 57
  },
  {
   "metadata": {},
   "cell_type": "markdown",
   "source": "",
   "id": "bb79cdb2c86a8ba7"
  },
  {
   "metadata": {},
   "cell_type": "markdown",
   "source": [
    "MetaCharacters are helpful, significant, and will be used in module re functions, which helps us comprehend the analogy with RE. The list of metacharacters is shown below.\n",
    "\n",
    "* \\sed to drop the special meaning of character following it.\n",
    "* [] Represent a character class.\n",
    "* ^ Matches the beginning.\n",
    "* $ Matches the end.\n",
    "* . Matches any character except newline.\n",
    "* | Means OR (Matches with any of the characters separated by it.\n",
    "* ? Matches zero or one occurrence.\n",
    "* *Any number of occurrences (including 0 occurrences).\n",
    "+ . One or more occurrences.\n",
    "* {} Indicate the number of occurrences of a preceding RegEx to match.\n",
    "* () Enclose a group of RegEx."
   ],
   "id": "47fec81cd110af2d"
  },
  {
   "metadata": {},
   "cell_type": "code",
   "outputs": [],
   "execution_count": null,
   "source": "",
   "id": "277d7bbd536dd064"
  }
 ],
 "metadata": {
  "kernelspec": {
   "display_name": "Python 3",
   "language": "python",
   "name": "python3"
  },
  "language_info": {
   "codemirror_mode": {
    "name": "ipython",
    "version": 2
   },
   "file_extension": ".py",
   "mimetype": "text/x-python",
   "name": "python",
   "nbconvert_exporter": "python",
   "pygments_lexer": "ipython2",
   "version": "2.7.6"
  }
 },
 "nbformat": 4,
 "nbformat_minor": 5
}
